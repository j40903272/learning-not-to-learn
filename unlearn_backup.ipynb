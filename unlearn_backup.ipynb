{
 "cells": [
  {
   "cell_type": "code",
   "execution_count": 1,
   "metadata": {},
   "outputs": [],
   "source": [
    "%load_ext autoreload\n",
    "%autoreload 2"
   ]
  },
  {
   "cell_type": "code",
   "execution_count": 2,
   "metadata": {},
   "outputs": [],
   "source": [
    "import os\n",
    "import random\n",
    "import pickle\n",
    "import numpy as np\n",
    "import pandas as pd\n",
    "from tqdm import tqdm_notebook as tqdm\n",
    "from sklearn.metrics import f1_score, accuracy_score, roc_auc_score\n",
    "\n",
    "import matplotlib.pyplot as plt\n",
    "%matplotlib inline"
   ]
  },
  {
   "cell_type": "code",
   "execution_count": 3,
   "metadata": {},
   "outputs": [],
   "source": [
    "import torch\n",
    "import torch.nn as nn\n",
    "import torch.nn.functional as F\n",
    "from torch import Tensor\n",
    "from torch.backends import cudnn"
   ]
  },
  {
   "cell_type": "code",
   "execution_count": 4,
   "metadata": {},
   "outputs": [],
   "source": [
    "from option import get_option, parser\n",
    "from trainer import Trainer\n",
    "from utils import save_option\n",
    "import data_loader\n",
    "import models"
   ]
  },
  {
   "cell_type": "code",
   "execution_count": 5,
   "metadata": {},
   "outputs": [],
   "source": [
    "import logging\n",
    "logging.basicConfig(format='%(asctime)s - %(levelname)s - %(name)s -   %(message)s',\n",
    "                    datefmt='%m/%d/%Y %H:%M:%S',\n",
    "                    level=logging.INFO)\n",
    "#logging.getLogger().setLevel(logging.INFO)\n",
    "logger = logging.getLogger(__name__)\n",
    "\n",
    "import warnings\n",
    "warnings.filterwarnings(\"ignore\")\n",
    "with warnings.catch_warnings():\n",
    "    warnings.filterwarnings(\"ignore\",category=DeprecationWarning)"
   ]
  },
  {
   "cell_type": "code",
   "execution_count": 6,
   "metadata": {},
   "outputs": [],
   "source": [
    "seed = 87\n",
    "random.seed(seed)\n",
    "np.random.seed(seed)\n",
    "torch.manual_seed(seed)\n",
    "torch.cuda.manual_seed_all(seed)"
   ]
  },
  {
   "cell_type": "code",
   "execution_count": 7,
   "metadata": {},
   "outputs": [],
   "source": [
    "from urlnet_utils import *"
   ]
  },
  {
   "cell_type": "code",
   "execution_count": 8,
   "metadata": {},
   "outputs": [],
   "source": [
    "min_word_freq = 1\n",
    "max_len_words = 200\n",
    "max_len_chars = 200\n",
    "max_len_subwords = 20\n",
    "delimit_mode = 1\n",
    "dev_pct = 0.1"
   ]
  },
  {
   "cell_type": "code",
   "execution_count": 9,
   "metadata": {},
   "outputs": [
    {
     "name": "stderr",
     "output_type": "stream",
     "text": [
      "10/24/2019 18:20:49 - WARNING - tensorflow -   From /host/Proxy/learning-not-to-learn/urlnet_utils.py:113: VocabularyProcessor.__init__ (from tensorflow.contrib.learn.python.learn.preprocessing.text) is deprecated and will be removed in a future version.\n",
      "Instructions for updating:\n",
      "Please use tensorflow/transform or tf.data.\n",
      "10/24/2019 18:20:49 - WARNING - tensorflow -   From /usr/local/lib/python3.5/dist-packages/tensorflow/contrib/learn/python/learn/preprocessing/text.py:154: CategoricalVocabulary.__init__ (from tensorflow.contrib.learn.python.learn.preprocessing.categorical_vocabulary) is deprecated and will be removed in a future version.\n",
      "Instructions for updating:\n",
      "Please use tensorflow/transform or tf.data.\n",
      "10/24/2019 18:20:49 - WARNING - tensorflow -   From /usr/local/lib/python3.5/dist-packages/tensorflow/contrib/learn/python/learn/preprocessing/text.py:170: tokenizer (from tensorflow.contrib.learn.python.learn.preprocessing.text) is deprecated and will be removed in a future version.\n",
      "Instructions for updating:\n",
      "Please use tensorflow/transform or tf.data.\n"
     ]
    },
    {
     "name": "stdout",
     "output_type": "stream",
     "text": [
      "Finished build vocabulary and mapping to x in 2.917095422744751\n",
      "Size of word vocabulary: 17058\n",
      "Number of words with freq >=1: 17058\n",
      "Finished build vocabulary and mapping to x in 2.7871999740600586\n",
      "Size of word vocabulary: 63443\n",
      "Processing #url 0\n",
      "Size of ngram vocabulary: 131\n",
      "Size of word vocabulary: 16140\n",
      "Index of <UNKNOWN> word: 4\n",
      "Overall Mal/Ben rate: 23613/23613\n",
      "(42504, 200) (4722, 200) (42504, 200) (4722, 200)\n"
     ]
    }
   ],
   "source": [
    "urls, labels = read_data(\"../URLNet/train_10000.txt\")\n",
    "\n",
    "high_freq_words = None\n",
    "if min_word_freq > 0:\n",
    "    x1, word_reverse_dict = get_word_vocab(urls, max_len_words, min_word_freq) \n",
    "    high_freq_words = sorted(list(word_reverse_dict.values()))\n",
    "    print(\"Number of words with freq >={}: {}\".format(min_word_freq, len(high_freq_words)))\n",
    "\n",
    "x, word_reverse_dict = get_word_vocab(urls, max_len_words)\n",
    "word_x = get_words(x, word_reverse_dict, delimit_mode, urls)\n",
    "ngramed_id_x, ngrams_dict, worded_id_x, words_dict = ngram_id_x(word_x, max_len_subwords, high_freq_words)\n",
    "reverse_dict = {words_dict[i]:i for i in words_dict}\n",
    "chars_dict = ngrams_dict\n",
    "chared_id_x = char_id_x(urls, chars_dict, max_len_chars)\n",
    "print(\"Overall Mal/Ben rate: {}/{}\".format(np.sum(labels==1), np.sum(labels==0)))\n",
    "\n",
    "########  shuffle & split  ######\n",
    "\n",
    "shuffle_idx = np.random.permutation(np.arange(len(labels)))\n",
    "train, test = prep_train_test(len(labels), dev_pct)\n",
    "#y_train, y_test = to_categorical(labels[train], nb_classes=2), to_categorical(labels[test], nb_classes=2)\n",
    "y_train, y_val = labels[train], labels[test]\n",
    "\n",
    "x_train_char = ngramed_id_x[train]\n",
    "x_val_char = ngramed_id_x[test]\n",
    "x_train_word = pad_seq_in_word(worded_id_x[train], max_len_words)\n",
    "x_val_word = pad_seq_in_word(worded_id_x[test], max_len_words)\n",
    "x_train_char_seq = pad_seq_in_word(chared_id_x[train], max_len_chars)\n",
    "x_val_char_seq = pad_seq_in_word(chared_id_x[test], max_len_chars)\n",
    "print(x_train_word.shape, x_val_word.shape, x_train_char_seq.shape, x_val_char_seq.shape)"
   ]
  },
  {
   "cell_type": "code",
   "execution_count": 10,
   "metadata": {},
   "outputs": [
    {
     "data": {
      "text/plain": [
       "<matplotlib.axes._subplots.AxesSubplot at 0x7fa3005c9d68>"
      ]
     },
     "execution_count": 10,
     "metadata": {},
     "output_type": "execute_result"
    },
    {
     "data": {
      "image/png": "[encoded data removed]",
      "text/plain": [
       "<Figure size 432x288 with 1 Axes>"
      ]
     },
     "metadata": {
      "needs_background": "light"
     },
     "output_type": "display_data"
    }
   ],
   "source": [
    "# from pandarallel import pandarallel\n",
    "# pandarallel.initialize(nb_workers=1)\n",
    "\n",
    "if not os.path.isfile(\"word_mal_ratio.pkl\"):\n",
    "    df_tmp = pd.DataFrame({'token':word_x, \"label\":labels})\n",
    "    word_mal_ratio = dict()\n",
    "\n",
    "    for word in tqdm(words_dict):\n",
    "        df_tmp['exist'] = df_tmp['token'].map(lambda x:word in x)\n",
    "        cnt = len(df_tmp.query('exist == True & label == 0'))\n",
    "        word_mal_ratio[word] = cnt / df_tmp.exist.sum()\n",
    "    \n",
    "    with open(\"word_mal_ratio.pkl\", \"wb\") as f:\n",
    "        pickle.dump(word_mal_ratio, f)\n",
    "else:\n",
    "    with open(\"word_mal_ratio.pkl\", \"rb\") as f:\n",
    "        word_mal_ratio = pickle.load(f)\n",
    "\n",
    "\n",
    "tmp = [word_mal_ratio[i] for i in word_mal_ratio]\n",
    "tmp = pd.DataFrame({'word_mal_ratio':tmp, 'word':[i for i in word_mal_ratio]})\n",
    "tmp.plot(kind='hist')"
   ]
  },
  {
   "cell_type": "code",
   "execution_count": 11,
   "metadata": {},
   "outputs": [],
   "source": [
    "tmp1 = words_dict\n",
    "tmp2 = ngrams_dict"
   ]
  },
  {
   "cell_type": "code",
   "execution_count": 12,
   "metadata": {},
   "outputs": [
    {
     "name": "stdout",
     "output_type": "stream",
     "text": [
      "Finished build vocabulary and mapping to x in 0.39143872261047363\n",
      "Size of word vocabulary: 10884\n",
      "Index of <UNKNOWN> word: 4\n",
      "Processing url #0\n",
      "Number of testing urls: 5248\n",
      "(5248, 200) (5248, 200) (5248, 200)\n"
     ]
    }
   ],
   "source": [
    "urls, labels = read_data(\"../URLNet/val_10000.txt\")\n",
    "x, word_reverse_dict = get_word_vocab(urls, max_len_words) \n",
    "word_x = get_words(x, word_reverse_dict, delimit_mode, urls) \n",
    "ngramed_id_x, worded_id_x = ngram_id_x_from_dict(word_x, max_len_subwords, ngrams_dict, words_dict) \n",
    "chared_id_x = char_id_x(urls, chars_dict, max_len_chars)\n",
    "print(\"Number of testing urls: {}\".format(len(labels)))\n",
    "\n",
    "y_test = labels\n",
    "x_test_char = ngramed_id_x\n",
    "x_test_word = pad_seq_in_word(worded_id_x, max_len_words)\n",
    "x_test_char_seq = pad_seq_in_word(chared_id_x, max_len_chars)\n",
    "print(x_test_word.shape, x_test_char_seq.shape, x_test_char_seq.shape)"
   ]
  },
  {
   "cell_type": "code",
   "execution_count": 13,
   "metadata": {},
   "outputs": [],
   "source": [
    "assert tmp1 == words_dict\n",
    "assert tmp2 == ngrams_dict"
   ]
  },
  {
   "cell_type": "code",
   "execution_count": 14,
   "metadata": {},
   "outputs": [
    {
     "name": "stdout",
     "output_type": "stream",
     "text": [
      "Finished build vocabulary and mapping to x in 149.07245707511902\n",
      "Size of word vocabulary: 3865855\n",
      "Index of <UNKNOWN> word: 4\n",
      "Processing url #0\n",
      "Processing url #100000\n",
      "Processing url #200000\n",
      "Processing url #300000\n",
      "Processing url #400000\n",
      "Processing url #500000\n",
      "Processing url #600000\n",
      "Processing url #700000\n",
      "Processing url #800000\n",
      "Processing url #900000\n",
      "Processing url #1000000\n",
      "Processing url #1100000\n",
      "Processing url #1200000\n",
      "Processing url #1300000\n",
      "Processing url #1400000\n",
      "Processing url #1500000\n",
      "Processing url #1600000\n",
      "Processing url #1700000\n",
      "Number of testing urls: 1737594\n",
      "(1737594, 200) (1737594, 200) (1737594, 200)\n"
     ]
    }
   ],
   "source": [
    "urls, labels = read_data(\"../taipei/out.csv\")#\"../URLNet/test_10000.txt\"\n",
    "x, word_reverse_dict = get_word_vocab(urls, max_len_words) \n",
    "word_x = get_words(x, word_reverse_dict, delimit_mode, urls) \n",
    "ngramed_id_x, worded_id_x = ngram_id_x_from_dict(word_x, max_len_subwords, ngrams_dict, words_dict)\n",
    "chared_id_x = char_id_x(urls, chars_dict, max_len_chars)\n",
    "print(\"Number of testing urls: {}\".format(len(labels)))\n",
    "\n",
    "y_test2 = labels\n",
    "x_test_char2 = ngramed_id_x\n",
    "x_test_word2 = pad_seq_in_word(worded_id_x, max_len_words)\n",
    "x_test_char_seq2 = pad_seq_in_word(chared_id_x, max_len_chars)\n",
    "print(x_test_word2.shape, x_test_char_seq2.shape, x_test_char_seq2.shape)"
   ]
  },
  {
   "cell_type": "code",
   "execution_count": 15,
   "metadata": {},
   "outputs": [],
   "source": [
    "assert tmp1 == words_dict\n",
    "assert tmp2 == ngrams_dict"
   ]
  },
  {
   "cell_type": "code",
   "execution_count": 16,
   "metadata": {},
   "outputs": [],
   "source": [
    "emb_dim = 32\n",
    "l2_reg_lambda = 0.0\n",
    "emb_mode = 2\n",
    "filter_size = [3,4,5,6]\n",
    "batch_size = 128\n",
    "epochs = 5\n",
    "lr = 1e-3"
   ]
  },
  {
   "cell_type": "code",
   "execution_count": 17,
   "metadata": {},
   "outputs": [],
   "source": [
    "from torch.utils.data import Dataset, DataLoader\n",
    "class mydata(Dataset):\n",
    "    def __init__(self, X, Y):\n",
    "        self.X = X\n",
    "        self.Y = Y\n",
    "    def __len__(self):\n",
    "        return len(self.X)\n",
    "    def __getitem__(self, index):\n",
    "        return self.X[index], self.Y[index]\n",
    "\n",
    "train_dataset = mydata(x_train_word, y_train)\n",
    "val_dataset = mydata(x_val_word, y_val)\n",
    "test_dataset1 = mydata(x_test_word, y_test)\n",
    "test_dataset2 = mydata(x_test_word2, y_test2)\n",
    "\n",
    "train_loader = DataLoader(train_dataset, batch_size=batch_size, shuffle=False)\n",
    "val_loader = DataLoader(val_dataset, batch_size=batch_size, shuffle=False)\n",
    "test_loader1 = DataLoader(test_dataset1, batch_size=batch_size, shuffle=False)\n",
    "test_loader2 = DataLoader(test_dataset2, batch_size=batch_size, shuffle=False)"
   ]
  },
  {
   "cell_type": "raw",
   "metadata": {},
   "source": [
    "df_word_ratio = pd.read_csv(\"../URLNet/word_mal_ratio.csv\")\n",
    "df_word_ratio.plot(kind='hist')\n",
    "df_word_ratio.head()"
   ]
  },
  {
   "cell_type": "code",
   "execution_count": 18,
   "metadata": {},
   "outputs": [],
   "source": [
    "def accuracy_thresh_sum(y_pred:Tensor, y_true:Tensor, thresh:float=0.5, sigmoid:bool=True):\n",
    "    y_pred = F.sigmoid(y_pred)\n",
    "    return ((y_pred>thresh)==y_true.byte()).float().sum().item()\n",
    "\n",
    "def accuracy_thresh_score(y_pred, y_true, thresh:float=0.5):\n",
    "    return ((y_pred>0.5).astype(int) == y_true).mean()"
   ]
  },
  {
   "cell_type": "code",
   "execution_count": 19,
   "metadata": {},
   "outputs": [],
   "source": [
    "def soft_cross_entropy(inp, target, size_average=True):\n",
    "    if size_average:\n",
    "        return torch.mean(torch.sum(-target * F.log_softmax(inp), dim=1))\n",
    "    else:\n",
    "        return torch.sum(torch.sum(-target * F.log_softmax(inp), dim=1))\n",
    "\n",
    "class NegativeEntropyLoss(torch.nn.Module):\n",
    "    def __init__(self):\n",
    "        super(NegativeEntropyLoss, self).__init__()\n",
    "\n",
    "    def forward(self, x):\n",
    "        b = F.softmax(x, dim=1) * F.log_softmax(x, dim=1)\n",
    "        b = -1.0 * b.sum()\n",
    "        return b"
   ]
  },
  {
   "cell_type": "code",
   "execution_count": 20,
   "metadata": {},
   "outputs": [
    {
     "name": "stdout",
     "output_type": "stream",
     "text": [
      "paramters count 1354145\n"
     ]
    }
   ],
   "source": [
    "model = models.WordCNN(\n",
    "            word_ngram_vocab_size = len(words_dict)+1,\n",
    "            emb_size=emb_dim,\n",
    "            word_seq_len=max_len_words,\n",
    "            l2_reg_lambda=l2_reg_lambda,\n",
    "            kernel_sizes=filter_size).cuda()\n",
    "\n",
    "print('paramters count', sum(p.numel() for p in model.parameters()))\n",
    "optimizer = torch.optim.Adam(model.parameters(), lr=1e-3)"
   ]
  },
  {
   "cell_type": "code",
   "execution_count": 21,
   "metadata": {},
   "outputs": [
    {
     "data": {
      "text/plain": [
       "WordCNN(\n",
       "  (word_emb): Embedding(16141, 32)\n",
       "  (drop): Dropout(p=0.2)\n",
       "  (convnet): Sequential(\n",
       "    (0): Conv2d(1, 256, kernel_size=(3, 32), stride=(1, 1))\n",
       "    (1): Conv2d(1, 256, kernel_size=(4, 32), stride=(1, 1))\n",
       "    (2): Conv2d(1, 256, kernel_size=(5, 32), stride=(1, 1))\n",
       "    (3): Conv2d(1, 256, kernel_size=(6, 32), stride=(1, 1))\n",
       "  )\n",
       "  (maxpool): Sequential(\n",
       "    (0): MaxPool2d(kernel_size=(198, 1), stride=1, padding=0, dilation=1, ceil_mode=False)\n",
       "    (1): MaxPool2d(kernel_size=(197, 1), stride=1, padding=0, dilation=1, ceil_mode=False)\n",
       "    (2): MaxPool2d(kernel_size=(196, 1), stride=1, padding=0, dilation=1, ceil_mode=False)\n",
       "    (3): MaxPool2d(kernel_size=(195, 1), stride=1, padding=0, dilation=1, ceil_mode=False)\n",
       "  )\n",
       "  (fc1): Linear(in_features=1024, out_features=512, bias=True)\n",
       "  (fc2): Linear(in_features=512, out_features=256, bias=True)\n",
       "  (fc3): Linear(in_features=256, out_features=128, bias=True)\n",
       "  (fc4): Linear(in_features=128, out_features=1, bias=True)\n",
       ")"
      ]
     },
     "execution_count": 21,
     "metadata": {},
     "output_type": "execute_result"
    }
   ],
   "source": [
    "model"
   ]
  },
  {
   "cell_type": "code",
   "execution_count": 23,
   "metadata": {},
   "outputs": [],
   "source": [
    "def step(model, optimizer, loader, train=True, message=\"\"):\n",
    "    loss_total = 0\n",
    "    all_logits = []\n",
    "    all_labels = []\n",
    "    \n",
    "    model.train() if train else model.eval()\n",
    "    mode = torch.enable_grad if train else torch.no_grad\n",
    "    \n",
    "    with mode():\n",
    "        for (data, label) in tqdm(loader, desc=message):\n",
    "            data, label = data.long().cuda(), label.float().cuda()\n",
    "            logits = model(data).squeeze()\n",
    "            loss = F.binary_cross_entropy_with_logits(logits, label, reduction=\"sum\")\n",
    "            if train:\n",
    "                loss.backward()\n",
    "                optimizer.step()\n",
    "                optimizer.zero_grad()\n",
    "            loss_total += loss.item()\n",
    "            all_labels.append(label.detach().cpu().numpy())\n",
    "            all_logits.append(F.sigmoid(logits).detach().cpu().numpy())\n",
    "            \n",
    "            \n",
    "    loss_total /= (len(loader)/batch_size)\n",
    "    all_labels = np.hstack(all_labels)\n",
    "    all_logits = np.hstack(all_logits)\n",
    "    auc = roc_auc_score(all_labels, all_logits) if len(np.unique(all_labels)) > 1 else 0\n",
    "    acc = accuracy_thresh_score(all_logits, all_labels)\n",
    "    \n",
    "    #logger.info(message)\n",
    "    logger.info('Loss     : {}'.format(loss_total))\n",
    "    logger.info('Accuracy : {}'.format(acc))\n",
    "    logger.info('AUC      : {}'.format(auc))\n",
    "    \n",
    "    return {'loss':loss_total, 'acc':acc, 'auc':auc}"
   ]
  },
  {
   "cell_type": "code",
   "execution_count": 24,
   "metadata": {},
   "outputs": [
    {
     "data": {
      "application/vnd.jupyter.widget-view+json": {
       "model_id": "2f778252dbaa4b0691f80b3cdb56cd0a",
       "version_major": 2,
       "version_minor": 0
      },
      "text/plain": [
       "HBox(children=(IntProgress(value=0, description='Epoch', max=10), HTML(value='')))"
      ]
     },
     "metadata": {},
     "output_type": "display_data"
    },
    {
     "data": {
      "application/vnd.jupyter.widget-view+json": {
       "model_id": "9345d99555dc4b7d83d03cec77ca1a0b",
       "version_major": 2,
       "version_minor": 0
      },
      "text/plain": [
       "HBox(children=(IntProgress(value=0, description='Training :0', max=333), HTML(value='')))"
      ]
     },
     "metadata": {},
     "output_type": "display_data"
    },
    {
     "name": "stderr",
     "output_type": "stream",
     "text": [
      "10/24/2019 19:04:33 - INFO - __main__ -   Loss     : 1864.6982630571356\n",
      "10/24/2019 19:04:33 - INFO - __main__ -   Accuracy : 0.9526868059476755\n",
      "10/24/2019 19:04:33 - INFO - __main__ -   AUC      : 0.9918453183619272\n"
     ]
    },
    {
     "data": {
      "application/vnd.jupyter.widget-view+json": {
       "model_id": "1237de8a0c2d49c69db22a6e08906578",
       "version_major": 2,
       "version_minor": 0
      },
      "text/plain": [
       "HBox(children=(IntProgress(value=0, description='Validation :0', max=37), HTML(value='')))"
      ]
     },
     "metadata": {},
     "output_type": "display_data"
    },
    {
     "name": "stderr",
     "output_type": "stream",
     "text": [
      "10/24/2019 19:04:34 - INFO - __main__ -   Loss     : 409.2948219711716\n",
      "10/24/2019 19:04:34 - INFO - __main__ -   Accuracy : 0.9913172384582803\n",
      "10/24/2019 19:04:34 - INFO - __main__ -   AUC      : 0.9995620618823259\n"
     ]
    },
    {
     "data": {
      "application/vnd.jupyter.widget-view+json": {
       "model_id": "5dc23dce5dca4d2c9aec4f1bf3c8c689",
       "version_major": 2,
       "version_minor": 0
      },
      "text/plain": [
       "HBox(children=(IntProgress(value=0, description='Test 1 :0', max=41), HTML(value='')))"
      ]
     },
     "metadata": {},
     "output_type": "display_data"
    },
    {
     "name": "stderr",
     "output_type": "stream",
     "text": [
      "10/24/2019 19:04:34 - INFO - __main__ -   Loss     : 365.4121755041727\n",
      "10/24/2019 19:04:34 - INFO - __main__ -   Accuracy : 0.993140243902439\n",
      "10/24/2019 19:04:34 - INFO - __main__ -   AUC      : 0.9996857107004758\n"
     ]
    },
    {
     "data": {
      "application/vnd.jupyter.widget-view+json": {
       "model_id": "05954d7f27404b4cbf9d67272f4d6676",
       "version_major": 2,
       "version_minor": 0
      },
      "text/plain": [
       "HBox(children=(IntProgress(value=0, description='Test 2 :0', max=13575), HTML(value='')))"
      ]
     },
     "metadata": {},
     "output_type": "display_data"
    },
    {
     "name": "stderr",
     "output_type": "stream",
     "text": [
      "10/24/2019 19:08:58 - INFO - __main__ -   Loss     : 71942.25571878382\n",
      "10/24/2019 19:08:58 - INFO - __main__ -   Accuracy : 0.09122153966922077\n",
      "10/24/2019 19:08:58 - INFO - __main__ -   AUC      : 0.696759403493228\n"
     ]
    },
    {
     "data": {
      "application/vnd.jupyter.widget-view+json": {
       "model_id": "7db87989e5e4489d926d739b4271e73c",
       "version_major": 2,
       "version_minor": 0
      },
      "text/plain": [
       "HBox(children=(IntProgress(value=0, description='Training :1', max=333), HTML(value='')))"
      ]
     },
     "metadata": {},
     "output_type": "display_data"
    },
    {
     "name": "stderr",
     "output_type": "stream",
     "text": [
      "10/24/2019 19:09:12 - INFO - __main__ -   Loss     : 488.2739741098326\n",
      "10/24/2019 19:09:12 - INFO - __main__ -   Accuracy : 0.9900009410878976\n",
      "10/24/2019 19:09:12 - INFO - __main__ -   AUC      : 0.9992161033804301\n"
     ]
    },
    {
     "data": {
      "application/vnd.jupyter.widget-view+json": {
       "model_id": "4cbb389dc8074f15b67235d8ceaeceda",
       "version_major": 2,
       "version_minor": 0
      },
      "text/plain": [
       "HBox(children=(IntProgress(value=0, description='Validation :1', max=37), HTML(value='')))"
      ]
     },
     "metadata": {},
     "output_type": "display_data"
    },
    {
     "name": "stderr",
     "output_type": "stream",
     "text": [
      "10/24/2019 19:09:13 - INFO - __main__ -   Loss     : 245.82618837098818\n",
      "10/24/2019 19:09:13 - INFO - __main__ -   Accuracy : 0.995129182549767\n",
      "10/24/2019 19:09:13 - INFO - __main__ -   AUC      : 0.9998874181222708\n"
     ]
    },
    {
     "data": {
      "application/vnd.jupyter.widget-view+json": {
       "model_id": "6b1f700064d24b30a92860977a94d078",
       "version_major": 2,
       "version_minor": 0
      },
      "text/plain": [
       "HBox(children=(IntProgress(value=0, description='Test 1 :1', max=41), HTML(value='')))"
      ]
     },
     "metadata": {},
     "output_type": "display_data"
    },
    {
     "name": "stderr",
     "output_type": "stream",
     "text": [
      "10/24/2019 19:09:14 - INFO - __main__ -   Loss     : 260.50672623006307\n",
      "10/24/2019 19:09:14 - INFO - __main__ -   Accuracy : 0.995045731707317\n",
      "10/24/2019 19:09:14 - INFO - __main__ -   AUC      : 0.9999051613158091\n"
     ]
    },
    {
     "data": {
      "application/vnd.jupyter.widget-view+json": {
       "model_id": "bb3e634eb71d4fe1a5f1b6c9631da70c",
       "version_major": 2,
       "version_minor": 0
      },
      "text/plain": [
       "HBox(children=(IntProgress(value=0, description='Test 2 :1', max=13575), HTML(value='')))"
      ]
     },
     "metadata": {},
     "output_type": "display_data"
    },
    {
     "name": "stderr",
     "output_type": "stream",
     "text": [
      "10/24/2019 19:13:38 - INFO - __main__ -   Loss     : 63463.74656076564\n",
      "10/24/2019 19:13:38 - INFO - __main__ -   Accuracy : 0.08620253062568126\n",
      "10/24/2019 19:13:38 - INFO - __main__ -   AUC      : 0.7544474956596188\n"
     ]
    },
    {
     "data": {
      "application/vnd.jupyter.widget-view+json": {
       "model_id": "48eef65fd1e24d7d989e77a84b533b2c",
       "version_major": 2,
       "version_minor": 0
      },
      "text/plain": [
       "HBox(children=(IntProgress(value=0, description='Training :2', max=333), HTML(value='')))"
      ]
     },
     "metadata": {},
     "output_type": "display_data"
    },
    {
     "name": "stderr",
     "output_type": "stream",
     "text": [
      "10/24/2019 19:13:53 - INFO - __main__ -   Loss     : 229.54138863308484\n",
      "10/24/2019 19:13:53 - INFO - __main__ -   Accuracy : 0.995506305288914\n",
      "10/24/2019 19:13:53 - INFO - __main__ -   AUC      : 0.9997829710267964\n"
     ]
    },
    {
     "data": {
      "application/vnd.jupyter.widget-view+json": {
       "model_id": "21be7c10a72040719fcdebf939e2d87c",
       "version_major": 2,
       "version_minor": 0
      },
      "text/plain": [
       "HBox(children=(IntProgress(value=0, description='Validation :2', max=37), HTML(value='')))"
      ]
     },
     "metadata": {},
     "output_type": "display_data"
    },
    {
     "name": "stderr",
     "output_type": "stream",
     "text": [
      "10/24/2019 19:13:54 - INFO - __main__ -   Loss     : 174.95988420538\n",
      "10/24/2019 19:13:54 - INFO - __main__ -   Accuracy : 0.9963998305802626\n",
      "10/24/2019 19:13:54 - INFO - __main__ -   AUC      : 0.9999141720294186\n"
     ]
    },
    {
     "data": {
      "application/vnd.jupyter.widget-view+json": {
       "model_id": "cf24b0f202fe4e0c969c6bb8f8c97e27",
       "version_major": 2,
       "version_minor": 0
      },
      "text/plain": [
       "HBox(children=(IntProgress(value=0, description='Test 1 :2', max=41), HTML(value='')))"
      ]
     },
     "metadata": {},
     "output_type": "display_data"
    },
    {
     "name": "stderr",
     "output_type": "stream",
     "text": [
      "10/24/2019 19:13:55 - INFO - __main__ -   Loss     : 277.5185890430357\n",
      "10/24/2019 19:13:55 - INFO - __main__ -   Accuracy : 0.9948551829268293\n",
      "10/24/2019 19:13:55 - INFO - __main__ -   AUC      : 0.999818746281975\n"
     ]
    },
    {
     "data": {
      "application/vnd.jupyter.widget-view+json": {
       "model_id": "aafa98bc959a4d54a568f6c15a812603",
       "version_major": 2,
       "version_minor": 0
      },
      "text/plain": [
       "HBox(children=(IntProgress(value=0, description='Test 2 :2', max=13575), HTML(value='')))"
      ]
     },
     "metadata": {},
     "output_type": "display_data"
    },
    {
     "name": "stderr",
     "output_type": "stream",
     "text": [
      "10/24/2019 19:18:20 - INFO - __main__ -   Loss     : 78516.41102512304\n",
      "10/24/2019 19:18:20 - INFO - __main__ -   Accuracy : 0.08389186426748711\n",
      "10/24/2019 19:18:20 - INFO - __main__ -   AUC      : 0.7805637917989674\n"
     ]
    },
    {
     "data": {
      "application/vnd.jupyter.widget-view+json": {
       "model_id": "33d171ad483047e597c9b3319449ecb7",
       "version_major": 2,
       "version_minor": 0
      },
      "text/plain": [
       "HBox(children=(IntProgress(value=0, description='Training :3', max=333), HTML(value='')))"
      ]
     },
     "metadata": {},
     "output_type": "display_data"
    },
    {
     "name": "stderr",
     "output_type": "stream",
     "text": [
      "10/24/2019 19:18:35 - INFO - __main__ -   Loss     : 140.38787146336077\n",
      "10/24/2019 19:18:35 - INFO - __main__ -   Accuracy : 0.9970591003199699\n",
      "10/24/2019 19:18:35 - INFO - __main__ -   AUC      : 0.999938048340685\n"
     ]
    },
    {
     "data": {
      "application/vnd.jupyter.widget-view+json": {
       "model_id": "ed21137379544b43a858bfce9e9475d9",
       "version_major": 2,
       "version_minor": 0
      },
      "text/plain": [
       "HBox(children=(IntProgress(value=0, description='Validation :3', max=37), HTML(value='')))"
      ]
     },
     "metadata": {},
     "output_type": "display_data"
    },
    {
     "name": "stderr",
     "output_type": "stream",
     "text": [
      "10/24/2019 19:18:35 - INFO - __main__ -   Loss     : 144.09605570097227\n",
      "10/24/2019 19:18:35 - INFO - __main__ -   Accuracy : 0.9972469292672597\n",
      "10/24/2019 19:18:35 - INFO - __main__ -   AUC      : 0.999952597104114\n"
     ]
    },
    {
     "data": {
      "application/vnd.jupyter.widget-view+json": {
       "model_id": "d4cbe9ab68124059986c47c3b28e02de",
       "version_major": 2,
       "version_minor": 0
      },
      "text/plain": [
       "HBox(children=(IntProgress(value=0, description='Test 1 :3', max=41), HTML(value='')))"
      ]
     },
     "metadata": {},
     "output_type": "display_data"
    },
    {
     "name": "stderr",
     "output_type": "stream",
     "text": [
      "10/24/2019 19:18:36 - INFO - __main__ -   Loss     : 294.0976618150385\n",
      "10/24/2019 19:18:36 - INFO - __main__ -   Accuracy : 0.9923780487804879\n",
      "10/24/2019 19:18:36 - INFO - __main__ -   AUC      : 0.9998653668296401\n"
     ]
    },
    {
     "data": {
      "application/vnd.jupyter.widget-view+json": {
       "model_id": "e0982a6c5bb2480fb6f2db7399c2e08c",
       "version_major": 2,
       "version_minor": 0
      },
      "text/plain": [
       "HBox(children=(IntProgress(value=0, description='Test 2 :3', max=13575), HTML(value='')))"
      ]
     },
     "metadata": {},
     "output_type": "display_data"
    },
    {
     "name": "stderr",
     "output_type": "stream",
     "text": [
      "10/24/2019 19:23:02 - INFO - __main__ -   Loss     : 94612.4117811679\n",
      "10/24/2019 19:23:02 - INFO - __main__ -   Accuracy : 0.07978503609013383\n",
      "10/24/2019 19:23:02 - INFO - __main__ -   AUC      : 0.746460813766635\n"
     ]
    },
    {
     "data": {
      "application/vnd.jupyter.widget-view+json": {
       "model_id": "7117fde996414beaa6429a35057a4655",
       "version_major": 2,
       "version_minor": 0
      },
      "text/plain": [
       "HBox(children=(IntProgress(value=0, description='Training :4', max=333), HTML(value='')))"
      ]
     },
     "metadata": {},
     "output_type": "display_data"
    },
    {
     "name": "stderr",
     "output_type": "stream",
     "text": [
      "10/24/2019 19:23:17 - INFO - __main__ -   Loss     : 125.61351906322257\n",
      "10/24/2019 19:23:17 - INFO - __main__ -   Accuracy : 0.9975061170713344\n",
      "10/24/2019 19:23:17 - INFO - __main__ -   AUC      : 0.9999571851595362\n"
     ]
    },
    {
     "data": {
      "application/vnd.jupyter.widget-view+json": {
       "model_id": "7f8a91981b8a446d9170b23371cc58c1",
       "version_major": 2,
       "version_minor": 0
      },
      "text/plain": [
       "HBox(children=(IntProgress(value=0, description='Validation :4', max=37), HTML(value='')))"
      ]
     },
     "metadata": {},
     "output_type": "display_data"
    },
    {
     "name": "stderr",
     "output_type": "stream",
     "text": [
      "10/24/2019 19:23:18 - INFO - __main__ -   Loss     : 98.04169505351298\n",
      "10/24/2019 19:23:18 - INFO - __main__ -   Accuracy : 0.9987293519695044\n",
      "10/24/2019 19:23:18 - INFO - __main__ -   AUC      : 0.9999515197655712\n"
     ]
    },
    {
     "data": {
      "application/vnd.jupyter.widget-view+json": {
       "model_id": "0d6425ccbb6d4875a6c33e142a2a4dd6",
       "version_major": 2,
       "version_minor": 0
      },
      "text/plain": [
       "HBox(children=(IntProgress(value=0, description='Test 1 :4', max=41), HTML(value='')))"
      ]
     },
     "metadata": {},
     "output_type": "display_data"
    },
    {
     "name": "stderr",
     "output_type": "stream",
     "text": [
      "10/24/2019 19:23:19 - INFO - __main__ -   Loss     : 242.42487489850055\n",
      "10/24/2019 19:23:19 - INFO - __main__ -   Accuracy : 0.9965701219512195\n",
      "10/24/2019 19:23:19 - INFO - __main__ -   AUC      : 0.9999121326126561\n"
     ]
    },
    {
     "data": {
      "application/vnd.jupyter.widget-view+json": {
       "model_id": "f772777b77be42f38d5e0d8480f08775",
       "version_major": 2,
       "version_minor": 0
      },
      "text/plain": [
       "HBox(children=(IntProgress(value=0, description='Test 2 :4', max=13575), HTML(value='')))"
      ]
     },
     "metadata": {},
     "output_type": "display_data"
    },
    {
     "name": "stderr",
     "output_type": "stream",
     "text": [
      "10/24/2019 19:27:41 - INFO - __main__ -   Loss     : 122961.47931987121\n",
      "10/24/2019 19:27:41 - INFO - __main__ -   Accuracy : 0.08472922903739309\n",
      "10/24/2019 19:27:41 - INFO - __main__ -   AUC      : 0.7318619237256709\n"
     ]
    },
    {
     "data": {
      "application/vnd.jupyter.widget-view+json": {
       "model_id": "198569bc96e84e719ed19ecb057be006",
       "version_major": 2,
       "version_minor": 0
      },
      "text/plain": [
       "HBox(children=(IntProgress(value=0, description='Training :5', max=333), HTML(value='')))"
      ]
     },
     "metadata": {},
     "output_type": "display_data"
    },
    {
     "name": "stderr",
     "output_type": "stream",
     "text": [
      "10/24/2019 19:27:55 - INFO - __main__ -   Loss     : 86.25849337660212\n",
      "10/24/2019 19:27:55 - INFO - __main__ -   Accuracy : 0.9983295689817429\n",
      "10/24/2019 19:27:55 - INFO - __main__ -   AUC      : 0.9999737469326483\n"
     ]
    },
    {
     "data": {
      "application/vnd.jupyter.widget-view+json": {
       "model_id": "5f65b57fc6f343f6a167746d35fb2406",
       "version_major": 2,
       "version_minor": 0
      },
      "text/plain": [
       "HBox(children=(IntProgress(value=0, description='Validation :5', max=37), HTML(value='')))"
      ]
     },
     "metadata": {},
     "output_type": "display_data"
    },
    {
     "name": "stderr",
     "output_type": "stream",
     "text": [
      "10/24/2019 19:27:56 - INFO - __main__ -   Loss     : 348.3184262095271\n",
      "10/24/2019 19:27:56 - INFO - __main__ -   Accuracy : 0.9913172384582803\n",
      "10/24/2019 19:27:56 - INFO - __main__ -   AUC      : 0.9999775554470236\n"
     ]
    },
    {
     "data": {
      "application/vnd.jupyter.widget-view+json": {
       "model_id": "306d695a700d4a32917af48551eb5a65",
       "version_major": 2,
       "version_minor": 0
      },
      "text/plain": [
       "HBox(children=(IntProgress(value=0, description='Test 1 :5', max=41), HTML(value='')))"
      ]
     },
     "metadata": {},
     "output_type": "display_data"
    },
    {
     "name": "stderr",
     "output_type": "stream",
     "text": [
      "10/24/2019 19:27:57 - INFO - __main__ -   Loss     : 811.6156192432135\n",
      "10/24/2019 19:27:57 - INFO - __main__ -   Accuracy : 0.9857088414634146\n",
      "10/24/2019 19:27:57 - INFO - __main__ -   AUC      : 0.9999307953552573\n"
     ]
    },
    {
     "data": {
      "application/vnd.jupyter.widget-view+json": {
       "model_id": "e76ea9f2859b4ee5ad784fe87ac6057d",
       "version_major": 2,
       "version_minor": 0
      },
      "text/plain": [
       "HBox(children=(IntProgress(value=0, description='Test 2 :5', max=13575), HTML(value='')))"
      ]
     },
     "metadata": {},
     "output_type": "display_data"
    },
    {
     "name": "stderr",
     "output_type": "stream",
     "text": [
      "10/24/2019 19:32:23 - INFO - __main__ -   Loss     : 51474.00140674867\n",
      "10/24/2019 19:32:23 - INFO - __main__ -   Accuracy : 0.1572933608196161\n",
      "10/24/2019 19:32:23 - INFO - __main__ -   AUC      : 0.6796382000498131\n"
     ]
    },
    {
     "data": {
      "application/vnd.jupyter.widget-view+json": {
       "model_id": "0d1de0202dcc45f481da7b9b03a1bbd7",
       "version_major": 2,
       "version_minor": 0
      },
      "text/plain": [
       "HBox(children=(IntProgress(value=0, description='Training :6', max=333), HTML(value='')))"
      ]
     },
     "metadata": {},
     "output_type": "display_data"
    },
    {
     "name": "stderr",
     "output_type": "stream",
     "text": [
      "10/24/2019 19:32:38 - INFO - __main__ -   Loss     : 81.61845048125441\n",
      "10/24/2019 19:32:38 - INFO - __main__ -   Accuracy : 0.9987060041407867\n",
      "10/24/2019 19:32:38 - INFO - __main__ -   AUC      : 0.9999728324925018\n"
     ]
    },
    {
     "data": {
      "application/vnd.jupyter.widget-view+json": {
       "model_id": "4f178be3f73e4842b084129b34503fb6",
       "version_major": 2,
       "version_minor": 0
      },
      "text/plain": [
       "HBox(children=(IntProgress(value=0, description='Validation :6', max=37), HTML(value='')))"
      ]
     },
     "metadata": {},
     "output_type": "display_data"
    },
    {
     "name": "stderr",
     "output_type": "stream",
     "text": [
      "10/24/2019 19:32:39 - INFO - __main__ -   Loss     : 2626.580193596917\n",
      "10/24/2019 19:32:39 - INFO - __main__ -   Accuracy : 0.9392206692079628\n",
      "10/24/2019 19:32:39 - INFO - __main__ -   AUC      : 0.9998883159043898\n"
     ]
    },
    {
     "data": {
      "application/vnd.jupyter.widget-view+json": {
       "model_id": "f400aafc6fd54b4299c8525481e6581c",
       "version_major": 2,
       "version_minor": 0
      },
      "text/plain": [
       "HBox(children=(IntProgress(value=0, description='Test 1 :6', max=41), HTML(value='')))"
      ]
     },
     "metadata": {},
     "output_type": "display_data"
    },
    {
     "name": "stderr",
     "output_type": "stream",
     "text": [
      "10/24/2019 19:32:40 - INFO - __main__ -   Loss     : 4207.7009145791935\n",
      "10/24/2019 19:32:40 - INFO - __main__ -   Accuracy : 0.9096798780487805\n",
      "10/24/2019 19:32:40 - INFO - __main__ -   AUC      : 0.9994192038314247\n"
     ]
    },
    {
     "data": {
      "application/vnd.jupyter.widget-view+json": {
       "model_id": "0ae925fa360c4630806686fd9bc7c75e",
       "version_major": 2,
       "version_minor": 0
      },
      "text/plain": [
       "HBox(children=(IntProgress(value=0, description='Test 2 :6', max=13575), HTML(value='')))"
      ]
     },
     "metadata": {},
     "output_type": "display_data"
    },
    {
     "name": "stderr",
     "output_type": "stream",
     "text": [
      "10/24/2019 19:37:04 - INFO - __main__ -   Loss     : 126814.48422024905\n",
      "10/24/2019 19:37:04 - INFO - __main__ -   Accuracy : 0.0672308951343064\n",
      "10/24/2019 19:37:04 - INFO - __main__ -   AUC      : 0.7990149621173127\n"
     ]
    },
    {
     "data": {
      "application/vnd.jupyter.widget-view+json": {
       "model_id": "b8be5485487f4365824075ae990841a6",
       "version_major": 2,
       "version_minor": 0
      },
      "text/plain": [
       "HBox(children=(IntProgress(value=0, description='Training :7', max=333), HTML(value='')))"
      ]
     },
     "metadata": {},
     "output_type": "display_data"
    },
    {
     "name": "stderr",
     "output_type": "stream",
     "text": [
      "10/24/2019 19:37:19 - INFO - __main__ -   Loss     : 105.08616030094838\n",
      "10/24/2019 19:37:19 - INFO - __main__ -   Accuracy : 0.9979766610201393\n",
      "10/24/2019 19:37:19 - INFO - __main__ -   AUC      : 0.9999570888444119\n"
     ]
    },
    {
     "data": {
      "application/vnd.jupyter.widget-view+json": {
       "model_id": "0b45fb29e91944bba6aea4e57103a3aa",
       "version_major": 2,
       "version_minor": 0
      },
      "text/plain": [
       "HBox(children=(IntProgress(value=0, description='Validation :7', max=37), HTML(value='')))"
      ]
     },
     "metadata": {},
     "output_type": "display_data"
    },
    {
     "name": "stderr",
     "output_type": "stream",
     "text": [
      "10/24/2019 19:37:20 - INFO - __main__ -   Loss     : 159.15692963471284\n",
      "10/24/2019 19:37:20 - INFO - __main__ -   Accuracy : 0.9966116052520119\n",
      "10/24/2019 19:37:20 - INFO - __main__ -   AUC      : 0.9999811465754999\n"
     ]
    },
    {
     "data": {
      "application/vnd.jupyter.widget-view+json": {
       "model_id": "33f38818a09c4219948042385941fb7d",
       "version_major": 2,
       "version_minor": 0
      },
      "text/plain": [
       "HBox(children=(IntProgress(value=0, description='Test 1 :7', max=41), HTML(value='')))"
      ]
     },
     "metadata": {},
     "output_type": "display_data"
    },
    {
     "name": "stderr",
     "output_type": "stream",
     "text": [
      "10/24/2019 19:37:21 - INFO - __main__ -   Loss     : 218.21816090839664\n",
      "10/24/2019 19:37:21 - INFO - __main__ -   Accuracy : 0.9959984756097561\n",
      "10/24/2019 19:37:21 - INFO - __main__ -   AUC      : 0.9999227347932778\n"
     ]
    },
    {
     "data": {
      "application/vnd.jupyter.widget-view+json": {
       "model_id": "1c02dad0a61c4dc2aa57a715e50992a0",
       "version_major": 2,
       "version_minor": 0
      },
      "text/plain": [
       "HBox(children=(IntProgress(value=0, description='Test 2 :7', max=13575), HTML(value='')))"
      ]
     },
     "metadata": {},
     "output_type": "display_data"
    },
    {
     "name": "stderr",
     "output_type": "stream",
     "text": [
      "10/24/2019 19:41:46 - INFO - __main__ -   Loss     : 87794.19051670394\n",
      "10/24/2019 19:41:46 - INFO - __main__ -   Accuracy : 0.07401786608379173\n",
      "10/24/2019 19:41:46 - INFO - __main__ -   AUC      : 0.7922601084019637\n"
     ]
    },
    {
     "data": {
      "application/vnd.jupyter.widget-view+json": {
       "model_id": "74a6bef065c6419cae6ae4e07b6e2932",
       "version_major": 2,
       "version_minor": 0
      },
      "text/plain": [
       "HBox(children=(IntProgress(value=0, description='Training :8', max=333), HTML(value='')))"
      ]
     },
     "metadata": {},
     "output_type": "display_data"
    },
    {
     "name": "stderr",
     "output_type": "stream",
     "text": [
      "10/24/2019 19:42:01 - INFO - __main__ -   Loss     : 39.0338412457266\n",
      "10/24/2019 19:42:01 - INFO - __main__ -   Accuracy : 0.9992941840767928\n",
      "10/24/2019 19:42:01 - INFO - __main__ -   AUC      : 0.9999904703380382\n"
     ]
    },
    {
     "data": {
      "application/vnd.jupyter.widget-view+json": {
       "model_id": "dffb3db5e02045f1a2ad218a856c82f9",
       "version_major": 2,
       "version_minor": 0
      },
      "text/plain": [
       "HBox(children=(IntProgress(value=0, description='Validation :8', max=37), HTML(value='')))"
      ]
     },
     "metadata": {},
     "output_type": "display_data"
    },
    {
     "name": "stderr",
     "output_type": "stream",
     "text": [
      "10/24/2019 19:42:02 - INFO - __main__ -   Loss     : 73.05124307605061\n",
      "10/24/2019 19:42:02 - INFO - __main__ -   Accuracy : 0.9983058026260059\n",
      "10/24/2019 19:42:02 - INFO - __main__ -   AUC      : 0.9999815056883475\n"
     ]
    },
    {
     "data": {
      "application/vnd.jupyter.widget-view+json": {
       "model_id": "91c3335fb1f54bd9a35245deb26848b7",
       "version_major": 2,
       "version_minor": 0
      },
      "text/plain": [
       "HBox(children=(IntProgress(value=0, description='Test 1 :8', max=41), HTML(value='')))"
      ]
     },
     "metadata": {},
     "output_type": "display_data"
    },
    {
     "name": "stderr",
     "output_type": "stream",
     "text": [
      "10/24/2019 19:42:03 - INFO - __main__ -   Loss     : 292.63581065581377\n",
      "10/24/2019 19:42:03 - INFO - __main__ -   Accuracy : 0.9961890243902439\n",
      "10/24/2019 19:42:03 - INFO - __main__ -   AUC      : 0.9999416880065809\n"
     ]
    },
    {
     "data": {
      "application/vnd.jupyter.widget-view+json": {
       "model_id": "e87a340684ad411cbc83047ffd798252",
       "version_major": 2,
       "version_minor": 0
      },
      "text/plain": [
       "HBox(children=(IntProgress(value=0, description='Test 2 :8', max=13575), HTML(value='')))"
      ]
     },
     "metadata": {},
     "output_type": "display_data"
    },
    {
     "name": "stderr",
     "output_type": "stream",
     "text": [
      "10/24/2019 19:46:29 - INFO - __main__ -   Loss     : 108308.39381614915\n",
      "10/24/2019 19:46:29 - INFO - __main__ -   Accuracy : 0.09292446912224604\n",
      "10/24/2019 19:46:29 - INFO - __main__ -   AUC      : 0.7027385430614665\n"
     ]
    },
    {
     "data": {
      "application/vnd.jupyter.widget-view+json": {
       "model_id": "cab71a63d57d47e6b15064ca68c14c40",
       "version_major": 2,
       "version_minor": 0
      },
      "text/plain": [
       "HBox(children=(IntProgress(value=0, description='Training :9', max=333), HTML(value='')))"
      ]
     },
     "metadata": {},
     "output_type": "display_data"
    },
    {
     "name": "stderr",
     "output_type": "stream",
     "text": [
      "10/24/2019 19:46:44 - INFO - __main__ -   Loss     : 39.533802862894404\n",
      "10/24/2019 19:46:44 - INFO - __main__ -   Accuracy : 0.999129493694711\n",
      "10/24/2019 19:46:44 - INFO - __main__ -   AUC      : 0.9999957466355416\n"
     ]
    },
    {
     "data": {
      "application/vnd.jupyter.widget-view+json": {
       "model_id": "198cb541e5e34b569a30806907c6c521",
       "version_major": 2,
       "version_minor": 0
      },
      "text/plain": [
       "HBox(children=(IntProgress(value=0, description='Validation :9', max=37), HTML(value='')))"
      ]
     },
     "metadata": {},
     "output_type": "display_data"
    },
    {
     "name": "stderr",
     "output_type": "stream",
     "text": [
      "10/24/2019 19:46:45 - INFO - __main__ -   Loss     : 52.62176669796778\n",
      "10/24/2019 19:46:45 - INFO - __main__ -   Accuracy : 0.9991529013130029\n",
      "10/24/2019 19:46:45 - INFO - __main__ -   AUC      : 0.9999841990347047\n"
     ]
    },
    {
     "data": {
      "application/vnd.jupyter.widget-view+json": {
       "model_id": "e5b3df63b2a3486785d4270cd3323d7a",
       "version_major": 2,
       "version_minor": 0
      },
      "text/plain": [
       "HBox(children=(IntProgress(value=0, description='Test 1 :9', max=41), HTML(value='')))"
      ]
     },
     "metadata": {},
     "output_type": "display_data"
    },
    {
     "name": "stderr",
     "output_type": "stream",
     "text": [
      "10/24/2019 19:46:45 - INFO - __main__ -   Loss     : 299.00582164732856\n",
      "10/24/2019 19:46:45 - INFO - __main__ -   Accuracy : 0.9969512195121951\n",
      "10/24/2019 19:46:45 - INFO - __main__ -   AUC      : 0.999940671359124\n"
     ]
    },
    {
     "data": {
      "application/vnd.jupyter.widget-view+json": {
       "model_id": "1129309e64374ab484d3b3569b94c6e7",
       "version_major": 2,
       "version_minor": 0
      },
      "text/plain": [
       "HBox(children=(IntProgress(value=0, description='Test 2 :9', max=13575), HTML(value='')))"
      ]
     },
     "metadata": {},
     "output_type": "display_data"
    },
    {
     "name": "stderr",
     "output_type": "stream",
     "text": [
      "10/24/2019 19:51:11 - INFO - __main__ -   Loss     : 108500.05738619818\n",
      "10/24/2019 19:51:11 - INFO - __main__ -   Accuracy : 0.09437244833948552\n",
      "10/24/2019 19:51:11 - INFO - __main__ -   AUC      : 0.7332607732307429\n"
     ]
    },
    {
     "name": "stdout",
     "output_type": "stream",
     "text": [
      "\n"
     ]
    }
   ],
   "source": [
    "# start straining\n",
    "\n",
    "history = {'train':[], 'valid':[], 'test1':[], 'test2':[]}\n",
    "for e in tqdm(range(10), desc=\"Epoch\"):\n",
    "    train_result = step(model, optimizer, train_loader, train=True, message=\"Training :{}\".format(e))\n",
    "    valid_result = step(model, optimizer, val_loader, train=False, message=\"Validation :{}\".format(e))\n",
    "    test_result1 = step(model, optimizer, test_loader1, train=False, message=\"Test 1 :{}\".format(e))\n",
    "    test_result2 = step(model, optimizer, test_loader2, train=False, message=\"Test 2 :{}\".format(e))\n",
    "    \n",
    "    history['train'].append(train_result)\n",
    "    history['valid'].append(valid_result)\n",
    "    history['test1'].append(test_result1)\n",
    "    history['test2'].append(test_result2)"
   ]
  },
  {
   "cell_type": "code",
   "execution_count": 25,
   "metadata": {},
   "outputs": [
    {
     "data": {
      "image/png": "[encoded data removed]",
      "text/plain": [
       "<Figure size 504x360 with 1 Axes>"
      ]
     },
     "metadata": {
      "needs_background": "light"
     },
     "output_type": "display_data"
    },
    {
     "data": {
      "image/png": "[encoded data removed]",
      "text/plain": [
       "<Figure size 504x360 with 1 Axes>"
      ]
     },
     "metadata": {
      "needs_background": "light"
     },
     "output_type": "display_data"
    }
   ],
   "source": [
    "save = \"baseline\"\n",
    "\n",
    "train_loss = [l['loss'] for l in history['train']]\n",
    "valid_loss = [l['loss'] for l in history['valid']]\n",
    "test1_loss = [l['loss'] for l in history['test1']]\n",
    "test2_loss = [l['loss'] for l in history['test2']]\n",
    "\n",
    "train_auc = [l['auc'] for l in history['train']]\n",
    "valid_auc = [l['auc'] for l in history['valid']]\n",
    "test1_auc = [l['auc'] for l in history['test1']]\n",
    "test2_auc = [l['auc'] for l in history['test2']]\n",
    "\n",
    "plt.figure(figsize=(7,5))\n",
    "plt.title('Loss')\n",
    "plt.plot(train_loss, label='train')\n",
    "plt.plot(valid_loss, label='valid')\n",
    "plt.plot(test1_loss, label='test1')\n",
    "plt.plot(test2_loss, label='test2')\n",
    "plt.legend()\n",
    "if save:\n",
    "    path = os.path.join(\"output\", save+'_loss.png')\n",
    "    plt.savefig(path)\n",
    "plt.show()\n",
    "\n",
    "plt.figure(figsize=(7,5))\n",
    "plt.title('AUC Score')\n",
    "plt.plot(train_auc, label='train')\n",
    "plt.plot(valid_auc, label='valid')\n",
    "plt.plot(test1_auc, label='test1')\n",
    "plt.plot(test2_auc, label='test2')\n",
    "plt.legend()\n",
    "if save:\n",
    "    path = os.path.join(\"output\", save+'_auc.png')\n",
    "    plt.savefig(path)\n",
    "plt.show()"
   ]
  },
  {
   "cell_type": "markdown",
   "metadata": {},
   "source": [
    "# Adversarial training"
   ]
  },
  {
   "cell_type": "code",
   "execution_count": 26,
   "metadata": {},
   "outputs": [],
   "source": [
    "UNKId = words_dict['<UNKNOWN>']\n",
    "word_mal_ratio['<UNKNOWN>'] = 0.5\n",
    "data = list(map(lambda x:words_dict.get(x, UNKId), word_mal_ratio.keys()))\n",
    "label = list(map(lambda x:np.array([x, 1-x]), word_mal_ratio.values()))\n",
    "\n",
    "emb_ratio_dataset = mydata(data, label)\n",
    "emb_ratio_loader = DataLoader(emb_ratio_dataset, batch_size=batch_size, shuffle=True)"
   ]
  },
  {
   "cell_type": "code",
   "execution_count": 27,
   "metadata": {},
   "outputs": [
    {
     "data": {
      "text/plain": [
       "torch.Size([128, 1])"
      ]
     },
     "execution_count": 27,
     "metadata": {},
     "output_type": "execute_result"
    }
   ],
   "source": [
    "d, l = next(iter(emb_ratio_loader))\n",
    "d.unsqueeze(1).shape"
   ]
  },
  {
   "cell_type": "code",
   "execution_count": 29,
   "metadata": {},
   "outputs": [],
   "source": [
    "def emb_step(model, optimizer, train=False):\n",
    "    \n",
    "    loader = emb_ratio_loader\n",
    "    loss_total = 0\n",
    "    _lambda = 0.1\n",
    "    \n",
    "    model.train() if train else model.eval()\n",
    "    mode = torch.enable_grad if train else torch.no_grad\n",
    "    with mode():\n",
    "        for (data, label) in loader:\n",
    "        #for (data, label) in tqdm(loader, desc=\"emb bias\"):\n",
    "            data, label = data.long().unsqueeze(1).cuda(), label.float().cuda()\n",
    "            logits = model(data)\n",
    "            loss = soft_cross_entropy(logits, label, size_average=True) * _lambda\n",
    "            if train:\n",
    "                loss.backward()\n",
    "                torch.nn.utils.clip_grad_norm_(model.parameters(), 1.0)\n",
    "                optimizer.step()\n",
    "                optimizer.zero_grad()\n",
    "            loss_total += loss.item()\n",
    "    loss_total /= (len(loader)/batch_size)\n",
    "    return loss_total"
   ]
  },
  {
   "cell_type": "code",
   "execution_count": 30,
   "metadata": {},
   "outputs": [],
   "source": [
    "def adv_step(model, optimizer, loader, train=True, message=\"\"):\n",
    "    loss_total = 0\n",
    "    bias_loss_total = 0\n",
    "    all_logits = []\n",
    "    all_labels = []\n",
    "    \n",
    "    model.train() if train else model.eval()\n",
    "    bias_model.train if train else bias_model.eval()\n",
    "    mode = torch.enable_grad if train else torch.no_grad\n",
    "    \n",
    "    with mode():\n",
    "        for (data, label) in tqdm(loader, desc=message):\n",
    "            data, label = data.long().cuda(), label.float().cuda()\n",
    "            logits = model(data).squeeze()\n",
    "            loss = F.binary_cross_entropy_with_logits(logits, label, reduction=\"sum\")\n",
    "            if train:\n",
    "                loss.backward()\n",
    "                optimizer.step()\n",
    "                optimizer.zero_grad()\n",
    "            loss_total += loss.item()\n",
    "            all_labels.append(label.detach().cpu().numpy())\n",
    "            all_logits.append(F.sigmoid(logits).detach().cpu().numpy())\n",
    "            \n",
    "#             ###adv step for each original batch\n",
    "#             logits = bias_model(data).squeeze()\n",
    "#             _lambda = 0.01\n",
    "#             bias_loss = _lambda * soft_cross_entropy(logits)\n",
    "#             if train:\n",
    "#                 bias_loss.backward()\n",
    "#                 bias__optimizer.step()\n",
    "#                 bias__optimizer.zero_grad()\n",
    "#             bias_loss_total += bias_loss.item()\n",
    "#     bias_loss_total = bias_loss_total/(len(loader)/batch_size\n",
    "    \n",
    "    loss_total /= (len(loader)/batch_size)\n",
    "    all_labels = np.hstack(all_labels)\n",
    "    all_logits = np.hstack(all_logits)\n",
    "    auc = roc_auc_score(all_labels, all_logits) if len(np.unique(all_labels)) > 1 else 0\n",
    "    acc = accuracy_thresh_score(all_logits, all_labels)\n",
    "    \n",
    "\n",
    "    bias_loss_total = emb_step(bias_model, bias_optimizer, train)\n",
    "    logger.info('Loss     : {}'.format(loss_total))\n",
    "    logger.info('Bias Loss: {}'.format(bias_loss_total))\n",
    "    logger.info('Accuracy : {}'.format(acc))\n",
    "    logger.info('AUC      : {}'.format(auc))\n",
    "    \n",
    "    return {'loss':loss_total, 'acc':acc, 'auc':auc, \"bias\":bias_loss_total}"
   ]
  },
  {
   "cell_type": "code",
   "execution_count": 31,
   "metadata": {},
   "outputs": [],
   "source": [
    "adv_model = models.WordCNN(\n",
    "            word_ngram_vocab_size = len(words_dict)+1,\n",
    "            emb_size=emb_dim,\n",
    "            word_seq_len=max_len_words,\n",
    "            l2_reg_lambda=l2_reg_lambda,\n",
    "            kernel_sizes=filter_size).cuda()\n",
    "adv_optimizer = torch.optim.Adam(adv_model.parameters(), lr=1e-3)\n",
    "\n",
    "bias_model = models.BiasPredictor(adv_model.word_emb, emb_dim).cuda()\n",
    "bias_optimizer = torch.optim.Adam(bias_model.parameters(), lr=1e-3)"
   ]
  },
  {
   "cell_type": "code",
   "execution_count": 32,
   "metadata": {},
   "outputs": [
    {
     "data": {
      "application/vnd.jupyter.widget-view+json": {
       "model_id": "58aaf73931c84020b1d2c0cc9ee92f8f",
       "version_major": 2,
       "version_minor": 0
      },
      "text/plain": [
       "HBox(children=(IntProgress(value=0, description='Epoch', max=10), HTML(value='')))"
      ]
     },
     "metadata": {},
     "output_type": "display_data"
    },
    {
     "data": {
      "application/vnd.jupyter.widget-view+json": {
       "model_id": "e5dcbdf6b5634d6b95f1ed931736b27b",
       "version_major": 2,
       "version_minor": 0
      },
      "text/plain": [
       "HBox(children=(IntProgress(value=0, description='Training :0', max=333), HTML(value='')))"
      ]
     },
     "metadata": {},
     "output_type": "display_data"
    },
    {
     "name": "stderr",
     "output_type": "stream",
     "text": [
      "10/25/2019 01:22:58 - INFO - __main__ -   Loss     : 1900.1325647043395\n",
      "10/25/2019 01:22:58 - INFO - __main__ -   Bias Loss: 8.563753737343681\n",
      "10/25/2019 01:22:58 - INFO - __main__ -   Accuracy : 0.9523338979860719\n",
      "10/25/2019 01:22:58 - INFO - __main__ -   AUC      : 0.9915522402949963\n"
     ]
    },
    {
     "data": {
      "application/vnd.jupyter.widget-view+json": {
       "model_id": "b758610b19a84915b01ef48d933031dc",
       "version_major": 2,
       "version_minor": 0
      },
      "text/plain": [
       "HBox(children=(IntProgress(value=0, description='Validation :0', max=37), HTML(value='')))"
      ]
     },
     "metadata": {},
     "output_type": "display_data"
    },
    {
     "name": "stderr",
     "output_type": "stream",
     "text": [
      "10/25/2019 01:22:59 - INFO - __main__ -   Loss     : 273.68482971191406\n",
      "10/25/2019 01:22:59 - INFO - __main__ -   Bias Loss: 8.514204833242628\n",
      "10/25/2019 01:22:59 - INFO - __main__ -   Accuracy : 0.9953409572215163\n",
      "10/25/2019 01:22:59 - INFO - __main__ -   AUC      : 0.9998060790622845\n"
     ]
    },
    {
     "data": {
      "application/vnd.jupyter.widget-view+json": {
       "model_id": "d091f347651f46c78c7f1633e332a326",
       "version_major": 2,
       "version_minor": 0
      },
      "text/plain": [
       "HBox(children=(IntProgress(value=0, description='Test 1 :0', max=41), HTML(value='')))"
      ]
     },
     "metadata": {},
     "output_type": "display_data"
    },
    {
     "name": "stderr",
     "output_type": "stream",
     "text": [
      "10/25/2019 01:23:00 - INFO - __main__ -   Loss     : 365.072212730966\n",
      "10/25/2019 01:23:00 - INFO - __main__ -   Bias Loss: 8.482215060128105\n",
      "10/25/2019 01:23:00 - INFO - __main__ -   Accuracy : 0.9933307926829268\n",
      "10/25/2019 01:23:00 - INFO - __main__ -   AUC      : 0.9997192600665527\n"
     ]
    },
    {
     "data": {
      "application/vnd.jupyter.widget-view+json": {
       "model_id": "c26e1c86a33442cdbc47594c8ed3c271",
       "version_major": 2,
       "version_minor": 0
      },
      "text/plain": [
       "HBox(children=(IntProgress(value=0, description='Test 2 :0', max=13575), HTML(value='')))"
      ]
     },
     "metadata": {},
     "output_type": "display_data"
    },
    {
     "name": "stderr",
     "output_type": "stream",
     "text": [
      "10/25/2019 01:27:28 - INFO - __main__ -   Loss     : 50092.58398080675\n",
      "10/25/2019 01:27:28 - INFO - __main__ -   Bias Loss: 8.520226332876417\n",
      "10/25/2019 01:27:28 - INFO - __main__ -   Accuracy : 0.085083166723642\n",
      "10/25/2019 01:27:28 - INFO - __main__ -   AUC      : 0.8174932011449937\n"
     ]
    },
    {
     "data": {
      "application/vnd.jupyter.widget-view+json": {
       "model_id": "1f57e3d4594e4a0fbe4d4254b464064c",
       "version_major": 2,
       "version_minor": 0
      },
      "text/plain": [
       "HBox(children=(IntProgress(value=0, description='Training :1', max=333), HTML(value='')))"
      ]
     },
     "metadata": {},
     "output_type": "display_data"
    },
    {
     "name": "stderr",
     "output_type": "stream",
     "text": [
      "10/25/2019 01:27:43 - INFO - __main__ -   Loss     : 455.97039504474526\n",
      "10/25/2019 01:27:43 - INFO - __main__ -   Bias Loss: 8.467684653070238\n",
      "10/25/2019 01:27:43 - INFO - __main__ -   Accuracy : 0.9904009034443817\n",
      "10/25/2019 01:27:43 - INFO - __main__ -   AUC      : 0.9994016605564389\n"
     ]
    },
    {
     "data": {
      "application/vnd.jupyter.widget-view+json": {
       "model_id": "d291c73483e24d1990353dd8cdb006c3",
       "version_major": 2,
       "version_minor": 0
      },
      "text/plain": [
       "HBox(children=(IntProgress(value=0, description='Validation :1', max=37), HTML(value='')))"
      ]
     },
     "metadata": {},
     "output_type": "display_data"
    },
    {
     "name": "stderr",
     "output_type": "stream",
     "text": [
      "10/25/2019 01:27:44 - INFO - __main__ -   Loss     : 196.32109635585064\n",
      "10/25/2019 01:27:44 - INFO - __main__ -   Bias Loss: 8.492855389912924\n",
      "10/25/2019 01:27:44 - INFO - __main__ -   Accuracy : 0.9961880559085133\n",
      "10/25/2019 01:27:44 - INFO - __main__ -   AUC      : 0.9999220725120661\n"
     ]
    },
    {
     "data": {
      "application/vnd.jupyter.widget-view+json": {
       "model_id": "624da4cd195c48f6b8e7f9005f453d40",
       "version_major": 2,
       "version_minor": 0
      },
      "text/plain": [
       "HBox(children=(IntProgress(value=0, description='Test 1 :1', max=41), HTML(value='')))"
      ]
     },
     "metadata": {},
     "output_type": "display_data"
    },
    {
     "name": "stderr",
     "output_type": "stream",
     "text": [
      "10/25/2019 01:27:45 - INFO - __main__ -   Loss     : 313.27609978652583\n",
      "10/25/2019 01:27:45 - INFO - __main__ -   Bias Loss: 8.490340948104858\n",
      "10/25/2019 01:27:45 - INFO - __main__ -   Accuracy : 0.9939024390243902\n",
      "10/25/2019 01:27:45 - INFO - __main__ -   AUC      : 0.9997770637362433\n"
     ]
    },
    {
     "data": {
      "application/vnd.jupyter.widget-view+json": {
       "model_id": "2624d84e1b644e35b57125964d3ed116",
       "version_major": 2,
       "version_minor": 0
      },
      "text/plain": [
       "HBox(children=(IntProgress(value=0, description='Test 2 :1', max=13575), HTML(value='')))"
      ]
     },
     "metadata": {},
     "output_type": "display_data"
    },
    {
     "name": "stderr",
     "output_type": "stream",
     "text": [
      "10/25/2019 01:32:12 - INFO - __main__ -   Loss     : 40398.58191983095\n",
      "10/25/2019 01:32:12 - INFO - __main__ -   Bias Loss: 8.464546336068047\n",
      "10/25/2019 01:32:12 - INFO - __main__ -   Accuracy : 0.17368902056521834\n",
      "10/25/2019 01:32:12 - INFO - __main__ -   AUC      : 0.8379244067954742\n"
     ]
    },
    {
     "data": {
      "application/vnd.jupyter.widget-view+json": {
       "model_id": "3640f4cc414b42fe8900eefbb17982f8",
       "version_major": 2,
       "version_minor": 0
      },
      "text/plain": [
       "HBox(children=(IntProgress(value=0, description='Training :2', max=333), HTML(value='')))"
      ]
     },
     "metadata": {},
     "output_type": "display_data"
    },
    {
     "name": "stderr",
     "output_type": "stream",
     "text": [
      "10/25/2019 01:32:27 - INFO - __main__ -   Loss     : 258.9509734951027\n",
      "10/25/2019 01:32:27 - INFO - __main__ -   Bias Loss: 8.425539400842455\n",
      "10/25/2019 01:32:27 - INFO - __main__ -   Accuracy : 0.9948710709580275\n",
      "10/25/2019 01:32:27 - INFO - __main__ -   AUC      : 0.9997612968025994\n"
     ]
    },
    {
     "data": {
      "application/vnd.jupyter.widget-view+json": {
       "model_id": "a2e2a904f49745a894b05a5404c36dc2",
       "version_major": 2,
       "version_minor": 0
      },
      "text/plain": [
       "HBox(children=(IntProgress(value=0, description='Validation :2', max=37), HTML(value='')))"
      ]
     },
     "metadata": {},
     "output_type": "display_data"
    },
    {
     "name": "stderr",
     "output_type": "stream",
     "text": [
      "10/25/2019 01:32:28 - INFO - __main__ -   Loss     : 349.29198961000185\n",
      "10/25/2019 01:32:28 - INFO - __main__ -   Bias Loss: 8.432827605141533\n",
      "10/25/2019 01:32:28 - INFO - __main__ -   Accuracy : 0.9947056332062685\n",
      "10/25/2019 01:32:28 - INFO - __main__ -   AUC      : 0.9999560086761664\n"
     ]
    },
    {
     "data": {
      "application/vnd.jupyter.widget-view+json": {
       "model_id": "945b4eae8a7945ab9865e9402bb6625b",
       "version_major": 2,
       "version_minor": 0
      },
      "text/plain": [
       "HBox(children=(IntProgress(value=0, description='Test 1 :2', max=41), HTML(value='')))"
      ]
     },
     "metadata": {},
     "output_type": "display_data"
    },
    {
     "name": "stderr",
     "output_type": "stream",
     "text": [
      "10/25/2019 01:32:29 - INFO - __main__ -   Loss     : 739.9553019535251\n",
      "10/25/2019 01:32:29 - INFO - __main__ -   Bias Loss: 8.43601844045851\n",
      "10/25/2019 01:32:29 - INFO - __main__ -   Accuracy : 0.9887576219512195\n",
      "10/25/2019 01:32:29 - INFO - __main__ -   AUC      : 0.9997301527178762\n"
     ]
    },
    {
     "data": {
      "application/vnd.jupyter.widget-view+json": {
       "model_id": "c740851b92dc466cb292128684469d9d",
       "version_major": 2,
       "version_minor": 0
      },
      "text/plain": [
       "HBox(children=(IntProgress(value=0, description='Test 2 :2', max=13575), HTML(value='')))"
      ]
     },
     "metadata": {},
     "output_type": "display_data"
    },
    {
     "name": "stderr",
     "output_type": "stream",
     "text": [
      "10/25/2019 01:36:57 - INFO - __main__ -   Loss     : 92104.13949268674\n",
      "10/25/2019 01:36:57 - INFO - __main__ -   Bias Loss: 8.423695021205479\n",
      "10/25/2019 01:36:57 - INFO - __main__ -   Accuracy : 0.0762168838059984\n",
      "10/25/2019 01:36:57 - INFO - __main__ -   AUC      : 0.8522289501268913\n"
     ]
    },
    {
     "data": {
      "application/vnd.jupyter.widget-view+json": {
       "model_id": "9142716f8fa54d92a7365ddb8ccd8f37",
       "version_major": 2,
       "version_minor": 0
      },
      "text/plain": [
       "HBox(children=(IntProgress(value=0, description='Training :3', max=333), HTML(value='')))"
      ]
     },
     "metadata": {},
     "output_type": "display_data"
    },
    {
     "name": "stderr",
     "output_type": "stream",
     "text": [
      "10/25/2019 01:37:12 - INFO - __main__ -   Loss     : 143.1404783643164\n",
      "10/25/2019 01:37:12 - INFO - __main__ -   Bias Loss: 8.43326551384396\n",
      "10/25/2019 01:37:12 - INFO - __main__ -   Accuracy : 0.9974355354790138\n",
      "10/25/2019 01:37:12 - INFO - __main__ -   AUC      : 0.999906496834422\n"
     ]
    },
    {
     "data": {
      "application/vnd.jupyter.widget-view+json": {
       "model_id": "96d539ae99db4253af6d4b8b4ab2c857",
       "version_major": 2,
       "version_minor": 0
      },
      "text/plain": [
       "HBox(children=(IntProgress(value=0, description='Validation :3', max=37), HTML(value='')))"
      ]
     },
     "metadata": {},
     "output_type": "display_data"
    },
    {
     "name": "stderr",
     "output_type": "stream",
     "text": [
      "10/25/2019 01:37:13 - INFO - __main__ -   Loss     : 132.5511423897099\n",
      "10/25/2019 01:37:13 - INFO - __main__ -   Bias Loss: 8.423222343126932\n",
      "10/25/2019 01:37:13 - INFO - __main__ -   Accuracy : 0.9976704786107582\n",
      "10/25/2019 01:37:13 - INFO - __main__ -   AUC      : 0.9999692958515284\n"
     ]
    },
    {
     "data": {
      "application/vnd.jupyter.widget-view+json": {
       "model_id": "e57b124f71fd477eb45772a9f8eccfd0",
       "version_major": 2,
       "version_minor": 0
      },
      "text/plain": [
       "HBox(children=(IntProgress(value=0, description='Test 1 :3', max=41), HTML(value='')))"
      ]
     },
     "metadata": {},
     "output_type": "display_data"
    },
    {
     "name": "stderr",
     "output_type": "stream",
     "text": [
      "10/25/2019 01:37:14 - INFO - __main__ -   Loss     : 381.9750531955463\n",
      "10/25/2019 01:37:14 - INFO - __main__ -   Bias Loss: 8.415922231144375\n",
      "10/25/2019 01:37:14 - INFO - __main__ -   Accuracy : 0.9952362804878049\n",
      "10/25/2019 01:37:14 - INFO - __main__ -   AUC      : 0.9997757566180845\n"
     ]
    },
    {
     "data": {
      "application/vnd.jupyter.widget-view+json": {
       "model_id": "4f41c1816171489998c956f933a61619",
       "version_major": 2,
       "version_minor": 0
      },
      "text/plain": [
       "HBox(children=(IntProgress(value=0, description='Test 2 :3', max=13575), HTML(value='')))"
      ]
     },
     "metadata": {},
     "output_type": "display_data"
    },
    {
     "name": "stderr",
     "output_type": "stream",
     "text": [
      "10/25/2019 01:41:41 - INFO - __main__ -   Loss     : 75056.86302381504\n",
      "10/25/2019 01:41:41 - INFO - __main__ -   Bias Loss: 8.401514609654745\n",
      "10/25/2019 01:41:41 - INFO - __main__ -   Accuracy : 0.09038359939088188\n",
      "10/25/2019 01:41:41 - INFO - __main__ -   AUC      : 0.8344197671425599\n"
     ]
    },
    {
     "data": {
      "application/vnd.jupyter.widget-view+json": {
       "model_id": "c400f90e47a646349bb68e8cf12a19e7",
       "version_major": 2,
       "version_minor": 0
      },
      "text/plain": [
       "HBox(children=(IntProgress(value=0, description='Training :4', max=333), HTML(value='')))"
      ]
     },
     "metadata": {},
     "output_type": "display_data"
    },
    {
     "name": "stderr",
     "output_type": "stream",
     "text": [
      "10/25/2019 01:41:56 - INFO - __main__ -   Loss     : 92.60686407110363\n",
      "10/25/2019 01:41:56 - INFO - __main__ -   Bias Loss: 8.40221749411689\n",
      "10/25/2019 01:41:56 - INFO - __main__ -   Accuracy : 0.9984236777715039\n",
      "10/25/2019 01:41:56 - INFO - __main__ -   AUC      : 0.9999618547824631\n"
     ]
    },
    {
     "data": {
      "application/vnd.jupyter.widget-view+json": {
       "model_id": "4619f66f793a424d9dcf895db2678e80",
       "version_major": 2,
       "version_minor": 0
      },
      "text/plain": [
       "HBox(children=(IntProgress(value=0, description='Validation :4', max=37), HTML(value='')))"
      ]
     },
     "metadata": {},
     "output_type": "display_data"
    },
    {
     "name": "stderr",
     "output_type": "stream",
     "text": [
      "10/25/2019 01:41:57 - INFO - __main__ -   Loss     : 228.5946983904452\n",
      "10/25/2019 01:41:57 - INFO - __main__ -   Bias Loss: 8.411830173598396\n",
      "10/25/2019 01:41:57 - INFO - __main__ -   Accuracy : 0.9970351545955104\n",
      "10/25/2019 01:41:57 - INFO - __main__ -   AUC      : 0.9999565473454378\n"
     ]
    },
    {
     "data": {
      "application/vnd.jupyter.widget-view+json": {
       "model_id": "b06e4d7171f24e0983944de2ebf59ab6",
       "version_major": 2,
       "version_minor": 0
      },
      "text/plain": [
       "HBox(children=(IntProgress(value=0, description='Test 1 :4', max=41), HTML(value='')))"
      ]
     },
     "metadata": {},
     "output_type": "display_data"
    },
    {
     "name": "stderr",
     "output_type": "stream",
     "text": [
      "10/25/2019 01:41:58 - INFO - __main__ -   Loss     : 537.9183979608664\n",
      "10/25/2019 01:41:58 - INFO - __main__ -   Bias Loss: 8.410408046510485\n",
      "10/25/2019 01:41:58 - INFO - __main__ -   Accuracy : 0.9937118902439024\n",
      "10/25/2019 01:41:58 - INFO - __main__ -   AUC      : 0.9996203547925342\n"
     ]
    },
    {
     "data": {
      "application/vnd.jupyter.widget-view+json": {
       "model_id": "6e4211f704414170b0b598b7a2e81282",
       "version_major": 2,
       "version_minor": 0
      },
      "text/plain": [
       "HBox(children=(IntProgress(value=0, description='Test 2 :4', max=13575), HTML(value='')))"
      ]
     },
     "metadata": {},
     "output_type": "display_data"
    },
    {
     "name": "stderr",
     "output_type": "stream",
     "text": [
      "10/25/2019 01:46:26 - INFO - __main__ -   Loss     : 77887.2102097346\n",
      "10/25/2019 01:46:26 - INFO - __main__ -   Bias Loss: 8.392343746291267\n",
      "10/25/2019 01:46:26 - INFO - __main__ -   Accuracy : 0.09259988236607632\n",
      "10/25/2019 01:46:26 - INFO - __main__ -   AUC      : 0.848789902154744\n"
     ]
    },
    {
     "data": {
      "application/vnd.jupyter.widget-view+json": {
       "model_id": "ed2c6afd47bf4df890c97a8a5d52e035",
       "version_major": 2,
       "version_minor": 0
      },
      "text/plain": [
       "HBox(children=(IntProgress(value=0, description='Training :5', max=333), HTML(value='')))"
      ]
     },
     "metadata": {},
     "output_type": "display_data"
    },
    {
     "name": "stderr",
     "output_type": "stream",
     "text": [
      "10/25/2019 01:46:41 - INFO - __main__ -   Loss     : 99.80040259189329\n",
      "10/25/2019 01:46:41 - INFO - __main__ -   Bias Loss: 8.404217097494337\n",
      "10/25/2019 01:46:41 - INFO - __main__ -   Accuracy : 0.9979296066252588\n",
      "10/25/2019 01:46:41 - INFO - __main__ -   AUC      : 0.9999566161253531\n"
     ]
    },
    {
     "data": {
      "application/vnd.jupyter.widget-view+json": {
       "model_id": "e805cbb662294f9590893419fa252bbf",
       "version_major": 2,
       "version_minor": 0
      },
      "text/plain": [
       "HBox(children=(IntProgress(value=0, description='Validation :5', max=37), HTML(value='')))"
      ]
     },
     "metadata": {},
     "output_type": "display_data"
    },
    {
     "name": "stderr",
     "output_type": "stream",
     "text": [
      "10/25/2019 01:46:42 - INFO - __main__ -   Loss     : 177.72224428323474\n",
      "10/25/2019 01:46:42 - INFO - __main__ -   Bias Loss: 8.424016965760124\n",
      "10/25/2019 01:46:42 - INFO - __main__ -   Accuracy : 0.9966116052520119\n",
      "10/25/2019 01:46:42 - INFO - __main__ -   AUC      : 0.9998139795449322\n"
     ]
    },
    {
     "data": {
      "application/vnd.jupyter.widget-view+json": {
       "model_id": "b48bd4e657774379b45518b420044f28",
       "version_major": 2,
       "version_minor": 0
      },
      "text/plain": [
       "HBox(children=(IntProgress(value=0, description='Test 1 :5', max=41), HTML(value='')))"
      ]
     },
     "metadata": {},
     "output_type": "display_data"
    },
    {
     "name": "stderr",
     "output_type": "stream",
     "text": [
      "10/25/2019 01:46:43 - INFO - __main__ -   Loss     : 459.57634374008245\n",
      "10/25/2019 01:46:43 - INFO - __main__ -   Bias Loss: 8.409284644656712\n",
      "10/25/2019 01:46:43 - INFO - __main__ -   Accuracy : 0.9933307926829268\n",
      "10/25/2019 01:46:43 - INFO - __main__ -   AUC      : 0.9998477933521712\n"
     ]
    },
    {
     "data": {
      "application/vnd.jupyter.widget-view+json": {
       "model_id": "44e21d5af7b749d5a1a2851f0c47e215",
       "version_major": 2,
       "version_minor": 0
      },
      "text/plain": [
       "HBox(children=(IntProgress(value=0, description='Test 2 :5', max=13575), HTML(value='')))"
      ]
     },
     "metadata": {},
     "output_type": "display_data"
    },
    {
     "name": "stderr",
     "output_type": "stream",
     "text": [
      "10/25/2019 01:51:11 - INFO - __main__ -   Loss     : 52775.35969581732\n",
      "10/25/2019 01:51:11 - INFO - __main__ -   Bias Loss: 8.41496291425493\n",
      "10/25/2019 01:51:11 - INFO - __main__ -   Accuracy : 0.17070443383206893\n",
      "10/25/2019 01:51:11 - INFO - __main__ -   AUC      : 0.8214789238180304\n"
     ]
    },
    {
     "data": {
      "application/vnd.jupyter.widget-view+json": {
       "model_id": "212db285eb23490c934c2034335b213f",
       "version_major": 2,
       "version_minor": 0
      },
      "text/plain": [
       "HBox(children=(IntProgress(value=0, description='Training :6', max=333), HTML(value='')))"
      ]
     },
     "metadata": {},
     "output_type": "display_data"
    },
    {
     "name": "stderr",
     "output_type": "stream",
     "text": [
      "10/25/2019 01:51:26 - INFO - __main__ -   Loss     : 95.84248830981318\n",
      "10/25/2019 01:51:26 - INFO - __main__ -   Bias Loss: 8.403158995840284\n",
      "10/25/2019 01:51:26 - INFO - __main__ -   Accuracy : 0.9979296066252588\n",
      "10/25/2019 01:51:26 - INFO - __main__ -   AUC      : 0.9999693928247839\n"
     ]
    },
    {
     "data": {
      "application/vnd.jupyter.widget-view+json": {
       "model_id": "32605502dc414904a40890226600f15e",
       "version_major": 2,
       "version_minor": 0
      },
      "text/plain": [
       "HBox(children=(IntProgress(value=0, description='Validation :6', max=37), HTML(value='')))"
      ]
     },
     "metadata": {},
     "output_type": "display_data"
    },
    {
     "name": "stderr",
     "output_type": "stream",
     "text": [
      "10/25/2019 01:51:27 - INFO - __main__ -   Loss     : 88.07607579231262\n",
      "10/25/2019 01:51:27 - INFO - __main__ -   Bias Loss: 8.395363105667961\n",
      "10/25/2019 01:51:27 - INFO - __main__ -   Accuracy : 0.9980940279542567\n",
      "10/25/2019 01:51:27 - INFO - __main__ -   AUC      : 0.9998926252585613\n"
     ]
    },
    {
     "data": {
      "application/vnd.jupyter.widget-view+json": {
       "model_id": "75f5b0faa0db45579a73477d3ff11035",
       "version_major": 2,
       "version_minor": 0
      },
      "text/plain": [
       "HBox(children=(IntProgress(value=0, description='Test 1 :6', max=41), HTML(value='')))"
      ]
     },
     "metadata": {},
     "output_type": "display_data"
    },
    {
     "name": "stderr",
     "output_type": "stream",
     "text": [
      "10/25/2019 01:51:28 - INFO - __main__ -   Loss     : 312.9245265849253\n",
      "10/25/2019 01:51:28 - INFO - __main__ -   Bias Loss: 8.422692749235365\n",
      "10/25/2019 01:51:28 - INFO - __main__ -   Accuracy : 0.9935213414634146\n",
      "10/25/2019 01:51:28 - INFO - __main__ -   AUC      : 0.9998726285971893\n"
     ]
    },
    {
     "data": {
      "application/vnd.jupyter.widget-view+json": {
       "model_id": "d4da7b8f9675411bb783e1548d7c4d10",
       "version_major": 2,
       "version_minor": 0
      },
      "text/plain": [
       "HBox(children=(IntProgress(value=0, description='Test 2 :6', max=13575), HTML(value='')))"
      ]
     },
     "metadata": {},
     "output_type": "display_data"
    },
    {
     "name": "stderr",
     "output_type": "stream",
     "text": [
      "10/25/2019 01:55:57 - INFO - __main__ -   Loss     : 50184.88938338059\n",
      "10/25/2019 01:55:57 - INFO - __main__ -   Bias Loss: 8.412694838311937\n",
      "10/25/2019 01:55:57 - INFO - __main__ -   Accuracy : 0.13932311000153086\n",
      "10/25/2019 01:55:57 - INFO - __main__ -   AUC      : 0.8266549049915632\n"
     ]
    },
    {
     "data": {
      "application/vnd.jupyter.widget-view+json": {
       "model_id": "2bc5749f54a64c23b3ef7b98df59b97b",
       "version_major": 2,
       "version_minor": 0
      },
      "text/plain": [
       "HBox(children=(IntProgress(value=0, description='Training :7', max=333), HTML(value='')))"
      ]
     },
     "metadata": {},
     "output_type": "display_data"
    },
    {
     "name": "stderr",
     "output_type": "stream",
     "text": [
      "10/25/2019 01:56:12 - INFO - __main__ -   Loss     : 68.88319346371225\n",
      "10/25/2019 01:56:12 - INFO - __main__ -   Bias Loss: 8.402462482452393\n",
      "10/25/2019 01:56:12 - INFO - __main__ -   Accuracy : 0.9987060041407867\n",
      "10/25/2019 01:56:12 - INFO - __main__ -   AUC      : 0.9999800384137042\n"
     ]
    },
    {
     "data": {
      "application/vnd.jupyter.widget-view+json": {
       "model_id": "3dffb42f1084450badc8f456c462f89c",
       "version_major": 2,
       "version_minor": 0
      },
      "text/plain": [
       "HBox(children=(IntProgress(value=0, description='Validation :7', max=37), HTML(value='')))"
      ]
     },
     "metadata": {},
     "output_type": "display_data"
    },
    {
     "name": "stderr",
     "output_type": "stream",
     "text": [
      "10/25/2019 01:56:13 - INFO - __main__ -   Loss     : 117.3985993819865\n",
      "10/25/2019 01:56:13 - INFO - __main__ -   Bias Loss: 8.409294287363688\n",
      "10/25/2019 01:56:13 - INFO - __main__ -   Accuracy : 0.9985175772977551\n",
      "10/25/2019 01:56:13 - INFO - __main__ -   AUC      : 0.9999486468627902\n"
     ]
    },
    {
     "data": {
      "application/vnd.jupyter.widget-view+json": {
       "model_id": "e330d3bca844465f8f20eb1ebc3f0001",
       "version_major": 2,
       "version_minor": 0
      },
      "text/plain": [
       "HBox(children=(IntProgress(value=0, description='Test 1 :7', max=41), HTML(value='')))"
      ]
     },
     "metadata": {},
     "output_type": "display_data"
    },
    {
     "name": "stderr",
     "output_type": "stream",
     "text": [
      "10/25/2019 01:56:14 - INFO - __main__ -   Loss     : 441.9302119216541\n",
      "10/25/2019 01:56:14 - INFO - __main__ -   Bias Loss: 8.39783427450392\n",
      "10/25/2019 01:56:14 - INFO - __main__ -   Accuracy : 0.9946646341463414\n",
      "10/25/2019 01:56:14 - INFO - __main__ -   AUC      : 0.9998302924923781\n"
     ]
    },
    {
     "data": {
      "application/vnd.jupyter.widget-view+json": {
       "model_id": "fe4051f16e59495eb2a57fd0965e302b",
       "version_major": 2,
       "version_minor": 0
      },
      "text/plain": [
       "HBox(children=(IntProgress(value=0, description='Test 2 :7', max=13575), HTML(value='')))"
      ]
     },
     "metadata": {},
     "output_type": "display_data"
    },
    {
     "name": "stderr",
     "output_type": "stream",
     "text": [
      "10/25/2019 02:00:43 - INFO - __main__ -   Loss     : 98515.17270962756\n",
      "10/25/2019 02:00:43 - INFO - __main__ -   Bias Loss: 8.409151434898376\n",
      "10/25/2019 02:00:43 - INFO - __main__ -   Accuracy : 0.0927259187128869\n",
      "10/25/2019 02:00:43 - INFO - __main__ -   AUC      : 0.8039188323240246\n"
     ]
    },
    {
     "data": {
      "application/vnd.jupyter.widget-view+json": {
       "model_id": "acf5d650c9de4a64af1f66be1684022d",
       "version_major": 2,
       "version_minor": 0
      },
      "text/plain": [
       "HBox(children=(IntProgress(value=0, description='Training :8', max=333), HTML(value='')))"
      ]
     },
     "metadata": {},
     "output_type": "display_data"
    },
    {
     "name": "stderr",
     "output_type": "stream",
     "text": [
      "10/25/2019 02:00:58 - INFO - __main__ -   Loss     : 59.62219554398421\n",
      "10/25/2019 02:00:58 - INFO - __main__ -   Bias Loss: 8.421056747436523\n",
      "10/25/2019 02:00:58 - INFO - __main__ -   Accuracy : 0.9989177489177489\n",
      "10/25/2019 02:00:58 - INFO - __main__ -   AUC      : 0.9999840570792388\n"
     ]
    },
    {
     "data": {
      "application/vnd.jupyter.widget-view+json": {
       "model_id": "eaab0ea7583d4967bbf1338b819ef2a1",
       "version_major": 2,
       "version_minor": 0
      },
      "text/plain": [
       "HBox(children=(IntProgress(value=0, description='Validation :8', max=37), HTML(value='')))"
      ]
     },
     "metadata": {},
     "output_type": "display_data"
    },
    {
     "name": "stderr",
     "output_type": "stream",
     "text": [
      "10/25/2019 02:00:59 - INFO - __main__ -   Loss     : 118.22185786390627\n",
      "10/25/2019 02:00:59 - INFO - __main__ -   Bias Loss: 8.412004682752821\n",
      "10/25/2019 02:00:59 - INFO - __main__ -   Accuracy : 0.9987293519695044\n",
      "10/25/2019 02:00:59 - INFO - __main__ -   AUC      : 0.9999371552516663\n"
     ]
    },
    {
     "data": {
      "application/vnd.jupyter.widget-view+json": {
       "model_id": "e1b7431204174b3d851b2194fa8c15d0",
       "version_major": 2,
       "version_minor": 0
      },
      "text/plain": [
       "HBox(children=(IntProgress(value=0, description='Test 1 :8', max=41), HTML(value='')))"
      ]
     },
     "metadata": {},
     "output_type": "display_data"
    },
    {
     "name": "stderr",
     "output_type": "stream",
     "text": [
      "10/25/2019 02:01:00 - INFO - __main__ -   Loss     : 406.8956871476115\n",
      "10/25/2019 02:01:00 - INFO - __main__ -   Bias Loss: 8.420838647418552\n",
      "10/25/2019 02:01:00 - INFO - __main__ -   Accuracy : 0.9961890243902439\n",
      "10/25/2019 02:01:00 - INFO - __main__ -   AUC      : 0.9998123559265318\n"
     ]
    },
    {
     "data": {
      "application/vnd.jupyter.widget-view+json": {
       "model_id": "f3c44ce6c5284f439312df34c5143efe",
       "version_major": 2,
       "version_minor": 0
      },
      "text/plain": [
       "HBox(children=(IntProgress(value=0, description='Test 2 :8', max=13575), HTML(value='')))"
      ]
     },
     "metadata": {},
     "output_type": "display_data"
    },
    {
     "name": "stderr",
     "output_type": "stream",
     "text": [
      "10/25/2019 02:05:28 - INFO - __main__ -   Loss     : 100038.23977981367\n",
      "10/25/2019 02:05:28 - INFO - __main__ -   Bias Loss: 8.409459326002333\n",
      "10/25/2019 02:05:28 - INFO - __main__ -   Accuracy : 0.0874847634142383\n",
      "10/25/2019 02:05:28 - INFO - __main__ -   AUC      : 0.8122202093470505\n"
     ]
    },
    {
     "data": {
      "application/vnd.jupyter.widget-view+json": {
       "model_id": "591e8d3351c94459a8debfde7d8a89f9",
       "version_major": 2,
       "version_minor": 0
      },
      "text/plain": [
       "HBox(children=(IntProgress(value=0, description='Training :9', max=333), HTML(value='')))"
      ]
     },
     "metadata": {},
     "output_type": "display_data"
    },
    {
     "name": "stderr",
     "output_type": "stream",
     "text": [
      "10/25/2019 02:05:43 - INFO - __main__ -   Loss     : 33.666409334956526\n",
      "10/25/2019 02:05:43 - INFO - __main__ -   Bias Loss: 8.419004122416178\n",
      "10/25/2019 02:05:43 - INFO - __main__ -   Accuracy : 0.9992471296819123\n",
      "10/25/2019 02:05:43 - INFO - __main__ -   AUC      : 0.9999956425709245\n"
     ]
    },
    {
     "data": {
      "application/vnd.jupyter.widget-view+json": {
       "model_id": "f45832aabf954ff3826a816b9f23d056",
       "version_major": 2,
       "version_minor": 0
      },
      "text/plain": [
       "HBox(children=(IntProgress(value=0, description='Validation :9', max=37), HTML(value='')))"
      ]
     },
     "metadata": {},
     "output_type": "display_data"
    },
    {
     "name": "stderr",
     "output_type": "stream",
     "text": [
      "10/25/2019 02:05:44 - INFO - __main__ -   Loss     : 413.53348095352584\n",
      "10/25/2019 02:05:44 - INFO - __main__ -   Bias Loss: 8.406515174441868\n",
      "10/25/2019 02:05:44 - INFO - __main__ -   Accuracy : 0.9932232105040237\n",
      "10/25/2019 02:05:44 - INFO - __main__ -   AUC      : 0.9999021417490233\n"
     ]
    },
    {
     "data": {
      "application/vnd.jupyter.widget-view+json": {
       "model_id": "33ed08a6e0cd487385faf025160c60a8",
       "version_major": 2,
       "version_minor": 0
      },
      "text/plain": [
       "HBox(children=(IntProgress(value=0, description='Test 1 :9', max=41), HTML(value='')))"
      ]
     },
     "metadata": {},
     "output_type": "display_data"
    },
    {
     "name": "stderr",
     "output_type": "stream",
     "text": [
      "10/25/2019 02:05:45 - INFO - __main__ -   Loss     : 632.610844183732\n",
      "10/25/2019 02:05:45 - INFO - __main__ -   Bias Loss: 8.40888175699446\n",
      "10/25/2019 02:05:45 - INFO - __main__ -   Accuracy : 0.9925685975609756\n",
      "10/25/2019 02:05:45 - INFO - __main__ -   AUC      : 0.9998380625836555\n"
     ]
    },
    {
     "data": {
      "application/vnd.jupyter.widget-view+json": {
       "model_id": "d4f29cb096cd4be6bbdc267b043a3c88",
       "version_major": 2,
       "version_minor": 0
      },
      "text/plain": [
       "HBox(children=(IntProgress(value=0, description='Test 2 :9', max=13575), HTML(value='')))"
      ]
     },
     "metadata": {},
     "output_type": "display_data"
    },
    {
     "name": "stderr",
     "output_type": "stream",
     "text": [
      "10/25/2019 02:10:13 - INFO - __main__ -   Loss     : 32536.69684151501\n",
      "10/25/2019 02:10:13 - INFO - __main__ -   Bias Loss: 8.384644031524658\n",
      "10/25/2019 02:10:13 - INFO - __main__ -   Accuracy : 0.22533744936964561\n",
      "10/25/2019 02:10:13 - INFO - __main__ -   AUC      : 0.7991508658802573\n"
     ]
    },
    {
     "name": "stdout",
     "output_type": "stream",
     "text": [
      "\n"
     ]
    }
   ],
   "source": [
    "# start straining\n",
    "\n",
    "history = {'train':[], 'valid':[], 'test1':[], 'test2':[]}\n",
    "for e in tqdm(range(10), desc=\"Epoch\"):\n",
    "    train_result = adv_step(adv_model, adv_optimizer, train_loader, train=True, message=\"Training :{}\".format(e))\n",
    "    valid_result = adv_step(adv_model, adv_optimizer, val_loader, train=False, message=\"Validation :{}\".format(e))\n",
    "    test_result1 = adv_step(adv_model, adv_optimizer, test_loader1, train=False, message=\"Test 1 :{}\".format(e))\n",
    "    test_result2 = adv_step(adv_model, adv_optimizer, test_loader2, train=False, message=\"Test 2 :{}\".format(e))\n",
    "    \n",
    "    history['train'].append(train_result)\n",
    "    history['valid'].append(valid_result)\n",
    "    history['test1'].append(test_result1)\n",
    "    history['test2'].append(test_result2)"
   ]
  },
  {
   "cell_type": "code",
   "execution_count": null,
   "metadata": {},
   "outputs": [],
   "source": [
    "save = \"adv\"\n",
    "\n",
    "train_loss = [l['loss'] for l in history['train']]\n",
    "valid_loss = [l['loss'] for l in history['valid']]\n",
    "test1_loss = [l['loss'] for l in history['test1']]\n",
    "test2_loss = [l['loss'] for l in history['test2']]\n",
    "\n",
    "train_bloss = [l['bias_loss'] for l in history['train']]\n",
    "valid_bloss = [l['bias_loss'] for l in history['valid']]\n",
    "test1_bloss = [l['bias_loss'] for l in history['test1']]\n",
    "test2_bloss = [l['bias_loss'] for l in history['test2']]\n",
    "\n",
    "train_auc = [l['auc'] for l in history['train']]\n",
    "valid_auc = [l['auc'] for l in history['valid']]\n",
    "test1_auc = [l['auc'] for l in history['test1']]\n",
    "test2_auc = [l['auc'] for l in history['test2']]\n",
    "\n",
    "plt.figure(figsize=(7,5))\n",
    "plt.title('Loss')\n",
    "plt.plot(train_loss, label='train')\n",
    "plt.plot(valid_loss, label='valid')\n",
    "plt.plot(test1_loss, label='test1')\n",
    "plt.plot(test2_loss, label='test2')\n",
    "plt.legend()\n",
    "if save:\n",
    "    path = os.path.join(\"output\", save+'_loss.png')\n",
    "    plt.savefig(path)\n",
    "plt.show()\n",
    "\n",
    "\n",
    "plt.figure(figsize=(7,5))\n",
    "plt.title('Loss')\n",
    "plt.plot(train_bloss, label='train')\n",
    "plt.plot(valid_bloss, label='valid')\n",
    "plt.plot(test1_bloss, label='test1')\n",
    "plt.plot(test2_bloss, label='test2')\n",
    "plt.legend()\n",
    "if save:\n",
    "    path = os.path.join(\"output\", save+'_bias_loss.png')\n",
    "    plt.savefig(path)\n",
    "plt.show()\n",
    "\n",
    "\n",
    "plt.figure(figsize=(7,5))\n",
    "plt.title('AUC Score')\n",
    "plt.plot(train_auc, label='train')\n",
    "plt.plot(valid_auc, label='valid')\n",
    "plt.plot(test1_auc, label='test1')\n",
    "plt.plot(test2_auc, label='test2')\n",
    "plt.legend()\n",
    "if save:\n",
    "    path = os.path.join(\"output\", save+'_auc.png')\n",
    "    plt.savefig(path)\n",
    "plt.show()"
   ]
  },
  {
   "cell_type": "raw",
   "metadata": {},
   "source": [
    "for i in tqdm(range(1), desc=\"Epoch\"):\n",
    "    train_loss = 0\n",
    "    val_loss = 0\n",
    "    train_acc = 0\n",
    "    val_acc = 0\n",
    "    train_auc = 0\n",
    "    val_auc = 0\n",
    "    all_logits = []\n",
    "    all_labels = []\n",
    "    \n",
    "    model.train()\n",
    "    for (data, label) in tqdm(train_loader, desc=\"Iteration\"):\n",
    "        data, label = data.long().cuda(), label.float().cuda()\n",
    "        logits = model(data).squeeze()\n",
    "        loss = F.binary_cross_entropy_with_logits(logits, label)\n",
    "        loss.backward()\n",
    "        optimizer.step()\n",
    "        optimizer.zero_grad()\n",
    "        train_loss += loss.item()\n",
    "        all_labels.append(label.detach().cpu().numpy())\n",
    "        all_logits.append(F.sigmoid(logits).detach().cpu().numpy())\n",
    "    \n",
    "    all_labels = np.hstack(all_labels)\n",
    "    all_logits = np.hstack(all_logits)\n",
    "    train_auc = roc_auc_score(all_labels, all_logits)\n",
    "    train_acc = accuracy_thresh_score(logits, label)\n",
    "\n",
    "    \n",
    "    all_logits = []\n",
    "    all_labels = []\n",
    "    model.eval()\n",
    "    for (data, label) in tqdm(test_loader, desc=\"Evaluation\"):\n",
    "        data, label = data.long().cuda(), label.float().cuda()\n",
    "        with torch.no_grad():\n",
    "            logits = model(data).squeeze()\n",
    "        loss = F.binary_cross_entropy_with_logits(logits, label)\n",
    "        val_loss += loss.item()\n",
    "        all_labels.append(label.detach().cpu().numpy())\n",
    "        all_logits.append(F.sigmoid(logits).detach().cpu().numpy())\n",
    "        \n",
    "    all_labels = np.hstack(all_labels)\n",
    "    all_logits = np.hstack(all_logits)\n",
    "    val_auc = roc_auc_score(all_labels, all_logits)\n",
    "    val_acc = accuracy_thresh_score(logits, label)\n",
    "\n",
    "    \n",
    "    \n",
    "    logger.info('Training   Loss     : {}'.format(train_loss/(len(train_loader)/batch_size)))\n",
    "    logger.info('Training   Accuracy : {}'.format(train_acc/len(train_loader)))\n",
    "    logger.info('Training   AUC      : {}'.format(train_auc))\n",
    "    \n",
    "    logger.info('Validation Loss     : {}'.format(val_loss/(len(test_loader)/batch_size)))\n",
    "    logger.info('Validation Accuracy : {}'.format(val_acc/len(test_loader)))\n",
    "    logger.info('Validation AUC      : {}'.format(val_auc))\n"
   ]
  },
  {
   "cell_type": "raw",
   "metadata": {},
   "source": [
    "class DADATrainer(object):\n",
    "    def __init__(self, option):\n",
    "        self.option = option\n",
    "\n",
    "        self._build_model()\n",
    "        self._set_optimizer()\n",
    "        self.logger = logger_setting(option.exp_name, option.save_dir, option.debug)\n",
    "\n",
    "    def _build_model(self):\n",
    "        self.n_color_cls = 8\n",
    "\n",
    "        self.net = models.WordCNN(vocab_size, word_seq_len, emb_size, l2_reg_lambda)\n",
    "        self.pred_net = models.BiasPredictor(num_filters_total)\n",
    "\n",
    "\n",
    "        self.loss = nn.CrossEntropyLoss(ignore_index=255)\n",
    "        self.bias_loss = nn.CrossEntropyLoss(ignore_index=255)\n",
    "\n",
    "\n",
    "        if self.option.cuda:\n",
    "            self.net.cuda()\n",
    "            self.pred_net.cuda()\n",
    "            self.loss.cuda()\n",
    "            self.bias_loss.cuda()\n",
    "\n",
    "    def _set_optimizer(self):\n",
    "        self.optim = optim.SGD(filter(lambda p: p.requires_grad, self.net.parameters()), lr=self.option.lr, momentum=self.option.momentum, weight_decay=self.option.weight_decay)\n",
    "        self.optim_bias = optim.SGD(self.pred_net.parameters(), lr=self.option.lr, momentum=self.option.momentum, weight_decay=self.option.weight_decay)\n",
    "\n",
    "\n",
    "        #TODO: last_epoch should be the last step of loaded model\n",
    "        lr_lambda = lambda step: self.option.lr_decay_rate ** (step // self.option.lr_decay_period)\n",
    "        self.scheduler = optim.lr_scheduler.LambdaLR(self.optim, lr_lambda=lr_lambda, last_epoch=-1)\n",
    "        self.scheduler_bias = optim.lr_scheduler.LambdaLR(self.optim_r, lr_lambda=lr_lambda, last_epoch=-1)\n",
    "        \n",
    "\n",
    "    @staticmethod\n",
    "    def _weights_init(m):\n",
    "        classname = m.__class__.__name__\n",
    "        if classname.find('Conv') != -1:\n",
    "            n = m.kernel_size[0] * m.kernel_size[1] * m.out_channels\n",
    "            m.weight.data.normal_(0, math.sqrt(2. / n))\n",
    "        elif classname.find('BatchNorm') != -1:\n",
    "            m.weight.data.fill_(1.0)\n",
    "            m.bias.data.zero_()\n",
    "\n",
    "    def _initialization(self):\n",
    "        self.net.apply(self._weights_init)\n",
    "\n",
    "\n",
    "        if self.option.is_train and self.option.use_pretrain:\n",
    "            if self.option.checkpoint is not None:\n",
    "                self._load_model()\n",
    "            else:\n",
    "                print(\"Pre-trained model not provided\")\n",
    "\n",
    "\n",
    "\n",
    "    def _mode_setting(self, is_train=True):\n",
    "        if is_train:\n",
    "            self.net.train()\n",
    "            self.pred_net_bias.train()\n",
    "        else:\n",
    "            self.net.eval()\n",
    "            self.pred_net_bias.eval()\n",
    "\n",
    "\n",
    "\n",
    "    def _train_step(self, data_loader, step):\n",
    "        _lambda = 0.01\n",
    "\n",
    "        for i, (images,color_labels,labels) in enumerate(data_loader):\n",
    "            # data\n",
    "            images = self._get_variable(images)\n",
    "            color_labels = self._get_variable(color_labels)\n",
    "            labels = self._get_variable(labels)\n",
    "\n",
    "            # predict labels\n",
    "            self.optim.zero_grad()\n",
    "            self.optim_bias.zero_grad()\n",
    "\n",
    "            feat_label, pred_label = self.net(images)\n",
    "            # predict colors from feat_label. Their prediction should be uniform.\n",
    "            _,pseudo_pred_bias = self.pred_net_bias(feat_label)\n",
    "\n",
    "            # loss for self.net\n",
    "            loss_pred = self.loss(pred_label, torch.squeeze(labels))\n",
    "            loss_pseudo_pred_bias = torch.mean(torch.sum(pseudo_pred_bias*torch.log(pseudo_pred_bias),1))\n",
    "            loss = loss_pred + loss_pseudo_pred_bias*_lambda\n",
    "            loss.backward()\n",
    "            self.optim.step()\n",
    "\n",
    "\n",
    "\n",
    "\n",
    "            # predict bias\n",
    "            self.optim.zero_grad()\n",
    "            self.optim_bias.zero_grad()\n",
    "\n",
    "            feat_label, pred_label = self.net(images)\n",
    "            feat_color = grad_reverse(feat_label)\n",
    "            pred_bias,_ = self.pred_net_bias(feat_color)\n",
    "\n",
    "\n",
    "            # loss for rgb predictors\n",
    "            loss_pred_bias = self.color_loss(pred_bias, color_labels)\n",
    "            loss_pred_bias.backward()\n",
    "            self.optim.step()\n",
    "            self.optim_bias.step()\n",
    "\n",
    "\n",
    "            if i % self.option.log_step == 0:\n",
    "                msg = \"[TRAIN] cls loss : %.6f, rgb : %.6f, MI : %.6f  (epoch %d.%02d)\" \\\n",
    "                       % (loss_pred, loss_pred_bias/3., loss_pseudo_pred_bias, step, int(100*i/data_loader.__len__()))\n",
    "                self.logger.info(msg)\n",
    "\n",
    "\n",
    "    def _train_step_baseline(self, data_loader, step):\n",
    "        for i, (images,color_labels,labels) in enumerate(data_loader):\n",
    "            \n",
    "            images = self._get_variable(images)\n",
    "            labels = self._get_variable(labels)\n",
    "\n",
    "            self.optim.zero_grad()\n",
    "            feat_label, pred_label = self.net(images)\n",
    "\n",
    "            # loss for self.net\n",
    "            loss_pred = self.loss(pred_label, torch.squeeze(labels))\n",
    "            loss_pred.backward()\n",
    "            self.optim.step()\n",
    "\n",
    "            # TODO: print elapsed time for iteration\n",
    "            if i % self.option.log_step == 0:\n",
    "                msg = \"[TRAIN] cls loss : %.6f (epoch %d.%02d)\" \\\n",
    "                       % (loss_pred,step,int(100*i/data_loader.__len__()))\n",
    "                self.logger.info(msg)\n",
    "\n",
    "\n",
    "\n",
    "\n",
    "    def _validate(self, data_loader):\n",
    "        self._mode_setting(is_train=False)\n",
    "        self._initialization()\n",
    "        if self.option.checkpoint is not None:\n",
    "            self._load_model()\n",
    "        else:\n",
    "            print(\"No trained model for evaluation provided\")\n",
    "            import sys\n",
    "            sys.exit()\n",
    "\n",
    "        num_test = 10000\n",
    "\n",
    "        total_num_correct = 0.\n",
    "        total_num_test = 0.\n",
    "        total_loss = 0.\n",
    "        for i, (images,color_labels,labels) in enumerate(data_loader):\n",
    "            \n",
    "            start_time = time.time()\n",
    "            images = self._get_variable(images)\n",
    "            color_labels = self._get_variable(color_labels)\n",
    "            labels = self._get_variable(labels)\n",
    "\n",
    "            self.optim.zero_grad()\n",
    "            _, pred_label = self.net(images)\n",
    "\n",
    "\n",
    "            loss = self.loss(pred_label, torch.squeeze(labels))\n",
    "            \n",
    "            batch_size = images.shape[0]\n",
    "            total_num_correct += self._num_correct(pred_label,labels,topk=1).item()\n",
    "            total_loss += loss.item()*batch_size\n",
    "            total_num_test += batch_size\n",
    "               \n",
    "        avg_loss = total_loss/total_num_test\n",
    "        avg_acc = total_num_correct/total_num_test\n",
    "        msg = \"EVALUATION LOSS  %.4f, ACCURACY : %.4f (%d/%d)\" % \\\n",
    "                        (avg_loss,avg_acc,int(total_num_correct),total_num_test)\n",
    "        self.logger.info(msg)\n",
    "\n",
    "\n",
    "\n",
    "    def _num_correct(self,outputs,labels,topk=1):\n",
    "        _, preds = outputs.topk(k=topk, dim=1)\n",
    "        preds = preds.t()\n",
    "        correct = preds.eq(labels.view(1, -1).expand_as(preds))\n",
    "        correct = correct.view(-1).sum()\n",
    "        return correct\n",
    "        \n",
    "\n",
    "\n",
    "    def _accuracy(self, outputs, labels):\n",
    "        batch_size = labels.size(0)\n",
    "        _, preds = outputs.topk(k=1, dim=1)\n",
    "        preds = preds.t()\n",
    "        correct = preds.eq(labels.view(1, -1).expand_as(preds))\n",
    "        correct = correct.view(-1).float().sum(0, keepdim=True)\n",
    "        accuracy = correct.mul_(100.0 / batch_size)\n",
    "        return accuracy\n",
    "\n",
    "    def _save_model(self, step):\n",
    "        torch.save({\n",
    "            'step': step,\n",
    "            'optim_state_dict': self.optim.state_dict(),\n",
    "            'net_state_dict': self.net.state_dict()\n",
    "        }, os.path.join(self.option.save_dir,self.option.exp_name, 'checkpoint_step_%04d.pth' % step))\n",
    "        print('checkpoint saved. step : %d'%step)\n",
    "\n",
    "    def _load_model(self):\n",
    "        ckpt = torch.load(self.option.checkpoint)\n",
    "        self.net.load_state_dict(ckpt['net_state_dict'])\n",
    "        self.optim.load_state_dict(ckpt['optim_state_dict'])\n",
    "\n",
    "    def train(self, train_loader, val_loader=None):\n",
    "        self._initialization()\n",
    "        if self.option.checkpoint is not None:\n",
    "            self._load_model()\n",
    "\n",
    "        self._mode_setting(is_train=True)\n",
    "        timer = Timer(self.logger, self.option.max_step)\n",
    "        start_epoch = 0\n",
    "        for step in range(start_epoch, self.option.max_step):\n",
    "            if self.option.train_baseline:\n",
    "                self._train_step_baseline(train_loader, step)\n",
    "            else:\n",
    "                self._train_step(train_loader,step)\n",
    "            self.scheduler.step()\n",
    "            self.scheduler_bias.step()\n",
    "\n",
    "\n",
    "            if step == 1 or step % self.option.save_step == 0 or step == (self.option.max_step-1):\n",
    "                if val_loader is not None:\n",
    "                    self._validate(step, val_loader)\n",
    "                self._save_model(step)\n",
    "\n",
    "\n",
    "    def _get_variable(self, inputs):\n",
    "        if self.option.cuda:\n",
    "            return Variable(inputs.cuda())\n",
    "        return Variable(inputs)"
   ]
  },
  {
   "cell_type": "code",
   "execution_count": null,
   "metadata": {},
   "outputs": [],
   "source": []
  }
 ],
 "metadata": {
  "kernelspec": {
   "display_name": "Python 3",
   "language": "python",
   "name": "python3"
  },
  "language_info": {
   "codemirror_mode": {
    "name": "ipython",
    "version": 3
   },
   "file_extension": ".py",
   "mimetype": "text/x-python",
   "name": "python",
   "nbconvert_exporter": "python",
   "pygments_lexer": "ipython3",
   "version": "3.5.2"
  }
 },
 "nbformat": 4,
 "nbformat_minor": 4
}
