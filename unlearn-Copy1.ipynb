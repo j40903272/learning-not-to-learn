{
 "cells": [
  {
   "cell_type": "raw",
   "metadata": {},
   "source": [
    "%load_ext autoreload\n",
    "%autoreload 2"
   ]
  },
  {
   "cell_type": "code",
   "execution_count": 1,
   "metadata": {},
   "outputs": [],
   "source": [
    "import os\n",
    "import random\n",
    "import pickle\n",
    "import numpy as np\n",
    "import pandas as pd\n",
    "from tqdm import tqdm_notebook as tqdm\n",
    "from sklearn.metrics import f1_score, accuracy_score, roc_auc_score, balanced_accuracy_score, confusion_matrix\n",
    "from sklearn.utils import resample\n",
    "from sklearn.model_selection import train_test_split\n",
    "\n",
    "import matplotlib.pyplot as plt\n",
    "%matplotlib inline"
   ]
  },
  {
   "cell_type": "code",
   "execution_count": 2,
   "metadata": {},
   "outputs": [],
   "source": [
    "import torch\n",
    "import torch.nn as nn\n",
    "from torch import Tensor\n",
    "import torch.nn.functional as F\n",
    "from torch.backends import cudnn\n",
    "cudnn.deterministic = True\n",
    "cudnn.benchmark = False"
   ]
  },
  {
   "cell_type": "code",
   "execution_count": 3,
   "metadata": {},
   "outputs": [],
   "source": [
    "from option import get_option, parser\n",
    "from trainer import Trainer\n",
    "from utils import save_option\n",
    "import data_loader\n",
    "import models"
   ]
  },
  {
   "cell_type": "code",
   "execution_count": 4,
   "metadata": {},
   "outputs": [],
   "source": [
    "import logging\n",
    "logging.basicConfig(format='%(asctime)s - %(levelname)s - %(name)s -   %(message)s',\n",
    "                    datefmt='%m/%d/%Y %H:%M:%S',\n",
    "                    level=logging.INFO)\n",
    "#logging.getLogger().setLevel(logging.INFO)\n",
    "logger = logging.getLogger(__name__)\n",
    "\n",
    "import warnings\n",
    "warnings.filterwarnings(\"ignore\")\n",
    "with warnings.catch_warnings():\n",
    "    warnings.filterwarnings(\"ignore\",category=DeprecationWarning)"
   ]
  },
  {
   "cell_type": "code",
   "execution_count": 5,
   "metadata": {},
   "outputs": [],
   "source": [
    "def set_seed(seed=87):\n",
    "    random.seed(seed)\n",
    "    np.random.seed(seed)\n",
    "    torch.manual_seed(seed)\n",
    "    torch.cuda.manual_seed_all(seed)\n",
    "set_seed(87)"
   ]
  },
  {
   "cell_type": "code",
   "execution_count": 6,
   "metadata": {},
   "outputs": [],
   "source": [
    "from urlnet_utils import *"
   ]
  },
  {
   "cell_type": "code",
   "execution_count": 7,
   "metadata": {},
   "outputs": [],
   "source": [
    "min_word_freq = 20\n",
    "max_len_words = 200\n",
    "max_len_chars = 200\n",
    "max_len_subwords = 20\n",
    "delimit_mode = 1\n",
    "dev_pct = 0.01"
   ]
  },
  {
   "cell_type": "code",
   "execution_count": 8,
   "metadata": {},
   "outputs": [
    {
     "name": "stderr",
     "output_type": "stream",
     "text": [
      "11/01/2019 05:12:00 - WARNING - tensorflow -   From /host/Proxy/learning-not-to-learn/urlnet_utils.py:113: VocabularyProcessor.__init__ (from tensorflow.contrib.learn.python.learn.preprocessing.text) is deprecated and will be removed in a future version.\n",
      "Instructions for updating:\n",
      "Please use tensorflow/transform or tf.data.\n",
      "11/01/2019 05:12:00 - WARNING - tensorflow -   From /usr/local/lib/python3.5/dist-packages/tensorflow/contrib/learn/python/learn/preprocessing/text.py:154: CategoricalVocabulary.__init__ (from tensorflow.contrib.learn.python.learn.preprocessing.categorical_vocabulary) is deprecated and will be removed in a future version.\n",
      "Instructions for updating:\n",
      "Please use tensorflow/transform or tf.data.\n",
      "11/01/2019 05:12:00 - WARNING - tensorflow -   From /usr/local/lib/python3.5/dist-packages/tensorflow/contrib/learn/python/learn/preprocessing/text.py:170: tokenizer (from tensorflow.contrib.learn.python.learn.preprocessing.text) is deprecated and will be removed in a future version.\n",
      "Instructions for updating:\n",
      "Please use tensorflow/transform or tf.data.\n"
     ]
    },
    {
     "name": "stdout",
     "output_type": "stream",
     "text": [
      "Finished build vocabulary and mapping to x in 2.758134365081787\n",
      "Size of word vocabulary: 1676\n",
      "Number of words with freq >=20: 1676\n",
      "Finished build vocabulary and mapping to x in 2.561713218688965\n",
      "Size of word vocabulary: 63443\n",
      "Processing #url 0\n",
      "Size of ngram vocabulary: 131\n",
      "Size of word vocabulary: 1733\n",
      "Index of <UNKNOWN> word: 4\n",
      "Overall Mal/Ben rate: 23613/23613\n",
      "(46754, 200) (472, 200)\n"
     ]
    }
   ],
   "source": [
    "urls, labels = read_data(\"../URLNet/train_10000.txt\")\n",
    "\n",
    "high_freq_words = None\n",
    "if min_word_freq > 0:\n",
    "    x1, word_reverse_dict = get_word_vocab(urls, max_len_words, min_word_freq) \n",
    "    high_freq_words = sorted(list(word_reverse_dict.values()))\n",
    "    print(\"Number of words with freq >={}: {}\".format(min_word_freq, len(high_freq_words)))\n",
    "\n",
    "x, word_reverse_dict = get_word_vocab(urls, max_len_words)\n",
    "word_x = get_words(x, word_reverse_dict, delimit_mode, urls)\n",
    "ngramed_id_x, ngrams_dict, worded_id_x, words_dict = ngram_id_x(word_x, max_len_subwords, high_freq_words)\n",
    "reverse_dict = {words_dict[i]:i for i in words_dict}\n",
    "#chars_dict = ngrams_dict\n",
    "#chared_id_x = char_id_x(urls, chars_dict, max_len_chars)\n",
    "print(\"Overall Mal/Ben rate: {}/{}\".format(np.sum(labels==1), np.sum(labels==0)))\n",
    "\n",
    "########  shuffle & split  ######\n",
    "\n",
    "shuffle_idx = np.random.permutation(np.arange(len(labels)))\n",
    "train, test = prep_train_test(len(labels), dev_pct)\n",
    "#y_train, y_test = to_categorical(labels[train], nb_classes=2), to_categorical(labels[test], nb_classes=2)\n",
    "y_train, y_val = labels[train], labels[test]\n",
    "\n",
    "#x_train_char = ngramed_id_x[train]\n",
    "#x_val_char = ngramed_id_x[test]\n",
    "x_train_word = pad_seq_in_word(worded_id_x[train], max_len_words)\n",
    "x_val_word = pad_seq_in_word(worded_id_x[test], max_len_words)\n",
    "#x_train_char_seq = pad_seq_in_word(chared_id_x[train], max_len_chars)\n",
    "#x_val_char_seq = pad_seq_in_word(chared_id_x[test], max_len_chars)\n",
    "print(x_train_word.shape, x_val_word.shape)\n",
    "#print(x_train_char_seq.shape, x_val_char_seq.shape)"
   ]
  },
  {
   "cell_type": "code",
   "execution_count": 9,
   "metadata": {},
   "outputs": [
    {
     "data": {
      "text/plain": [
       "<matplotlib.axes._subplots.AxesSubplot at 0x7f33e0a33ac8>"
      ]
     },
     "execution_count": 9,
     "metadata": {},
     "output_type": "execute_result"
    },
    {
     "data": {
      "image/png": "[encoded data removed]",
      "text/plain": [
       "<Figure size 432x288 with 1 Axes>"
      ]
     },
     "metadata": {
      "needs_background": "light"
     },
     "output_type": "display_data"
    }
   ],
   "source": [
    "# from pandarallel import pandarallel\n",
    "# pandarallel.initialize(nb_workers=1)\n",
    "\n",
    "def build_word_ratio():\n",
    "    df_tmp = pd.DataFrame({'token':word_x, \"label\":labels})\n",
    "    word_mal_ratio = dict()\n",
    "\n",
    "    for word in tqdm(words_dict):\n",
    "        df_tmp['exist'] = df_tmp['token'].map(lambda x:word in x)\n",
    "        cnt = len(df_tmp.query('exist == True & label == 0'))\n",
    "        word_mal_ratio[word] = cnt / df_tmp.exist.sum()\n",
    "    return word_mal_ratio\n",
    "\n",
    "if not os.path.isfile(\"word_mal_ratio.pkl\"):\n",
    "    word_mal_ratio = build_word_ratio()\n",
    "    with open(\"word_mal_ratio.pkl\", \"wb\") as f:\n",
    "        pickle.dump(word_mal_ratio, f)\n",
    "else:\n",
    "    with open(\"word_mal_ratio.pkl\", \"rb\") as f:\n",
    "        word_mal_ratio = pickle.load(f)\n",
    "    if len(word_mal_ratio) < len(words_dict):\n",
    "        word_mal_ratio = build_word_ratio()\n",
    "        \n",
    "\n",
    "\n",
    "tmp = [word_mal_ratio[i] for i in word_mal_ratio]\n",
    "tmp = pd.DataFrame({'word_mal_ratio':tmp, 'word':[i for i in word_mal_ratio]})\n",
    "tmp.plot(kind='hist')"
   ]
  },
  {
   "cell_type": "code",
   "execution_count": 10,
   "metadata": {},
   "outputs": [],
   "source": [
    "tmp1 = words_dict\n",
    "tmp2 = ngrams_dict"
   ]
  },
  {
   "cell_type": "code",
   "execution_count": 11,
   "metadata": {},
   "outputs": [
    {
     "name": "stdout",
     "output_type": "stream",
     "text": [
      "Finished build vocabulary and mapping to x in 0.2624027729034424\n",
      "Size of word vocabulary: 10884\n",
      "Index of <UNKNOWN> word: 4\n",
      "Processing url #0\n",
      "Number of testing urls: 5248\n",
      "(5248, 200)\n"
     ]
    }
   ],
   "source": [
    "urls, labels = read_data(\"../URLNet/val_10000.txt\")\n",
    "x, word_reverse_dict = get_word_vocab(urls, max_len_words) \n",
    "word_x = get_words(x, word_reverse_dict, delimit_mode, urls) \n",
    "ngramed_id_x, worded_id_x = ngram_id_x_from_dict(word_x, max_len_subwords, ngrams_dict, words_dict) \n",
    "#chared_id_x = char_id_x(urls, chars_dict, max_len_chars)\n",
    "print(\"Number of testing urls: {}\".format(len(labels)))\n",
    "\n",
    "y_test = labels\n",
    "#x_test_char = ngramed_id_x\n",
    "x_test_word = pad_seq_in_word(worded_id_x, max_len_words)\n",
    "#x_test_char_seq = pad_seq_in_word(chared_id_x, max_len_chars)\n",
    "print(x_test_word.shape)\n",
    "#print(x_test_char_seq.shape, x_test_char_seq.shape)"
   ]
  },
  {
   "cell_type": "code",
   "execution_count": 12,
   "metadata": {},
   "outputs": [],
   "source": [
    "assert tmp1 == words_dict\n",
    "assert tmp2 == ngrams_dict"
   ]
  },
  {
   "cell_type": "code",
   "execution_count": 13,
   "metadata": {},
   "outputs": [
    {
     "name": "stdout",
     "output_type": "stream",
     "text": [
      "balance 132894 132894\n",
      "Finished build vocabulary and mapping to x in 6.818971157073975\n",
      "Size of word vocabulary: 186707\n",
      "Index of <UNKNOWN> word: 4\n",
      "Processing url #0\n",
      "Processing url #100000\n",
      "Number of testing urls: 132894\n",
      "(132894, 200)\n"
     ]
    }
   ],
   "source": [
    "urls, labels = read_data(\"../taipei/out.csv\")#\"../URLNet/test_10000.txt\"\n",
    "### balance ###\n",
    "n_subsample = min((labels==1).sum(), (labels==0).sum())\n",
    "murl = urls[labels==0]\n",
    "burl = urls[labels==1]\n",
    "np.random.shuffle(murl)\n",
    "np.random.shuffle(burl)\n",
    "urls = np.concatenate([murl[:n_subsample], burl[:n_subsample]])\n",
    "labels = np.array([0]*n_subsample+[1]*n_subsample)\n",
    "print(\"balance\", len(urls), len(labels))\n",
    "###\n",
    "x, word_reverse_dict = get_word_vocab(urls, max_len_words) \n",
    "word_x = get_words(x, word_reverse_dict, delimit_mode, urls) \n",
    "ngramed_id_x, worded_id_x = ngram_id_x_from_dict(word_x, max_len_subwords, ngrams_dict, words_dict)\n",
    "#chared_id_x = char_id_x(urls, chars_dict, max_len_chars)\n",
    "print(\"Number of testing urls: {}\".format(len(labels)))\n",
    "\n",
    "y_test2 = labels\n",
    "#x_test_char2 = ngramed_id_x\n",
    "x_test_word2 = pad_seq_in_word(worded_id_x, max_len_words)\n",
    "#x_test_char_seq2 = pad_seq_in_word(chared_id_x, max_len_chars)\n",
    "print(x_test_word2.shape)\n",
    "#print(x_test_char_seq2.shape, x_test_char_seq2.shape)"
   ]
  },
  {
   "cell_type": "code",
   "execution_count": 14,
   "metadata": {},
   "outputs": [],
   "source": [
    "assert tmp1 == words_dict\n",
    "assert tmp2 == ngrams_dict"
   ]
  },
  {
   "cell_type": "raw",
   "metadata": {},
   "source": [
    "# np.save(\"x_test_word2.npy\", x_test_word2, allow_pickle=True)\n",
    "# np.save(\"y_test2.npy\", y_test2, allow_pickle=True)\n",
    "\n",
    "x_test_word2 = np.load(\"x_test_word2.npy\", allow_pickle=True)\n",
    "y_test2 = np.load(\"y_test2.npy\", allow_pickle=True)"
   ]
  },
  {
   "cell_type": "code",
   "execution_count": 15,
   "metadata": {},
   "outputs": [],
   "source": [
    "emb_dim = 32\n",
    "l2_reg_lambda = 0.0\n",
    "emb_mode = 2\n",
    "filter_size = [3,4,5,6]\n",
    "batch_size = 128\n",
    "epochs = 5\n",
    "lr = 1e-3"
   ]
  },
  {
   "cell_type": "code",
   "execution_count": 16,
   "metadata": {},
   "outputs": [],
   "source": [
    "from torch.utils.data import Dataset, DataLoader\n",
    "class mydata(Dataset):\n",
    "    def __init__(self, X, Y):\n",
    "        self.X = X\n",
    "        self.Y = Y\n",
    "    def __len__(self):\n",
    "        return len(self.X)\n",
    "    def __getitem__(self, index):\n",
    "        return self.X[index], self.Y[index]\n",
    "\n",
    "idx = np.random.permutation(len(x_test_word2))[:30000]\n",
    "train_dataset = mydata(x_train_word, y_train)\n",
    "val_dataset = mydata(x_val_word, y_val)\n",
    "test_dataset1 = mydata(x_test_word, y_test)\n",
    "test_dataset2 = mydata(x_test_word2[idx], y_test2[idx])\n",
    "\n",
    "train_loader = DataLoader(train_dataset, batch_size=batch_size, shuffle=False)\n",
    "val_loader = DataLoader(val_dataset, batch_size=batch_size, shuffle=False)\n",
    "test_loader1 = DataLoader(test_dataset1, batch_size=batch_size, shuffle=False)\n",
    "test_loader2 = DataLoader(test_dataset2, batch_size=batch_size, shuffle=False)"
   ]
  },
  {
   "cell_type": "code",
   "execution_count": 17,
   "metadata": {},
   "outputs": [],
   "source": [
    "def accuracy_thresh_sum(y_pred:Tensor, y_true:Tensor, thresh:float=0.5, sigmoid:bool=True):\n",
    "    y_pred = F.sigmoid(y_pred)\n",
    "    return ((y_pred>thresh)==y_true.byte()).float().sum().item()\n",
    "\n",
    "def accuracy_thresh_score(y_true, y_pred, thresh:float=0.5):\n",
    "    return ((y_pred>0.5).astype(int) == y_true).mean()"
   ]
  },
  {
   "cell_type": "raw",
   "metadata": {},
   "source": [
    "model = models.WordCNN(\n",
    "            word_ngram_vocab_size = len(words_dict)+1,\n",
    "            emb_size=emb_dim,\n",
    "            word_seq_len=max_len_words,\n",
    "            l2_reg_lambda=l2_reg_lambda,\n",
    "            kernel_sizes=filter_size).cuda()\n",
    "\n",
    "print('paramters count', sum(p.numel() for p in model.parameters()))\n",
    "optimizer = torch.optim.Adam(model.parameters(), lr=1e-3, weight_decay=0.1)"
   ]
  },
  {
   "cell_type": "code",
   "execution_count": 18,
   "metadata": {},
   "outputs": [],
   "source": [
    "def step(model, optimizer, loader, train=True, message=\"\"):\n",
    "    loss_total = 0\n",
    "    all_logits = []\n",
    "    all_labels = []\n",
    "    \n",
    "    model.train() if train else model.eval()\n",
    "    mode = torch.enable_grad if train else torch.no_grad\n",
    "    \n",
    "    with mode():\n",
    "        for (data, label) in tqdm(loader, desc=message):\n",
    "            data, label = data.long().cuda(), label.long().cuda() # bce:float ce:long\n",
    "            logits = model(data).squeeze()\n",
    "            #loss = F.binary_cross_entropy_with_logits(logits, label, reduction=\"sum\")\n",
    "            loss = F.cross_entropy(F.softmax(logits, dim=1), label, reduction=\"sum\")\n",
    "            \n",
    "            if train:\n",
    "                loss.backward()\n",
    "                optimizer.step()\n",
    "                optimizer.zero_grad()\n",
    "            loss_total += loss.item()\n",
    "            all_labels.append(label.detach().cpu().numpy())\n",
    "            #F.sigmoid(logits).detach().cpu().numpy()\n",
    "            tmp = F.softmax(logits, dim=1).detach().cpu().numpy()[:, 1]\n",
    "            all_logits.append(tmp)\n",
    "            \n",
    "            \n",
    "    loss_total /= len(loader)\n",
    "    all_labels = np.hstack(all_labels)\n",
    "    all_logits = np.hstack(all_logits)\n",
    "    auc = roc_auc_score(all_labels, all_logits) if len(np.unique(all_labels)) > 1 else 0\n",
    "    acc = accuracy_thresh_score(all_labels, all_logits)\n",
    "    bacc = balanced_accuracy_score(all_labels, (all_logits>0.5).astype(int))\n",
    "    (tn, fp, fn, tp) = confusion_matrix(all_labels, (all_logits>0.5).astype(int)).ravel()\n",
    "    \n",
    "    #logger.info(message)\n",
    "    logger.info('Loss      : {}'.format(loss_total))\n",
    "    logger.info('Accuracy  : {}'.format(acc))\n",
    "    logger.info('balanceAcc: {}'.format(bacc))\n",
    "    logger.info('AUC       : {}'.format(auc))\n",
    "    logger.info('confusion : {}'.format((tn, fp, fn, tp)))\n",
    "    \n",
    "    \n",
    "    return {'loss':loss_total, 'acc':acc, 'auc':auc}"
   ]
  },
  {
   "cell_type": "code",
   "execution_count": 19,
   "metadata": {},
   "outputs": [],
   "source": [
    "# start straining\n",
    "def train(history, epochs):\n",
    "    for e in tqdm(range(epochs), desc=\"Epoch\"):\n",
    "        train_result =  step(model, optimizer, train_loader, train=True, message=\"Training :{}\".format(e))\n",
    "        valid_result = step(model, optimizer, val_loader, train=False, message=\"Validation :{}\".format(e))\n",
    "        test_result1 = step(model, optimizer, test_loader1, train=False, message=\"Test 1 :{}\".format(e))\n",
    "        test_result2 = step(model, optimizer, test_loader2, train=False, message=\"Test 2 :{}\".format(e))\n",
    "\n",
    "        history['train'].append(train_result)\n",
    "        history['valid'].append(valid_result)\n",
    "        history['test1'].append(test_result1)\n",
    "        history['test2'].append(test_result2)\n",
    "    return history\n",
    "    \n",
    "# history = {'train':[], 'valid':[], 'test1':[], 'test2':[]}\n",
    "# history = train(history)"
   ]
  },
  {
   "cell_type": "code",
   "execution_count": 20,
   "metadata": {},
   "outputs": [
    {
     "name": "stdout",
     "output_type": "stream",
     "text": [
      "paramters count 893250\n"
     ]
    },
    {
     "data": {
      "application/vnd.jupyter.widget-view+json": {
       "model_id": "17f1973536754b1ca57c3b93225f7982",
       "version_major": 2,
       "version_minor": 0
      },
      "text/plain": [
       "HBox(children=(IntProgress(value=0, description='Epoch', max=10, style=ProgressStyle(description_width='initia…"
      ]
     },
     "metadata": {},
     "output_type": "display_data"
    },
    {
     "data": {
      "application/vnd.jupyter.widget-view+json": {
       "model_id": "db8db7d25ec04cd0826c04600d65088a",
       "version_major": 2,
       "version_minor": 0
      },
      "text/plain": [
       "HBox(children=(IntProgress(value=0, description='Training :0', max=366, style=ProgressStyle(description_width=…"
      ]
     },
     "metadata": {},
     "output_type": "display_data"
    },
    {
     "name": "stderr",
     "output_type": "stream",
     "text": [
      "11/01/2019 05:14:07 - INFO - __main__ -   Loss      : 47.18767652355257\n",
      "11/01/2019 05:14:07 - INFO - __main__ -   Accuracy  : 0.9480900029943962\n",
      "11/01/2019 05:14:07 - INFO - __main__ -   balanceAcc: 0.9480930396770745\n",
      "11/01/2019 05:14:07 - INFO - __main__ -   AUC       : 0.982730431699499\n",
      "11/01/2019 05:14:07 - INFO - __main__ -   confusion : (22245, 1115, 1312, 22082)\n"
     ]
    },
    {
     "name": "stdout",
     "output_type": "stream",
     "text": [
      "\n"
     ]
    },
    {
     "data": {
      "application/vnd.jupyter.widget-view+json": {
       "model_id": "a6e179dd636848bdb61f490c69022773",
       "version_major": 2,
       "version_minor": 0
      },
      "text/plain": [
       "HBox(children=(IntProgress(value=0, description='Validation :0', max=4, style=ProgressStyle(description_width=…"
      ]
     },
     "metadata": {},
     "output_type": "display_data"
    },
    {
     "name": "stderr",
     "output_type": "stream",
     "text": [
      "11/01/2019 05:14:07 - INFO - __main__ -   Loss      : 40.27152490615845\n",
      "11/01/2019 05:14:07 - INFO - __main__ -   Accuracy  : 0.9745762711864406\n",
      "11/01/2019 05:14:07 - INFO - __main__ -   balanceAcc: 0.9741368419152814\n",
      "11/01/2019 05:14:07 - INFO - __main__ -   AUC       : 0.9895139603299222\n",
      "11/01/2019 05:14:07 - INFO - __main__ -   confusion : (248, 5, 7, 212)\n"
     ]
    },
    {
     "name": "stdout",
     "output_type": "stream",
     "text": [
      "\n"
     ]
    },
    {
     "data": {
      "application/vnd.jupyter.widget-view+json": {
       "model_id": "1968a4a2272d433f81ed5a0875bb251b",
       "version_major": 2,
       "version_minor": 0
      },
      "text/plain": [
       "HBox(children=(IntProgress(value=0, description='Test 1 :0', max=41, style=ProgressStyle(description_width='in…"
      ]
     },
     "metadata": {},
     "output_type": "display_data"
    },
    {
     "name": "stderr",
     "output_type": "stream",
     "text": [
      "11/01/2019 05:14:08 - INFO - __main__ -   Loss      : 43.94659581998499\n",
      "11/01/2019 05:14:08 - INFO - __main__ -   Accuracy  : 0.9723704268292683\n",
      "11/01/2019 05:14:08 - INFO - __main__ -   balanceAcc: 0.9723704268292683\n",
      "11/01/2019 05:14:08 - INFO - __main__ -   AUC       : 0.9927001807889649\n",
      "11/01/2019 05:14:08 - INFO - __main__ -   confusion : (2615, 9, 136, 2488)\n"
     ]
    },
    {
     "name": "stdout",
     "output_type": "stream",
     "text": [
      "\n"
     ]
    },
    {
     "data": {
      "application/vnd.jupyter.widget-view+json": {
       "model_id": "db79c976aa3243bdb377096bbf2a58d9",
       "version_major": 2,
       "version_minor": 0
      },
      "text/plain": [
       "HBox(children=(IntProgress(value=0, description='Test 2 :0', max=235, style=ProgressStyle(description_width='i…"
      ]
     },
     "metadata": {},
     "output_type": "display_data"
    },
    {
     "name": "stderr",
     "output_type": "stream",
     "text": [
      "11/01/2019 05:14:12 - INFO - __main__ -   Loss      : 97.74875616520009\n",
      "11/01/2019 05:14:12 - INFO - __main__ -   Accuracy  : 0.5378\n",
      "11/01/2019 05:14:12 - INFO - __main__ -   balanceAcc: 0.5384999549621163\n",
      "11/01/2019 05:14:12 - INFO - __main__ -   AUC       : 0.6480434258443213\n",
      "11/01/2019 05:14:12 - INFO - __main__ -   confusion : (14902, 75, 13791, 1232)\n"
     ]
    },
    {
     "name": "stdout",
     "output_type": "stream",
     "text": [
      "\n"
     ]
    },
    {
     "data": {
      "application/vnd.jupyter.widget-view+json": {
       "model_id": "a71b932459f74fe1a39405c21d240d35",
       "version_major": 2,
       "version_minor": 0
      },
      "text/plain": [
       "HBox(children=(IntProgress(value=0, description='Training :1', max=366, style=ProgressStyle(description_width=…"
      ]
     },
     "metadata": {},
     "output_type": "display_data"
    },
    {
     "name": "stderr",
     "output_type": "stream",
     "text": [
      "11/01/2019 05:14:39 - INFO - __main__ -   Loss      : 43.6125289260364\n",
      "11/01/2019 05:14:39 - INFO - __main__ -   Accuracy  : 0.9776917482996107\n",
      "11/01/2019 05:14:39 - INFO - __main__ -   balanceAcc: 0.977693960721693\n",
      "11/01/2019 05:14:39 - INFO - __main__ -   AUC       : 0.993407453731843\n",
      "11/01/2019 05:14:39 - INFO - __main__ -   confusion : (22910, 450, 593, 22801)\n"
     ]
    },
    {
     "name": "stdout",
     "output_type": "stream",
     "text": [
      "\n"
     ]
    },
    {
     "data": {
      "application/vnd.jupyter.widget-view+json": {
       "model_id": "7dc889efaf42408b83a18a7d5991b250",
       "version_major": 2,
       "version_minor": 0
      },
      "text/plain": [
       "HBox(children=(IntProgress(value=0, description='Validation :1', max=4, style=ProgressStyle(description_width=…"
      ]
     },
     "metadata": {},
     "output_type": "display_data"
    },
    {
     "name": "stderr",
     "output_type": "stream",
     "text": [
      "11/01/2019 05:14:39 - INFO - __main__ -   Loss      : 40.5497727394104\n",
      "11/01/2019 05:14:39 - INFO - __main__ -   Accuracy  : 0.9703389830508474\n",
      "11/01/2019 05:14:39 - INFO - __main__ -   balanceAcc: 0.9701842727453209\n",
      "11/01/2019 05:14:39 - INFO - __main__ -   AUC       : 0.9905066146876749\n",
      "11/01/2019 05:14:39 - INFO - __main__ -   confusion : (246, 7, 7, 212)\n"
     ]
    },
    {
     "name": "stdout",
     "output_type": "stream",
     "text": [
      "\n"
     ]
    },
    {
     "data": {
      "application/vnd.jupyter.widget-view+json": {
       "model_id": "5c73be1335914a188e422b582f1faf12",
       "version_major": 2,
       "version_minor": 0
      },
      "text/plain": [
       "HBox(children=(IntProgress(value=0, description='Test 1 :1', max=41, style=ProgressStyle(description_width='in…"
      ]
     },
     "metadata": {},
     "output_type": "display_data"
    },
    {
     "name": "stderr",
     "output_type": "stream",
     "text": [
      "11/01/2019 05:14:39 - INFO - __main__ -   Loss      : 44.2501363056462\n",
      "11/01/2019 05:14:39 - INFO - __main__ -   Accuracy  : 0.9693216463414634\n",
      "11/01/2019 05:14:39 - INFO - __main__ -   balanceAcc: 0.9693216463414634\n",
      "11/01/2019 05:14:39 - INFO - __main__ -   AUC       : 0.9917577485964456\n",
      "11/01/2019 05:14:39 - INFO - __main__ -   confusion : (2572, 52, 109, 2515)\n"
     ]
    },
    {
     "name": "stdout",
     "output_type": "stream",
     "text": [
      "\n"
     ]
    },
    {
     "data": {
      "application/vnd.jupyter.widget-view+json": {
       "model_id": "58e385eff0ab4840af9c4b940932c11d",
       "version_major": 2,
       "version_minor": 0
      },
      "text/plain": [
       "HBox(children=(IntProgress(value=0, description='Test 2 :1', max=235, style=ProgressStyle(description_width='i…"
      ]
     },
     "metadata": {},
     "output_type": "display_data"
    },
    {
     "name": "stderr",
     "output_type": "stream",
     "text": [
      "11/01/2019 05:14:43 - INFO - __main__ -   Loss      : 94.6621630729513\n",
      "11/01/2019 05:14:43 - INFO - __main__ -   Accuracy  : 0.5561666666666667\n",
      "11/01/2019 05:14:43 - INFO - __main__ -   balanceAcc: 0.5568325736196953\n",
      "11/01/2019 05:14:43 - INFO - __main__ -   AUC       : 0.6579650225044307\n",
      "11/01/2019 05:14:43 - INFO - __main__ -   confusion : (14844, 133, 13182, 1841)\n"
     ]
    },
    {
     "name": "stdout",
     "output_type": "stream",
     "text": [
      "\n"
     ]
    },
    {
     "data": {
      "application/vnd.jupyter.widget-view+json": {
       "model_id": "8cb92447f2ef4914a642bac55502c93f",
       "version_major": 2,
       "version_minor": 0
      },
      "text/plain": [
       "HBox(children=(IntProgress(value=0, description='Training :2', max=366, style=ProgressStyle(description_width=…"
      ]
     },
     "metadata": {},
     "output_type": "display_data"
    },
    {
     "name": "stderr",
     "output_type": "stream",
     "text": [
      "11/01/2019 05:15:10 - INFO - __main__ -   Loss      : 43.37221150841218\n",
      "11/01/2019 05:15:10 - INFO - __main__ -   Accuracy  : 0.9805578132352312\n",
      "11/01/2019 05:15:10 - INFO - __main__ -   balanceAcc: 0.9805599649570608\n",
      "11/01/2019 05:15:10 - INFO - __main__ -   AUC       : 0.9943550435086974\n",
      "11/01/2019 05:15:10 - INFO - __main__ -   confusion : (22975, 385, 524, 22870)\n"
     ]
    },
    {
     "name": "stdout",
     "output_type": "stream",
     "text": [
      "\n"
     ]
    },
    {
     "data": {
      "application/vnd.jupyter.widget-view+json": {
       "model_id": "7623980e88c243ca8d8353b783885ede",
       "version_major": 2,
       "version_minor": 0
      },
      "text/plain": [
       "HBox(children=(IntProgress(value=0, description='Validation :2', max=4, style=ProgressStyle(description_width=…"
      ]
     },
     "metadata": {},
     "output_type": "display_data"
    },
    {
     "name": "stderr",
     "output_type": "stream",
     "text": [
      "11/01/2019 05:15:10 - INFO - __main__ -   Loss      : 40.563055992126465\n",
      "11/01/2019 05:15:10 - INFO - __main__ -   Accuracy  : 0.972457627118644\n",
      "11/01/2019 05:15:10 - INFO - __main__ -   balanceAcc: 0.9724673777681521\n",
      "11/01/2019 05:15:10 - INFO - __main__ -   AUC       : 0.9922031512263794\n",
      "11/01/2019 05:15:10 - INFO - __main__ -   confusion : (246, 7, 6, 213)\n"
     ]
    },
    {
     "name": "stdout",
     "output_type": "stream",
     "text": [
      "\n"
     ]
    },
    {
     "data": {
      "application/vnd.jupyter.widget-view+json": {
       "model_id": "afc1972a70ac4eb3aff18ccc7f01e397",
       "version_major": 2,
       "version_minor": 0
      },
      "text/plain": [
       "HBox(children=(IntProgress(value=0, description='Test 1 :2', max=41, style=ProgressStyle(description_width='in…"
      ]
     },
     "metadata": {},
     "output_type": "display_data"
    },
    {
     "name": "stderr",
     "output_type": "stream",
     "text": [
      "11/01/2019 05:15:11 - INFO - __main__ -   Loss      : 44.03846294123952\n",
      "11/01/2019 05:15:11 - INFO - __main__ -   Accuracy  : 0.977515243902439\n",
      "11/01/2019 05:15:11 - INFO - __main__ -   balanceAcc: 0.977515243902439\n",
      "11/01/2019 05:15:11 - INFO - __main__ -   AUC       : 0.9950727454825997\n",
      "11/01/2019 05:15:11 - INFO - __main__ -   confusion : (2601, 23, 95, 2529)\n"
     ]
    },
    {
     "name": "stdout",
     "output_type": "stream",
     "text": [
      "\n"
     ]
    },
    {
     "data": {
      "application/vnd.jupyter.widget-view+json": {
       "model_id": "440e8a93da98425096d06b8beb905e94",
       "version_major": 2,
       "version_minor": 0
      },
      "text/plain": [
       "HBox(children=(IntProgress(value=0, description='Test 2 :2', max=235, style=ProgressStyle(description_width='i…"
      ]
     },
     "metadata": {},
     "output_type": "display_data"
    },
    {
     "name": "stderr",
     "output_type": "stream",
     "text": [
      "11/01/2019 05:15:15 - INFO - __main__ -   Loss      : 92.49458517520986\n",
      "11/01/2019 05:15:15 - INFO - __main__ -   Accuracy  : 0.5467333333333333\n",
      "11/01/2019 05:15:15 - INFO - __main__ -   balanceAcc: 0.5474073447932684\n",
      "11/01/2019 05:15:15 - INFO - __main__ -   AUC       : 0.6590755917821691\n",
      "11/01/2019 05:15:15 - INFO - __main__ -   confusion : (14782, 195, 13403, 1620)\n"
     ]
    },
    {
     "name": "stdout",
     "output_type": "stream",
     "text": [
      "\n"
     ]
    },
    {
     "data": {
      "application/vnd.jupyter.widget-view+json": {
       "model_id": "b2f11dca039143e09518b00cce9436b6",
       "version_major": 2,
       "version_minor": 0
      },
      "text/plain": [
       "HBox(children=(IntProgress(value=0, description='Training :3', max=366, style=ProgressStyle(description_width=…"
      ]
     },
     "metadata": {},
     "output_type": "display_data"
    },
    {
     "name": "stderr",
     "output_type": "stream",
     "text": [
      "11/01/2019 05:15:43 - INFO - __main__ -   Loss      : 43.36332018127858\n",
      "11/01/2019 05:15:43 - INFO - __main__ -   Accuracy  : 0.9815416862728322\n",
      "11/01/2019 05:15:43 - INFO - __main__ -   balanceAcc: 0.9815441184866509\n",
      "11/01/2019 05:15:43 - INFO - __main__ -   AUC       : 0.9946960499326017\n",
      "11/01/2019 05:15:43 - INFO - __main__ -   confusion : (23007, 353, 510, 22884)\n"
     ]
    },
    {
     "name": "stdout",
     "output_type": "stream",
     "text": [
      "\n"
     ]
    },
    {
     "data": {
      "application/vnd.jupyter.widget-view+json": {
       "model_id": "cc8f2a441eec4edeb1a8cab7f935679a",
       "version_major": 2,
       "version_minor": 0
      },
      "text/plain": [
       "HBox(children=(IntProgress(value=0, description='Validation :3', max=4, style=ProgressStyle(description_width=…"
      ]
     },
     "metadata": {},
     "output_type": "display_data"
    },
    {
     "name": "stderr",
     "output_type": "stream",
     "text": [
      "11/01/2019 05:15:44 - INFO - __main__ -   Loss      : 41.684486389160156\n",
      "11/01/2019 05:15:44 - INFO - __main__ -   Accuracy  : 0.9703389830508474\n",
      "11/01/2019 05:15:44 - INFO - __main__ -   balanceAcc: 0.9707979136210225\n",
      "11/01/2019 05:15:44 - INFO - __main__ -   AUC       : 0.992816792102081\n",
      "11/01/2019 05:15:44 - INFO - __main__ -   confusion : (244, 9, 5, 214)\n"
     ]
    },
    {
     "name": "stdout",
     "output_type": "stream",
     "text": [
      "\n"
     ]
    },
    {
     "data": {
      "application/vnd.jupyter.widget-view+json": {
       "model_id": "c1d48ad4447f45b58cf2661a8b03e4f4",
       "version_major": 2,
       "version_minor": 0
      },
      "text/plain": [
       "HBox(children=(IntProgress(value=0, description='Test 1 :3', max=41, style=ProgressStyle(description_width='in…"
      ]
     },
     "metadata": {},
     "output_type": "display_data"
    },
    {
     "name": "stderr",
     "output_type": "stream",
     "text": [
      "11/01/2019 05:15:44 - INFO - __main__ -   Loss      : 45.235231259974036\n",
      "11/01/2019 05:15:44 - INFO - __main__ -   Accuracy  : 0.9660823170731707\n",
      "11/01/2019 05:15:44 - INFO - __main__ -   balanceAcc: 0.9660823170731707\n",
      "11/01/2019 05:15:44 - INFO - __main__ -   AUC       : 0.9951373752137864\n",
      "11/01/2019 05:15:44 - INFO - __main__ -   confusion : (2533, 91, 87, 2537)\n"
     ]
    },
    {
     "name": "stdout",
     "output_type": "stream",
     "text": [
      "\n"
     ]
    },
    {
     "data": {
      "application/vnd.jupyter.widget-view+json": {
       "model_id": "af1774f66a604ded855f406eef073351",
       "version_major": 2,
       "version_minor": 0
      },
      "text/plain": [
       "HBox(children=(IntProgress(value=0, description='Test 2 :3', max=235, style=ProgressStyle(description_width='i…"
      ]
     },
     "metadata": {},
     "output_type": "display_data"
    },
    {
     "name": "stderr",
     "output_type": "stream",
     "text": [
      "11/01/2019 05:15:47 - INFO - __main__ -   Loss      : 88.60273677744765\n",
      "11/01/2019 05:15:47 - INFO - __main__ -   Accuracy  : 0.5725666666666667\n",
      "11/01/2019 05:15:47 - INFO - __main__ -   balanceAcc: 0.573173118704799\n",
      "11/01/2019 05:15:47 - INFO - __main__ -   AUC       : 0.6573676299887834\n",
      "11/01/2019 05:15:47 - INFO - __main__ -   confusion : (14508, 469, 12354, 2669)\n"
     ]
    },
    {
     "name": "stdout",
     "output_type": "stream",
     "text": [
      "\n"
     ]
    },
    {
     "data": {
      "application/vnd.jupyter.widget-view+json": {
       "model_id": "82efa17b5175496ca94ab17d6941ca06",
       "version_major": 2,
       "version_minor": 0
      },
      "text/plain": [
       "HBox(children=(IntProgress(value=0, description='Training :4', max=366, style=ProgressStyle(description_width=…"
      ]
     },
     "metadata": {},
     "output_type": "display_data"
    },
    {
     "name": "stderr",
     "output_type": "stream",
     "text": [
      "11/01/2019 05:16:16 - INFO - __main__ -   Loss      : 43.5052117467578\n",
      "11/01/2019 05:16:16 - INFO - __main__ -   Accuracy  : 0.9807075330453009\n",
      "11/01/2019 05:16:16 - INFO - __main__ -   balanceAcc: 0.9807107580710895\n",
      "11/01/2019 05:16:16 - INFO - __main__ -   AUC       : 0.9949326616867573\n",
      "11/01/2019 05:16:16 - INFO - __main__ -   confusion : (23013, 347, 555, 22839)\n"
     ]
    },
    {
     "name": "stdout",
     "output_type": "stream",
     "text": [
      "\n"
     ]
    },
    {
     "data": {
      "application/vnd.jupyter.widget-view+json": {
       "model_id": "18618414e4974fb2bc392c345ecacd49",
       "version_major": 2,
       "version_minor": 0
      },
      "text/plain": [
       "HBox(children=(IntProgress(value=0, description='Validation :4', max=4, style=ProgressStyle(description_width=…"
      ]
     },
     "metadata": {},
     "output_type": "display_data"
    },
    {
     "name": "stderr",
     "output_type": "stream",
     "text": [
      "11/01/2019 05:16:16 - INFO - __main__ -   Loss      : 40.47451305389404\n",
      "11/01/2019 05:16:16 - INFO - __main__ -   Accuracy  : 0.9788135593220338\n",
      "11/01/2019 05:16:16 - INFO - __main__ -   balanceAcc: 0.9783962315230927\n",
      "11/01/2019 05:16:16 - INFO - __main__ -   AUC       : 0.9941704116808345\n",
      "11/01/2019 05:16:16 - INFO - __main__ -   confusion : (249, 4, 6, 213)\n"
     ]
    },
    {
     "name": "stdout",
     "output_type": "stream",
     "text": [
      "\n"
     ]
    },
    {
     "data": {
      "application/vnd.jupyter.widget-view+json": {
       "model_id": "b8259b66729b4463a1cae94e2962bac9",
       "version_major": 2,
       "version_minor": 0
      },
      "text/plain": [
       "HBox(children=(IntProgress(value=0, description='Test 1 :4', max=41, style=ProgressStyle(description_width='in…"
      ]
     },
     "metadata": {},
     "output_type": "display_data"
    },
    {
     "name": "stderr",
     "output_type": "stream",
     "text": [
      "11/01/2019 05:16:17 - INFO - __main__ -   Loss      : 44.30905570053473\n",
      "11/01/2019 05:16:17 - INFO - __main__ -   Accuracy  : 0.9763719512195121\n",
      "11/01/2019 05:16:17 - INFO - __main__ -   balanceAcc: 0.9763719512195121\n",
      "11/01/2019 05:16:17 - INFO - __main__ -   AUC       : 0.9953515973564843\n",
      "11/01/2019 05:16:17 - INFO - __main__ -   confusion : (2602, 22, 102, 2522)\n"
     ]
    },
    {
     "name": "stdout",
     "output_type": "stream",
     "text": [
      "\n"
     ]
    },
    {
     "data": {
      "application/vnd.jupyter.widget-view+json": {
       "model_id": "4695f0ab18874d4790f7f6847b9d72bb",
       "version_major": 2,
       "version_minor": 0
      },
      "text/plain": [
       "HBox(children=(IntProgress(value=0, description='Test 2 :4', max=235, style=ProgressStyle(description_width='i…"
      ]
     },
     "metadata": {},
     "output_type": "display_data"
    },
    {
     "name": "stderr",
     "output_type": "stream",
     "text": [
      "11/01/2019 05:16:21 - INFO - __main__ -   Loss      : 90.40737406953852\n",
      "11/01/2019 05:16:21 - INFO - __main__ -   Accuracy  : 0.5477333333333333\n",
      "11/01/2019 05:16:21 - INFO - __main__ -   balanceAcc: 0.5484066315871472\n",
      "11/01/2019 05:16:21 - INFO - __main__ -   AUC       : 0.673744237380896\n",
      "11/01/2019 05:16:21 - INFO - __main__ -   confusion : (14790, 187, 13381, 1642)\n"
     ]
    },
    {
     "name": "stdout",
     "output_type": "stream",
     "text": [
      "\n"
     ]
    },
    {
     "data": {
      "application/vnd.jupyter.widget-view+json": {
       "model_id": "b777a1bf533e4504a9cf453b9170d110",
       "version_major": 2,
       "version_minor": 0
      },
      "text/plain": [
       "HBox(children=(IntProgress(value=0, description='Training :5', max=366, style=ProgressStyle(description_width=…"
      ]
     },
     "metadata": {},
     "output_type": "display_data"
    },
    {
     "name": "stderr",
     "output_type": "stream",
     "text": [
      "11/01/2019 05:16:47 - INFO - __main__ -   Loss      : 43.35179129063757\n",
      "11/01/2019 05:16:47 - INFO - __main__ -   Accuracy  : 0.9831672156393035\n",
      "11/01/2019 05:16:47 - INFO - __main__ -   balanceAcc: 0.9831715774065707\n",
      "11/01/2019 05:16:47 - INFO - __main__ -   AUC       : 0.9958864675669091\n",
      "11/01/2019 05:16:47 - INFO - __main__ -   confusion : (23107, 253, 534, 22860)\n"
     ]
    },
    {
     "name": "stdout",
     "output_type": "stream",
     "text": [
      "\n"
     ]
    },
    {
     "data": {
      "application/vnd.jupyter.widget-view+json": {
       "model_id": "74c7812ff85644eaba9cc066087e45ac",
       "version_major": 2,
       "version_minor": 0
      },
      "text/plain": [
       "HBox(children=(IntProgress(value=0, description='Validation :5', max=4, style=ProgressStyle(description_width=…"
      ]
     },
     "metadata": {},
     "output_type": "display_data"
    },
    {
     "name": "stderr",
     "output_type": "stream",
     "text": [
      "11/01/2019 05:16:48 - INFO - __main__ -   Loss      : 40.30518579483032\n",
      "11/01/2019 05:16:48 - INFO - __main__ -   Accuracy  : 0.9788135593220338\n",
      "11/01/2019 05:16:48 - INFO - __main__ -   balanceAcc: 0.9783962315230927\n",
      "11/01/2019 05:16:48 - INFO - __main__ -   AUC       : 0.993574819066183\n",
      "11/01/2019 05:16:48 - INFO - __main__ -   confusion : (249, 4, 6, 213)\n"
     ]
    },
    {
     "name": "stdout",
     "output_type": "stream",
     "text": [
      "\n"
     ]
    },
    {
     "data": {
      "application/vnd.jupyter.widget-view+json": {
       "model_id": "f001799f6bd748319194ad801ab65daa",
       "version_major": 2,
       "version_minor": 0
      },
      "text/plain": [
       "HBox(children=(IntProgress(value=0, description='Test 1 :5', max=41, style=ProgressStyle(description_width='in…"
      ]
     },
     "metadata": {},
     "output_type": "display_data"
    },
    {
     "name": "stderr",
     "output_type": "stream",
     "text": [
      "11/01/2019 05:16:48 - INFO - __main__ -   Loss      : 44.175755849698696\n",
      "11/01/2019 05:16:48 - INFO - __main__ -   Accuracy  : 0.9767530487804879\n",
      "11/01/2019 05:16:48 - INFO - __main__ -   balanceAcc: 0.9767530487804879\n",
      "11/01/2019 05:16:48 - INFO - __main__ -   AUC       : 0.9957003074341909\n",
      "11/01/2019 05:16:48 - INFO - __main__ -   confusion : (2607, 17, 105, 2519)\n"
     ]
    },
    {
     "name": "stdout",
     "output_type": "stream",
     "text": [
      "\n"
     ]
    },
    {
     "data": {
      "application/vnd.jupyter.widget-view+json": {
       "model_id": "422d41ab6f504380bf450ddd5e4886a2",
       "version_major": 2,
       "version_minor": 0
      },
      "text/plain": [
       "HBox(children=(IntProgress(value=0, description='Test 2 :5', max=235, style=ProgressStyle(description_width='i…"
      ]
     },
     "metadata": {},
     "output_type": "display_data"
    },
    {
     "name": "stderr",
     "output_type": "stream",
     "text": [
      "11/01/2019 05:16:52 - INFO - __main__ -   Loss      : 92.22519841295608\n",
      "11/01/2019 05:16:52 - INFO - __main__ -   Accuracy  : 0.5437333333333333\n",
      "11/01/2019 05:16:52 - INFO - __main__ -   balanceAcc: 0.5444186844332625\n",
      "11/01/2019 05:16:52 - INFO - __main__ -   AUC       : 0.6686022875138227\n",
      "11/01/2019 05:16:52 - INFO - __main__ -   confusion : (14848, 129, 13559, 1464)\n"
     ]
    },
    {
     "name": "stdout",
     "output_type": "stream",
     "text": [
      "\n"
     ]
    },
    {
     "data": {
      "application/vnd.jupyter.widget-view+json": {
       "model_id": "c1b1bc1724db4f7f9205769fca60e969",
       "version_major": 2,
       "version_minor": 0
      },
      "text/plain": [
       "HBox(children=(IntProgress(value=0, description='Training :6', max=366, style=ProgressStyle(description_width=…"
      ]
     },
     "metadata": {},
     "output_type": "display_data"
    },
    {
     "name": "stderr",
     "output_type": "stream",
     "text": [
      "11/01/2019 05:17:19 - INFO - __main__ -   Loss      : 43.34533347197569\n",
      "11/01/2019 05:17:19 - INFO - __main__ -   Accuracy  : 0.9837660948795824\n",
      "11/01/2019 05:17:19 - INFO - __main__ -   balanceAcc: 0.983771576850287\n",
      "11/01/2019 05:17:19 - INFO - __main__ -   AUC       : 0.9961269696465317\n",
      "11/01/2019 05:17:19 - INFO - __main__ -   confusion : (23157, 203, 556, 22838)\n"
     ]
    },
    {
     "name": "stdout",
     "output_type": "stream",
     "text": [
      "\n"
     ]
    },
    {
     "data": {
      "application/vnd.jupyter.widget-view+json": {
       "model_id": "f6df1784f9b9480890112bcb353de70f",
       "version_major": 2,
       "version_minor": 0
      },
      "text/plain": [
       "HBox(children=(IntProgress(value=0, description='Validation :6', max=4, style=ProgressStyle(description_width=…"
      ]
     },
     "metadata": {},
     "output_type": "display_data"
    },
    {
     "name": "stderr",
     "output_type": "stream",
     "text": [
      "11/01/2019 05:17:19 - INFO - __main__ -   Loss      : 39.746604919433594\n",
      "11/01/2019 05:17:19 - INFO - __main__ -   Accuracy  : 0.9830508474576272\n",
      "11/01/2019 05:17:19 - INFO - __main__ -   balanceAcc: 0.9823488006930532\n",
      "11/01/2019 05:17:19 - INFO - __main__ -   AUC       : 0.9946035699460356\n",
      "11/01/2019 05:17:19 - INFO - __main__ -   confusion : (251, 2, 6, 213)\n"
     ]
    },
    {
     "name": "stdout",
     "output_type": "stream",
     "text": [
      "\n"
     ]
    },
    {
     "data": {
      "application/vnd.jupyter.widget-view+json": {
       "model_id": "5de0c6ea6fc447488c356c7d23ca8adb",
       "version_major": 2,
       "version_minor": 0
      },
      "text/plain": [
       "HBox(children=(IntProgress(value=0, description='Test 1 :6', max=41, style=ProgressStyle(description_width='in…"
      ]
     },
     "metadata": {},
     "output_type": "display_data"
    },
    {
     "name": "stderr",
     "output_type": "stream",
     "text": [
      "11/01/2019 05:17:20 - INFO - __main__ -   Loss      : 44.255798153760956\n",
      "11/01/2019 05:17:20 - INFO - __main__ -   Accuracy  : 0.9744664634146342\n",
      "11/01/2019 05:17:20 - INFO - __main__ -   balanceAcc: 0.9744664634146342\n",
      "11/01/2019 05:17:20 - INFO - __main__ -   AUC       : 0.9957996484142624\n",
      "11/01/2019 05:17:20 - INFO - __main__ -   confusion : (2614, 10, 124, 2500)\n"
     ]
    },
    {
     "name": "stdout",
     "output_type": "stream",
     "text": [
      "\n"
     ]
    },
    {
     "data": {
      "application/vnd.jupyter.widget-view+json": {
       "model_id": "4aac008e37b3492e8fc8f8839bd60974",
       "version_major": 2,
       "version_minor": 0
      },
      "text/plain": [
       "HBox(children=(IntProgress(value=0, description='Test 2 :6', max=235, style=ProgressStyle(description_width='i…"
      ]
     },
     "metadata": {},
     "output_type": "display_data"
    },
    {
     "name": "stderr",
     "output_type": "stream",
     "text": [
      "11/01/2019 05:17:24 - INFO - __main__ -   Loss      : 96.15057006186628\n",
      "11/01/2019 05:17:24 - INFO - __main__ -   Accuracy  : 0.5387666666666666\n",
      "11/01/2019 05:17:24 - INFO - __main__ -   balanceAcc: 0.5394666750127604\n",
      "11/01/2019 05:17:24 - INFO - __main__ -   AUC       : 0.6640848946707079\n",
      "11/01/2019 05:17:24 - INFO - __main__ -   confusion : (14917, 60, 13777, 1246)\n"
     ]
    },
    {
     "name": "stdout",
     "output_type": "stream",
     "text": [
      "\n"
     ]
    },
    {
     "data": {
      "application/vnd.jupyter.widget-view+json": {
       "model_id": "499001f565e146f1a2ac0c826bb7c81e",
       "version_major": 2,
       "version_minor": 0
      },
      "text/plain": [
       "HBox(children=(IntProgress(value=0, description='Training :7', max=366, style=ProgressStyle(description_width=…"
      ]
     },
     "metadata": {},
     "output_type": "display_data"
    },
    {
     "name": "stderr",
     "output_type": "stream",
     "text": [
      "11/01/2019 05:17:53 - INFO - __main__ -   Loss      : 43.27223599803904\n",
      "11/01/2019 05:17:53 - INFO - __main__ -   Accuracy  : 0.9844077512084528\n",
      "11/01/2019 05:17:53 - INFO - __main__ -   balanceAcc: 0.9844145711609698\n",
      "11/01/2019 05:17:53 - INFO - __main__ -   AUC       : 0.9958636205967224\n",
      "11/01/2019 05:17:53 - INFO - __main__ -   confusion : (23215, 145, 584, 22810)\n"
     ]
    },
    {
     "name": "stdout",
     "output_type": "stream",
     "text": [
      "\n"
     ]
    },
    {
     "data": {
      "application/vnd.jupyter.widget-view+json": {
       "model_id": "cbc528ed83b8422bab3991983c6f06e9",
       "version_major": 2,
       "version_minor": 0
      },
      "text/plain": [
       "HBox(children=(IntProgress(value=0, description='Validation :7', max=4, style=ProgressStyle(description_width=…"
      ]
     },
     "metadata": {},
     "output_type": "display_data"
    },
    {
     "name": "stderr",
     "output_type": "stream",
     "text": [
      "11/01/2019 05:17:53 - INFO - __main__ -   Loss      : 39.53712511062622\n",
      "11/01/2019 05:17:53 - INFO - __main__ -   Accuracy  : 0.989406779661017\n",
      "11/01/2019 05:17:53 - INFO - __main__ -   balanceAcc: 0.9885844748858448\n",
      "11/01/2019 05:17:53 - INFO - __main__ -   AUC       : 0.9924738751421299\n",
      "11/01/2019 05:17:53 - INFO - __main__ -   confusion : (253, 0, 5, 214)\n"
     ]
    },
    {
     "name": "stdout",
     "output_type": "stream",
     "text": [
      "\n"
     ]
    },
    {
     "data": {
      "application/vnd.jupyter.widget-view+json": {
       "model_id": "18ed8598d16d4a968b139c8625acdde8",
       "version_major": 2,
       "version_minor": 0
      },
      "text/plain": [
       "HBox(children=(IntProgress(value=0, description='Test 1 :7', max=41, style=ProgressStyle(description_width='in…"
      ]
     },
     "metadata": {},
     "output_type": "display_data"
    },
    {
     "name": "stderr",
     "output_type": "stream",
     "text": [
      "11/01/2019 05:17:53 - INFO - __main__ -   Loss      : 44.2716831114234\n",
      "11/01/2019 05:17:53 - INFO - __main__ -   Accuracy  : 0.9748475609756098\n",
      "11/01/2019 05:17:53 - INFO - __main__ -   balanceAcc: 0.9748475609756098\n",
      "11/01/2019 05:17:53 - INFO - __main__ -   AUC       : 0.9938277880539858\n",
      "11/01/2019 05:17:53 - INFO - __main__ -   confusion : (2617, 7, 125, 2499)\n"
     ]
    },
    {
     "name": "stdout",
     "output_type": "stream",
     "text": [
      "\n"
     ]
    },
    {
     "data": {
      "application/vnd.jupyter.widget-view+json": {
       "model_id": "7bfcf19fd18e4450a154b6613a48e8e8",
       "version_major": 2,
       "version_minor": 0
      },
      "text/plain": [
       "HBox(children=(IntProgress(value=0, description='Test 2 :7', max=235, style=ProgressStyle(description_width='i…"
      ]
     },
     "metadata": {},
     "output_type": "display_data"
    },
    {
     "name": "stderr",
     "output_type": "stream",
     "text": [
      "11/01/2019 05:17:56 - INFO - __main__ -   Loss      : 97.33305740356445\n",
      "11/01/2019 05:17:56 - INFO - __main__ -   Accuracy  : 0.5384\n",
      "11/01/2019 05:17:56 - INFO - __main__ -   balanceAcc: 0.5391005697075617\n",
      "11/01/2019 05:17:56 - INFO - __main__ -   AUC       : 0.6399390645678451\n",
      "11/01/2019 05:17:56 - INFO - __main__ -   confusion : (14917, 60, 13788, 1235)\n"
     ]
    },
    {
     "name": "stdout",
     "output_type": "stream",
     "text": [
      "\n"
     ]
    },
    {
     "data": {
      "application/vnd.jupyter.widget-view+json": {
       "model_id": "9e56cbb1d97743e3ad878ff16d6662c7",
       "version_major": 2,
       "version_minor": 0
      },
      "text/plain": [
       "HBox(children=(IntProgress(value=0, description='Training :8', max=366, style=ProgressStyle(description_width=…"
      ]
     },
     "metadata": {},
     "output_type": "display_data"
    },
    {
     "name": "stderr",
     "output_type": "stream",
     "text": [
      "11/01/2019 05:18:25 - INFO - __main__ -   Loss      : 43.18893372165701\n",
      "11/01/2019 05:18:25 - INFO - __main__ -   Accuracy  : 0.9856696753218976\n",
      "11/01/2019 05:18:25 - INFO - __main__ -   balanceAcc: 0.9856779735700876\n",
      "11/01/2019 05:18:25 - INFO - __main__ -   AUC       : 0.9941414598828758\n",
      "11/01/2019 05:18:25 - INFO - __main__ -   confusion : (23292, 68, 602, 22792)\n"
     ]
    },
    {
     "name": "stdout",
     "output_type": "stream",
     "text": [
      "\n"
     ]
    },
    {
     "data": {
      "application/vnd.jupyter.widget-view+json": {
       "model_id": "c4fc94753bdd4432bd7e50144d2411c0",
       "version_major": 2,
       "version_minor": 0
      },
      "text/plain": [
       "HBox(children=(IntProgress(value=0, description='Validation :8', max=4, style=ProgressStyle(description_width=…"
      ]
     },
     "metadata": {},
     "output_type": "display_data"
    },
    {
     "name": "stderr",
     "output_type": "stream",
     "text": [
      "11/01/2019 05:18:25 - INFO - __main__ -   Loss      : 39.43638896942139\n",
      "11/01/2019 05:18:25 - INFO - __main__ -   Accuracy  : 0.9872881355932204\n",
      "11/01/2019 05:18:25 - INFO - __main__ -   balanceAcc: 0.9863013698630136\n",
      "11/01/2019 05:18:25 - INFO - __main__ -   AUC       : 0.9899110220730232\n",
      "11/01/2019 05:18:25 - INFO - __main__ -   confusion : (253, 0, 6, 213)\n"
     ]
    },
    {
     "name": "stdout",
     "output_type": "stream",
     "text": [
      "\n"
     ]
    },
    {
     "data": {
      "application/vnd.jupyter.widget-view+json": {
       "model_id": "f93b643400c84923af016aeb9fd607c4",
       "version_major": 2,
       "version_minor": 0
      },
      "text/plain": [
       "HBox(children=(IntProgress(value=0, description='Test 1 :8', max=41, style=ProgressStyle(description_width='in…"
      ]
     },
     "metadata": {},
     "output_type": "display_data"
    },
    {
     "name": "stderr",
     "output_type": "stream",
     "text": [
      "11/01/2019 05:18:26 - INFO - __main__ -   Loss      : 44.288571520549496\n",
      "11/01/2019 05:18:26 - INFO - __main__ -   Accuracy  : 0.9750381097560976\n",
      "11/01/2019 05:18:26 - INFO - __main__ -   balanceAcc: 0.9750381097560976\n",
      "11/01/2019 05:18:26 - INFO - __main__ -   AUC       : 0.9903174496207614\n",
      "11/01/2019 05:18:26 - INFO - __main__ -   confusion : (2619, 5, 126, 2498)\n"
     ]
    },
    {
     "name": "stdout",
     "output_type": "stream",
     "text": [
      "\n"
     ]
    },
    {
     "data": {
      "application/vnd.jupyter.widget-view+json": {
       "model_id": "9fa42758712e47059cce493037dbc040",
       "version_major": 2,
       "version_minor": 0
      },
      "text/plain": [
       "HBox(children=(IntProgress(value=0, description='Test 2 :8', max=235, style=ProgressStyle(description_width='i…"
      ]
     },
     "metadata": {},
     "output_type": "display_data"
    },
    {
     "name": "stderr",
     "output_type": "stream",
     "text": [
      "11/01/2019 05:18:30 - INFO - __main__ -   Loss      : 98.2332740946019\n",
      "11/01/2019 05:18:30 - INFO - __main__ -   Accuracy  : 0.5376666666666666\n",
      "11/01/2019 05:18:30 - INFO - __main__ -   balanceAcc: 0.5383688702094771\n",
      "11/01/2019 05:18:30 - INFO - __main__ -   AUC       : 0.5968332165545402\n",
      "11/01/2019 05:18:30 - INFO - __main__ -   confusion : (14922, 55, 13815, 1208)\n"
     ]
    },
    {
     "name": "stdout",
     "output_type": "stream",
     "text": [
      "\n"
     ]
    },
    {
     "data": {
      "application/vnd.jupyter.widget-view+json": {
       "model_id": "8fdc5205047a442f8a3d15938c6bcd67",
       "version_major": 2,
       "version_minor": 0
      },
      "text/plain": [
       "HBox(children=(IntProgress(value=0, description='Training :9', max=366, style=ProgressStyle(description_width=…"
      ]
     },
     "metadata": {},
     "output_type": "display_data"
    },
    {
     "name": "stderr",
     "output_type": "stream",
     "text": [
      "11/01/2019 05:18:56 - INFO - __main__ -   Loss      : 43.145413599379076\n",
      "11/01/2019 05:18:56 - INFO - __main__ -   Accuracy  : 0.9859263378534457\n",
      "11/01/2019 05:18:56 - INFO - __main__ -   balanceAcc: 0.9859351650727678\n",
      "11/01/2019 05:18:56 - INFO - __main__ -   AUC       : 0.9917713111150734\n",
      "11/01/2019 05:18:56 - INFO - __main__ -   confusion : (23315, 45, 613, 22781)\n"
     ]
    },
    {
     "name": "stdout",
     "output_type": "stream",
     "text": [
      "\n"
     ]
    },
    {
     "data": {
      "application/vnd.jupyter.widget-view+json": {
       "model_id": "b90e9226c18e4a308e1a964b141e4e13",
       "version_major": 2,
       "version_minor": 0
      },
      "text/plain": [
       "HBox(children=(IntProgress(value=0, description='Validation :9', max=4, style=ProgressStyle(description_width=…"
      ]
     },
     "metadata": {},
     "output_type": "display_data"
    },
    {
     "name": "stderr",
     "output_type": "stream",
     "text": [
      "11/01/2019 05:18:56 - INFO - __main__ -   Loss      : 39.40569353103638\n",
      "11/01/2019 05:18:56 - INFO - __main__ -   Accuracy  : 0.989406779661017\n",
      "11/01/2019 05:18:56 - INFO - __main__ -   balanceAcc: 0.9885844748858448\n",
      "11/01/2019 05:18:56 - INFO - __main__ -   AUC       : 0.9887920298879203\n",
      "11/01/2019 05:18:56 - INFO - __main__ -   confusion : (253, 0, 5, 214)\n"
     ]
    },
    {
     "name": "stdout",
     "output_type": "stream",
     "text": [
      "\n"
     ]
    },
    {
     "data": {
      "application/vnd.jupyter.widget-view+json": {
       "model_id": "89d200349e624d688a33f5383c9675dd",
       "version_major": 2,
       "version_minor": 0
      },
      "text/plain": [
       "HBox(children=(IntProgress(value=0, description='Test 1 :9', max=41, style=ProgressStyle(description_width='in…"
      ]
     },
     "metadata": {},
     "output_type": "display_data"
    },
    {
     "name": "stderr",
     "output_type": "stream",
     "text": [
      "11/01/2019 05:18:57 - INFO - __main__ -   Loss      : 44.25550777156179\n",
      "11/01/2019 05:18:57 - INFO - __main__ -   Accuracy  : 0.9744664634146342\n",
      "11/01/2019 05:18:57 - INFO - __main__ -   balanceAcc: 0.974466463414634\n",
      "11/01/2019 05:18:57 - INFO - __main__ -   AUC       : 0.9870335330997174\n",
      "11/01/2019 05:18:57 - INFO - __main__ -   confusion : (2619, 5, 129, 2495)\n"
     ]
    },
    {
     "name": "stdout",
     "output_type": "stream",
     "text": [
      "\n"
     ]
    },
    {
     "data": {
      "application/vnd.jupyter.widget-view+json": {
       "model_id": "013619379fba426f88a1329d959e8726",
       "version_major": 2,
       "version_minor": 0
      },
      "text/plain": [
       "HBox(children=(IntProgress(value=0, description='Test 2 :9', max=235, style=ProgressStyle(description_width='i…"
      ]
     },
     "metadata": {},
     "output_type": "display_data"
    },
    {
     "name": "stderr",
     "output_type": "stream",
     "text": [
      "11/01/2019 05:19:01 - INFO - __main__ -   Loss      : 98.41492402097012\n",
      "11/01/2019 05:19:01 - INFO - __main__ -   Accuracy  : 0.5373333333333333\n",
      "11/01/2019 05:19:01 - INFO - __main__ -   balanceAcc: 0.5380352294250506\n",
      "11/01/2019 05:19:01 - INFO - __main__ -   AUC       : 0.5461254973350582\n",
      "11/01/2019 05:19:01 - INFO - __main__ -   confusion : (14914, 63, 13817, 1206)\n"
     ]
    },
    {
     "name": "stdout",
     "output_type": "stream",
     "text": [
      "\n",
      "\n",
      "[0.673744237380896]\n",
      "0.673744237380896\n"
     ]
    }
   ],
   "source": [
    "best = []\n",
    "for i in range(1):\n",
    "    set_seed(87+i)\n",
    "    model = models.WordCNN(\n",
    "            word_ngram_vocab_size = len(words_dict)+1,\n",
    "            emb_size=emb_dim,\n",
    "            word_seq_len=max_len_words,\n",
    "            l2_reg_lambda=l2_reg_lambda,\n",
    "            filter_size=256,\n",
    "            dropout=0.2,\n",
    "            kernel_sizes=filter_size).cuda()\n",
    "    print('paramters count', sum(p.numel() for p in model.parameters()))\n",
    "    optimizer = torch.optim.Adam(model.parameters(), lr=1e-3, weight_decay=1)\n",
    "    \n",
    "    history = {'train':[], 'valid':[], 'test1':[], 'test2':[]}\n",
    "    history = train(history, 10)\n",
    "    best.append(max([i['auc'] for i in history['test2']]))\n",
    "    \n",
    "print(best)\n",
    "print(np.mean(best))\n",
    "best1 = np.mean(best)"
   ]
  },
  {
   "cell_type": "code",
   "execution_count": 21,
   "metadata": {},
   "outputs": [
    {
     "data": {
      "image/png": "[encoded data removed]",
      "text/plain": [
       "<Figure size 576x576 with 2 Axes>"
      ]
     },
     "metadata": {
      "needs_background": "light"
     },
     "output_type": "display_data"
    }
   ],
   "source": [
    "save = \"baseline5\"\n",
    "\n",
    "train_loss = [l['loss'] for l in history['train']]\n",
    "valid_loss = [l['loss'] for l in history['valid']]\n",
    "test1_loss = [l['loss'] for l in history['test1']]\n",
    "test2_loss = [l['loss'] for l in history['test2']]\n",
    "\n",
    "train_auc = [l['auc'] for l in history['train']]\n",
    "valid_auc = [l['auc'] for l in history['valid']]\n",
    "test1_auc = [l['auc'] for l in history['test1']]\n",
    "test2_auc = [l['auc'] for l in history['test2']]\n",
    "\n",
    "plt.figure(figsize=(8,8))\n",
    "\n",
    "plt.subplot(211)\n",
    "plt.title('Loss')\n",
    "plt.plot(train_loss, label='train')\n",
    "plt.plot(valid_loss, label='valid')\n",
    "plt.plot(test1_loss, label='test1')\n",
    "plt.plot(test2_loss, label='test2')\n",
    "plt.legend()\n",
    "\n",
    "\n",
    "plt.subplot(212)\n",
    "plt.title('AUC Score')\n",
    "plt.plot(train_auc, label='train')\n",
    "plt.plot(valid_auc, label='valid')\n",
    "plt.plot(test1_auc, label='test1')\n",
    "plt.plot(test2_auc, label='test2')\n",
    "plt.legend()\n",
    "plt.tight_layout()\n",
    "\n",
    "# if save:\n",
    "#     path = os.path.join(\"output\", save+'.png')\n",
    "#     plt.savefig(path)\n",
    "plt.show()"
   ]
  },
  {
   "cell_type": "markdown",
   "metadata": {},
   "source": [
    "# Adversarial training"
   ]
  },
  {
   "cell_type": "code",
   "execution_count": 22,
   "metadata": {},
   "outputs": [],
   "source": [
    "UNKId = words_dict['<UNKNOWN>']\n",
    "word_mal_ratio['<UNKNOWN>'] = 0.5\n",
    "# data = list(map(lambda x:words_dict.get(x, UNKId), word_mal_ratio.keys()))\n",
    "# label = list(map(lambda x:np.array([x, 1-x]), word_mal_ratio.values()))\n",
    "data = list(words_dict.values())\n",
    "label = list(map(lambda x:np.array([word_mal_ratio[x], 1-word_mal_ratio[x]]), words_dict.keys()))\n",
    "\n",
    "emb_ratio_dataset = mydata(data, label)\n",
    "emb_ratio_loader = DataLoader(emb_ratio_dataset, batch_size=batch_size, shuffle=True)"
   ]
  },
  {
   "cell_type": "code",
   "execution_count": 23,
   "metadata": {
    "scrolled": true
   },
   "outputs": [
    {
     "data": {
      "text/plain": [
       "torch.Size([128, 1])"
      ]
     },
     "execution_count": 23,
     "metadata": {},
     "output_type": "execute_result"
    }
   ],
   "source": [
    "d, l = next(iter(emb_ratio_loader))\n",
    "d.unsqueeze(1).shape"
   ]
  },
  {
   "cell_type": "code",
   "execution_count": 24,
   "metadata": {},
   "outputs": [],
   "source": [
    "def soft_cross_entropy(inp, target, size_average=True):\n",
    "    if size_average:\n",
    "        return torch.mean(torch.sum(-target * F.log_softmax(inp), dim=1))\n",
    "    else:\n",
    "        return torch.sum(torch.sum(-target * F.log_softmax(inp), dim=1))\n",
    "\n",
    "def NegativeEntropyLoss(x):\n",
    "    b = F.softmax(x, dim=1) * F.log_softmax(x, dim=1)\n",
    "    b = b.mean()\n",
    "    return b\n",
    "\n",
    "def special_loss(target):\n",
    "    target = F.softmax(target, dim=1)\n",
    "    return torch.mean(torch.sum(target*torch.log(target), 1))\n",
    "\n",
    "\n",
    "def correlation_loss(target, label):\n",
    "    vx = target - torch.mean(target)\n",
    "    vy = label - torch.mean(label)\n",
    "    corr = torch.sum(vx * vy) / (torch.sqrt(torch.sum(vx ** 2)) * torch.sqrt(torch.sum(vy ** 2)))\n",
    "    corr = torch.clamp(corr, min=-1.0, max=1.0)\n",
    "    return corr**2"
   ]
  },
  {
   "cell_type": "code",
   "execution_count": 25,
   "metadata": {},
   "outputs": [],
   "source": [
    "def adv_step(model, optimizer, loader, train=True, message=\"\"):\n",
    "    loss_total = 0\n",
    "    bias_loss_total = 0\n",
    "    all_logits = []\n",
    "    all_labels = []\n",
    "    \n",
    "    model.train() if train else model.eval()\n",
    "    bias_model.train if train else bias_model.eval()\n",
    "    mode = torch.enable_grad if train else torch.no_grad\n",
    "    \n",
    "    with mode():\n",
    "        for (data, label) in tqdm(loader, desc=message):\n",
    "            data, label = data.long().cuda(), label.long().cuda() # bce:float ce:long\n",
    "            logits = model(data).squeeze()\n",
    "            #loss = F.binary_cross_entropy_with_logits(logits, label, reduction=\"sum\")\n",
    "            loss = F.cross_entropy(F.softmax(logits, dim=1), label, reduction=\"sum\")\n",
    "            \n",
    "            ##### uniform\n",
    "#             _lambda = 0.01\n",
    "#             out = bias_model(data)\n",
    "#             loss_bias = NegativeEntropyLoss(out)\n",
    "#             loss += loss_bias*_lambda\n",
    "            \n",
    "            if train:\n",
    "                loss.backward()\n",
    "                optimizer.step()\n",
    "                optimizer.zero_grad()\n",
    "            bias_loss_total += emb_step(bias_model, bias_optimizer, train, 1)\n",
    "                \n",
    "            loss_total += loss.item()\n",
    "            all_labels.append(label.detach().cpu().numpy())\n",
    "            \n",
    "            #F.sigmoid(logits).detach().cpu().numpy()\n",
    "            tmp = F.softmax(logits, dim=1).detach().cpu().numpy()[:, 1]\n",
    "            all_logits.append(tmp)\n",
    "            \n",
    "\n",
    "    \n",
    "    loss_total /= len(loader)\n",
    "    all_labels = np.hstack(all_labels)\n",
    "    all_logits = np.hstack(all_logits)\n",
    "    auc = roc_auc_score(all_labels, all_logits) if len(np.unique(all_labels)) > 1 else 0\n",
    "    acc = accuracy_thresh_score(all_labels, all_logits)\n",
    "    bacc = balanced_accuracy_score(all_labels, (all_logits>0.5).astype(int))\n",
    "    (tn, fp, fn, tp) = confusion_matrix(all_labels, (all_logits>0.5).astype(int)).ravel()\n",
    "\n",
    "\n",
    "    bias_loss_total = bias_loss_total/len(loader)\n",
    "\n",
    "    logger.info('Loss       : {}'.format(loss_total))\n",
    "    logger.info('Bias Loss  : {}'.format(bias_loss_total))\n",
    "    logger.info('Accuracy   : {}'.format(acc))\n",
    "    logger.info('balance Acc: {}'.format(bacc))\n",
    "    logger.info('AUC        : {}'.format(auc))\n",
    "    logger.info('confusion  : {}'.format((tn, fp, fn, tp)))\n",
    "    \n",
    "    return {'loss':loss_total, 'acc':acc, 'auc':auc, \"bias\":bias_loss_total}"
   ]
  },
  {
   "cell_type": "code",
   "execution_count": 26,
   "metadata": {},
   "outputs": [],
   "source": [
    "def emb_step(model, optimizer, train=False, iters=1):\n",
    "    loader = emb_ratio_loader\n",
    "    loss_total = 0\n",
    "    entropy_loss = 0\n",
    "    \n",
    "    model.train() if train else model.eval()\n",
    "    mode = torch.enable_grad if train else torch.no_grad\n",
    "    with mode():\n",
    "        for _ in range(iters):\n",
    "            for (data, label) in loader:\n",
    "                data, label = data.long().unsqueeze(1).cuda(), label.float().cuda()\n",
    "                logits = model(data)\n",
    "                #label = (label>0.5)\n",
    "                #loss = F.mse_loss(logits, label, reduction=\"sum\") * 0.1\n",
    "                #loss = soft_cross_entropy(logits, label, size_average=False)\n",
    "                loss = correlation_loss(logits, label)\n",
    "                #loss = F.kl_div(logits, label, reduction='sum')\n",
    "                #loss = NegativeEntropyLoss(logits)\n",
    "                \n",
    "                if train:\n",
    "                    loss.backward()\n",
    "                    #torch.nn.utils.clip_grad_norm_(model.parameters(), 1.0)\n",
    "                    optimizer.step()\n",
    "                    optimizer.zero_grad()\n",
    "                loss_total += loss.item()\n",
    "                \n",
    "                \n",
    "                ###\n",
    "#                 x = model.emb(data)\n",
    "#                 x = x.flatten(0, 1)\n",
    "#                 x = model.fc(x)\n",
    "#                 loss = NegativeEntropyLoss(x)*0.1\n",
    "#                 entropy_loss += loss.item()\n",
    "#                 loss.backward()\n",
    "#                 torch.nn.utils.clip_grad_norm_(model.parameters(), 1.0)\n",
    "#                 optimizer.step()\n",
    "#                 optimizer.zero_grad()\n",
    "                \n",
    "                \n",
    "    loss_total /= (len(loader)*iters)\n",
    "    #entropy_loss /= (len(loader)*iters)\n",
    "    return loss_total#, entropy_loss"
   ]
  },
  {
   "cell_type": "code",
   "execution_count": 27,
   "metadata": {},
   "outputs": [],
   "source": [
    "# test loss function\n",
    "\n",
    "class BiasPredictor(nn.Module):\n",
    "    def __init__(self, emb, emb_size, hidden_size=32, num_classes=2):\n",
    "        super(BiasPredictor, self).__init__()\n",
    "        self.emb = emb\n",
    "        self.fc1 = nn.Linear(emb_size, num_classes)\n",
    "\n",
    "    def forward(self, x):\n",
    "        x = self.emb(x)\n",
    "        x = models.grad_reverse(x)\n",
    "        x = x.flatten(0, 1)\n",
    "        logits = self.fc1(x)\n",
    "        return logits\n",
    "\n",
    "# adv_model = models.WordCNN(\n",
    "#             word_ngram_vocab_size = len(words_dict)+1,\n",
    "#             emb_size=emb_dim,\n",
    "#             word_seq_len=max_len_words,\n",
    "#             l2_reg_lambda=l2_reg_lambda,\n",
    "#             kernel_sizes=filter_size).cuda()\n",
    "# adv_optimizer = torch.optim.Adam(adv_model.parameters(), lr=1e-3)\n",
    "\n",
    "# bias_model = BiasPredictor(adv_model.word_emb, emb_dim).cuda()\n",
    "# bias_optimizer = torch.optim.Adam(bias_model.parameters(), lr=1e-3)\n",
    "\n",
    "# for i in range(10):\n",
    "#     bias_loss = emb_step(bias_model, bias_optimizer, True, 10)\n",
    "#     print(bias_loss)\n",
    "#     print(F.softmax(bias_model(d.long().unsqueeze(1).cuda()), dim=1)[:8])\n",
    "    \n",
    "# #print(F.softmax(bias_model(d.long().unsqueeze(1).cuda()), dim=1)[:8])\n",
    "# print(l[:8])"
   ]
  },
  {
   "cell_type": "raw",
   "metadata": {},
   "source": [
    "print(F.softmax(bias_model(d.long().unsqueeze(1).cuda()), dim=1)[:8])\n",
    "print(l[:8])"
   ]
  },
  {
   "cell_type": "raw",
   "metadata": {},
   "source": [
    "adv_model = models.WordCNN(\n",
    "            word_ngram_vocab_size = len(words_dict)+1,\n",
    "            emb_size=emb_dim,\n",
    "            word_seq_len=max_len_words,\n",
    "            l2_reg_lambda=l2_reg_lambda,\n",
    "            kernel_sizes=filter_size).cuda()\n",
    "adv_optimizer = torch.optim.Adam(adv_model.parameters(), lr=1e-3, weight_decay=0.1)\n",
    "\n",
    "bias_model = models.BiasPredictor(adv_model.word_emb, emb_dim).cuda()\n",
    "bias_optimizer = torch.optim.Adam(bias_model.parameters(), lr=1e-3, weight_decay=0.1)"
   ]
  },
  {
   "cell_type": "code",
   "execution_count": 28,
   "metadata": {},
   "outputs": [
    {
     "data": {
      "application/vnd.jupyter.widget-view+json": {
       "model_id": "bc2af83c360c42c6a1d1094946d14da6",
       "version_major": 2,
       "version_minor": 0
      },
      "text/plain": [
       "HBox(children=(IntProgress(value=0, description='Epoch', max=20, style=ProgressStyle(description_width='initia…"
      ]
     },
     "metadata": {},
     "output_type": "display_data"
    },
    {
     "data": {
      "application/vnd.jupyter.widget-view+json": {
       "model_id": "2f376df9bf81499886927a5c757afc05",
       "version_major": 2,
       "version_minor": 0
      },
      "text/plain": [
       "HBox(children=(IntProgress(value=0, description='Training :0', max=366, style=ProgressStyle(description_width=…"
      ]
     },
     "metadata": {},
     "output_type": "display_data"
    },
    {
     "name": "stderr",
     "output_type": "stream",
     "text": [
      "11/01/2019 05:20:07 - INFO - __main__ -   Loss       : 45.20610756431121\n",
      "11/01/2019 05:20:07 - INFO - __main__ -   Bias Loss  : 0.0014699311788060289\n",
      "11/01/2019 05:20:07 - INFO - __main__ -   Accuracy   : 0.9605595243187749\n",
      "11/01/2019 05:20:07 - INFO - __main__ -   balance Acc: 0.9605686803108395\n",
      "11/01/2019 05:20:07 - INFO - __main__ -   AUC        : 0.9904802848333082\n",
      "11/01/2019 05:20:07 - INFO - __main__ -   confusion  : (22733, 627, 1217, 22177)\n"
     ]
    },
    {
     "name": "stdout",
     "output_type": "stream",
     "text": [
      "\n"
     ]
    },
    {
     "data": {
      "application/vnd.jupyter.widget-view+json": {
       "model_id": "6cb636e3c5fc485ab9984212302997f1",
       "version_major": 2,
       "version_minor": 0
      },
      "text/plain": [
       "HBox(children=(IntProgress(value=0, description='Validation :0', max=4, style=ProgressStyle(description_width=…"
      ]
     },
     "metadata": {},
     "output_type": "display_data"
    },
    {
     "name": "stderr",
     "output_type": "stream",
     "text": [
      "11/01/2019 05:20:07 - INFO - __main__ -   Loss       : 40.745323181152344\n",
      "11/01/2019 05:20:07 - INFO - __main__ -   Bias Loss  : 1.4395452527971825e-06\n",
      "11/01/2019 05:20:07 - INFO - __main__ -   Accuracy   : 0.972457627118644\n",
      "11/01/2019 05:20:07 - INFO - __main__ -   balance Acc: 0.9730810186438537\n",
      "11/01/2019 05:20:07 - INFO - __main__ -   AUC        : 0.9937733499377335\n",
      "11/01/2019 05:20:07 - INFO - __main__ -   confusion  : (244, 9, 4, 215)\n"
     ]
    },
    {
     "name": "stdout",
     "output_type": "stream",
     "text": [
      "\n"
     ]
    },
    {
     "data": {
      "application/vnd.jupyter.widget-view+json": {
       "model_id": "5a25546fdcdb4b85a080c2f78d850c50",
       "version_major": 2,
       "version_minor": 0
      },
      "text/plain": [
       "HBox(children=(IntProgress(value=0, description='Test 1 :0', max=41, style=ProgressStyle(description_width='in…"
      ]
     },
     "metadata": {},
     "output_type": "display_data"
    },
    {
     "name": "stderr",
     "output_type": "stream",
     "text": [
      "11/01/2019 05:20:11 - INFO - __main__ -   Loss       : 46.91847173179068\n",
      "11/01/2019 05:20:11 - INFO - __main__ -   Bias Loss  : 1.5145100832948356e-06\n",
      "11/01/2019 05:20:11 - INFO - __main__ -   Accuracy   : 0.9474085365853658\n",
      "11/01/2019 05:20:11 - INFO - __main__ -   balance Acc: 0.947408536585366\n",
      "11/01/2019 05:20:11 - INFO - __main__ -   AUC        : 0.9881779876654521\n",
      "11/01/2019 05:20:11 - INFO - __main__ -   confusion  : (2401, 223, 53, 2571)\n"
     ]
    },
    {
     "name": "stdout",
     "output_type": "stream",
     "text": [
      "\n"
     ]
    },
    {
     "data": {
      "application/vnd.jupyter.widget-view+json": {
       "model_id": "af85f2ab82064e2da20304cdcdd5144a",
       "version_major": 2,
       "version_minor": 0
      },
      "text/plain": [
       "HBox(children=(IntProgress(value=0, description='Test 2 :0', max=235, style=ProgressStyle(description_width='i…"
      ]
     },
     "metadata": {},
     "output_type": "display_data"
    },
    {
     "name": "stderr",
     "output_type": "stream",
     "text": [
      "11/01/2019 05:20:29 - INFO - __main__ -   Loss       : 87.52019158221306\n",
      "11/01/2019 05:20:29 - INFO - __main__ -   Bias Loss  : 1.530189687017977e-06\n",
      "11/01/2019 05:20:29 - INFO - __main__ -   Accuracy   : 0.5966\n",
      "11/01/2019 05:20:29 - INFO - __main__ -   balance Acc: 0.5970433103818276\n",
      "11/01/2019 05:20:29 - INFO - __main__ -   AUC        : 0.7203570336394258\n",
      "11/01/2019 05:20:29 - INFO - __main__ -   confusion  : (13272, 1705, 10397, 4626)\n"
     ]
    },
    {
     "name": "stdout",
     "output_type": "stream",
     "text": [
      "\n"
     ]
    },
    {
     "data": {
      "application/vnd.jupyter.widget-view+json": {
       "model_id": "deedd214d93a4c8e88ad99201cc6410a",
       "version_major": 2,
       "version_minor": 0
      },
      "text/plain": [
       "HBox(children=(IntProgress(value=0, description='Training :1', max=366, style=ProgressStyle(description_width=…"
      ]
     },
     "metadata": {},
     "output_type": "display_data"
    },
    {
     "name": "stderr",
     "output_type": "stream",
     "text": [
      "11/01/2019 05:21:34 - INFO - __main__ -   Loss       : 43.00134073059416\n",
      "11/01/2019 05:21:34 - INFO - __main__ -   Bias Loss  : 1.3091871778889987e-05\n",
      "11/01/2019 05:21:34 - INFO - __main__ -   Accuracy   : 0.9779484108311588\n",
      "11/01/2019 05:21:34 - INFO - __main__ -   balance Acc: 0.9779525520827843\n",
      "11/01/2019 05:21:34 - INFO - __main__ -   AUC        : 0.9953710891066786\n",
      "11/01/2019 05:21:34 - INFO - __main__ -   confusion  : (22978, 382, 649, 22745)\n"
     ]
    },
    {
     "name": "stdout",
     "output_type": "stream",
     "text": [
      "\n"
     ]
    },
    {
     "data": {
      "application/vnd.jupyter.widget-view+json": {
       "model_id": "f8145a5176904beca261c8401114f3d7",
       "version_major": 2,
       "version_minor": 0
      },
      "text/plain": [
       "HBox(children=(IntProgress(value=0, description='Validation :1', max=4, style=ProgressStyle(description_width=…"
      ]
     },
     "metadata": {},
     "output_type": "display_data"
    },
    {
     "name": "stderr",
     "output_type": "stream",
     "text": [
      "11/01/2019 05:21:34 - INFO - __main__ -   Loss       : 39.04517650604248\n",
      "11/01/2019 05:21:34 - INFO - __main__ -   Bias Loss  : 1.1575734835186529e-05\n",
      "11/01/2019 05:21:34 - INFO - __main__ -   Accuracy   : 0.9851694915254238\n",
      "11/01/2019 05:21:34 - INFO - __main__ -   balance Acc: 0.9846319057158843\n",
      "11/01/2019 05:21:34 - INFO - __main__ -   AUC        : 0.9968776508383417\n",
      "11/01/2019 05:21:34 - INFO - __main__ -   confusion  : (251, 2, 5, 214)\n"
     ]
    },
    {
     "name": "stdout",
     "output_type": "stream",
     "text": [
      "\n"
     ]
    },
    {
     "data": {
      "application/vnd.jupyter.widget-view+json": {
       "model_id": "77b2a51216394442b63139a90b8ca359",
       "version_major": 2,
       "version_minor": 0
      },
      "text/plain": [
       "HBox(children=(IntProgress(value=0, description='Test 1 :1', max=41, style=ProgressStyle(description_width='in…"
      ]
     },
     "metadata": {},
     "output_type": "display_data"
    },
    {
     "name": "stderr",
     "output_type": "stream",
     "text": [
      "11/01/2019 05:21:38 - INFO - __main__ -   Loss       : 43.2032782391804\n",
      "11/01/2019 05:21:38 - INFO - __main__ -   Bias Loss  : 1.1919330834417928e-05\n",
      "11/01/2019 05:21:38 - INFO - __main__ -   Accuracy   : 0.9790396341463414\n",
      "11/01/2019 05:21:38 - INFO - __main__ -   balance Acc: 0.9790396341463414\n",
      "11/01/2019 05:21:38 - INFO - __main__ -   AUC        : 0.9953797730145746\n",
      "11/01/2019 05:21:38 - INFO - __main__ -   confusion  : (2570, 54, 56, 2568)\n"
     ]
    },
    {
     "name": "stdout",
     "output_type": "stream",
     "text": [
      "\n"
     ]
    },
    {
     "data": {
      "application/vnd.jupyter.widget-view+json": {
       "model_id": "f40b821dbfa44147b708c3c884e32cdf",
       "version_major": 2,
       "version_minor": 0
      },
      "text/plain": [
       "HBox(children=(IntProgress(value=0, description='Test 2 :1', max=235, style=ProgressStyle(description_width='i…"
      ]
     },
     "metadata": {},
     "output_type": "display_data"
    },
    {
     "name": "stderr",
     "output_type": "stream",
     "text": [
      "11/01/2019 05:21:56 - INFO - __main__ -   Loss       : 88.92712938024643\n",
      "11/01/2019 05:21:56 - INFO - __main__ -   Bias Loss  : 1.1956457297550722e-05\n",
      "11/01/2019 05:21:56 - INFO - __main__ -   Accuracy   : 0.5862333333333334\n",
      "11/01/2019 05:21:56 - INFO - __main__ -   balance Acc: 0.5868151818899165\n",
      "11/01/2019 05:21:56 - INFO - __main__ -   AUC        : 0.7610539604335337\n",
      "11/01/2019 05:21:56 - INFO - __main__ -   confusion  : (14472, 505, 11908, 3115)\n"
     ]
    },
    {
     "name": "stdout",
     "output_type": "stream",
     "text": [
      "\n"
     ]
    },
    {
     "data": {
      "application/vnd.jupyter.widget-view+json": {
       "model_id": "00b4b5ef8b374fe6bb1a6df61500a358",
       "version_major": 2,
       "version_minor": 0
      },
      "text/plain": [
       "HBox(children=(IntProgress(value=0, description='Training :2', max=366, style=ProgressStyle(description_width=…"
      ]
     },
     "metadata": {},
     "output_type": "display_data"
    },
    {
     "name": "stderr",
     "output_type": "stream",
     "text": [
      "11/01/2019 05:22:34 - INFO - __main__ -   Loss       : 43.73083257414604\n",
      "11/01/2019 05:22:34 - INFO - __main__ -   Bias Loss  : 0.00027276107940299676\n",
      "11/01/2019 05:22:34 - INFO - __main__ -   Accuracy   : 0.9716387902639346\n",
      "11/01/2019 05:22:34 - INFO - __main__ -   balance Acc: 0.9716406106354398\n",
      "11/01/2019 05:22:34 - INFO - __main__ -   AUC        : 0.9900192391782344\n",
      "11/01/2019 05:22:34 - INFO - __main__ -   confusion  : (22756, 604, 722, 22672)\n"
     ]
    },
    {
     "name": "stdout",
     "output_type": "stream",
     "text": [
      "\n"
     ]
    },
    {
     "data": {
      "application/vnd.jupyter.widget-view+json": {
       "model_id": "0cfd73afb95f43e2a94e0666ff8b5bcd",
       "version_major": 2,
       "version_minor": 0
      },
      "text/plain": [
       "HBox(children=(IntProgress(value=0, description='Validation :2', max=4, style=ProgressStyle(description_width=…"
      ]
     },
     "metadata": {},
     "output_type": "display_data"
    },
    {
     "name": "stderr",
     "output_type": "stream",
     "text": [
      "11/01/2019 05:22:34 - INFO - __main__ -   Loss       : 40.03590154647827\n",
      "11/01/2019 05:22:34 - INFO - __main__ -   Bias Loss  : 0.001039254322068974\n",
      "11/01/2019 05:22:34 - INFO - __main__ -   Accuracy   : 0.9745762711864406\n",
      "11/01/2019 05:22:34 - INFO - __main__ -   balance Acc: 0.9732163806017291\n",
      "11/01/2019 05:22:34 - INFO - __main__ -   AUC        : 0.9954337899543378\n",
      "11/01/2019 05:22:34 - INFO - __main__ -   confusion  : (251, 2, 10, 209)\n"
     ]
    },
    {
     "name": "stdout",
     "output_type": "stream",
     "text": [
      "\n"
     ]
    },
    {
     "data": {
      "application/vnd.jupyter.widget-view+json": {
       "model_id": "858894c760dd44ec8d056c901a91eba8",
       "version_major": 2,
       "version_minor": 0
      },
      "text/plain": [
       "HBox(children=(IntProgress(value=0, description='Test 1 :2', max=41, style=ProgressStyle(description_width='in…"
      ]
     },
     "metadata": {},
     "output_type": "display_data"
    },
    {
     "name": "stderr",
     "output_type": "stream",
     "text": [
      "11/01/2019 05:22:35 - INFO - __main__ -   Loss       : 43.34536780380621\n",
      "11/01/2019 05:22:35 - INFO - __main__ -   Bias Loss  : 0.0010083710934493438\n",
      "11/01/2019 05:22:35 - INFO - __main__ -   Accuracy   : 0.9744664634146342\n",
      "11/01/2019 05:22:35 - INFO - __main__ -   balance Acc: 0.9744664634146342\n",
      "11/01/2019 05:22:35 - INFO - __main__ -   AUC        : 0.9925790545062463\n",
      "11/01/2019 05:22:35 - INFO - __main__ -   confusion  : (2588, 36, 98, 2526)\n"
     ]
    },
    {
     "name": "stdout",
     "output_type": "stream",
     "text": [
      "\n"
     ]
    },
    {
     "data": {
      "application/vnd.jupyter.widget-view+json": {
       "model_id": "c90a6dd883bf40f8bca419e0c00e4735",
       "version_major": 2,
       "version_minor": 0
      },
      "text/plain": [
       "HBox(children=(IntProgress(value=0, description='Test 2 :2', max=235, style=ProgressStyle(description_width='i…"
      ]
     },
     "metadata": {},
     "output_type": "display_data"
    },
    {
     "name": "stderr",
     "output_type": "stream",
     "text": [
      "11/01/2019 05:22:40 - INFO - __main__ -   Loss       : 92.50499028956636\n",
      "11/01/2019 05:22:40 - INFO - __main__ -   Bias Loss  : 0.0010153299309546815\n",
      "11/01/2019 05:22:40 - INFO - __main__ -   Accuracy   : 0.5828333333333333\n",
      "11/01/2019 05:22:40 - INFO - __main__ -   balance Acc: 0.5834271339242394\n",
      "11/01/2019 05:22:40 - INFO - __main__ -   AUC        : 0.7321801858814149\n",
      "11/01/2019 05:22:40 - INFO - __main__ -   confusion  : (14538, 439, 12076, 2947)\n"
     ]
    },
    {
     "name": "stdout",
     "output_type": "stream",
     "text": [
      "\n"
     ]
    },
    {
     "data": {
      "application/vnd.jupyter.widget-view+json": {
       "model_id": "19f4cad1b6b54bb4b9688144da31b5c0",
       "version_major": 2,
       "version_minor": 0
      },
      "text/plain": [
       "HBox(children=(IntProgress(value=0, description='Training :3', max=366, style=ProgressStyle(description_width=…"
      ]
     },
     "metadata": {},
     "output_type": "display_data"
    },
    {
     "name": "stderr",
     "output_type": "stream",
     "text": [
      "11/01/2019 05:23:07 - INFO - __main__ -   Loss       : 42.34668630589553\n",
      "11/01/2019 05:23:07 - INFO - __main__ -   Bias Loss  : 1.7423020135490124e-05\n",
      "11/01/2019 05:23:07 - INFO - __main__ -   Accuracy   : 0.9822688967788852\n",
      "11/01/2019 05:23:07 - INFO - __main__ -   balance Acc: 0.9822720137525018\n",
      "11/01/2019 05:23:07 - INFO - __main__ -   AUC        : 0.9955187970425621\n",
      "11/01/2019 05:23:07 - INFO - __main__ -   confusion  : (23046, 314, 515, 22879)\n"
     ]
    },
    {
     "name": "stdout",
     "output_type": "stream",
     "text": [
      "\n"
     ]
    },
    {
     "data": {
      "application/vnd.jupyter.widget-view+json": {
       "model_id": "8159cdcc4e1b441c873c63200d58a6e8",
       "version_major": 2,
       "version_minor": 0
      },
      "text/plain": [
       "HBox(children=(IntProgress(value=0, description='Validation :3', max=4, style=ProgressStyle(description_width=…"
      ]
     },
     "metadata": {},
     "output_type": "display_data"
    },
    {
     "name": "stderr",
     "output_type": "stream",
     "text": [
      "11/01/2019 05:23:07 - INFO - __main__ -   Loss       : 39.19188117980957\n",
      "11/01/2019 05:23:07 - INFO - __main__ -   Bias Loss  : 3.399131768690365e-06\n",
      "11/01/2019 05:23:07 - INFO - __main__ -   Accuracy   : 0.9830508474576272\n",
      "11/01/2019 05:23:07 - INFO - __main__ -   balance Acc: 0.9820419802552024\n",
      "11/01/2019 05:23:07 - INFO - __main__ -   AUC        : 0.9965527821394408\n",
      "11/01/2019 05:23:07 - INFO - __main__ -   confusion  : (252, 1, 7, 212)\n"
     ]
    },
    {
     "name": "stdout",
     "output_type": "stream",
     "text": [
      "\n"
     ]
    },
    {
     "data": {
      "application/vnd.jupyter.widget-view+json": {
       "model_id": "598618d6aca34912b85beaae8b51cedb",
       "version_major": 2,
       "version_minor": 0
      },
      "text/plain": [
       "HBox(children=(IntProgress(value=0, description='Test 1 :3', max=41, style=ProgressStyle(description_width='in…"
      ]
     },
     "metadata": {},
     "output_type": "display_data"
    },
    {
     "name": "stderr",
     "output_type": "stream",
     "text": [
      "11/01/2019 05:23:08 - INFO - __main__ -   Loss       : 42.66386627569431\n",
      "11/01/2019 05:23:08 - INFO - __main__ -   Bias Loss  : 3.5111244549996913e-06\n",
      "11/01/2019 05:23:08 - INFO - __main__ -   Accuracy   : 0.9811356707317073\n",
      "11/01/2019 05:23:08 - INFO - __main__ -   balance Acc: 0.9811356707317074\n",
      "11/01/2019 05:23:08 - INFO - __main__ -   AUC        : 0.9950518315920582\n",
      "11/01/2019 05:23:08 - INFO - __main__ -   confusion  : (2591, 33, 66, 2558)\n"
     ]
    },
    {
     "name": "stdout",
     "output_type": "stream",
     "text": [
      "\n"
     ]
    },
    {
     "data": {
      "application/vnd.jupyter.widget-view+json": {
       "model_id": "0a538fc45cbe4f90a175ef91bb7e0279",
       "version_major": 2,
       "version_minor": 0
      },
      "text/plain": [
       "HBox(children=(IntProgress(value=0, description='Test 2 :3', max=235, style=ProgressStyle(description_width='i…"
      ]
     },
     "metadata": {},
     "output_type": "display_data"
    },
    {
     "name": "stderr",
     "output_type": "stream",
     "text": [
      "11/01/2019 05:23:13 - INFO - __main__ -   Loss       : 91.98811361434612\n",
      "11/01/2019 05:23:13 - INFO - __main__ -   Bias Loss  : 3.489147038743466e-06\n",
      "11/01/2019 05:23:13 - INFO - __main__ -   Accuracy   : 0.5829666666666666\n",
      "11/01/2019 05:23:13 - INFO - __main__ -   balance Acc: 0.5835533119986758\n",
      "11/01/2019 05:23:13 - INFO - __main__ -   AUC        : 0.7429196844645025\n",
      "11/01/2019 05:23:13 - INFO - __main__ -   confusion  : (14470, 507, 12004, 3019)\n"
     ]
    },
    {
     "name": "stdout",
     "output_type": "stream",
     "text": [
      "\n"
     ]
    },
    {
     "data": {
      "application/vnd.jupyter.widget-view+json": {
       "model_id": "0a656091169046738ff666f8babd757b",
       "version_major": 2,
       "version_minor": 0
      },
      "text/plain": [
       "HBox(children=(IntProgress(value=0, description='Training :4', max=366, style=ProgressStyle(description_width=…"
      ]
     },
     "metadata": {},
     "output_type": "display_data"
    },
    {
     "name": "stderr",
     "output_type": "stream",
     "text": [
      "11/01/2019 05:23:40 - INFO - __main__ -   Loss       : 42.532167275746666\n",
      "11/01/2019 05:23:40 - INFO - __main__ -   Bias Loss  : 0.00023225869992285857\n",
      "11/01/2019 05:23:40 - INFO - __main__ -   Accuracy   : 0.9806861445010052\n",
      "11/01/2019 05:23:40 - INFO - __main__ -   balance Acc: 0.9806877674553012\n",
      "11/01/2019 05:23:40 - INFO - __main__ -   AUC        : 0.9953124935954191\n",
      "11/01/2019 05:23:40 - INFO - __main__ -   confusion  : (22961, 399, 504, 22890)\n"
     ]
    },
    {
     "name": "stdout",
     "output_type": "stream",
     "text": [
      "\n"
     ]
    },
    {
     "data": {
      "application/vnd.jupyter.widget-view+json": {
       "model_id": "a03619f918e944bba158399a76a68264",
       "version_major": 2,
       "version_minor": 0
      },
      "text/plain": [
       "HBox(children=(IntProgress(value=0, description='Validation :4', max=4, style=ProgressStyle(description_width=…"
      ]
     },
     "metadata": {},
     "output_type": "display_data"
    },
    {
     "name": "stderr",
     "output_type": "stream",
     "text": [
      "11/01/2019 05:23:40 - INFO - __main__ -   Loss       : 38.869568824768066\n",
      "11/01/2019 05:23:40 - INFO - __main__ -   Bias Loss  : 5.6409889526749205e-06\n",
      "11/01/2019 05:23:40 - INFO - __main__ -   Accuracy   : 0.9851694915254238\n",
      "11/01/2019 05:23:40 - INFO - __main__ -   balance Acc: 0.9846319057158843\n",
      "11/01/2019 05:23:40 - INFO - __main__ -   AUC        : 0.9976537260634938\n",
      "11/01/2019 05:23:40 - INFO - __main__ -   confusion  : (251, 2, 5, 214)\n"
     ]
    },
    {
     "name": "stdout",
     "output_type": "stream",
     "text": [
      "\n"
     ]
    },
    {
     "data": {
      "application/vnd.jupyter.widget-view+json": {
       "model_id": "61cb27365ae741bf87431559ab09e342",
       "version_major": 2,
       "version_minor": 0
      },
      "text/plain": [
       "HBox(children=(IntProgress(value=0, description='Test 1 :4', max=41, style=ProgressStyle(description_width='in…"
      ]
     },
     "metadata": {},
     "output_type": "display_data"
    },
    {
     "name": "stderr",
     "output_type": "stream",
     "text": [
      "11/01/2019 05:23:41 - INFO - __main__ -   Loss       : 43.11017013177639\n",
      "11/01/2019 05:23:41 - INFO - __main__ -   Bias Loss  : 4.387826814495184e-06\n",
      "11/01/2019 05:23:41 - INFO - __main__ -   Accuracy   : 0.9782774390243902\n",
      "11/01/2019 05:23:41 - INFO - __main__ -   balance Acc: 0.9782774390243902\n",
      "11/01/2019 05:23:41 - INFO - __main__ -   AUC        : 0.9948434914810752\n",
      "11/01/2019 05:23:41 - INFO - __main__ -   confusion  : (2563, 61, 53, 2571)\n"
     ]
    },
    {
     "name": "stdout",
     "output_type": "stream",
     "text": [
      "\n"
     ]
    },
    {
     "data": {
      "application/vnd.jupyter.widget-view+json": {
       "model_id": "84bdb4dab3d84626bf24cb262f0d4b9d",
       "version_major": 2,
       "version_minor": 0
      },
      "text/plain": [
       "HBox(children=(IntProgress(value=0, description='Test 2 :4', max=235, style=ProgressStyle(description_width='i…"
      ]
     },
     "metadata": {},
     "output_type": "display_data"
    },
    {
     "name": "stderr",
     "output_type": "stream",
     "text": [
      "11/01/2019 05:23:46 - INFO - __main__ -   Loss       : 90.60998681251039\n",
      "11/01/2019 05:23:46 - INFO - __main__ -   Bias Loss  : 4.914477050950439e-06\n",
      "11/01/2019 05:23:46 - INFO - __main__ -   Accuracy   : 0.5897666666666667\n",
      "11/01/2019 05:23:46 - INFO - __main__ -   balance Acc: 0.5903266479235412\n",
      "11/01/2019 05:23:46 - INFO - __main__ -   AUC        : 0.7408197973052123\n",
      "11/01/2019 05:23:46 - INFO - __main__ -   confusion  : (14311, 666, 11641, 3382)\n"
     ]
    },
    {
     "name": "stdout",
     "output_type": "stream",
     "text": [
      "\n"
     ]
    },
    {
     "data": {
      "application/vnd.jupyter.widget-view+json": {
       "model_id": "422255984ecb4f2a9449a0372dd08a97",
       "version_major": 2,
       "version_minor": 0
      },
      "text/plain": [
       "HBox(children=(IntProgress(value=0, description='Training :5', max=366, style=ProgressStyle(description_width=…"
      ]
     },
     "metadata": {},
     "output_type": "display_data"
    },
    {
     "name": "stderr",
     "output_type": "stream",
     "text": [
      "11/01/2019 05:24:13 - INFO - __main__ -   Loss       : 42.38656806164101\n",
      "11/01/2019 05:24:13 - INFO - __main__ -   Bias Loss  : 9.758477108901956e-05\n",
      "11/01/2019 05:24:13 - INFO - __main__ -   Accuracy   : 0.9819266800701544\n",
      "11/01/2019 05:24:13 - INFO - __main__ -   balance Acc: 0.9819292369194302\n",
      "11/01/2019 05:24:13 - INFO - __main__ -   AUC        : 0.9952879503262163\n",
      "11/01/2019 05:24:13 - INFO - __main__ -   confusion  : (23020, 340, 505, 22889)\n"
     ]
    },
    {
     "name": "stdout",
     "output_type": "stream",
     "text": [
      "\n"
     ]
    },
    {
     "data": {
      "application/vnd.jupyter.widget-view+json": {
       "model_id": "73bba5c408c94c769c6a8961fc19d4fc",
       "version_major": 2,
       "version_minor": 0
      },
      "text/plain": [
       "HBox(children=(IntProgress(value=0, description='Validation :5', max=4, style=ProgressStyle(description_width=…"
      ]
     },
     "metadata": {},
     "output_type": "display_data"
    },
    {
     "name": "stderr",
     "output_type": "stream",
     "text": [
      "11/01/2019 05:24:13 - INFO - __main__ -   Loss       : 38.801331996917725\n",
      "11/01/2019 05:24:13 - INFO - __main__ -   Bias Loss  : 1.8297940827710523e-07\n",
      "11/01/2019 05:24:13 - INFO - __main__ -   Accuracy   : 0.9851694915254238\n",
      "11/01/2019 05:24:13 - INFO - __main__ -   balance Acc: 0.9846319057158843\n",
      "11/01/2019 05:24:13 - INFO - __main__ -   AUC        : 0.9969498438825419\n",
      "11/01/2019 05:24:13 - INFO - __main__ -   confusion  : (251, 2, 5, 214)\n"
     ]
    },
    {
     "name": "stdout",
     "output_type": "stream",
     "text": [
      "\n"
     ]
    },
    {
     "data": {
      "application/vnd.jupyter.widget-view+json": {
       "model_id": "df3a544690d24518b09c65450069199f",
       "version_major": 2,
       "version_minor": 0
      },
      "text/plain": [
       "HBox(children=(IntProgress(value=0, description='Test 1 :5', max=41, style=ProgressStyle(description_width='in…"
      ]
     },
     "metadata": {},
     "output_type": "display_data"
    },
    {
     "name": "stderr",
     "output_type": "stream",
     "text": [
      "11/01/2019 05:24:14 - INFO - __main__ -   Loss       : 42.518962022734854\n",
      "11/01/2019 05:24:14 - INFO - __main__ -   Bias Loss  : 2.0850834949911292e-07\n",
      "11/01/2019 05:24:14 - INFO - __main__ -   Accuracy   : 0.9824695121951219\n",
      "11/01/2019 05:24:14 - INFO - __main__ -   balance Acc: 0.9824695121951219\n",
      "11/01/2019 05:24:14 - INFO - __main__ -   AUC        : 0.9944778614849792\n",
      "11/01/2019 05:24:14 - INFO - __main__ -   confusion  : (2587, 37, 55, 2569)\n"
     ]
    },
    {
     "name": "stdout",
     "output_type": "stream",
     "text": [
      "\n"
     ]
    },
    {
     "data": {
      "application/vnd.jupyter.widget-view+json": {
       "model_id": "181637ec546146e8a37a767b74ebe6ca",
       "version_major": 2,
       "version_minor": 0
      },
      "text/plain": [
       "HBox(children=(IntProgress(value=0, description='Test 2 :5', max=235, style=ProgressStyle(description_width='i…"
      ]
     },
     "metadata": {},
     "output_type": "display_data"
    },
    {
     "name": "stderr",
     "output_type": "stream",
     "text": [
      "11/01/2019 05:24:20 - INFO - __main__ -   Loss       : 92.56678713534741\n",
      "11/01/2019 05:24:20 - INFO - __main__ -   Bias Loss  : 2.1585331177427505e-07\n",
      "11/01/2019 05:24:20 - INFO - __main__ -   Accuracy   : 0.5817333333333333\n",
      "11/01/2019 05:24:20 - INFO - __main__ -   balance Acc: 0.5823339291317712\n",
      "11/01/2019 05:24:20 - INFO - __main__ -   AUC        : 0.712178985523037\n",
      "11/01/2019 05:24:20 - INFO - __main__ -   confusion  : (14588, 389, 12159, 2864)\n"
     ]
    },
    {
     "name": "stdout",
     "output_type": "stream",
     "text": [
      "\n"
     ]
    },
    {
     "data": {
      "application/vnd.jupyter.widget-view+json": {
       "model_id": "9c16d2cf1f654903980180c9574612fb",
       "version_major": 2,
       "version_minor": 0
      },
      "text/plain": [
       "HBox(children=(IntProgress(value=0, description='Training :6', max=366, style=ProgressStyle(description_width=…"
      ]
     },
     "metadata": {},
     "output_type": "display_data"
    },
    {
     "name": "stderr",
     "output_type": "stream",
     "text": [
      "11/01/2019 05:24:46 - INFO - __main__ -   Loss       : 42.18112173236784\n",
      "11/01/2019 05:24:46 - INFO - __main__ -   Bias Loss  : 5.9725133439765756e-05\n",
      "11/01/2019 05:24:46 - INFO - __main__ -   Accuracy   : 0.9833169354493733\n",
      "11/01/2019 05:24:46 - INFO - __main__ -   balance Acc: 0.9833205351506826\n",
      "11/01/2019 05:24:46 - INFO - __main__ -   AUC        : 0.9959716457489394\n",
      "11/01/2019 05:24:46 - INFO - __main__ -   confusion  : (23086, 274, 506, 22888)\n"
     ]
    },
    {
     "name": "stdout",
     "output_type": "stream",
     "text": [
      "\n"
     ]
    },
    {
     "data": {
      "application/vnd.jupyter.widget-view+json": {
       "model_id": "bdd19e4fdc304a46afd0f5f304a1426d",
       "version_major": 2,
       "version_minor": 0
      },
      "text/plain": [
       "HBox(children=(IntProgress(value=0, description='Validation :6', max=4, style=ProgressStyle(description_width=…"
      ]
     },
     "metadata": {},
     "output_type": "display_data"
    },
    {
     "name": "stderr",
     "output_type": "stream",
     "text": [
      "11/01/2019 05:24:46 - INFO - __main__ -   Loss       : 38.96700859069824\n",
      "11/01/2019 05:24:46 - INFO - __main__ -   Bias Loss  : 2.6485342679996187e-05\n",
      "11/01/2019 05:24:46 - INFO - __main__ -   Accuracy   : 0.9851694915254238\n",
      "11/01/2019 05:24:46 - INFO - __main__ -   balance Acc: 0.9846319057158843\n",
      "11/01/2019 05:24:46 - INFO - __main__ -   AUC        : 0.9969317956214919\n",
      "11/01/2019 05:24:46 - INFO - __main__ -   confusion  : (251, 2, 5, 214)\n"
     ]
    },
    {
     "name": "stdout",
     "output_type": "stream",
     "text": [
      "\n"
     ]
    },
    {
     "data": {
      "application/vnd.jupyter.widget-view+json": {
       "model_id": "759e4143a2de4ba6a6010dbfbd450eaf",
       "version_major": 2,
       "version_minor": 0
      },
      "text/plain": [
       "HBox(children=(IntProgress(value=0, description='Test 1 :6', max=41, style=ProgressStyle(description_width='in…"
      ]
     },
     "metadata": {},
     "output_type": "display_data"
    },
    {
     "name": "stderr",
     "output_type": "stream",
     "text": [
      "11/01/2019 05:24:47 - INFO - __main__ -   Loss       : 42.794158935546875\n",
      "11/01/2019 05:24:47 - INFO - __main__ -   Bias Loss  : 2.357275370181773e-05\n",
      "11/01/2019 05:24:47 - INFO - __main__ -   Accuracy   : 0.9799923780487805\n",
      "11/01/2019 05:24:47 - INFO - __main__ -   balance Acc: 0.9799923780487805\n",
      "11/01/2019 05:24:47 - INFO - __main__ -   AUC        : 0.995070712187686\n",
      "11/01/2019 05:24:47 - INFO - __main__ -   confusion  : (2584, 40, 65, 2559)\n"
     ]
    },
    {
     "name": "stdout",
     "output_type": "stream",
     "text": [
      "\n"
     ]
    },
    {
     "data": {
      "application/vnd.jupyter.widget-view+json": {
       "model_id": "c16d4fb89e004e26bec61c4077ea4012",
       "version_major": 2,
       "version_minor": 0
      },
      "text/plain": [
       "HBox(children=(IntProgress(value=0, description='Test 2 :6', max=235, style=ProgressStyle(description_width='i…"
      ]
     },
     "metadata": {},
     "output_type": "display_data"
    },
    {
     "name": "stderr",
     "output_type": "stream",
     "text": [
      "11/01/2019 05:24:53 - INFO - __main__ -   Loss       : 95.35359745431454\n",
      "11/01/2019 05:24:53 - INFO - __main__ -   Bias Loss  : 2.3251251345273067e-05\n",
      "11/01/2019 05:24:53 - INFO - __main__ -   Accuracy   : 0.5587\n",
      "11/01/2019 05:24:53 - INFO - __main__ -   balance Acc: 0.5593312594943834\n",
      "11/01/2019 05:24:53 - INFO - __main__ -   AUC        : 0.7308598783327805\n",
      "11/01/2019 05:24:53 - INFO - __main__ -   confusion  : (14543, 434, 12805, 2218)\n"
     ]
    },
    {
     "name": "stdout",
     "output_type": "stream",
     "text": [
      "\n"
     ]
    },
    {
     "data": {
      "application/vnd.jupyter.widget-view+json": {
       "model_id": "556722d365514646963b23753d74a03e",
       "version_major": 2,
       "version_minor": 0
      },
      "text/plain": [
       "HBox(children=(IntProgress(value=0, description='Training :7', max=366, style=ProgressStyle(description_width=…"
      ]
     },
     "metadata": {},
     "output_type": "display_data"
    },
    {
     "name": "stderr",
     "output_type": "stream",
     "text": [
      "11/01/2019 05:25:19 - INFO - __main__ -   Loss       : 42.146374405407514\n",
      "11/01/2019 05:25:19 - INFO - __main__ -   Bias Loss  : 5.930575199692025e-05\n",
      "11/01/2019 05:25:19 - INFO - __main__ -   Accuracy   : 0.9836377636138084\n",
      "11/01/2019 05:25:19 - INFO - __main__ -   balance Acc: 0.9836416279024829\n",
      "11/01/2019 05:25:19 - INFO - __main__ -   AUC        : 0.9964976567285136\n",
      "11/01/2019 05:25:19 - INFO - __main__ -   confusion  : (23102, 258, 507, 22887)\n"
     ]
    },
    {
     "name": "stdout",
     "output_type": "stream",
     "text": [
      "\n"
     ]
    },
    {
     "data": {
      "application/vnd.jupyter.widget-view+json": {
       "model_id": "0892239d02a64ea3b1b3b050b08aab93",
       "version_major": 2,
       "version_minor": 0
      },
      "text/plain": [
       "HBox(children=(IntProgress(value=0, description='Validation :7', max=4, style=ProgressStyle(description_width=…"
      ]
     },
     "metadata": {},
     "output_type": "display_data"
    },
    {
     "name": "stderr",
     "output_type": "stream",
     "text": [
      "11/01/2019 05:25:19 - INFO - __main__ -   Loss       : 40.547046184539795\n",
      "11/01/2019 05:25:19 - INFO - __main__ -   Bias Loss  : 3.436819341720973e-06\n",
      "11/01/2019 05:25:19 - INFO - __main__ -   Accuracy   : 0.9682203389830508\n",
      "11/01/2019 05:25:19 - INFO - __main__ -   balance Acc: 0.9657534246575342\n",
      "11/01/2019 05:25:19 - INFO - __main__ -   AUC        : 0.9967152164888913\n",
      "11/01/2019 05:25:19 - INFO - __main__ -   confusion  : (253, 0, 15, 204)\n"
     ]
    },
    {
     "name": "stdout",
     "output_type": "stream",
     "text": [
      "\n"
     ]
    },
    {
     "data": {
      "application/vnd.jupyter.widget-view+json": {
       "model_id": "dfa4fd8c6fa244058654593887eeb7a8",
       "version_major": 2,
       "version_minor": 0
      },
      "text/plain": [
       "HBox(children=(IntProgress(value=0, description='Test 1 :7', max=41, style=ProgressStyle(description_width='in…"
      ]
     },
     "metadata": {},
     "output_type": "display_data"
    },
    {
     "name": "stderr",
     "output_type": "stream",
     "text": [
      "11/01/2019 05:25:20 - INFO - __main__ -   Loss       : 45.01048734711438\n",
      "11/01/2019 05:25:20 - INFO - __main__ -   Bias Loss  : 5.217873285506694e-06\n",
      "11/01/2019 05:25:20 - INFO - __main__ -   Accuracy   : 0.9576981707317073\n",
      "11/01/2019 05:25:20 - INFO - __main__ -   balance Acc: 0.9576981707317074\n",
      "11/01/2019 05:25:20 - INFO - __main__ -   AUC        : 0.9925683070902737\n",
      "11/01/2019 05:25:20 - INFO - __main__ -   confusion  : (2609, 15, 207, 2417)\n"
     ]
    },
    {
     "name": "stdout",
     "output_type": "stream",
     "text": [
      "\n"
     ]
    },
    {
     "data": {
      "application/vnd.jupyter.widget-view+json": {
       "model_id": "931e366d0a4a433eb4e719e32adfb9ac",
       "version_major": 2,
       "version_minor": 0
      },
      "text/plain": [
       "HBox(children=(IntProgress(value=0, description='Test 2 :7', max=235, style=ProgressStyle(description_width='i…"
      ]
     },
     "metadata": {},
     "output_type": "display_data"
    },
    {
     "name": "stderr",
     "output_type": "stream",
     "text": [
      "11/01/2019 05:25:26 - INFO - __main__ -   Loss       : 95.58109635698034\n",
      "11/01/2019 05:25:26 - INFO - __main__ -   Bias Loss  : 5.4056349540698064e-06\n",
      "11/01/2019 05:25:26 - INFO - __main__ -   Accuracy   : 0.5557666666666666\n",
      "11/01/2019 05:25:26 - INFO - __main__ -   balance Acc: 0.5564318571220108\n",
      "11/01/2019 05:25:26 - INFO - __main__ -   AUC        : 0.7255314746940005\n",
      "11/01/2019 05:25:26 - INFO - __main__ -   confusion  : (14831, 146, 13181, 1842)\n"
     ]
    },
    {
     "name": "stdout",
     "output_type": "stream",
     "text": [
      "\n"
     ]
    },
    {
     "data": {
      "application/vnd.jupyter.widget-view+json": {
       "model_id": "6ac86954787248acb70d0f8cd8aaddb4",
       "version_major": 2,
       "version_minor": 0
      },
      "text/plain": [
       "HBox(children=(IntProgress(value=0, description='Training :8', max=366, style=ProgressStyle(description_width=…"
      ]
     },
     "metadata": {},
     "output_type": "display_data"
    },
    {
     "name": "stderr",
     "output_type": "stream",
     "text": [
      "11/01/2019 05:25:53 - INFO - __main__ -   Loss       : 42.06037813718201\n",
      "11/01/2019 05:25:53 - INFO - __main__ -   Bias Loss  : 6.87592487140124e-05\n",
      "11/01/2019 05:25:53 - INFO - __main__ -   Accuracy   : 0.9844291397527485\n",
      "11/01/2019 05:25:53 - INFO - __main__ -   balance Acc: 0.9844325222864778\n",
      "11/01/2019 05:25:53 - INFO - __main__ -   AUC        : 0.9964976237906688\n",
      "11/01/2019 05:25:53 - INFO - __main__ -   confusion  : (23105, 255, 473, 22921)\n"
     ]
    },
    {
     "name": "stdout",
     "output_type": "stream",
     "text": [
      "\n"
     ]
    },
    {
     "data": {
      "application/vnd.jupyter.widget-view+json": {
       "model_id": "d83a5a77972c4e1983fd70f054b74b0a",
       "version_major": 2,
       "version_minor": 0
      },
      "text/plain": [
       "HBox(children=(IntProgress(value=0, description='Validation :8', max=4, style=ProgressStyle(description_width=…"
      ]
     },
     "metadata": {},
     "output_type": "display_data"
    },
    {
     "name": "stderr",
     "output_type": "stream",
     "text": [
      "11/01/2019 05:25:53 - INFO - __main__ -   Loss       : 39.92915391921997\n",
      "11/01/2019 05:25:53 - INFO - __main__ -   Bias Loss  : 0.00016188581539771415\n",
      "11/01/2019 05:25:53 - INFO - __main__ -   Accuracy   : 0.9745762711864406\n",
      "11/01/2019 05:25:53 - INFO - __main__ -   balance Acc: 0.9735232010395798\n",
      "11/01/2019 05:25:53 - INFO - __main__ -   AUC        : 0.9952172108217372\n",
      "11/01/2019 05:25:53 - INFO - __main__ -   confusion  : (250, 3, 9, 210)\n"
     ]
    },
    {
     "name": "stdout",
     "output_type": "stream",
     "text": [
      "\n"
     ]
    },
    {
     "data": {
      "application/vnd.jupyter.widget-view+json": {
       "model_id": "7062c50ae7a64f17aab5c1e7bcc68ec5",
       "version_major": 2,
       "version_minor": 0
      },
      "text/plain": [
       "HBox(children=(IntProgress(value=0, description='Test 1 :8', max=41, style=ProgressStyle(description_width='in…"
      ]
     },
     "metadata": {},
     "output_type": "display_data"
    },
    {
     "name": "stderr",
     "output_type": "stream",
     "text": [
      "11/01/2019 05:25:54 - INFO - __main__ -   Loss       : 44.52674540077768\n",
      "11/01/2019 05:25:54 - INFO - __main__ -   Bias Loss  : 0.00017349006724411378\n",
      "11/01/2019 05:25:54 - INFO - __main__ -   Accuracy   : 0.9689405487804879\n",
      "11/01/2019 05:25:54 - INFO - __main__ -   balance Acc: 0.9689405487804879\n",
      "11/01/2019 05:25:54 - INFO - __main__ -   AUC        : 0.9912369346278257\n",
      "11/01/2019 05:25:54 - INFO - __main__ -   confusion  : (2540, 84, 79, 2545)\n"
     ]
    },
    {
     "name": "stdout",
     "output_type": "stream",
     "text": [
      "\n"
     ]
    },
    {
     "data": {
      "application/vnd.jupyter.widget-view+json": {
       "model_id": "4abb45bdbb8f4805a5f35f4fc9e4d3ba",
       "version_major": 2,
       "version_minor": 0
      },
      "text/plain": [
       "HBox(children=(IntProgress(value=0, description='Test 2 :8', max=235, style=ProgressStyle(description_width='i…"
      ]
     },
     "metadata": {},
     "output_type": "display_data"
    },
    {
     "name": "stderr",
     "output_type": "stream",
     "text": [
      "11/01/2019 05:25:59 - INFO - __main__ -   Loss       : 90.72379971767994\n",
      "11/01/2019 05:25:59 - INFO - __main__ -   Bias Loss  : 0.0001773206905687646\n",
      "11/01/2019 05:25:59 - INFO - __main__ -   Accuracy   : 0.5808666666666666\n",
      "11/01/2019 05:25:59 - INFO - __main__ -   balance Acc: 0.5814331181249756\n",
      "11/01/2019 05:25:59 - INFO - __main__ -   AUC        : 0.7373112223894962\n",
      "11/01/2019 05:25:59 - INFO - __main__ -   confusion  : (14241, 736, 11838, 3185)\n"
     ]
    },
    {
     "name": "stdout",
     "output_type": "stream",
     "text": [
      "\n"
     ]
    },
    {
     "data": {
      "application/vnd.jupyter.widget-view+json": {
       "model_id": "177d86e42342443986a7f8bebdbdbd2c",
       "version_major": 2,
       "version_minor": 0
      },
      "text/plain": [
       "HBox(children=(IntProgress(value=0, description='Training :9', max=366, style=ProgressStyle(description_width=…"
      ]
     },
     "metadata": {},
     "output_type": "display_data"
    },
    {
     "name": "stderr",
     "output_type": "stream",
     "text": [
      "11/01/2019 05:26:26 - INFO - __main__ -   Loss       : 42.34426698007219\n",
      "11/01/2019 05:26:26 - INFO - __main__ -   Bias Loss  : 5.8880775186064955e-05\n",
      "11/01/2019 05:26:26 - INFO - __main__ -   Accuracy   : 0.9818411258929717\n",
      "11/01/2019 05:26:26 - INFO - __main__ -   balance Acc: 0.9818437449129328\n",
      "11/01/2019 05:26:26 - INFO - __main__ -   AUC        : 0.9959067325760264\n",
      "11/01/2019 05:26:26 - INFO - __main__ -   confusion  : (23020, 340, 509, 22885)\n"
     ]
    },
    {
     "name": "stdout",
     "output_type": "stream",
     "text": [
      "\n"
     ]
    },
    {
     "data": {
      "application/vnd.jupyter.widget-view+json": {
       "model_id": "0892fb176c6d41f1b55c3a2886d764b7",
       "version_major": 2,
       "version_minor": 0
      },
      "text/plain": [
       "HBox(children=(IntProgress(value=0, description='Validation :9', max=4, style=ProgressStyle(description_width=…"
      ]
     },
     "metadata": {},
     "output_type": "display_data"
    },
    {
     "name": "stderr",
     "output_type": "stream",
     "text": [
      "11/01/2019 05:26:26 - INFO - __main__ -   Loss       : 38.55383253097534\n",
      "11/01/2019 05:26:26 - INFO - __main__ -   Bias Loss  : 3.023556143916511e-07\n",
      "11/01/2019 05:26:26 - INFO - __main__ -   Accuracy   : 0.9851694915254238\n",
      "11/01/2019 05:26:26 - INFO - __main__ -   balance Acc: 0.9846319057158843\n",
      "11/01/2019 05:26:26 - INFO - __main__ -   AUC        : 0.997346905625643\n",
      "11/01/2019 05:26:26 - INFO - __main__ -   confusion  : (251, 2, 5, 214)\n"
     ]
    },
    {
     "name": "stdout",
     "output_type": "stream",
     "text": [
      "\n"
     ]
    },
    {
     "data": {
      "application/vnd.jupyter.widget-view+json": {
       "model_id": "1420f6fadd6142d5a5638313701dc6d8",
       "version_major": 2,
       "version_minor": 0
      },
      "text/plain": [
       "HBox(children=(IntProgress(value=0, description='Test 1 :9', max=41, style=ProgressStyle(description_width='in…"
      ]
     },
     "metadata": {},
     "output_type": "display_data"
    },
    {
     "name": "stderr",
     "output_type": "stream",
     "text": [
      "11/01/2019 05:26:27 - INFO - __main__ -   Loss       : 42.535487477372335\n",
      "11/01/2019 05:26:27 - INFO - __main__ -   Bias Loss  : 2.9351254790153826e-07\n",
      "11/01/2019 05:26:27 - INFO - __main__ -   Accuracy   : 0.981516768292683\n",
      "11/01/2019 05:26:27 - INFO - __main__ -   balance Acc: 0.981516768292683\n",
      "11/01/2019 05:26:27 - INFO - __main__ -   AUC        : 0.9950447150598603\n",
      "11/01/2019 05:26:27 - INFO - __main__ -   confusion  : (2580, 44, 53, 2571)\n"
     ]
    },
    {
     "name": "stdout",
     "output_type": "stream",
     "text": [
      "\n"
     ]
    },
    {
     "data": {
      "application/vnd.jupyter.widget-view+json": {
       "model_id": "77ed033d7767488d92c77599aef3e134",
       "version_major": 2,
       "version_minor": 0
      },
      "text/plain": [
       "HBox(children=(IntProgress(value=0, description='Test 2 :9', max=235, style=ProgressStyle(description_width='i…"
      ]
     },
     "metadata": {},
     "output_type": "display_data"
    },
    {
     "name": "stderr",
     "output_type": "stream",
     "text": [
      "11/01/2019 05:26:32 - INFO - __main__ -   Loss       : 92.460972254327\n",
      "11/01/2019 05:26:32 - INFO - __main__ -   Bias Loss  : 3.002857513865093e-07\n",
      "11/01/2019 05:26:32 - INFO - __main__ -   Accuracy   : 0.5806666666666667\n",
      "11/01/2019 05:26:32 - INFO - __main__ -   balance Acc: 0.5812638866159823\n",
      "11/01/2019 05:26:32 - INFO - __main__ -   AUC        : 0.7349667435440326\n",
      "11/01/2019 05:26:32 - INFO - __main__ -   confusion  : (14539, 438, 12142, 2881)\n"
     ]
    },
    {
     "name": "stdout",
     "output_type": "stream",
     "text": [
      "\n"
     ]
    },
    {
     "data": {
      "application/vnd.jupyter.widget-view+json": {
       "model_id": "9d74aded6d3245d4a4f484ab56995bf7",
       "version_major": 2,
       "version_minor": 0
      },
      "text/plain": [
       "HBox(children=(IntProgress(value=0, description='Training :10', max=366, style=ProgressStyle(description_width…"
      ]
     },
     "metadata": {},
     "output_type": "display_data"
    },
    {
     "name": "stderr",
     "output_type": "stream",
     "text": [
      "11/01/2019 05:26:59 - INFO - __main__ -   Loss       : 42.04192169637628\n",
      "11/01/2019 05:26:59 - INFO - __main__ -   Bias Loss  : 3.7840864429905894e-06\n",
      "11/01/2019 05:26:59 - INFO - __main__ -   Accuracy   : 0.9846858022842966\n",
      "11/01/2019 05:26:59 - INFO - __main__ -   balance Acc: 0.9846892782776523\n",
      "11/01/2019 05:26:59 - INFO - __main__ -   AUC        : 0.9965559905668939\n",
      "11/01/2019 05:26:59 - INFO - __main__ -   confusion  : (23114, 246, 470, 22924)\n"
     ]
    },
    {
     "name": "stdout",
     "output_type": "stream",
     "text": [
      "\n"
     ]
    },
    {
     "data": {
      "application/vnd.jupyter.widget-view+json": {
       "model_id": "24762f9ab45e4e89ae44b5e880b522c5",
       "version_major": 2,
       "version_minor": 0
      },
      "text/plain": [
       "HBox(children=(IntProgress(value=0, description='Validation :10', max=4, style=ProgressStyle(description_width…"
      ]
     },
     "metadata": {},
     "output_type": "display_data"
    },
    {
     "name": "stderr",
     "output_type": "stream",
     "text": [
      "11/01/2019 05:26:59 - INFO - __main__ -   Loss       : 39.03018236160278\n",
      "11/01/2019 05:26:59 - INFO - __main__ -   Bias Loss  : 1.1805545688496027e-07\n",
      "11/01/2019 05:26:59 - INFO - __main__ -   Accuracy   : 0.9830508474576272\n",
      "11/01/2019 05:26:59 - INFO - __main__ -   balance Acc: 0.9820419802552024\n",
      "11/01/2019 05:26:59 - INFO - __main__ -   AUC        : 0.9964625408341906\n",
      "11/01/2019 05:26:59 - INFO - __main__ -   confusion  : (252, 1, 7, 212)\n"
     ]
    },
    {
     "name": "stdout",
     "output_type": "stream",
     "text": [
      "\n"
     ]
    },
    {
     "data": {
      "application/vnd.jupyter.widget-view+json": {
       "model_id": "589d865e92084df78b183c969b8645a0",
       "version_major": 2,
       "version_minor": 0
      },
      "text/plain": [
       "HBox(children=(IntProgress(value=0, description='Test 1 :10', max=41, style=ProgressStyle(description_width='i…"
      ]
     },
     "metadata": {},
     "output_type": "display_data"
    },
    {
     "name": "stderr",
     "output_type": "stream",
     "text": [
      "11/01/2019 05:27:00 - INFO - __main__ -   Loss       : 42.670926815126\n",
      "11/01/2019 05:27:00 - INFO - __main__ -   Bias Loss  : 1.240593276019899e-07\n",
      "11/01/2019 05:27:00 - INFO - __main__ -   Accuracy   : 0.9817073170731707\n",
      "11/01/2019 05:27:00 - INFO - __main__ -   balance Acc: 0.9817073170731707\n",
      "11/01/2019 05:27:00 - INFO - __main__ -   AUC        : 0.9944626117731261\n",
      "11/01/2019 05:27:00 - INFO - __main__ -   confusion  : (2593, 31, 65, 2559)\n"
     ]
    },
    {
     "name": "stdout",
     "output_type": "stream",
     "text": [
      "\n"
     ]
    },
    {
     "data": {
      "application/vnd.jupyter.widget-view+json": {
       "model_id": "675735664b1546e68a54070d3f91c41b",
       "version_major": 2,
       "version_minor": 0
      },
      "text/plain": [
       "HBox(children=(IntProgress(value=0, description='Test 2 :10', max=235, style=ProgressStyle(description_width='…"
      ]
     },
     "metadata": {},
     "output_type": "display_data"
    },
    {
     "name": "stderr",
     "output_type": "stream",
     "text": [
      "11/01/2019 05:27:06 - INFO - __main__ -   Loss       : 92.86431540631233\n",
      "11/01/2019 05:27:06 - INFO - __main__ -   Bias Loss  : 1.231050052506053e-07\n",
      "11/01/2019 05:27:06 - INFO - __main__ -   Accuracy   : 0.5799333333333333\n",
      "11/01/2019 05:27:06 - INFO - __main__ -   balance Acc: 0.5805315737831224\n",
      "11/01/2019 05:27:06 - INFO - __main__ -   AUC        : 0.7426934839326801\n",
      "11/01/2019 05:27:06 - INFO - __main__ -   confusion  : (14538, 439, 12163, 2860)\n"
     ]
    },
    {
     "name": "stdout",
     "output_type": "stream",
     "text": [
      "\n"
     ]
    },
    {
     "data": {
      "application/vnd.jupyter.widget-view+json": {
       "model_id": "b639c35aa15e4bd7aa340909328cbe6e",
       "version_major": 2,
       "version_minor": 0
      },
      "text/plain": [
       "HBox(children=(IntProgress(value=0, description='Training :11', max=366, style=ProgressStyle(description_width…"
      ]
     },
     "metadata": {},
     "output_type": "display_data"
    },
    {
     "name": "stderr",
     "output_type": "stream",
     "text": [
      "11/01/2019 05:27:32 - INFO - __main__ -   Loss       : 42.255635060899245\n",
      "11/01/2019 05:27:32 - INFO - __main__ -   Bias Loss  : 5.123458071836607e-05\n",
      "11/01/2019 05:27:32 - INFO - __main__ -   Accuracy   : 0.98273944475339\n",
      "11/01/2019 05:27:32 - INFO - __main__ -   balance Acc: 0.9827424375439904\n",
      "11/01/2019 05:27:32 - INFO - __main__ -   AUC        : 0.9960208750180062\n",
      "11/01/2019 05:27:32 - INFO - __main__ -   confusion  : (23053, 307, 500, 22894)\n"
     ]
    },
    {
     "name": "stdout",
     "output_type": "stream",
     "text": [
      "\n"
     ]
    },
    {
     "data": {
      "application/vnd.jupyter.widget-view+json": {
       "model_id": "c4ad173688c245ab987cb3ccec5af619",
       "version_major": 2,
       "version_minor": 0
      },
      "text/plain": [
       "HBox(children=(IntProgress(value=0, description='Validation :11', max=4, style=ProgressStyle(description_width…"
      ]
     },
     "metadata": {},
     "output_type": "display_data"
    },
    {
     "name": "stderr",
     "output_type": "stream",
     "text": [
      "11/01/2019 05:27:32 - INFO - __main__ -   Loss       : 39.48077440261841\n",
      "11/01/2019 05:27:32 - INFO - __main__ -   Bias Loss  : 4.5595818427041875e-07\n",
      "11/01/2019 05:27:32 - INFO - __main__ -   Accuracy   : 0.9809322033898306\n",
      "11/01/2019 05:27:32 - INFO - __main__ -   balance Acc: 0.9809861569837746\n",
      "11/01/2019 05:27:32 - INFO - __main__ -   AUC        : 0.9955962243037884\n",
      "11/01/2019 05:27:32 - INFO - __main__ -   confusion  : (248, 5, 4, 215)\n"
     ]
    },
    {
     "name": "stdout",
     "output_type": "stream",
     "text": [
      "\n"
     ]
    },
    {
     "data": {
      "application/vnd.jupyter.widget-view+json": {
       "model_id": "d35f186d72004c27989462edee1de666",
       "version_major": 2,
       "version_minor": 0
      },
      "text/plain": [
       "HBox(children=(IntProgress(value=0, description='Test 1 :11', max=41, style=ProgressStyle(description_width='i…"
      ]
     },
     "metadata": {},
     "output_type": "display_data"
    },
    {
     "name": "stderr",
     "output_type": "stream",
     "text": [
      "11/01/2019 05:27:33 - INFO - __main__ -   Loss       : 43.82027416694455\n",
      "11/01/2019 05:27:33 - INFO - __main__ -   Bias Loss  : 5.515690761536935e-07\n",
      "11/01/2019 05:27:33 - INFO - __main__ -   Accuracy   : 0.9723704268292683\n",
      "11/01/2019 05:27:33 - INFO - __main__ -   balance Acc: 0.9723704268292683\n",
      "11/01/2019 05:27:33 - INFO - __main__ -   AUC        : 0.9941311847021863\n",
      "11/01/2019 05:27:33 - INFO - __main__ -   confusion  : (2531, 93, 52, 2572)\n"
     ]
    },
    {
     "name": "stdout",
     "output_type": "stream",
     "text": [
      "\n"
     ]
    },
    {
     "data": {
      "application/vnd.jupyter.widget-view+json": {
       "model_id": "02a7d25b1d93470b93839c19d3cd628d",
       "version_major": 2,
       "version_minor": 0
      },
      "text/plain": [
       "HBox(children=(IntProgress(value=0, description='Test 2 :11', max=235, style=ProgressStyle(description_width='…"
      ]
     },
     "metadata": {},
     "output_type": "display_data"
    },
    {
     "name": "stderr",
     "output_type": "stream",
     "text": [
      "11/01/2019 05:27:39 - INFO - __main__ -   Loss       : 89.88877626784304\n",
      "11/01/2019 05:27:39 - INFO - __main__ -   Bias Loss  : 4.799431201728287e-07\n",
      "11/01/2019 05:27:39 - INFO - __main__ -   Accuracy   : 0.5944333333333334\n",
      "11/01/2019 05:27:39 - INFO - __main__ -   balance Acc: 0.594978809972402\n",
      "11/01/2019 05:27:39 - INFO - __main__ -   AUC        : 0.7424467633526125\n",
      "11/01/2019 05:27:39 - INFO - __main__ -   confusion  : (14239, 738, 11429, 3594)\n"
     ]
    },
    {
     "name": "stdout",
     "output_type": "stream",
     "text": [
      "\n"
     ]
    },
    {
     "data": {
      "application/vnd.jupyter.widget-view+json": {
       "model_id": "2ae62908e7e340ccab2d9e062065e5fe",
       "version_major": 2,
       "version_minor": 0
      },
      "text/plain": [
       "HBox(children=(IntProgress(value=0, description='Training :12', max=366, style=ProgressStyle(description_width…"
      ]
     },
     "metadata": {},
     "output_type": "display_data"
    },
    {
     "name": "stderr",
     "output_type": "stream",
     "text": [
      "11/01/2019 05:28:05 - INFO - __main__ -   Loss       : 42.318447769665326\n",
      "11/01/2019 05:28:05 - INFO - __main__ -   Bias Loss  : 6.913234405460355e-05\n",
      "11/01/2019 05:28:05 - INFO - __main__ -   Accuracy   : 0.9823330624117722\n",
      "11/01/2019 05:28:05 - INFO - __main__ -   balance Acc: 0.9823345462511754\n",
      "11/01/2019 05:28:05 - INFO - __main__ -   AUC        : 0.9961395894158552\n",
      "11/01/2019 05:28:05 - INFO - __main__ -   confusion  : (22995, 365, 461, 22933)\n"
     ]
    },
    {
     "name": "stdout",
     "output_type": "stream",
     "text": [
      "\n"
     ]
    },
    {
     "data": {
      "application/vnd.jupyter.widget-view+json": {
       "model_id": "a3b8dc05ea2c412ab3cae453bd93de55",
       "version_major": 2,
       "version_minor": 0
      },
      "text/plain": [
       "HBox(children=(IntProgress(value=0, description='Validation :12', max=4, style=ProgressStyle(description_width…"
      ]
     },
     "metadata": {},
     "output_type": "display_data"
    },
    {
     "name": "stderr",
     "output_type": "stream",
     "text": [
      "11/01/2019 05:28:05 - INFO - __main__ -   Loss       : 39.178481101989746\n",
      "11/01/2019 05:28:05 - INFO - __main__ -   Bias Loss  : 8.337941928271216e-07\n",
      "11/01/2019 05:28:05 - INFO - __main__ -   Accuracy   : 0.9809322033898306\n",
      "11/01/2019 05:28:05 - INFO - __main__ -   balance Acc: 0.9809861569837746\n",
      "11/01/2019 05:28:05 - INFO - __main__ -   AUC        : 0.9968596025772916\n",
      "11/01/2019 05:28:05 - INFO - __main__ -   confusion  : (248, 5, 4, 215)\n"
     ]
    },
    {
     "name": "stdout",
     "output_type": "stream",
     "text": [
      "\n"
     ]
    },
    {
     "data": {
      "application/vnd.jupyter.widget-view+json": {
       "model_id": "390599757a494b71803675f616c45d76",
       "version_major": 2,
       "version_minor": 0
      },
      "text/plain": [
       "HBox(children=(IntProgress(value=0, description='Test 1 :12', max=41, style=ProgressStyle(description_width='i…"
      ]
     },
     "metadata": {},
     "output_type": "display_data"
    },
    {
     "name": "stderr",
     "output_type": "stream",
     "text": [
      "11/01/2019 05:28:06 - INFO - __main__ -   Loss       : 43.09348576243331\n",
      "11/01/2019 05:28:06 - INFO - __main__ -   Bias Loss  : 7.23618197476339e-07\n",
      "11/01/2019 05:28:06 - INFO - __main__ -   Accuracy   : 0.9777057926829268\n",
      "11/01/2019 05:28:06 - INFO - __main__ -   balance Acc: 0.9777057926829269\n",
      "11/01/2019 05:28:06 - INFO - __main__ -   AUC        : 0.9952671429998884\n",
      "11/01/2019 05:28:06 - INFO - __main__ -   confusion  : (2558, 66, 51, 2573)\n"
     ]
    },
    {
     "name": "stdout",
     "output_type": "stream",
     "text": [
      "\n"
     ]
    },
    {
     "data": {
      "application/vnd.jupyter.widget-view+json": {
       "model_id": "4285f4f5dae84b4a8ba2b2d8133cc39d",
       "version_major": 2,
       "version_minor": 0
      },
      "text/plain": [
       "HBox(children=(IntProgress(value=0, description='Test 2 :12', max=235, style=ProgressStyle(description_width='…"
      ]
     },
     "metadata": {},
     "output_type": "display_data"
    },
    {
     "name": "stderr",
     "output_type": "stream",
     "text": [
      "11/01/2019 05:28:12 - INFO - __main__ -   Loss       : 90.60930073514898\n",
      "11/01/2019 05:28:12 - INFO - __main__ -   Bias Loss  : 7.207530582567929e-07\n",
      "11/01/2019 05:28:12 - INFO - __main__ -   Accuracy   : 0.5945666666666667\n",
      "11/01/2019 05:28:12 - INFO - __main__ -   balance Acc: 0.5951228769777863\n",
      "11/01/2019 05:28:12 - INFO - __main__ -   AUC        : 0.748603948939951\n",
      "11/01/2019 05:28:12 - INFO - __main__ -   confusion  : (14346, 631, 11532, 3491)\n"
     ]
    },
    {
     "name": "stdout",
     "output_type": "stream",
     "text": [
      "\n"
     ]
    },
    {
     "data": {
      "application/vnd.jupyter.widget-view+json": {
       "model_id": "34e3b5ba1add47689b46342b519daefb",
       "version_major": 2,
       "version_minor": 0
      },
      "text/plain": [
       "HBox(children=(IntProgress(value=0, description='Training :13', max=366, style=ProgressStyle(description_width…"
      ]
     },
     "metadata": {},
     "output_type": "display_data"
    },
    {
     "name": "stderr",
     "output_type": "stream",
     "text": [
      "11/01/2019 05:28:38 - INFO - __main__ -   Loss       : 42.121323392690854\n",
      "11/01/2019 05:28:38 - INFO - __main__ -   Bias Loss  : 2.5002747588220765e-07\n",
      "11/01/2019 05:28:38 - INFO - __main__ -   Accuracy   : 0.98353082089233\n",
      "11/01/2019 05:28:38 - INFO - __main__ -   balance Acc: 0.9835335807917028\n",
      "11/01/2019 05:28:38 - INFO - __main__ -   AUC        : 0.99672068528138\n",
      "11/01/2019 05:28:38 - INFO - __main__ -   confusion  : (23064, 296, 474, 22920)\n"
     ]
    },
    {
     "name": "stdout",
     "output_type": "stream",
     "text": [
      "\n"
     ]
    },
    {
     "data": {
      "application/vnd.jupyter.widget-view+json": {
       "model_id": "01b09ff321b84e12ad42a7f7854d50ce",
       "version_major": 2,
       "version_minor": 0
      },
      "text/plain": [
       "HBox(children=(IntProgress(value=0, description='Validation :13', max=4, style=ProgressStyle(description_width…"
      ]
     },
     "metadata": {},
     "output_type": "display_data"
    },
    {
     "name": "stderr",
     "output_type": "stream",
     "text": [
      "11/01/2019 05:28:38 - INFO - __main__ -   Loss       : 38.74467325210571\n",
      "11/01/2019 05:28:38 - INFO - __main__ -   Bias Loss  : 4.366558052724262e-08\n",
      "11/01/2019 05:28:38 - INFO - __main__ -   Accuracy   : 0.9851694915254238\n",
      "11/01/2019 05:28:38 - INFO - __main__ -   balance Acc: 0.984938726153735\n",
      "11/01/2019 05:28:38 - INFO - __main__ -   AUC        : 0.9972566643203927\n",
      "11/01/2019 05:28:38 - INFO - __main__ -   confusion  : (250, 3, 4, 215)\n"
     ]
    },
    {
     "name": "stdout",
     "output_type": "stream",
     "text": [
      "\n"
     ]
    },
    {
     "data": {
      "application/vnd.jupyter.widget-view+json": {
       "model_id": "6db5f949d1ba4bb4a844cdcae54993c9",
       "version_major": 2,
       "version_minor": 0
      },
      "text/plain": [
       "HBox(children=(IntProgress(value=0, description='Test 1 :13', max=41, style=ProgressStyle(description_width='i…"
      ]
     },
     "metadata": {},
     "output_type": "display_data"
    },
    {
     "name": "stderr",
     "output_type": "stream",
     "text": [
      "11/01/2019 05:28:39 - INFO - __main__ -   Loss       : 42.74870114210175\n",
      "11/01/2019 05:28:39 - INFO - __main__ -   Bias Loss  : 3.5700248128354603e-08\n",
      "11/01/2019 05:28:39 - INFO - __main__ -   Accuracy   : 0.9822789634146342\n",
      "11/01/2019 05:28:39 - INFO - __main__ -   balance Acc: 0.982278963414634\n",
      "11/01/2019 05:28:39 - INFO - __main__ -   AUC        : 0.994117096873141\n",
      "11/01/2019 05:28:39 - INFO - __main__ -   confusion  : (2586, 38, 55, 2569)\n"
     ]
    },
    {
     "name": "stdout",
     "output_type": "stream",
     "text": [
      "\n"
     ]
    },
    {
     "data": {
      "application/vnd.jupyter.widget-view+json": {
       "model_id": "e9bdff43d41a4438a7676d4c28a7272c",
       "version_major": 2,
       "version_minor": 0
      },
      "text/plain": [
       "HBox(children=(IntProgress(value=0, description='Test 2 :13', max=235, style=ProgressStyle(description_width='…"
      ]
     },
     "metadata": {},
     "output_type": "display_data"
    },
    {
     "name": "stderr",
     "output_type": "stream",
     "text": [
      "11/01/2019 05:28:45 - INFO - __main__ -   Loss       : 91.90933412592462\n",
      "11/01/2019 05:28:45 - INFO - __main__ -   Bias Loss  : 3.7195858129656854e-08\n",
      "11/01/2019 05:28:45 - INFO - __main__ -   Accuracy   : 0.5811666666666667\n",
      "11/01/2019 05:28:45 - INFO - __main__ -   balance Acc: 0.5817550455485293\n",
      "11/01/2019 05:28:45 - INFO - __main__ -   AUC        : 0.7509573300285671\n",
      "11/01/2019 05:28:45 - INFO - __main__ -   confusion  : (14460, 517, 12048, 2975)\n"
     ]
    },
    {
     "name": "stdout",
     "output_type": "stream",
     "text": [
      "\n"
     ]
    },
    {
     "data": {
      "application/vnd.jupyter.widget-view+json": {
       "model_id": "673d1197473a401db8b2fbb4c71a8c20",
       "version_major": 2,
       "version_minor": 0
      },
      "text/plain": [
       "HBox(children=(IntProgress(value=0, description='Training :14', max=366, style=ProgressStyle(description_width…"
      ]
     },
     "metadata": {},
     "output_type": "display_data"
    },
    {
     "name": "stderr",
     "output_type": "stream",
     "text": [
      "11/01/2019 05:29:11 - INFO - __main__ -   Loss       : 42.122362097755804\n",
      "11/01/2019 05:29:11 - INFO - __main__ -   Bias Loss  : 4.841810621299642e-06\n",
      "11/01/2019 05:29:11 - INFO - __main__ -   Accuracy   : 0.9837660948795824\n",
      "11/01/2019 05:29:11 - INFO - __main__ -   balance Acc: 0.9837684038378884\n",
      "11/01/2019 05:29:11 - INFO - __main__ -   AUC        : 0.996430802967568\n",
      "11/01/2019 05:29:11 - INFO - __main__ -   confusion  : (23055, 305, 454, 22940)\n"
     ]
    },
    {
     "name": "stdout",
     "output_type": "stream",
     "text": [
      "\n"
     ]
    },
    {
     "data": {
      "application/vnd.jupyter.widget-view+json": {
       "model_id": "179d16d384ba445b89abad5278caa801",
       "version_major": 2,
       "version_minor": 0
      },
      "text/plain": [
       "HBox(children=(IntProgress(value=0, description='Validation :14', max=4, style=ProgressStyle(description_width…"
      ]
     },
     "metadata": {},
     "output_type": "display_data"
    },
    {
     "name": "stderr",
     "output_type": "stream",
     "text": [
      "11/01/2019 05:29:11 - INFO - __main__ -   Loss       : 38.94411087036133\n",
      "11/01/2019 05:29:11 - INFO - __main__ -   Bias Loss  : 1.7396277759270821e-06\n",
      "11/01/2019 05:29:11 - INFO - __main__ -   Accuracy   : 0.9830508474576272\n",
      "11/01/2019 05:29:11 - INFO - __main__ -   balance Acc: 0.9829624415687548\n",
      "11/01/2019 05:29:11 - INFO - __main__ -   AUC        : 0.9969678921435919\n",
      "11/01/2019 05:29:11 - INFO - __main__ -   confusion  : (249, 4, 4, 215)\n"
     ]
    },
    {
     "name": "stdout",
     "output_type": "stream",
     "text": [
      "\n"
     ]
    },
    {
     "data": {
      "application/vnd.jupyter.widget-view+json": {
       "model_id": "b43212d86aa94004ac62ee24cac54c09",
       "version_major": 2,
       "version_minor": 0
      },
      "text/plain": [
       "HBox(children=(IntProgress(value=0, description='Test 1 :14', max=41, style=ProgressStyle(description_width='i…"
      ]
     },
     "metadata": {},
     "output_type": "display_data"
    },
    {
     "name": "stderr",
     "output_type": "stream",
     "text": [
      "11/01/2019 05:29:12 - INFO - __main__ -   Loss       : 42.73714428413205\n",
      "11/01/2019 05:29:12 - INFO - __main__ -   Bias Loss  : 1.7348761165250913e-06\n",
      "11/01/2019 05:29:12 - INFO - __main__ -   Accuracy   : 0.9817073170731707\n",
      "11/01/2019 05:29:12 - INFO - __main__ -   balance Acc: 0.9817073170731707\n",
      "11/01/2019 05:29:12 - INFO - __main__ -   AUC        : 0.994494563550342\n",
      "11/01/2019 05:29:12 - INFO - __main__ -   confusion  : (2586, 38, 58, 2566)\n"
     ]
    },
    {
     "name": "stdout",
     "output_type": "stream",
     "text": [
      "\n"
     ]
    },
    {
     "data": {
      "application/vnd.jupyter.widget-view+json": {
       "model_id": "295b8f576fc74e0e8eeae21b249cd18f",
       "version_major": 2,
       "version_minor": 0
      },
      "text/plain": [
       "HBox(children=(IntProgress(value=0, description='Test 2 :14', max=235, style=ProgressStyle(description_width='…"
      ]
     },
     "metadata": {},
     "output_type": "display_data"
    },
    {
     "name": "stderr",
     "output_type": "stream",
     "text": [
      "11/01/2019 05:29:18 - INFO - __main__ -   Loss       : 92.28322112712455\n",
      "11/01/2019 05:29:18 - INFO - __main__ -   Bias Loss  : 1.7404793675942418e-06\n",
      "11/01/2019 05:29:18 - INFO - __main__ -   Accuracy   : 0.5776\n",
      "11/01/2019 05:29:18 - INFO - __main__ -   balance Acc: 0.5782030394195905\n",
      "11/01/2019 05:29:18 - INFO - __main__ -   AUC        : 0.7520684637520769\n",
      "11/01/2019 05:29:18 - INFO - __main__ -   confusion  : (14550, 427, 12245, 2778)\n"
     ]
    },
    {
     "name": "stdout",
     "output_type": "stream",
     "text": [
      "\n"
     ]
    },
    {
     "data": {
      "application/vnd.jupyter.widget-view+json": {
       "model_id": "0d0ef2030b3d495dbcb588b31889e234",
       "version_major": 2,
       "version_minor": 0
      },
      "text/plain": [
       "HBox(children=(IntProgress(value=0, description='Training :15', max=366, style=ProgressStyle(description_width…"
      ]
     },
     "metadata": {},
     "output_type": "display_data"
    },
    {
     "name": "stderr",
     "output_type": "stream",
     "text": [
      "11/01/2019 05:29:45 - INFO - __main__ -   Loss       : 42.16841545521887\n",
      "11/01/2019 05:29:45 - INFO - __main__ -   Bias Loss  : 7.224651271817943e-06\n",
      "11/01/2019 05:29:45 - INFO - __main__ -   Accuracy   : 0.983402489626556\n",
      "11/01/2019 05:29:45 - INFO - __main__ -   balance Acc: 0.9834047206226628\n",
      "11/01/2019 05:29:45 - INFO - __main__ -   AUC        : 0.9965960878184431\n",
      "11/01/2019 05:29:45 - INFO - __main__ -   confusion  : (23044, 316, 460, 22934)\n"
     ]
    },
    {
     "name": "stdout",
     "output_type": "stream",
     "text": [
      "\n"
     ]
    },
    {
     "data": {
      "application/vnd.jupyter.widget-view+json": {
       "model_id": "10c31fdcfd5b4d25a86af44f323a8844",
       "version_major": 2,
       "version_minor": 0
      },
      "text/plain": [
       "HBox(children=(IntProgress(value=0, description='Validation :15', max=4, style=ProgressStyle(description_width…"
      ]
     },
     "metadata": {},
     "output_type": "display_data"
    },
    {
     "name": "stderr",
     "output_type": "stream",
     "text": [
      "11/01/2019 05:29:45 - INFO - __main__ -   Loss       : 38.80646467208862\n",
      "11/01/2019 05:29:45 - INFO - __main__ -   Bias Loss  : 2.711266783100059e-06\n",
      "11/01/2019 05:29:45 - INFO - __main__ -   Accuracy   : 0.9851694915254238\n",
      "11/01/2019 05:29:45 - INFO - __main__ -   balance Acc: 0.984938726153735\n",
      "11/01/2019 05:29:45 - INFO - __main__ -   AUC        : 0.9976176295413935\n",
      "11/01/2019 05:29:45 - INFO - __main__ -   confusion  : (250, 3, 4, 215)\n"
     ]
    },
    {
     "name": "stdout",
     "output_type": "stream",
     "text": [
      "\n"
     ]
    },
    {
     "data": {
      "application/vnd.jupyter.widget-view+json": {
       "model_id": "7c83039381eb42e8b46d08e9c724e628",
       "version_major": 2,
       "version_minor": 0
      },
      "text/plain": [
       "HBox(children=(IntProgress(value=0, description='Test 1 :15', max=41, style=ProgressStyle(description_width='i…"
      ]
     },
     "metadata": {},
     "output_type": "display_data"
    },
    {
     "name": "stderr",
     "output_type": "stream",
     "text": [
      "11/01/2019 05:29:46 - INFO - __main__ -   Loss       : 42.81758182804759\n",
      "11/01/2019 05:29:46 - INFO - __main__ -   Bias Loss  : 2.7620435879274386e-06\n",
      "11/01/2019 05:29:46 - INFO - __main__ -   Accuracy   : 0.9798018292682927\n",
      "11/01/2019 05:29:46 - INFO - __main__ -   balance Acc: 0.9798018292682926\n",
      "11/01/2019 05:29:46 - INFO - __main__ -   AUC        : 0.9947218568746281\n",
      "11/01/2019 05:29:46 - INFO - __main__ -   confusion  : (2575, 49, 57, 2567)\n"
     ]
    },
    {
     "name": "stdout",
     "output_type": "stream",
     "text": [
      "\n"
     ]
    },
    {
     "data": {
      "application/vnd.jupyter.widget-view+json": {
       "model_id": "e1678c51253546ca8007fc6fcb25bb68",
       "version_major": 2,
       "version_minor": 0
      },
      "text/plain": [
       "HBox(children=(IntProgress(value=0, description='Test 2 :15', max=235, style=ProgressStyle(description_width='…"
      ]
     },
     "metadata": {},
     "output_type": "display_data"
    },
    {
     "name": "stderr",
     "output_type": "stream",
     "text": [
      "11/01/2019 05:29:51 - INFO - __main__ -   Loss       : 91.35446543592087\n",
      "11/01/2019 05:29:51 - INFO - __main__ -   Bias Loss  : 2.7421775043064107e-06\n",
      "11/01/2019 05:29:51 - INFO - __main__ -   Accuracy   : 0.5843666666666667\n",
      "11/01/2019 05:29:51 - INFO - __main__ -   balance Acc: 0.5849464663852476\n",
      "11/01/2019 05:29:51 - INFO - __main__ -   AUC        : 0.7500126633631063\n",
      "11/01/2019 05:29:51 - INFO - __main__ -   confusion  : (14424, 553, 11916, 3107)\n"
     ]
    },
    {
     "name": "stdout",
     "output_type": "stream",
     "text": [
      "\n"
     ]
    },
    {
     "data": {
      "application/vnd.jupyter.widget-view+json": {
       "model_id": "1cd6636ce3554c5688a5a13152689855",
       "version_major": 2,
       "version_minor": 0
      },
      "text/plain": [
       "HBox(children=(IntProgress(value=0, description='Training :16', max=366, style=ProgressStyle(description_width…"
      ]
     },
     "metadata": {},
     "output_type": "display_data"
    },
    {
     "name": "stderr",
     "output_type": "stream",
     "text": [
      "11/01/2019 05:30:18 - INFO - __main__ -   Loss       : 42.21913599577106\n",
      "11/01/2019 05:30:18 - INFO - __main__ -   Bias Loss  : 0.00011534766028475755\n",
      "11/01/2019 05:30:18 - INFO - __main__ -   Accuracy   : 0.9829105531077554\n",
      "11/01/2019 05:30:18 - INFO - __main__ -   balance Acc: 0.9829126749658326\n",
      "11/01/2019 05:30:18 - INFO - __main__ -   AUC        : 0.9965555358416454\n",
      "11/01/2019 05:30:18 - INFO - __main__ -   confusion  : (23029, 331, 468, 22926)\n"
     ]
    },
    {
     "name": "stdout",
     "output_type": "stream",
     "text": [
      "\n"
     ]
    },
    {
     "data": {
      "application/vnd.jupyter.widget-view+json": {
       "model_id": "305a1f38b18447d5a5abacb9969c97ac",
       "version_major": 2,
       "version_minor": 0
      },
      "text/plain": [
       "HBox(children=(IntProgress(value=0, description='Validation :16', max=4, style=ProgressStyle(description_width…"
      ]
     },
     "metadata": {},
     "output_type": "display_data"
    },
    {
     "name": "stderr",
     "output_type": "stream",
     "text": [
      "11/01/2019 05:30:18 - INFO - __main__ -   Loss       : 38.52029085159302\n",
      "11/01/2019 05:30:18 - INFO - __main__ -   Bias Loss  : 2.1383346114424635e-06\n",
      "11/01/2019 05:30:18 - INFO - __main__ -   Accuracy   : 0.9872881355932204\n",
      "11/01/2019 05:30:18 - INFO - __main__ -   balance Acc: 0.9866081903008646\n",
      "11/01/2019 05:30:18 - INFO - __main__ -   AUC        : 0.9978883534571443\n",
      "11/01/2019 05:30:18 - INFO - __main__ -   confusion  : (252, 1, 5, 214)\n"
     ]
    },
    {
     "name": "stdout",
     "output_type": "stream",
     "text": [
      "\n"
     ]
    },
    {
     "data": {
      "application/vnd.jupyter.widget-view+json": {
       "model_id": "e94e1bfe7d0c435f89e3d529cbc07bb7",
       "version_major": 2,
       "version_minor": 0
      },
      "text/plain": [
       "HBox(children=(IntProgress(value=0, description='Test 1 :16', max=41, style=ProgressStyle(description_width='i…"
      ]
     },
     "metadata": {},
     "output_type": "display_data"
    },
    {
     "name": "stderr",
     "output_type": "stream",
     "text": [
      "11/01/2019 05:30:19 - INFO - __main__ -   Loss       : 42.3007075612138\n",
      "11/01/2019 05:30:19 - INFO - __main__ -   Bias Loss  : 1.7123444714474508e-06\n",
      "11/01/2019 05:30:19 - INFO - __main__ -   Accuracy   : 0.9841844512195121\n",
      "11/01/2019 05:30:19 - INFO - __main__ -   balance Acc: 0.9841844512195121\n",
      "11/01/2019 05:30:19 - INFO - __main__ -   AUC        : 0.9954661880484088\n",
      "11/01/2019 05:30:19 - INFO - __main__ -   confusion  : (2598, 26, 57, 2567)\n"
     ]
    },
    {
     "name": "stdout",
     "output_type": "stream",
     "text": [
      "\n"
     ]
    },
    {
     "data": {
      "application/vnd.jupyter.widget-view+json": {
       "model_id": "65ca2b04a2f146b8b2abd8881d899545",
       "version_major": 2,
       "version_minor": 0
      },
      "text/plain": [
       "HBox(children=(IntProgress(value=0, description='Test 2 :16', max=235, style=ProgressStyle(description_width='…"
      ]
     },
     "metadata": {},
     "output_type": "display_data"
    },
    {
     "name": "stderr",
     "output_type": "stream",
     "text": [
      "11/01/2019 05:30:24 - INFO - __main__ -   Loss       : 93.26135622389774\n",
      "11/01/2019 05:30:24 - INFO - __main__ -   Bias Loss  : 1.7185335804934795e-06\n",
      "11/01/2019 05:30:24 - INFO - __main__ -   Accuracy   : 0.5778333333333333\n",
      "11/01/2019 05:30:24 - INFO - __main__ -   balance Acc: 0.5784484866633309\n",
      "11/01/2019 05:30:24 - INFO - __main__ -   AUC        : 0.7329308254240295\n",
      "11/01/2019 05:30:24 - INFO - __main__ -   confusion  : (14672, 305, 12360, 2663)\n"
     ]
    },
    {
     "name": "stdout",
     "output_type": "stream",
     "text": [
      "\n"
     ]
    },
    {
     "data": {
      "application/vnd.jupyter.widget-view+json": {
       "model_id": "a9e2ffbde4e04480a22ae29beddb4abc",
       "version_major": 2,
       "version_minor": 0
      },
      "text/plain": [
       "HBox(children=(IntProgress(value=0, description='Training :17', max=366, style=ProgressStyle(description_width…"
      ]
     },
     "metadata": {},
     "output_type": "display_data"
    },
    {
     "name": "stderr",
     "output_type": "stream",
     "text": [
      "11/01/2019 05:30:51 - INFO - __main__ -   Loss       : 41.94445901620583\n",
      "11/01/2019 05:30:51 - INFO - __main__ -   Bias Loss  : 5.8495111803904806e-05\n",
      "11/01/2019 05:30:51 - INFO - __main__ -   Accuracy   : 0.9848782991829577\n",
      "11/01/2019 05:30:51 - INFO - __main__ -   balance Acc: 0.984881168672801\n",
      "11/01/2019 05:30:51 - INFO - __main__ -   AUC        : 0.9975546147897073\n",
      "11/01/2019 05:30:51 - INFO - __main__ -   confusion  : (23099, 261, 446, 22948)\n"
     ]
    },
    {
     "name": "stdout",
     "output_type": "stream",
     "text": [
      "\n"
     ]
    },
    {
     "data": {
      "application/vnd.jupyter.widget-view+json": {
       "model_id": "151f91688f29494b86152cd2d1f1f75b",
       "version_major": 2,
       "version_minor": 0
      },
      "text/plain": [
       "HBox(children=(IntProgress(value=0, description='Validation :17', max=4, style=ProgressStyle(description_width…"
      ]
     },
     "metadata": {},
     "output_type": "display_data"
    },
    {
     "name": "stderr",
     "output_type": "stream",
     "text": [
      "11/01/2019 05:30:51 - INFO - __main__ -   Loss       : 39.21015644073486\n",
      "11/01/2019 05:30:51 - INFO - __main__ -   Bias Loss  : 7.995634311145996e-06\n",
      "11/01/2019 05:30:51 - INFO - __main__ -   Accuracy   : 0.9809322033898306\n",
      "11/01/2019 05:30:51 - INFO - __main__ -   balance Acc: 0.9806793365459238\n",
      "11/01/2019 05:30:51 - INFO - __main__ -   AUC        : 0.9961015756131896\n",
      "11/01/2019 05:30:51 - INFO - __main__ -   confusion  : (249, 4, 5, 214)\n"
     ]
    },
    {
     "name": "stdout",
     "output_type": "stream",
     "text": [
      "\n"
     ]
    },
    {
     "data": {
      "application/vnd.jupyter.widget-view+json": {
       "model_id": "5081793039204eebbed41147fc689c64",
       "version_major": 2,
       "version_minor": 0
      },
      "text/plain": [
       "HBox(children=(IntProgress(value=0, description='Test 1 :17', max=41, style=ProgressStyle(description_width='i…"
      ]
     },
     "metadata": {},
     "output_type": "display_data"
    },
    {
     "name": "stderr",
     "output_type": "stream",
     "text": [
      "11/01/2019 05:30:52 - INFO - __main__ -   Loss       : 44.61767438562905\n",
      "11/01/2019 05:30:52 - INFO - __main__ -   Bias Loss  : 7.213072363155542e-06\n",
      "11/01/2019 05:30:52 - INFO - __main__ -   Accuracy   : 0.9683689024390244\n",
      "11/01/2019 05:30:52 - INFO - __main__ -   balance Acc: 0.9683689024390243\n",
      "11/01/2019 05:30:52 - INFO - __main__ -   AUC        : 0.9941143374014724\n",
      "11/01/2019 05:30:52 - INFO - __main__ -   confusion  : (2520, 104, 62, 2562)\n"
     ]
    },
    {
     "name": "stdout",
     "output_type": "stream",
     "text": [
      "\n"
     ]
    },
    {
     "data": {
      "application/vnd.jupyter.widget-view+json": {
       "model_id": "b1320df24f93475a80f895e155dd44d8",
       "version_major": 2,
       "version_minor": 0
      },
      "text/plain": [
       "HBox(children=(IntProgress(value=0, description='Test 2 :17', max=235, style=ProgressStyle(description_width='…"
      ]
     },
     "metadata": {},
     "output_type": "display_data"
    },
    {
     "name": "stderr",
     "output_type": "stream",
     "text": [
      "11/01/2019 05:30:58 - INFO - __main__ -   Loss       : 86.80619073421397\n",
      "11/01/2019 05:30:58 - INFO - __main__ -   Bias Loss  : 7.915951687460098e-06\n",
      "11/01/2019 05:30:58 - INFO - __main__ -   Accuracy   : 0.5949333333333333\n",
      "11/01/2019 05:30:58 - INFO - __main__ -   balance Acc: 0.5954631199999577\n",
      "11/01/2019 05:30:58 - INFO - __main__ -   AUC        : 0.7547527100630385\n",
      "11/01/2019 05:30:58 - INFO - __main__ -   confusion  : (14093, 884, 11268, 3755)\n"
     ]
    },
    {
     "name": "stdout",
     "output_type": "stream",
     "text": [
      "\n"
     ]
    },
    {
     "data": {
      "application/vnd.jupyter.widget-view+json": {
       "model_id": "8acfd8b27d5341caa365442638bfa5aa",
       "version_major": 2,
       "version_minor": 0
      },
      "text/plain": [
       "HBox(children=(IntProgress(value=0, description='Training :18', max=366, style=ProgressStyle(description_width…"
      ]
     },
     "metadata": {},
     "output_type": "display_data"
    },
    {
     "name": "stderr",
     "output_type": "stream",
     "text": [
      "11/01/2019 05:31:24 - INFO - __main__ -   Loss       : 42.22603542296613\n",
      "11/01/2019 05:31:24 - INFO - __main__ -   Bias Loss  : 4.6371047456911245e-05\n",
      "11/01/2019 05:31:24 - INFO - __main__ -   Accuracy   : 0.9827608332976857\n",
      "11/01/2019 05:31:24 - INFO - __main__ -   balance Acc: 0.982762566227027\n",
      "11/01/2019 05:31:24 - INFO - __main__ -   AUC        : 0.9963932071623565\n",
      "11/01/2019 05:31:24 - INFO - __main__ -   confusion  : (23013, 347, 459, 22935)\n"
     ]
    },
    {
     "name": "stdout",
     "output_type": "stream",
     "text": [
      "\n"
     ]
    },
    {
     "data": {
      "application/vnd.jupyter.widget-view+json": {
       "model_id": "127539b472ec4aa4b26557d6ef00c691",
       "version_major": 2,
       "version_minor": 0
      },
      "text/plain": [
       "HBox(children=(IntProgress(value=0, description='Validation :18', max=4, style=ProgressStyle(description_width…"
      ]
     },
     "metadata": {},
     "output_type": "display_data"
    },
    {
     "name": "stderr",
     "output_type": "stream",
     "text": [
      "11/01/2019 05:31:24 - INFO - __main__ -   Loss       : 39.95888376235962\n",
      "11/01/2019 05:31:24 - INFO - __main__ -   Bias Loss  : 2.825179439153962e-06\n",
      "11/01/2019 05:31:24 - INFO - __main__ -   Accuracy   : 0.9745762711864406\n",
      "11/01/2019 05:31:24 - INFO - __main__ -   balance Acc: 0.9729095601638782\n",
      "11/01/2019 05:31:24 - INFO - __main__ -   AUC        : 0.9952713556048874\n",
      "11/01/2019 05:31:24 - INFO - __main__ -   confusion  : (252, 1, 11, 208)\n"
     ]
    },
    {
     "name": "stdout",
     "output_type": "stream",
     "text": [
      "\n"
     ]
    },
    {
     "data": {
      "application/vnd.jupyter.widget-view+json": {
       "model_id": "4f8f377402af45bbac8a7b8f9677ed3d",
       "version_major": 2,
       "version_minor": 0
      },
      "text/plain": [
       "HBox(children=(IntProgress(value=0, description='Test 1 :18', max=41, style=ProgressStyle(description_width='i…"
      ]
     },
     "metadata": {},
     "output_type": "display_data"
    },
    {
     "name": "stderr",
     "output_type": "stream",
     "text": [
      "11/01/2019 05:31:25 - INFO - __main__ -   Loss       : 43.53368275340011\n",
      "11/01/2019 05:31:25 - INFO - __main__ -   Bias Loss  : 2.7246147773290925e-06\n",
      "11/01/2019 05:31:25 - INFO - __main__ -   Accuracy   : 0.9752286585365854\n",
      "11/01/2019 05:31:25 - INFO - __main__ -   balance Acc: 0.9752286585365854\n",
      "11/01/2019 05:31:25 - INFO - __main__ -   AUC        : 0.9923472588860798\n",
      "11/01/2019 05:31:25 - INFO - __main__ -   confusion  : (2600, 24, 106, 2518)\n"
     ]
    },
    {
     "name": "stdout",
     "output_type": "stream",
     "text": [
      "\n"
     ]
    },
    {
     "data": {
      "application/vnd.jupyter.widget-view+json": {
       "model_id": "cbd03ef8266d47dda289bbea4b950d9f",
       "version_major": 2,
       "version_minor": 0
      },
      "text/plain": [
       "HBox(children=(IntProgress(value=0, description='Test 2 :18', max=235, style=ProgressStyle(description_width='…"
      ]
     },
     "metadata": {},
     "output_type": "display_data"
    },
    {
     "name": "stderr",
     "output_type": "stream",
     "text": [
      "11/01/2019 05:31:31 - INFO - __main__ -   Loss       : 93.20047389902967\n",
      "11/01/2019 05:31:31 - INFO - __main__ -   Bias Loss  : 2.6788155006281202e-06\n",
      "11/01/2019 05:31:31 - INFO - __main__ -   Accuracy   : 0.5795333333333333\n",
      "11/01/2019 05:31:31 - INFO - __main__ -   balance Acc: 0.5801394439722928\n",
      "11/01/2019 05:31:31 - INFO - __main__ -   AUC        : 0.743790824290427\n",
      "11/01/2019 05:31:31 - INFO - __main__ -   confusion  : (14609, 368, 12246, 2777)\n"
     ]
    },
    {
     "name": "stdout",
     "output_type": "stream",
     "text": [
      "\n"
     ]
    },
    {
     "data": {
      "application/vnd.jupyter.widget-view+json": {
       "model_id": "9a4efad41417434fb2a333d3d6af1db3",
       "version_major": 2,
       "version_minor": 0
      },
      "text/plain": [
       "HBox(children=(IntProgress(value=0, description='Training :19', max=366, style=ProgressStyle(description_width…"
      ]
     },
     "metadata": {},
     "output_type": "display_data"
    },
    {
     "name": "stderr",
     "output_type": "stream",
     "text": [
      "11/01/2019 05:31:57 - INFO - __main__ -   Loss       : 42.23839520365814\n",
      "11/01/2019 05:31:57 - INFO - __main__ -   Bias Loss  : 9.931149494218389e-05\n",
      "11/01/2019 05:31:57 - INFO - __main__ -   Accuracy   : 0.9830388843735295\n",
      "11/01/2019 05:31:57 - INFO - __main__ -   balance Acc: 0.9830407263277904\n",
      "11/01/2019 05:31:57 - INFO - __main__ -   AUC        : 0.9963596197098892\n",
      "11/01/2019 05:31:57 - INFO - __main__ -   confusion  : (23023, 337, 456, 22938)\n"
     ]
    },
    {
     "name": "stdout",
     "output_type": "stream",
     "text": [
      "\n"
     ]
    },
    {
     "data": {
      "application/vnd.jupyter.widget-view+json": {
       "model_id": "854abb82f88548a48b1e5bdb26d0d039",
       "version_major": 2,
       "version_minor": 0
      },
      "text/plain": [
       "HBox(children=(IntProgress(value=0, description='Validation :19', max=4, style=ProgressStyle(description_width…"
      ]
     },
     "metadata": {},
     "output_type": "display_data"
    },
    {
     "name": "stderr",
     "output_type": "stream",
     "text": [
      "11/01/2019 05:31:58 - INFO - __main__ -   Loss       : 39.23298788070679\n",
      "11/01/2019 05:31:58 - INFO - __main__ -   Bias Loss  : 2.1740694485477315e-06\n",
      "11/01/2019 05:31:58 - INFO - __main__ -   Accuracy   : 0.9809322033898306\n",
      "11/01/2019 05:31:58 - INFO - __main__ -   balance Acc: 0.980372516108073\n",
      "11/01/2019 05:31:58 - INFO - __main__ -   AUC        : 0.996606926922591\n",
      "11/01/2019 05:31:58 - INFO - __main__ -   confusion  : (250, 3, 6, 213)\n"
     ]
    },
    {
     "name": "stdout",
     "output_type": "stream",
     "text": [
      "\n"
     ]
    },
    {
     "data": {
      "application/vnd.jupyter.widget-view+json": {
       "model_id": "019a7ba5e3374611903b0366a2552912",
       "version_major": 2,
       "version_minor": 0
      },
      "text/plain": [
       "HBox(children=(IntProgress(value=0, description='Test 1 :19', max=41, style=ProgressStyle(description_width='i…"
      ]
     },
     "metadata": {},
     "output_type": "display_data"
    },
    {
     "name": "stderr",
     "output_type": "stream",
     "text": [
      "11/01/2019 05:31:59 - INFO - __main__ -   Loss       : 43.558612172196554\n",
      "11/01/2019 05:31:59 - INFO - __main__ -   Bias Loss  : 2.2197685139413513e-06\n",
      "11/01/2019 05:31:59 - INFO - __main__ -   Accuracy   : 0.9735137195121951\n",
      "11/01/2019 05:31:59 - INFO - __main__ -   balance Acc: 0.9735137195121951\n",
      "11/01/2019 05:31:59 - INFO - __main__ -   AUC        : 0.9941562378002305\n",
      "11/01/2019 05:31:59 - INFO - __main__ -   confusion  : (2550, 74, 65, 2559)\n"
     ]
    },
    {
     "name": "stdout",
     "output_type": "stream",
     "text": [
      "\n"
     ]
    },
    {
     "data": {
      "application/vnd.jupyter.widget-view+json": {
       "model_id": "fadfed95da87423bbe6c4fb140ccd495",
       "version_major": 2,
       "version_minor": 0
      },
      "text/plain": [
       "HBox(children=(IntProgress(value=0, description='Test 2 :19', max=235, style=ProgressStyle(description_width='…"
      ]
     },
     "metadata": {},
     "output_type": "display_data"
    },
    {
     "name": "stderr",
     "output_type": "stream",
     "text": [
      "11/01/2019 05:32:04 - INFO - __main__ -   Loss       : 91.01509977300117\n",
      "11/01/2019 05:32:04 - INFO - __main__ -   Bias Loss  : 2.3047072594997426e-06\n",
      "11/01/2019 05:32:04 - INFO - __main__ -   Accuracy   : 0.5899666666666666\n",
      "11/01/2019 05:32:04 - INFO - __main__ -   balance Acc: 0.5905258306140639\n",
      "11/01/2019 05:32:04 - INFO - __main__ -   AUC        : 0.7428573598735261\n",
      "11/01/2019 05:32:04 - INFO - __main__ -   confusion  : (14306, 671, 11630, 3393)\n"
     ]
    },
    {
     "name": "stdout",
     "output_type": "stream",
     "text": [
      "\n",
      "\n",
      "[0.7610539604335337]\n",
      "0.7610539604335337\n"
     ]
    }
   ],
   "source": [
    "best = []\n",
    "def adv_train(history, epochs):\n",
    "    for e in tqdm(range(epochs), desc=\"Epoch\"):\n",
    "        train_result = adv_step(adv_model, adv_optimizer, train_loader, train=True, message=\"Training :{}\".format(e))\n",
    "        valid_result = adv_step(adv_model, adv_optimizer, val_loader, train=False, message=\"Validation :{}\".format(e))\n",
    "        test_result1 = adv_step(adv_model, adv_optimizer, test_loader1, train=False, message=\"Test 1 :{}\".format(e))\n",
    "        test_result2 = adv_step(adv_model, adv_optimizer, test_loader2, train=False, message=\"Test 2 :{}\".format(e))\n",
    "\n",
    "        history['train'].append(train_result)\n",
    "        history['valid'].append(valid_result)\n",
    "        history['test1'].append(test_result1)\n",
    "        history['test2'].append(test_result2)\n",
    "    return history\n",
    "\n",
    "for i in range(1):\n",
    "    set_seed(87+i)\n",
    "    adv_model = models.WordCNN(\n",
    "            word_ngram_vocab_size = len(words_dict)+1,\n",
    "            emb_size=emb_dim,\n",
    "            word_seq_len=max_len_words,\n",
    "            l2_reg_lambda=l2_reg_lambda,\n",
    "            kernel_sizes=filter_size).cuda()\n",
    "    adv_optimizer = torch.optim.Adam(adv_model.parameters(), lr=1e-3, weight_decay=1)\n",
    "\n",
    "    bias_model = BiasPredictor(adv_model.word_emb, emb_dim).cuda()\n",
    "    bias_optimizer = torch.optim.Adam(bias_model.parameters(), lr=1)\n",
    "    \n",
    "    history = {'train':[], 'valid':[], 'test1':[], 'test2':[]}\n",
    "    history = adv_train(history, 20)\n",
    "    best.append(max([i['auc'] for i in history['test2']]))\n",
    "\n",
    "print(best)\n",
    "print(np.mean(best))\n",
    "best2 = np.mean(best)"
   ]
  },
  {
   "cell_type": "code",
   "execution_count": 29,
   "metadata": {},
   "outputs": [
    {
     "data": {
      "text/plain": [
       "0.7610539604335337"
      ]
     },
     "execution_count": 29,
     "metadata": {},
     "output_type": "execute_result"
    }
   ],
   "source": [
    "max([i['auc'] for i in history['test2']])"
   ]
  },
  {
   "cell_type": "markdown",
   "metadata": {},
   "source": [
    "* dev 0.5, min 1\n",
    "    * 0.714, 0.731\n",
    "* dev 0.5, min 0\n",
    "    * 0.728, 0.768\n",
    "* dev 0.01, min 0\n",
    "    * 0.723, 0.783\n",
    "* dev 0.9, min 0\n",
    "    * 0.724, 0.771\n",
    "* dev 0.01, min 5\n",
    "    * 0.702, 0.777\n",
    "* dev 0.01, min 20\n",
    "    * 0.673, 0.761"
   ]
  },
  {
   "cell_type": "raw",
   "metadata": {},
   "source": [
    "# start straining\n",
    "\n",
    "history = {'train':[], 'valid':[], 'test1':[], 'test2':[]}\n",
    "for e in tqdm(range(10), desc=\"Epoch\"):\n",
    "    train_result = adv_step(adv_model, adv_optimizer, train_loader, train=True, message=\"Training :{}\".format(e))\n",
    "    valid_result = adv_step(adv_model, adv_optimizer, val_loader, train=False, message=\"Validation :{}\".format(e))\n",
    "    test_result1 = adv_step(adv_model, adv_optimizer, test_loader1, train=False, message=\"Test 1 :{}\".format(e))\n",
    "    test_result2 = adv_step(adv_model, adv_optimizer, test_loader2, train=False, message=\"Test 2 :{}\".format(e))\n",
    "    \n",
    "    history['train'].append(train_result)\n",
    "    history['valid'].append(valid_result)\n",
    "    history['test1'].append(test_result1)\n",
    "    history['test2'].append(test_result2)"
   ]
  },
  {
   "cell_type": "code",
   "execution_count": 30,
   "metadata": {},
   "outputs": [
    {
     "data": {
      "image/png": "[encoded data removed]",
      "text/plain": [
       "<Figure size 576x864 with 3 Axes>"
      ]
     },
     "metadata": {
      "needs_background": "light"
     },
     "output_type": "display_data"
    }
   ],
   "source": [
    "save = \"adv5\"\n",
    "\n",
    "train_loss = [l['loss'] for l in history['train']]\n",
    "valid_loss = [l['loss'] for l in history['valid']]\n",
    "test1_loss = [l['loss'] for l in history['test1']]\n",
    "test2_loss = [l['loss'] for l in history['test2']]\n",
    "\n",
    "train_bloss = [l['bias'] for l in history['train']]\n",
    "valid_bloss = [l['bias'] for l in history['valid']]\n",
    "test1_bloss = [l['bias'] for l in history['test1']]\n",
    "test2_bloss = [l['bias'] for l in history['test2']]\n",
    "\n",
    "train_auc = [l['auc'] for l in history['train']]\n",
    "valid_auc = [l['auc'] for l in history['valid']]\n",
    "test1_auc = [l['auc'] for l in history['test1']]\n",
    "test2_auc = [l['auc'] for l in history['test2']]\n",
    "\n",
    "plt.figure(figsize=(8,12))\n",
    "\n",
    "plt.subplot(311)\n",
    "plt.title('Loss')\n",
    "plt.plot(train_loss, label='train')\n",
    "plt.plot(valid_loss, label='valid')\n",
    "plt.plot(test1_loss, label='test1')\n",
    "plt.plot(test2_loss, label='test2')\n",
    "plt.legend()\n",
    "\n",
    "\n",
    "plt.subplot(312)\n",
    "plt.title('Bias Loss')\n",
    "plt.plot(train_bloss, label='train')\n",
    "plt.plot(valid_bloss, label='valid')\n",
    "plt.plot(test1_bloss, label='test1')\n",
    "plt.plot(test2_bloss, label='test2')\n",
    "plt.legend()\n",
    "\n",
    "\n",
    "plt.subplot(313)\n",
    "plt.title('AUC Score')\n",
    "plt.plot(train_auc, label='train')\n",
    "plt.plot(valid_auc, label='valid')\n",
    "plt.plot(test1_auc, label='test1')\n",
    "plt.plot(test2_auc, label='test2')\n",
    "plt.legend()\n",
    "# if save:\n",
    "#     path = os.path.join(\"output\", save+'.png')\n",
    "#     plt.savefig(path)\n",
    "plt.show()"
   ]
  },
  {
   "cell_type": "raw",
   "metadata": {},
   "source": [
    "for i in tqdm(range(1), desc=\"Epoch\"):\n",
    "    train_loss = 0\n",
    "    val_loss = 0\n",
    "    train_acc = 0\n",
    "    val_acc = 0\n",
    "    train_auc = 0\n",
    "    val_auc = 0\n",
    "    all_logits = []\n",
    "    all_labels = []\n",
    "    \n",
    "    model.train()\n",
    "    for (data, label) in tqdm(train_loader, desc=\"Iteration\"):\n",
    "        data, label = data.long().cuda(), label.float().cuda()\n",
    "        logits = model(data).squeeze()\n",
    "        loss = F.binary_cross_entropy_with_logits(logits, label)\n",
    "        loss.backward()\n",
    "        optimizer.step()\n",
    "        optimizer.zero_grad()\n",
    "        train_loss += loss.item()\n",
    "        all_labels.append(label.detach().cpu().numpy())\n",
    "        all_logits.append(F.sigmoid(logits).detach().cpu().numpy())\n",
    "    \n",
    "    all_labels = np.hstack(all_labels)\n",
    "    all_logits = np.hstack(all_logits)\n",
    "    train_auc = roc_auc_score(all_labels, all_logits)\n",
    "    train_acc = accuracy_thresh_score(logits, label)\n",
    "\n",
    "    \n",
    "    all_logits = []\n",
    "    all_labels = []\n",
    "    model.eval()\n",
    "    for (data, label) in tqdm(test_loader, desc=\"Evaluation\"):\n",
    "        data, label = data.long().cuda(), label.float().cuda()\n",
    "        with torch.no_grad():\n",
    "            logits = model(data).squeeze()\n",
    "        loss = F.binary_cross_entropy_with_logits(logits, label)\n",
    "        val_loss += loss.item()\n",
    "        all_labels.append(label.detach().cpu().numpy())\n",
    "        all_logits.append(F.sigmoid(logits).detach().cpu().numpy())\n",
    "        \n",
    "    all_labels = np.hstack(all_labels)\n",
    "    all_logits = np.hstack(all_logits)\n",
    "    val_auc = roc_auc_score(all_labels, all_logits)\n",
    "    val_acc = accuracy_thresh_score(logits, label)\n",
    "\n",
    "    \n",
    "    \n",
    "    logger.info('Training   Loss     : {}'.format(train_loss/(len(train_loader)/batch_size)))\n",
    "    logger.info('Training   Accuracy : {}'.format(train_acc/len(train_loader)))\n",
    "    logger.info('Training   AUC      : {}'.format(train_auc))\n",
    "    \n",
    "    logger.info('Validation Loss     : {}'.format(val_loss/(len(test_loader)/batch_size)))\n",
    "    logger.info('Validation Accuracy : {}'.format(val_acc/len(test_loader)))\n",
    "    logger.info('Validation AUC      : {}'.format(val_auc))\n"
   ]
  },
  {
   "cell_type": "raw",
   "metadata": {},
   "source": [
    "class DADATrainer(object):\n",
    "    def __init__(self, option):\n",
    "        self.option = option\n",
    "\n",
    "        self._build_model()\n",
    "        self._set_optimizer()\n",
    "        self.logger = logger_setting(option.exp_name, option.save_dir, option.debug)\n",
    "\n",
    "    def _build_model(self):\n",
    "        self.n_color_cls = 8\n",
    "\n",
    "        self.net = models.WordCNN(vocab_size, word_seq_len, emb_size, l2_reg_lambda)\n",
    "        self.pred_net = models.BiasPredictor(num_filters_total)\n",
    "\n",
    "\n",
    "        self.loss = nn.CrossEntropyLoss(ignore_index=255)\n",
    "        self.bias_loss = nn.CrossEntropyLoss(ignore_index=255)\n",
    "\n",
    "\n",
    "        if self.option.cuda:\n",
    "            self.net.cuda()\n",
    "            self.pred_net.cuda()\n",
    "            self.loss.cuda()\n",
    "            self.bias_loss.cuda()\n",
    "\n",
    "    def _set_optimizer(self):\n",
    "        self.optim = optim.SGD(filter(lambda p: p.requires_grad, self.net.parameters()), lr=self.option.lr, momentum=self.option.momentum, weight_decay=self.option.weight_decay)\n",
    "        self.optim_bias = optim.SGD(self.pred_net.parameters(), lr=self.option.lr, momentum=self.option.momentum, weight_decay=self.option.weight_decay)\n",
    "\n",
    "\n",
    "        #TODO: last_epoch should be the last step of loaded model\n",
    "        lr_lambda = lambda step: self.option.lr_decay_rate ** (step // self.option.lr_decay_period)\n",
    "        self.scheduler = optim.lr_scheduler.LambdaLR(self.optim, lr_lambda=lr_lambda, last_epoch=-1)\n",
    "        self.scheduler_bias = optim.lr_scheduler.LambdaLR(self.optim_r, lr_lambda=lr_lambda, last_epoch=-1)\n",
    "        \n",
    "\n",
    "    @staticmethod\n",
    "    def _weights_init(m):\n",
    "        classname = m.__class__.__name__\n",
    "        if classname.find('Conv') != -1:\n",
    "            n = m.kernel_size[0] * m.kernel_size[1] * m.out_channels\n",
    "            m.weight.data.normal_(0, math.sqrt(2. / n))\n",
    "        elif classname.find('BatchNorm') != -1:\n",
    "            m.weight.data.fill_(1.0)\n",
    "            m.bias.data.zero_()\n",
    "\n",
    "    def _initialization(self):\n",
    "        self.net.apply(self._weights_init)\n",
    "\n",
    "\n",
    "        if self.option.is_train and self.option.use_pretrain:\n",
    "            if self.option.checkpoint is not None:\n",
    "                self._load_model()\n",
    "            else:\n",
    "                print(\"Pre-trained model not provided\")\n",
    "\n",
    "\n",
    "\n",
    "    def _mode_setting(self, is_train=True):\n",
    "        if is_train:\n",
    "            self.net.train()\n",
    "            self.pred_net_bias.train()\n",
    "        else:\n",
    "            self.net.eval()\n",
    "            self.pred_net_bias.eval()\n",
    "\n",
    "\n",
    "\n",
    "    def _train_step(self, data_loader, step):\n",
    "        _lambda = 0.01\n",
    "\n",
    "        for i, (images,color_labels,labels) in enumerate(data_loader):\n",
    "            # data\n",
    "            images = self._get_variable(images)\n",
    "            color_labels = self._get_variable(color_labels)\n",
    "            labels = self._get_variable(labels)\n",
    "\n",
    "            # predict labels\n",
    "            self.optim.zero_grad()\n",
    "            self.optim_bias.zero_grad()\n",
    "\n",
    "            feat_label, pred_label = self.net(images)\n",
    "            # predict colors from feat_label. Their prediction should be uniform.\n",
    "            _,pseudo_pred_bias = self.pred_net_bias(feat_label)\n",
    "\n",
    "            # loss for self.net\n",
    "            loss_pred = self.loss(pred_label, torch.squeeze(labels))\n",
    "            loss_pseudo_pred_bias = torch.mean(torch.sum(pseudo_pred_bias*torch.log(pseudo_pred_bias),1))\n",
    "            loss = loss_pred + loss_pseudo_pred_bias*_lambda\n",
    "            loss.backward()\n",
    "            self.optim.step()\n",
    "\n",
    "\n",
    "\n",
    "\n",
    "            # predict bias\n",
    "            self.optim.zero_grad()\n",
    "            self.optim_bias.zero_grad()\n",
    "\n",
    "            feat_label, pred_label = self.net(images)\n",
    "            feat_color = grad_reverse(feat_label)\n",
    "            pred_bias,_ = self.pred_net_bias(feat_color)\n",
    "\n",
    "\n",
    "            # loss for rgb predictors\n",
    "            loss_pred_bias = self.color_loss(pred_bias, color_labels)\n",
    "            loss_pred_bias.backward()\n",
    "            self.optim.step()\n",
    "            self.optim_bias.step()\n",
    "\n",
    "\n",
    "            if i % self.option.log_step == 0:\n",
    "                msg = \"[TRAIN] cls loss : %.6f, rgb : %.6f, MI : %.6f  (epoch %d.%02d)\" \\\n",
    "                       % (loss_pred, loss_pred_bias/3., loss_pseudo_pred_bias, step, int(100*i/data_loader.__len__()))\n",
    "                self.logger.info(msg)\n",
    "\n",
    "\n",
    "    def _train_step_baseline(self, data_loader, step):\n",
    "        for i, (images,color_labels,labels) in enumerate(data_loader):\n",
    "            \n",
    "            images = self._get_variable(images)\n",
    "            labels = self._get_variable(labels)\n",
    "\n",
    "            self.optim.zero_grad()\n",
    "            feat_label, pred_label = self.net(images)\n",
    "\n",
    "            # loss for self.net\n",
    "            loss_pred = self.loss(pred_label, torch.squeeze(labels))\n",
    "            loss_pred.backward()\n",
    "            self.optim.step()\n",
    "\n",
    "            # TODO: print elapsed time for iteration\n",
    "            if i % self.option.log_step == 0:\n",
    "                msg = \"[TRAIN] cls loss : %.6f (epoch %d.%02d)\" \\\n",
    "                       % (loss_pred,step,int(100*i/data_loader.__len__()))\n",
    "                self.logger.info(msg)\n",
    "\n",
    "\n",
    "\n",
    "\n",
    "    def _validate(self, data_loader):\n",
    "        self._mode_setting(is_train=False)\n",
    "        self._initialization()\n",
    "        if self.option.checkpoint is not None:\n",
    "            self._load_model()\n",
    "        else:\n",
    "            print(\"No trained model for evaluation provided\")\n",
    "            import sys\n",
    "            sys.exit()\n",
    "\n",
    "        num_test = 10000\n",
    "\n",
    "        total_num_correct = 0.\n",
    "        total_num_test = 0.\n",
    "        total_loss = 0.\n",
    "        for i, (images,color_labels,labels) in enumerate(data_loader):\n",
    "            \n",
    "            start_time = time.time()\n",
    "            images = self._get_variable(images)\n",
    "            color_labels = self._get_variable(color_labels)\n",
    "            labels = self._get_variable(labels)\n",
    "\n",
    "            self.optim.zero_grad()\n",
    "            _, pred_label = self.net(images)\n",
    "\n",
    "\n",
    "            loss = self.loss(pred_label, torch.squeeze(labels))\n",
    "            \n",
    "            batch_size = images.shape[0]\n",
    "            total_num_correct += self._num_correct(pred_label,labels,topk=1).item()\n",
    "            total_loss += loss.item()*batch_size\n",
    "            total_num_test += batch_size\n",
    "               \n",
    "        avg_loss = total_loss/total_num_test\n",
    "        avg_acc = total_num_correct/total_num_test\n",
    "        msg = \"EVALUATION LOSS  %.4f, ACCURACY : %.4f (%d/%d)\" % \\\n",
    "                        (avg_loss,avg_acc,int(total_num_correct),total_num_test)\n",
    "        self.logger.info(msg)\n",
    "\n",
    "\n",
    "\n",
    "    def _num_correct(self,outputs,labels,topk=1):\n",
    "        _, preds = outputs.topk(k=topk, dim=1)\n",
    "        preds = preds.t()\n",
    "        correct = preds.eq(labels.view(1, -1).expand_as(preds))\n",
    "        correct = correct.view(-1).sum()\n",
    "        return correct\n",
    "        \n",
    "\n",
    "\n",
    "    def _accuracy(self, outputs, labels):\n",
    "        batch_size = labels.size(0)\n",
    "        _, preds = outputs.topk(k=1, dim=1)\n",
    "        preds = preds.t()\n",
    "        correct = preds.eq(labels.view(1, -1).expand_as(preds))\n",
    "        correct = correct.view(-1).float().sum(0, keepdim=True)\n",
    "        accuracy = correct.mul_(100.0 / batch_size)\n",
    "        return accuracy\n",
    "\n",
    "    def _save_model(self, step):\n",
    "        torch.save({\n",
    "            'step': step,\n",
    "            'optim_state_dict': self.optim.state_dict(),\n",
    "            'net_state_dict': self.net.state_dict()\n",
    "        }, os.path.join(self.option.save_dir,self.option.exp_name, 'checkpoint_step_%04d.pth' % step))\n",
    "        print('checkpoint saved. step : %d'%step)\n",
    "\n",
    "    def _load_model(self):\n",
    "        ckpt = torch.load(self.option.checkpoint)\n",
    "        self.net.load_state_dict(ckpt['net_state_dict'])\n",
    "        self.optim.load_state_dict(ckpt['optim_state_dict'])\n",
    "\n",
    "    def train(self, train_loader, val_loader=None):\n",
    "        self._initialization()\n",
    "        if self.option.checkpoint is not None:\n",
    "            self._load_model()\n",
    "\n",
    "        self._mode_setting(is_train=True)\n",
    "        timer = Timer(self.logger, self.option.max_step)\n",
    "        start_epoch = 0\n",
    "        for step in range(start_epoch, self.option.max_step):\n",
    "            if self.option.train_baseline:\n",
    "                self._train_step_baseline(train_loader, step)\n",
    "            else:\n",
    "                self._train_step(train_loader,step)\n",
    "            self.scheduler.step()\n",
    "            self.scheduler_bias.step()\n",
    "\n",
    "\n",
    "            if step == 1 or step % self.option.save_step == 0 or step == (self.option.max_step-1):\n",
    "                if val_loader is not None:\n",
    "                    self._validate(step, val_loader)\n",
    "                self._save_model(step)\n",
    "\n",
    "\n",
    "    def _get_variable(self, inputs):\n",
    "        if self.option.cuda:\n",
    "            return Variable(inputs.cuda())\n",
    "        return Variable(inputs)"
   ]
  },
  {
   "cell_type": "code",
   "execution_count": null,
   "metadata": {},
   "outputs": [],
   "source": []
  }
 ],
 "metadata": {
  "kernelspec": {
   "display_name": "Python 3",
   "language": "python",
   "name": "python3"
  },
  "language_info": {
   "codemirror_mode": {
    "name": "ipython",
    "version": 3
   },
   "file_extension": ".py",
   "mimetype": "text/x-python",
   "name": "python",
   "nbconvert_exporter": "python",
   "pygments_lexer": "ipython3",
   "version": "3.5.2"
  }
 },
 "nbformat": 4,
 "nbformat_minor": 4
}
