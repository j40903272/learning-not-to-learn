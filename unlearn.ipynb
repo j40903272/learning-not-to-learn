{
 "cells": [
  {
   "cell_type": "code",
   "execution_count": null,
   "metadata": {},
   "outputs": [],
   "source": [
    "%load_ext autoreload\n",
    "%autoreload 2"
   ]
  },
  {
   "cell_type": "code",
   "execution_count": null,
   "metadata": {},
   "outputs": [],
   "source": [
    "import os\n",
    "import random\n",
    "import pickle\n",
    "import numpy as np\n",
    "import pandas as pd\n",
    "from tqdm import tqdm_notebook as tqdm\n",
    "from sklearn.metrics import f1_score, accuracy_score, roc_auc_score\n",
    "\n",
    "import matplotlib.pyplot as plt\n",
    "%matplotlib inline"
   ]
  },
  {
   "cell_type": "code",
   "execution_count": null,
   "metadata": {},
   "outputs": [],
   "source": [
    "import torch\n",
    "import torch.nn as nn\n",
    "import torch.nn.functional as F\n",
    "from torch import Tensor\n",
    "from torch.backends import cudnn"
   ]
  },
  {
   "cell_type": "code",
   "execution_count": null,
   "metadata": {},
   "outputs": [],
   "source": [
    "from option import get_option, parser\n",
    "from trainer import Trainer\n",
    "from utils import save_option\n",
    "import data_loader\n",
    "import models"
   ]
  },
  {
   "cell_type": "code",
   "execution_count": null,
   "metadata": {},
   "outputs": [],
   "source": [
    "import logging\n",
    "logging.basicConfig(format='%(asctime)s - %(levelname)s - %(name)s -   %(message)s',\n",
    "                    datefmt='%m/%d/%Y %H:%M:%S',\n",
    "                    level=logging.INFO)\n",
    "#logging.getLogger().setLevel(logging.INFO)\n",
    "logger = logging.getLogger(__name__)\n",
    "\n",
    "import warnings\n",
    "warnings.filterwarnings(\"ignore\")\n",
    "with warnings.catch_warnings():\n",
    "    warnings.filterwarnings(\"ignore\",category=DeprecationWarning)"
   ]
  },
  {
   "cell_type": "code",
   "execution_count": null,
   "metadata": {},
   "outputs": [],
   "source": [
    "seed = 87\n",
    "random.seed(seed)\n",
    "np.random.seed(seed)\n",
    "torch.manual_seed(seed)\n",
    "torch.cuda.manual_seed_all(seed)"
   ]
  },
  {
   "cell_type": "code",
   "execution_count": null,
   "metadata": {},
   "outputs": [],
   "source": [
    "from urlnet_utils import *"
   ]
  },
  {
   "cell_type": "code",
   "execution_count": null,
   "metadata": {},
   "outputs": [],
   "source": [
    "min_word_freq = 5\n",
    "max_len_words = 200\n",
    "max_len_chars = 200\n",
    "max_len_subwords = 20\n",
    "delimit_mode = 1\n",
    "dev_pct = 0.1"
   ]
  },
  {
   "cell_type": "code",
   "execution_count": null,
   "metadata": {},
   "outputs": [],
   "source": [
    "urls, labels = read_data(\"../URLNet/train_10000.txt\")\n",
    "\n",
    "high_freq_words = None\n",
    "if min_word_freq > 0:\n",
    "    x1, word_reverse_dict = get_word_vocab(urls, max_len_words, min_word_freq) \n",
    "    high_freq_words = sorted(list(word_reverse_dict.values()))\n",
    "    print(\"Number of words with freq >={}: {}\".format(min_word_freq, len(high_freq_words)))\n",
    "\n",
    "x, word_reverse_dict = get_word_vocab(urls, max_len_words)\n",
    "word_x = get_words(x, word_reverse_dict, delimit_mode, urls)\n",
    "ngramed_id_x, ngrams_dict, worded_id_x, words_dict = ngram_id_x(word_x, max_len_subwords, high_freq_words)\n",
    "reverse_dict = {words_dict[i]:i for i in words_dict}\n",
    "chars_dict = ngrams_dict\n",
    "chared_id_x = char_id_x(urls, chars_dict, max_len_chars)\n",
    "print(\"Overall Mal/Ben rate: {}/{}\".format(np.sum(labels==1), np.sum(labels==0)))\n",
    "\n",
    "########  shuffle & split  ######\n",
    "\n",
    "shuffle_idx = np.random.permutation(np.arange(len(labels)))\n",
    "train, test = prep_train_test(len(labels), dev_pct)\n",
    "#y_train, y_test = to_categorical(labels[train], nb_classes=2), to_categorical(labels[test], nb_classes=2)\n",
    "y_train, y_val = labels[train], labels[test]\n",
    "\n",
    "x_train_char = ngramed_id_x[train]\n",
    "x_val_char = ngramed_id_x[test]\n",
    "x_train_word = pad_seq_in_word(worded_id_x[train], max_len_words)\n",
    "x_val_word = pad_seq_in_word(worded_id_x[test], max_len_words)\n",
    "x_train_char_seq = pad_seq_in_word(chared_id_x[train], max_len_chars)\n",
    "x_val_char_seq = pad_seq_in_word(chared_id_x[test], max_len_chars)\n",
    "print(x_train_word.shape, x_val_word.shape, x_train_char_seq.shape, x_val_char_seq.shape)"
   ]
  },
  {
   "cell_type": "code",
   "execution_count": null,
   "metadata": {},
   "outputs": [],
   "source": [
    "# from pandarallel import pandarallel\n",
    "# pandarallel.initialize(nb_workers=1)\n",
    "\n",
    "if not os.path.isfile(\"word_mal_ratio.pkl\"):\n",
    "    df_tmp = pd.DataFrame({'token':word_x, \"label\":labels})\n",
    "    word_mal_ratio = dict()\n",
    "\n",
    "    for word in tqdm(words_dict):\n",
    "        df_tmp['exist'] = df_tmp['token'].map(lambda x:word in x)\n",
    "        cnt = len(df_tmp.query('exist == True & label == 0'))\n",
    "        word_mal_ratio[word] = cnt / df_tmp.exist.sum()\n",
    "    \n",
    "    with open(\"word_mal_ratio.pkl\", \"wb\") as f:\n",
    "        pickle.dump(word_mal_ratio, f)\n",
    "else:\n",
    "    with open(\"word_mal_ratio.pkl\", \"rb\") as f:\n",
    "        word_mal_ratio = pickle.load(f)\n",
    "\n",
    "\n",
    "tmp = [word_mal_ratio[i] for i in word_mal_ratio]\n",
    "tmp = pd.DataFrame({'word_mal_ratio':tmp, 'word':[i for i in word_mal_ratio]})\n",
    "tmp.plot(kind='hist')"
   ]
  },
  {
   "cell_type": "code",
   "execution_count": null,
   "metadata": {},
   "outputs": [],
   "source": [
    "tmp1 = words_dict\n",
    "tmp2 = ngrams_dict"
   ]
  },
  {
   "cell_type": "code",
   "execution_count": null,
   "metadata": {},
   "outputs": [],
   "source": [
    "urls, labels = read_data(\"../URLNet/val_10000.txt\")\n",
    "x, word_reverse_dict = get_word_vocab(urls, max_len_words) \n",
    "word_x = get_words(x, word_reverse_dict, delimit_mode, urls) \n",
    "ngramed_id_x, worded_id_x = ngram_id_x_from_dict(word_x, max_len_subwords, ngrams_dict, words_dict) \n",
    "chared_id_x = char_id_x(urls, chars_dict, max_len_chars)\n",
    "print(\"Number of testing urls: {}\".format(len(labels)))\n",
    "\n",
    "y_test = labels\n",
    "x_test_char = ngramed_id_x\n",
    "x_test_word = pad_seq_in_word(worded_id_x, max_len_words)\n",
    "x_test_char_seq = pad_seq_in_word(chared_id_x, max_len_chars)\n",
    "print(x_test_word.shape, x_test_char_seq.shape, x_test_char_seq.shape)"
   ]
  },
  {
   "cell_type": "code",
   "execution_count": null,
   "metadata": {},
   "outputs": [],
   "source": [
    "assert tmp1 == words_dict\n",
    "assert tmp2 == ngrams_dict"
   ]
  },
  {
   "cell_type": "code",
   "execution_count": null,
   "metadata": {},
   "outputs": [],
   "source": [
    "urls, labels = read_data(\"../taipei/out.csv\")#\"../URLNet/test_10000.txt\"\n",
    "x, word_reverse_dict = get_word_vocab(urls, max_len_words) \n",
    "word_x = get_words(x, word_reverse_dict, delimit_mode, urls) \n",
    "ngramed_id_x, worded_id_x = ngram_id_x_from_dict(word_x, max_len_subwords, ngrams_dict, words_dict)\n",
    "chared_id_x = char_id_x(urls, chars_dict, max_len_chars)\n",
    "print(\"Number of testing urls: {}\".format(len(labels)))\n",
    "\n",
    "y_test2 = labels\n",
    "x_test_char2 = ngramed_id_x\n",
    "x_test_word2 = pad_seq_in_word(worded_id_x, max_len_words)\n",
    "x_test_char_seq2 = pad_seq_in_word(chared_id_x, max_len_chars)\n",
    "print(x_test_word2.shape, x_test_char_seq2.shape, x_test_char_seq2.shape)"
   ]
  },
  {
   "cell_type": "code",
   "execution_count": null,
   "metadata": {},
   "outputs": [],
   "source": [
    "assert tmp1 == words_dict\n",
    "assert tmp2 == ngrams_dict"
   ]
  },
  {
   "cell_type": "code",
   "execution_count": null,
   "metadata": {},
   "outputs": [],
   "source": [
    "emb_dim = 32\n",
    "l2_reg_lambda = 0.0\n",
    "emb_mode = 2\n",
    "filter_size = [3,4,5,6]\n",
    "batch_size = 128\n",
    "epochs = 5\n",
    "lr = 1e-3"
   ]
  },
  {
   "cell_type": "code",
   "execution_count": null,
   "metadata": {},
   "outputs": [],
   "source": [
    "from torch.utils.data import Dataset, DataLoader\n",
    "class mydata(Dataset):\n",
    "    def __init__(self, X, Y):\n",
    "        self.X = X\n",
    "        self.Y = Y\n",
    "    def __len__(self):\n",
    "        return len(self.X)\n",
    "    def __getitem__(self, index):\n",
    "        return self.X[index], self.Y[index]\n",
    "\n",
    "train_dataset = mydata(x_train_word, y_train)\n",
    "val_dataset = mydata(x_val_word, y_val)\n",
    "test_dataset1 = mydata(x_test_word, y_test)\n",
    "test_dataset2 = mydata(x_test_word2, y_test2)\n",
    "\n",
    "train_loader = DataLoader(train_dataset, batch_size=batch_size, shuffle=False)\n",
    "val_loader = DataLoader(val_dataset, batch_size=batch_size, shuffle=False)\n",
    "test_loader1 = DataLoader(test_dataset1, batch_size=batch_size, shuffle=False)\n",
    "test_loader2 = DataLoader(test_dataset2, batch_size=batch_size, shuffle=False)"
   ]
  },
  {
   "cell_type": "raw",
   "metadata": {},
   "source": [
    "df_word_ratio = pd.read_csv(\"../URLNet/word_mal_ratio.csv\")\n",
    "df_word_ratio.plot(kind='hist')\n",
    "df_word_ratio.head()"
   ]
  },
  {
   "cell_type": "code",
   "execution_count": null,
   "metadata": {},
   "outputs": [],
   "source": [
    "def accuracy_thresh_sum(y_pred:Tensor, y_true:Tensor, thresh:float=0.5, sigmoid:bool=True):\n",
    "    y_pred = F.sigmoid(y_pred)\n",
    "    return ((y_pred>thresh)==y_true.byte()).float().sum().item()\n",
    "\n",
    "def accuracy_thresh_score(y_pred, y_true, thresh:float=0.5):\n",
    "    return ((y_pred>0.5).astype(int) == y_true).mean()"
   ]
  },
  {
   "cell_type": "code",
   "execution_count": null,
   "metadata": {},
   "outputs": [],
   "source": [
    "def soft_cross_entropy(inp, target, size_average=True):\n",
    "    if size_average:\n",
    "        return torch.mean(torch.sum(-target * F.log_softmax(inp), dim=1))\n",
    "    else:\n",
    "        return torch.sum(torch.sum(-target * F.log_softmax(inp), dim=1))\n",
    "\n",
    "class NegativeEntropyLoss(torch.nn.Module):\n",
    "    def __init__(self):\n",
    "        super(NegativeEntropyLoss, self).__init__()\n",
    "\n",
    "    def forward(self, x):\n",
    "        b = F.softmax(x, dim=1) * F.log_softmax(x, dim=1)\n",
    "        b = -1.0 * b.sum()\n",
    "        return b"
   ]
  },
  {
   "cell_type": "code",
   "execution_count": null,
   "metadata": {},
   "outputs": [],
   "source": [
    "model = models.WordCNN(\n",
    "            word_ngram_vocab_size = len(words_dict)+1,\n",
    "            emb_size=emb_dim,\n",
    "            word_seq_len=max_len_words,\n",
    "            l2_reg_lambda=l2_reg_lambda,\n",
    "            kernel_sizes=filter_size).cuda()\n",
    "\n",
    "print('paramters count', sum(p.numel() for p in model.parameters()))\n",
    "optimizer = torch.optim.Adam(model.parameters(), lr=1e-3)"
   ]
  },
  {
   "cell_type": "code",
   "execution_count": null,
   "metadata": {},
   "outputs": [],
   "source": [
    "model"
   ]
  },
  {
   "cell_type": "code",
   "execution_count": null,
   "metadata": {},
   "outputs": [],
   "source": [
    "def step(model, optimizer, loader, train=True, message=\"\"):\n",
    "    loss_total = 0\n",
    "    all_logits = []\n",
    "    all_labels = []\n",
    "    \n",
    "    model.train() if train else model.eval()\n",
    "    mode = torch.enable_grad if train else torch.no_grad\n",
    "    \n",
    "    with mode():\n",
    "        for (data, label) in tqdm(loader, desc=message):\n",
    "            data, label = data.long().cuda(), label.float().cuda()\n",
    "            logits = model(data).squeeze()\n",
    "            loss = F.binary_cross_entropy_with_logits(logits, label, reduction=\"sum\")\n",
    "            if train:\n",
    "                loss.backward()\n",
    "                optimizer.step()\n",
    "                optimizer.zero_grad()\n",
    "            loss_total += loss.item()\n",
    "            all_labels.append(label.detach().cpu().numpy())\n",
    "            all_logits.append(F.sigmoid(logits).detach().cpu().numpy())\n",
    "            \n",
    "            \n",
    "    loss_total /= (len(loader)/batch_size)\n",
    "    all_labels = np.hstack(all_labels)\n",
    "    all_logits = np.hstack(all_logits)\n",
    "    auc = roc_auc_score(all_labels, all_logits) if len(np.unique(all_labels)) > 1 else 0\n",
    "    acc = accuracy_thresh_score(all_logits, all_labels)\n",
    "    \n",
    "    #logger.info(message)\n",
    "    logger.info('Loss     : {}'.format(loss_total))\n",
    "    logger.info('Accuracy : {}'.format(acc))\n",
    "    logger.info('AUC      : {}'.format(auc))\n",
    "    \n",
    "    return {'loss':loss_total, 'acc':acc, 'auc':auc}"
   ]
  },
  {
   "cell_type": "code",
   "execution_count": null,
   "metadata": {},
   "outputs": [],
   "source": [
    "# start straining\n",
    "\n",
    "history = {'train':[], 'valid':[], 'test1':[], 'test2':[]}\n",
    "for e in tqdm(range(10), desc=\"Epoch\"):\n",
    "    train_result =  step(model, optimizer, train_loader, train=True, message=\"Training :{}\".format(e))\n",
    "    valid_result = step(model, optimizer, val_loader, train=False, message=\"Validation :{}\".format(e))\n",
    "    test_result1 = step(model, optimizer, test_loader1, train=False, message=\"Test 1 :{}\".format(e))\n",
    "    test_result2 = step(model, optimizer, test_loader2, train=False, message=\"Test 2 :{}\".format(e))\n",
    "    \n",
    "    history['train'].append(train_result)\n",
    "    history['valid'].append(valid_result)\n",
    "    history['test1'].append(test_result1)\n",
    "    history['test2'].append(test_result2)"
   ]
  },
  {
   "cell_type": "code",
   "execution_count": 24,
   "metadata": {},
   "outputs": [
    {
     "data": {
      "image/png": "[encoded data removed]",
      "text/plain": [
       "<Figure size 504x360 with 1 Axes>"
      ]
     },
     "metadata": {
      "needs_background": "light"
     },
     "output_type": "display_data"
    },
    {
     "data": {
      "image/png": "[encoded data removed]",
      "text/plain": [
       "<Figure size 504x360 with 1 Axes>"
      ]
     },
     "metadata": {
      "needs_background": "light"
     },
     "output_type": "display_data"
    }
   ],
   "source": [
    "save = \"baseline2\"\n",
    "\n",
    "train_loss = [l['loss'] for l in history['train']]\n",
    "valid_loss = [l['loss'] for l in history['valid']]\n",
    "test1_loss = [l['loss'] for l in history['test1']]\n",
    "test2_loss = [l['loss'] for l in history['test2']]\n",
    "\n",
    "train_auc = [l['auc'] for l in history['train']]\n",
    "valid_auc = [l['auc'] for l in history['valid']]\n",
    "test1_auc = [l['auc'] for l in history['test1']]\n",
    "test2_auc = [l['auc'] for l in history['test2']]\n",
    "\n",
    "plt.figure(figsize=(7,5))\n",
    "plt.title('Loss')\n",
    "plt.plot(train_loss, label='train')\n",
    "plt.plot(valid_loss, label='valid')\n",
    "plt.plot(test1_loss, label='test1')\n",
    "plt.plot(test2_loss, label='test2')\n",
    "plt.legend()\n",
    "if save:\n",
    "    path = os.path.join(\"output\", save+'_loss.png')\n",
    "    plt.savefig(path)\n",
    "plt.show()\n",
    "\n",
    "plt.figure(figsize=(7,5))\n",
    "plt.title('AUC Score')\n",
    "plt.plot(train_auc, label='train')\n",
    "plt.plot(valid_auc, label='valid')\n",
    "plt.plot(test1_auc, label='test1')\n",
    "plt.plot(test2_auc, label='test2')\n",
    "plt.legend()\n",
    "if save:\n",
    "    path = os.path.join(\"output\", save+'_auc.png')\n",
    "    plt.savefig(path)\n",
    "plt.show()"
   ]
  },
  {
   "cell_type": "markdown",
   "metadata": {},
   "source": [
    "# Adversarial training"
   ]
  },
  {
   "cell_type": "code",
   "execution_count": 25,
   "metadata": {},
   "outputs": [],
   "source": [
    "UNKId = words_dict['<UNKNOWN>']\n",
    "word_mal_ratio['<UNKNOWN>'] = 0.5\n",
    "data = list(map(lambda x:words_dict.get(x, UNKId), word_mal_ratio.keys()))\n",
    "label = list(map(lambda x:np.array([x, 1-x]), word_mal_ratio.values()))\n",
    "\n",
    "emb_ratio_dataset = mydata(data, label)\n",
    "emb_ratio_loader = DataLoader(emb_ratio_dataset, batch_size=batch_size, shuffle=True)"
   ]
  },
  {
   "cell_type": "code",
   "execution_count": 26,
   "metadata": {},
   "outputs": [
    {
     "data": {
      "text/plain": [
       "torch.Size([128, 1])"
      ]
     },
     "execution_count": 26,
     "metadata": {},
     "output_type": "execute_result"
    }
   ],
   "source": [
    "d, l = next(iter(emb_ratio_loader))\n",
    "d.unsqueeze(1).shape"
   ]
  },
  {
   "cell_type": "code",
   "execution_count": 51,
   "metadata": {},
   "outputs": [],
   "source": [
    "def emb_step(model, optimizer, train=False, iters=1):\n",
    "    \n",
    "    loader = emb_ratio_loader\n",
    "    loss_total = 0\n",
    "    _lambda = 0.1\n",
    "    \n",
    "    model.train() if train else model.eval()\n",
    "    mode = torch.enable_grad if train else torch.no_grad\n",
    "    with mode():\n",
    "        for _ in range(iters):\n",
    "            for (data, label) in loader:\n",
    "            #for (data, label) in tqdm(loader, desc=\"emb bias\"):\n",
    "                data, label = data.long().unsqueeze(1).cuda(), label.float().cuda()\n",
    "                logits = model(data)\n",
    "                loss = soft_cross_entropy(logits, label, size_average=True) * _lambda\n",
    "                if train:\n",
    "                    loss.backward()\n",
    "                    torch.nn.utils.clip_grad_norm_(model.parameters(), 1.0)\n",
    "                    optimizer.step()\n",
    "                    optimizer.zero_grad()\n",
    "                loss_total += loss.item()\n",
    "                \n",
    "    loss_total /= (len(loader)*iters/batch_size)\n",
    "    return loss_total"
   ]
  },
  {
   "cell_type": "code",
   "execution_count": 56,
   "metadata": {},
   "outputs": [],
   "source": [
    "def adv_step(model, optimizer, loader, train=True, message=\"\"):\n",
    "    loss_total = 0\n",
    "    bias_loss_total = 0\n",
    "    all_logits = []\n",
    "    all_labels = []\n",
    "    \n",
    "    model.train() if train else model.eval()\n",
    "    bias_model.train if train else bias_model.eval()\n",
    "    mode = torch.enable_grad if train else torch.no_grad\n",
    "    \n",
    "    with mode():\n",
    "        for (data, label) in tqdm(loader, desc=message):\n",
    "            data, label = data.long().cuda(), label.float().cuda()\n",
    "            logits = model(data).squeeze()\n",
    "            loss = F.binary_cross_entropy_with_logits(logits, label, reduction=\"sum\")\n",
    "            if train:\n",
    "                loss.backward()\n",
    "                optimizer.step()\n",
    "                optimizer.zero_grad()\n",
    "            loss_total += loss.item()\n",
    "            all_labels.append(label.detach().cpu().numpy())\n",
    "            all_logits.append(F.sigmoid(logits).detach().cpu().numpy())\n",
    "            \n",
    "#             ###adv step for each original batch\n",
    "#             logits = bias_model(data).squeeze()\n",
    "#             _lambda = 0.01\n",
    "#             bias_loss = _lambda * soft_cross_entropy(logits)\n",
    "#             if train:\n",
    "#                 bias_loss.backward()\n",
    "#                 bias__optimizer.step()\n",
    "#                 bias__optimizer.zero_grad()\n",
    "#             bias_loss_total += bias_loss.item()\n",
    "#     bias_loss_total = bias_loss_total/(len(loader)/batch_size\n",
    "    \n",
    "    loss_total /= (len(loader)/batch_size)\n",
    "    all_labels = np.hstack(all_labels)\n",
    "    all_logits = np.hstack(all_logits)\n",
    "    auc = roc_auc_score(all_labels, all_logits) if len(np.unique(all_labels)) > 1 else 0\n",
    "    acc = accuracy_thresh_score(all_logits, all_labels)\n",
    "    \n",
    "\n",
    "    bias_loss_total = emb_step(bias_model, bias_optimizer, train, 3)\n",
    "    logger.info('Loss     : {}'.format(loss_total))\n",
    "    logger.info('Bias Loss: {}'.format(bias_loss_total))\n",
    "    logger.info('Accuracy : {}'.format(acc))\n",
    "    logger.info('AUC      : {}'.format(auc))\n",
    "    \n",
    "    return {'loss':loss_total, 'acc':acc, 'auc':auc, \"bias\":bias_loss_total}"
   ]
  },
  {
   "cell_type": "code",
   "execution_count": 57,
   "metadata": {},
   "outputs": [],
   "source": [
    "adv_model = models.WordCNN(\n",
    "            word_ngram_vocab_size = len(words_dict)+1,\n",
    "            emb_size=emb_dim,\n",
    "            word_seq_len=max_len_words,\n",
    "            l2_reg_lambda=l2_reg_lambda,\n",
    "            kernel_sizes=filter_size).cuda()\n",
    "adv_optimizer = torch.optim.Adam(adv_model.parameters(), lr=1e-3)\n",
    "\n",
    "bias_model = models.BiasPredictor(adv_model.word_emb, emb_dim).cuda()\n",
    "bias_optimizer = torch.optim.Adam(bias_model.parameters(), lr=1e-4)"
   ]
  },
  {
   "cell_type": "code",
   "execution_count": 58,
   "metadata": {},
   "outputs": [
    {
     "data": {
      "application/vnd.jupyter.widget-view+json": {
       "model_id": "6476d7667d4149bab5a29d28bf1604f6",
       "version_major": 2,
       "version_minor": 0
      },
      "text/plain": [
       "HBox(children=(IntProgress(value=0, description='Epoch', max=10), HTML(value='')))"
      ]
     },
     "metadata": {},
     "output_type": "display_data"
    },
    {
     "data": {
      "application/vnd.jupyter.widget-view+json": {
       "model_id": "7f5373ed7c104be88ed9429eece37e52",
       "version_major": 2,
       "version_minor": 0
      },
      "text/plain": [
       "HBox(children=(IntProgress(value=0, description='Training :0', max=333), HTML(value='')))"
      ]
     },
     "metadata": {},
     "output_type": "display_data"
    },
    {
     "name": "stderr",
     "output_type": "stream",
     "text": [
      "10/26/2019 15:02:10 - INFO - __main__ -   Loss     : 1965.4996161335582\n",
      "10/26/2019 15:02:10 - INFO - __main__ -   Bias Loss: 89.8339655134413\n",
      "10/26/2019 15:02:10 - INFO - __main__ -   Accuracy : 0.949510634293243\n",
      "10/26/2019 15:02:10 - INFO - __main__ -   AUC      : 0.9909846541599434\n"
     ]
    },
    {
     "data": {
      "application/vnd.jupyter.widget-view+json": {
       "model_id": "1cf419e7ac104b60ac57b31653d6c538",
       "version_major": 2,
       "version_minor": 0
      },
      "text/plain": [
       "HBox(children=(IntProgress(value=0, description='Validation :0', max=37), HTML(value='')))"
      ]
     },
     "metadata": {},
     "output_type": "display_data"
    },
    {
     "name": "stderr",
     "output_type": "stream",
     "text": [
      "10/26/2019 15:02:11 - INFO - __main__ -   Loss     : 460.784828392235\n",
      "10/26/2019 15:02:11 - INFO - __main__ -   Bias Loss: 88.58572493659125\n",
      "10/26/2019 15:02:11 - INFO - __main__ -   Accuracy : 0.9900465904277849\n",
      "10/26/2019 15:02:11 - INFO - __main__ -   AUC      : 0.9996608179154217\n"
     ]
    },
    {
     "data": {
      "application/vnd.jupyter.widget-view+json": {
       "model_id": "f3b1a2e195424c1da586190702680891",
       "version_major": 2,
       "version_minor": 0
      },
      "text/plain": [
       "HBox(children=(IntProgress(value=0, description='Test 1 :0', max=41), HTML(value='')))"
      ]
     },
     "metadata": {},
     "output_type": "display_data"
    },
    {
     "name": "stderr",
     "output_type": "stream",
     "text": [
      "10/26/2019 15:02:12 - INFO - __main__ -   Loss     : 391.2125813553973\n",
      "10/26/2019 15:02:12 - INFO - __main__ -   Bias Loss: 88.73459392123752\n",
      "10/26/2019 15:02:12 - INFO - __main__ -   Accuracy : 0.9923780487804879\n",
      "10/26/2019 15:02:12 - INFO - __main__ -   AUC      : 0.9997981228621358\n"
     ]
    },
    {
     "data": {
      "application/vnd.jupyter.widget-view+json": {
       "model_id": "973cfd6217c845a8bf5a20ad8064f100",
       "version_major": 2,
       "version_minor": 0
      },
      "text/plain": [
       "HBox(children=(IntProgress(value=0, description='Test 2 :0', max=13575), HTML(value='')))"
      ]
     },
     "metadata": {},
     "output_type": "display_data"
    },
    {
     "name": "stderr",
     "output_type": "stream",
     "text": [
      "10/26/2019 15:06:15 - INFO - __main__ -   Loss     : 24204.678286321614\n",
      "10/26/2019 15:06:15 - INFO - __main__ -   Bias Loss: 88.67041679664895\n",
      "10/26/2019 15:06:15 - INFO - __main__ -   Accuracy : 0.4847847080503271\n",
      "10/26/2019 15:06:15 - INFO - __main__ -   AUC      : 0.8166102861286981\n"
     ]
    },
    {
     "data": {
      "application/vnd.jupyter.widget-view+json": {
       "model_id": "be503166aa5c4647b5bd75e7fb1202d7",
       "version_major": 2,
       "version_minor": 0
      },
      "text/plain": [
       "HBox(children=(IntProgress(value=0, description='Training :1', max=333), HTML(value='')))"
      ]
     },
     "metadata": {},
     "output_type": "display_data"
    },
    {
     "name": "stderr",
     "output_type": "stream",
     "text": [
      "10/26/2019 15:06:29 - INFO - __main__ -   Loss     : 416.85564982606934\n",
      "10/26/2019 15:06:29 - INFO - __main__ -   Bias Loss: 87.82875103420682\n",
      "10/26/2019 15:06:29 - INFO - __main__ -   Accuracy : 0.9914831545266328\n",
      "10/26/2019 15:06:29 - INFO - __main__ -   AUC      : 0.9995016445121107\n"
     ]
    },
    {
     "data": {
      "application/vnd.jupyter.widget-view+json": {
       "model_id": "650434868ff448ffb85036e940cc9fc8",
       "version_major": 2,
       "version_minor": 0
      },
      "text/plain": [
       "HBox(children=(IntProgress(value=0, description='Validation :1', max=37), HTML(value='')))"
      ]
     },
     "metadata": {},
     "output_type": "display_data"
    },
    {
     "name": "stderr",
     "output_type": "stream",
     "text": [
      "10/26/2019 15:06:30 - INFO - __main__ -   Loss     : 222.14853875701493\n",
      "10/26/2019 15:06:30 - INFO - __main__ -   Bias Loss: 86.91133336667662\n",
      "10/26/2019 15:06:30 - INFO - __main__ -   Accuracy : 0.9938585345192715\n",
      "10/26/2019 15:06:30 - INFO - __main__ -   AUC      : 0.9998971141691565\n"
     ]
    },
    {
     "data": {
      "application/vnd.jupyter.widget-view+json": {
       "model_id": "d9500876f91348f396ff3b45cacf6f35",
       "version_major": 2,
       "version_minor": 0
      },
      "text/plain": [
       "HBox(children=(IntProgress(value=0, description='Test 1 :1', max=41), HTML(value='')))"
      ]
     },
     "metadata": {},
     "output_type": "display_data"
    },
    {
     "name": "stderr",
     "output_type": "stream",
     "text": [
      "10/26/2019 15:06:31 - INFO - __main__ -   Loss     : 238.38160778254996\n",
      "10/26/2019 15:06:31 - INFO - __main__ -   Bias Loss: 86.89875814649794\n",
      "10/26/2019 15:06:31 - INFO - __main__ -   Accuracy : 0.993140243902439\n",
      "10/26/2019 15:06:31 - INFO - __main__ -   AUC      : 0.9998929615463266\n"
     ]
    },
    {
     "data": {
      "application/vnd.jupyter.widget-view+json": {
       "model_id": "d3233103cc0241a59eee84331bef31b6",
       "version_major": 2,
       "version_minor": 0
      },
      "text/plain": [
       "HBox(children=(IntProgress(value=0, description='Test 2 :1', max=13575), HTML(value='')))"
      ]
     },
     "metadata": {},
     "output_type": "display_data"
    },
    {
     "name": "stderr",
     "output_type": "stream",
     "text": [
      "10/26/2019 15:10:37 - INFO - __main__ -   Loss     : 54798.292057935236\n",
      "10/26/2019 15:10:37 - INFO - __main__ -   Bias Loss: 87.03191870230215\n",
      "10/26/2019 15:10:37 - INFO - __main__ -   Accuracy : 0.09386657642694439\n",
      "10/26/2019 15:10:37 - INFO - __main__ -   AUC      : 0.846682632644903\n"
     ]
    },
    {
     "data": {
      "application/vnd.jupyter.widget-view+json": {
       "model_id": "49b74bcd03d3400ca16e24d072715394",
       "version_major": 2,
       "version_minor": 0
      },
      "text/plain": [
       "HBox(children=(IntProgress(value=0, description='Training :2', max=333), HTML(value='')))"
      ]
     },
     "metadata": {},
     "output_type": "display_data"
    },
    {
     "name": "stderr",
     "output_type": "stream",
     "text": [
      "10/26/2019 15:10:51 - INFO - __main__ -   Loss     : 225.25344355283556\n",
      "10/26/2019 15:10:51 - INFO - __main__ -   Bias Loss: 86.60845947265625\n",
      "10/26/2019 15:10:51 - INFO - __main__ -   Accuracy : 0.9954357236965933\n",
      "10/26/2019 15:10:51 - INFO - __main__ -   AUC      : 0.9998167012475974\n"
     ]
    },
    {
     "data": {
      "application/vnd.jupyter.widget-view+json": {
       "model_id": "14a5b1d94dc14699a54ab18180647a82",
       "version_major": 2,
       "version_minor": 0
      },
      "text/plain": [
       "HBox(children=(IntProgress(value=0, description='Validation :2', max=37), HTML(value='')))"
      ]
     },
     "metadata": {},
     "output_type": "display_data"
    },
    {
     "name": "stderr",
     "output_type": "stream",
     "text": [
      "10/26/2019 15:10:52 - INFO - __main__ -   Loss     : 173.05883129222974\n",
      "10/26/2019 15:10:52 - INFO - __main__ -   Bias Loss: 86.2601146697998\n",
      "10/26/2019 15:10:52 - INFO - __main__ -   Accuracy : 0.9961880559085133\n",
      "10/26/2019 15:10:52 - INFO - __main__ -   AUC      : 0.9999218929556424\n"
     ]
    },
    {
     "data": {
      "application/vnd.jupyter.widget-view+json": {
       "model_id": "591d42eeee6d48d49a5955f11c629472",
       "version_major": 2,
       "version_minor": 0
      },
      "text/plain": [
       "HBox(children=(IntProgress(value=0, description='Test 1 :2', max=41), HTML(value='')))"
      ]
     },
     "metadata": {},
     "output_type": "display_data"
    },
    {
     "name": "stderr",
     "output_type": "stream",
     "text": [
      "10/26/2019 15:10:53 - INFO - __main__ -   Loss     : 164.11060302650057\n",
      "10/26/2019 15:10:53 - INFO - __main__ -   Bias Loss: 86.24254996688278\n",
      "10/26/2019 15:10:53 - INFO - __main__ -   Accuracy : 0.9965701219512195\n",
      "10/26/2019 15:10:53 - INFO - __main__ -   AUC      : 0.9999546865704937\n"
     ]
    },
    {
     "data": {
      "application/vnd.jupyter.widget-view+json": {
       "model_id": "96005294d8ee4b719050c02f0c48d719",
       "version_major": 2,
       "version_minor": 0
      },
      "text/plain": [
       "HBox(children=(IntProgress(value=0, description='Test 2 :2', max=13575), HTML(value='')))"
      ]
     },
     "metadata": {},
     "output_type": "display_data"
    },
    {
     "name": "stderr",
     "output_type": "stream",
     "text": [
      "10/26/2019 15:14:56 - INFO - __main__ -   Loss     : 68936.4674849565\n",
      "10/26/2019 15:14:56 - INFO - __main__ -   Bias Loss: 86.01218965318468\n",
      "10/26/2019 15:14:56 - INFO - __main__ -   Accuracy : 0.09732250456665942\n",
      "10/26/2019 15:14:56 - INFO - __main__ -   AUC      : 0.8263400293380349\n"
     ]
    },
    {
     "data": {
      "application/vnd.jupyter.widget-view+json": {
       "model_id": "1f07cc4f662846eeaa240220d6bba897",
       "version_major": 2,
       "version_minor": 0
      },
      "text/plain": [
       "HBox(children=(IntProgress(value=0, description='Training :3', max=333), HTML(value='')))"
      ]
     },
     "metadata": {},
     "output_type": "display_data"
    },
    {
     "name": "stderr",
     "output_type": "stream",
     "text": [
      "10/26/2019 15:15:10 - INFO - __main__ -   Loss     : 133.1306662268562\n",
      "10/26/2019 15:15:10 - INFO - __main__ -   Bias Loss: 86.0496378298159\n",
      "10/26/2019 15:15:10 - INFO - __main__ -   Accuracy : 0.9974355354790138\n",
      "10/26/2019 15:15:10 - INFO - __main__ -   AUC      : 0.9999169652920787\n"
     ]
    },
    {
     "data": {
      "application/vnd.jupyter.widget-view+json": {
       "model_id": "9aff388cf9494a4ab585ae8830844296",
       "version_major": 2,
       "version_minor": 0
      },
      "text/plain": [
       "HBox(children=(IntProgress(value=0, description='Validation :3', max=37), HTML(value='')))"
      ]
     },
     "metadata": {},
     "output_type": "display_data"
    },
    {
     "name": "stderr",
     "output_type": "stream",
     "text": [
      "10/26/2019 15:15:11 - INFO - __main__ -   Loss     : 124.79943488095257\n",
      "10/26/2019 15:15:11 - INFO - __main__ -   Bias Loss: 85.79470104641385\n",
      "10/26/2019 15:15:11 - INFO - __main__ -   Accuracy : 0.9976704786107582\n",
      "10/26/2019 15:15:11 - INFO - __main__ -   AUC      : 0.9999691162951045\n"
     ]
    },
    {
     "data": {
      "application/vnd.jupyter.widget-view+json": {
       "model_id": "c7a1d3018b5843c2b01878175b51d975",
       "version_major": 2,
       "version_minor": 0
      },
      "text/plain": [
       "HBox(children=(IntProgress(value=0, description='Test 1 :3', max=41), HTML(value='')))"
      ]
     },
     "metadata": {},
     "output_type": "display_data"
    },
    {
     "name": "stderr",
     "output_type": "stream",
     "text": [
      "10/26/2019 15:15:12 - INFO - __main__ -   Loss     : 154.7678668679806\n",
      "10/26/2019 15:15:12 - INFO - __main__ -   Bias Loss: 85.61310916476779\n",
      "10/26/2019 15:15:12 - INFO - __main__ -   Accuracy : 0.9977134146341463\n",
      "10/26/2019 15:15:12 - INFO - __main__ -   AUC      : 0.9999664506339232\n"
     ]
    },
    {
     "data": {
      "application/vnd.jupyter.widget-view+json": {
       "model_id": "c56533b9141b41329c4d0b1a75a31f9e",
       "version_major": 2,
       "version_minor": 0
      },
      "text/plain": [
       "HBox(children=(IntProgress(value=0, description='Test 2 :3', max=13575), HTML(value='')))"
      ]
     },
     "metadata": {},
     "output_type": "display_data"
    },
    {
     "name": "stderr",
     "output_type": "stream",
     "text": [
      "10/26/2019 15:19:14 - INFO - __main__ -   Loss     : 48082.89456747346\n",
      "10/26/2019 15:19:14 - INFO - __main__ -   Bias Loss: 85.60014809502496\n",
      "10/26/2019 15:19:14 - INFO - __main__ -   Accuracy : 0.12446866183930193\n",
      "10/26/2019 15:19:14 - INFO - __main__ -   AUC      : 0.8348210945905574\n"
     ]
    },
    {
     "data": {
      "application/vnd.jupyter.widget-view+json": {
       "model_id": "cbccc111ea994bbf80d914f64d6d589a",
       "version_major": 2,
       "version_minor": 0
      },
      "text/plain": [
       "HBox(children=(IntProgress(value=0, description='Training :4', max=333), HTML(value='')))"
      ]
     },
     "metadata": {},
     "output_type": "display_data"
    },
    {
     "name": "stderr",
     "output_type": "stream",
     "text": [
      "10/26/2019 15:19:28 - INFO - __main__ -   Loss     : 95.85391874615398\n",
      "10/26/2019 15:19:28 - INFO - __main__ -   Bias Loss: 85.48937741032353\n",
      "10/26/2019 15:19:28 - INFO - __main__ -   Accuracy : 0.9981884057971014\n",
      "10/26/2019 15:19:28 - INFO - __main__ -   AUC      : 0.9999629131417609\n"
     ]
    },
    {
     "data": {
      "application/vnd.jupyter.widget-view+json": {
       "model_id": "86ea8fd579c74dea86450a0dde76db2b",
       "version_major": 2,
       "version_minor": 0
      },
      "text/plain": [
       "HBox(children=(IntProgress(value=0, description='Validation :4', max=37), HTML(value='')))"
      ]
     },
     "metadata": {},
     "output_type": "display_data"
    },
    {
     "name": "stderr",
     "output_type": "stream",
     "text": [
      "10/26/2019 15:19:29 - INFO - __main__ -   Loss     : 128.63750463563042\n",
      "10/26/2019 15:19:29 - INFO - __main__ -   Bias Loss: 85.25674883524577\n",
      "10/26/2019 15:19:29 - INFO - __main__ -   Accuracy : 0.9980940279542567\n",
      "10/26/2019 15:19:29 - INFO - __main__ -   AUC      : 0.9999759394392094\n"
     ]
    },
    {
     "data": {
      "application/vnd.jupyter.widget-view+json": {
       "model_id": "dfd6f1d587384021835f69efb29697e5",
       "version_major": 2,
       "version_minor": 0
      },
      "text/plain": [
       "HBox(children=(IntProgress(value=0, description='Test 1 :4', max=41), HTML(value='')))"
      ]
     },
     "metadata": {},
     "output_type": "display_data"
    },
    {
     "name": "stderr",
     "output_type": "stream",
     "text": [
      "10/26/2019 15:19:30 - INFO - __main__ -   Loss     : 126.93439471667132\n",
      "10/26/2019 15:19:30 - INFO - __main__ -   Bias Loss: 85.254381886235\n",
      "10/26/2019 15:19:30 - INFO - __main__ -   Accuracy : 0.9979039634146342\n",
      "10/26/2019 15:19:30 - INFO - __main__ -   AUC      : 0.9999729862247174\n"
     ]
    },
    {
     "data": {
      "application/vnd.jupyter.widget-view+json": {
       "model_id": "51437527036b44cca5a1c3943dc98ea7",
       "version_major": 2,
       "version_minor": 0
      },
      "text/plain": [
       "HBox(children=(IntProgress(value=0, description='Test 2 :4', max=13575), HTML(value='')))"
      ]
     },
     "metadata": {},
     "output_type": "display_data"
    },
    {
     "name": "stderr",
     "output_type": "stream",
     "text": [
      "10/26/2019 15:23:32 - INFO - __main__ -   Loss     : 73748.31559465878\n",
      "10/26/2019 15:23:32 - INFO - __main__ -   Bias Loss: 85.144349416097\n",
      "10/26/2019 15:23:32 - INFO - __main__ -   Accuracy : 0.08840902995751597\n",
      "10/26/2019 15:23:32 - INFO - __main__ -   AUC      : 0.8442951022137566\n"
     ]
    },
    {
     "data": {
      "application/vnd.jupyter.widget-view+json": {
       "model_id": "0cdbe5d689744a9285ddf0c5fd24a999",
       "version_major": 2,
       "version_minor": 0
      },
      "text/plain": [
       "HBox(children=(IntProgress(value=0, description='Training :5', max=333), HTML(value='')))"
      ]
     },
     "metadata": {},
     "output_type": "display_data"
    },
    {
     "name": "stderr",
     "output_type": "stream",
     "text": [
      "10/26/2019 15:23:46 - INFO - __main__ -   Loss     : 106.19992211169085\n",
      "10/26/2019 15:23:46 - INFO - __main__ -   Bias Loss: 85.1150254143609\n",
      "10/26/2019 15:23:46 - INFO - __main__ -   Accuracy : 0.9981413514022209\n",
      "10/26/2019 15:23:46 - INFO - __main__ -   AUC      : 0.9999376309751459\n"
     ]
    },
    {
     "data": {
      "application/vnd.jupyter.widget-view+json": {
       "model_id": "5e1be49f15e64ab9ac08cad302dad21a",
       "version_major": 2,
       "version_minor": 0
      },
      "text/plain": [
       "HBox(children=(IntProgress(value=0, description='Validation :5', max=37), HTML(value='')))"
      ]
     },
     "metadata": {},
     "output_type": "display_data"
    },
    {
     "name": "stderr",
     "output_type": "stream",
     "text": [
      "10/26/2019 15:23:47 - INFO - __main__ -   Loss     : 76.24782069470432\n",
      "10/26/2019 15:23:47 - INFO - __main__ -   Bias Loss: 84.94394097504792\n",
      "10/26/2019 15:23:47 - INFO - __main__ -   Accuracy : 0.9991529013130029\n",
      "10/26/2019 15:23:47 - INFO - __main__ -   AUC      : 0.9999314094461045\n"
     ]
    },
    {
     "data": {
      "application/vnd.jupyter.widget-view+json": {
       "model_id": "44a3ddb7e38f42e5ab635b5b74f1e62f",
       "version_major": 2,
       "version_minor": 0
      },
      "text/plain": [
       "HBox(children=(IntProgress(value=0, description='Test 1 :5', max=41), HTML(value='')))"
      ]
     },
     "metadata": {},
     "output_type": "display_data"
    },
    {
     "name": "stderr",
     "output_type": "stream",
     "text": [
      "10/26/2019 15:23:48 - INFO - __main__ -   Loss     : 118.03376081985671\n",
      "10/26/2019 15:23:48 - INFO - __main__ -   Bias Loss: 84.98358458059805\n",
      "10/26/2019 15:23:48 - INFO - __main__ -   Accuracy : 0.9979039634146342\n",
      "10/26/2019 15:23:48 - INFO - __main__ -   AUC      : 0.9999584626896193\n"
     ]
    },
    {
     "data": {
      "application/vnd.jupyter.widget-view+json": {
       "model_id": "a61c459785d245bd954214327b76ace2",
       "version_major": 2,
       "version_minor": 0
      },
      "text/plain": [
       "HBox(children=(IntProgress(value=0, description='Test 2 :5', max=13575), HTML(value='')))"
      ]
     },
     "metadata": {},
     "output_type": "display_data"
    },
    {
     "name": "stderr",
     "output_type": "stream",
     "text": [
      "10/26/2019 15:27:51 - INFO - __main__ -   Loss     : 63879.380782064014\n",
      "10/26/2019 15:27:51 - INFO - __main__ -   Bias Loss: 84.90904892815485\n",
      "10/26/2019 15:27:51 - INFO - __main__ -   Accuracy : 0.10004235742066328\n",
      "10/26/2019 15:27:51 - INFO - __main__ -   AUC      : 0.8594115868952172\n"
     ]
    },
    {
     "data": {
      "application/vnd.jupyter.widget-view+json": {
       "model_id": "cf63c94907734e11a9f84a689a0df698",
       "version_major": 2,
       "version_minor": 0
      },
      "text/plain": [
       "HBox(children=(IntProgress(value=0, description='Training :6', max=333), HTML(value='')))"
      ]
     },
     "metadata": {},
     "output_type": "display_data"
    },
    {
     "name": "stderr",
     "output_type": "stream",
     "text": [
      "10/26/2019 15:28:05 - INFO - __main__ -   Loss     : 58.70824208860095\n",
      "10/26/2019 15:28:05 - INFO - __main__ -   Bias Loss: 84.8232782151964\n",
      "10/26/2019 15:28:05 - INFO - __main__ -   Accuracy : 0.9988001129305477\n",
      "10/26/2019 15:28:05 - INFO - __main__ -   AUC      : 0.9999855770868913\n"
     ]
    },
    {
     "data": {
      "application/vnd.jupyter.widget-view+json": {
       "model_id": "3ec85dc6ace84826a402292d6a464df6",
       "version_major": 2,
       "version_minor": 0
      },
      "text/plain": [
       "HBox(children=(IntProgress(value=0, description='Validation :6', max=37), HTML(value='')))"
      ]
     },
     "metadata": {},
     "output_type": "display_data"
    },
    {
     "name": "stderr",
     "output_type": "stream",
     "text": [
      "10/26/2019 15:28:06 - INFO - __main__ -   Loss     : 134.8725127074364\n",
      "10/26/2019 15:28:06 - INFO - __main__ -   Bias Loss: 84.828694096318\n",
      "10/26/2019 15:28:06 - INFO - __main__ -   Accuracy : 0.9976704786107582\n",
      "10/26/2019 15:28:06 - INFO - __main__ -   AUC      : 0.9999531357733854\n"
     ]
    },
    {
     "data": {
      "application/vnd.jupyter.widget-view+json": {
       "model_id": "79f53fb5063a403e8dd45f5988576c4a",
       "version_major": 2,
       "version_minor": 0
      },
      "text/plain": [
       "HBox(children=(IntProgress(value=0, description='Test 1 :6', max=41), HTML(value='')))"
      ]
     },
     "metadata": {},
     "output_type": "display_data"
    },
    {
     "name": "stderr",
     "output_type": "stream",
     "text": [
      "10/26/2019 15:28:07 - INFO - __main__ -   Loss     : 224.475314585174\n",
      "10/26/2019 15:28:07 - INFO - __main__ -   Bias Loss: 84.76308872081616\n",
      "10/26/2019 15:28:07 - INFO - __main__ -   Accuracy : 0.9961890243902439\n",
      "10/26/2019 15:28:07 - INFO - __main__ -   AUC      : 0.9998859902494794\n"
     ]
    },
    {
     "data": {
      "application/vnd.jupyter.widget-view+json": {
       "model_id": "84a08c18825f4d6994a4f07046bce01b",
       "version_major": 2,
       "version_minor": 0
      },
      "text/plain": [
       "HBox(children=(IntProgress(value=0, description='Test 2 :6', max=13575), HTML(value='')))"
      ]
     },
     "metadata": {},
     "output_type": "display_data"
    },
    {
     "name": "stderr",
     "output_type": "stream",
     "text": [
      "10/26/2019 15:32:14 - INFO - __main__ -   Loss     : 84532.21393951523\n",
      "10/26/2019 15:32:14 - INFO - __main__ -   Bias Loss: 84.61389767682111\n",
      "10/26/2019 15:32:14 - INFO - __main__ -   Accuracy : 0.09186898665626148\n",
      "10/26/2019 15:32:14 - INFO - __main__ -   AUC      : 0.8685033734071058\n"
     ]
    },
    {
     "data": {
      "application/vnd.jupyter.widget-view+json": {
       "model_id": "f79b53f5401a41ee95ac86b6cc29701e",
       "version_major": 2,
       "version_minor": 0
      },
      "text/plain": [
       "HBox(children=(IntProgress(value=0, description='Training :7', max=333), HTML(value='')))"
      ]
     },
     "metadata": {},
     "output_type": "display_data"
    },
    {
     "name": "stderr",
     "output_type": "stream",
     "text": [
      "10/26/2019 15:32:28 - INFO - __main__ -   Loss     : 79.74643419158026\n",
      "10/26/2019 15:32:28 - INFO - __main__ -   Bias Loss: 84.5889259620949\n",
      "10/26/2019 15:32:28 - INFO - __main__ -   Accuracy : 0.9985648409561453\n",
      "10/26/2019 15:32:28 - INFO - __main__ -   AUC      : 0.9999689134633029\n"
     ]
    },
    {
     "data": {
      "application/vnd.jupyter.widget-view+json": {
       "model_id": "c97b01b9f9aa4bf18070ce9abeaef28c",
       "version_major": 2,
       "version_minor": 0
      },
      "text/plain": [
       "HBox(children=(IntProgress(value=0, description='Validation :7', max=37), HTML(value='')))"
      ]
     },
     "metadata": {},
     "output_type": "display_data"
    },
    {
     "name": "stderr",
     "output_type": "stream",
     "text": [
      "10/26/2019 15:32:28 - INFO - __main__ -   Loss     : 143.79667423222517\n",
      "10/26/2019 15:32:28 - INFO - __main__ -   Bias Loss: 84.51608982792607\n",
      "10/26/2019 15:32:28 - INFO - __main__ -   Accuracy : 0.9966116052520119\n",
      "10/26/2019 15:32:28 - INFO - __main__ -   AUC      : 0.9999736052056998\n"
     ]
    },
    {
     "data": {
      "application/vnd.jupyter.widget-view+json": {
       "model_id": "97568d4acc814af1a53a6da4bf8c2691",
       "version_major": 2,
       "version_minor": 0
      },
      "text/plain": [
       "HBox(children=(IntProgress(value=0, description='Test 1 :7', max=41), HTML(value='')))"
      ]
     },
     "metadata": {},
     "output_type": "display_data"
    },
    {
     "name": "stderr",
     "output_type": "stream",
     "text": [
      "10/26/2019 15:32:29 - INFO - __main__ -   Loss     : 245.43059632545564\n",
      "10/26/2019 15:32:29 - INFO - __main__ -   Bias Loss: 84.40921303077981\n",
      "10/26/2019 15:32:29 - INFO - __main__ -   Accuracy : 0.9961890243902439\n",
      "10/26/2019 15:32:29 - INFO - __main__ -   AUC      : 0.9999163444378346\n"
     ]
    },
    {
     "data": {
      "application/vnd.jupyter.widget-view+json": {
       "model_id": "27df4b7b2e384050b6c846585d74ca95",
       "version_major": 2,
       "version_minor": 0
      },
      "text/plain": [
       "HBox(children=(IntProgress(value=0, description='Test 2 :7', max=13575), HTML(value='')))"
      ]
     },
     "metadata": {},
     "output_type": "display_data"
    },
    {
     "name": "stderr",
     "output_type": "stream",
     "text": [
      "10/26/2019 15:36:31 - INFO - __main__ -   Loss     : 65005.296107817994\n",
      "10/26/2019 15:36:31 - INFO - __main__ -   Bias Loss: 84.64621367277923\n",
      "10/26/2019 15:36:31 - INFO - __main__ -   Accuracy : 0.08250086038510722\n",
      "10/26/2019 15:36:31 - INFO - __main__ -   AUC      : 0.8654292726871962\n"
     ]
    },
    {
     "data": {
      "application/vnd.jupyter.widget-view+json": {
       "model_id": "ba915b1fe4434f708e3115ed1f988280",
       "version_major": 2,
       "version_minor": 0
      },
      "text/plain": [
       "HBox(children=(IntProgress(value=0, description='Training :8', max=333), HTML(value='')))"
      ]
     },
     "metadata": {},
     "output_type": "display_data"
    },
    {
     "name": "stderr",
     "output_type": "stream",
     "text": [
      "10/26/2019 15:36:45 - INFO - __main__ -   Loss     : 45.34982111442547\n",
      "10/26/2019 15:36:45 - INFO - __main__ -   Bias Loss: 84.51313018798828\n",
      "10/26/2019 15:36:45 - INFO - __main__ -   Accuracy : 0.9989883305100696\n",
      "10/26/2019 15:36:45 - INFO - __main__ -   AUC      : 0.9999946528499912\n"
     ]
    },
    {
     "data": {
      "application/vnd.jupyter.widget-view+json": {
       "model_id": "27f35332382a4b399205f29e44961f42",
       "version_major": 2,
       "version_minor": 0
      },
      "text/plain": [
       "HBox(children=(IntProgress(value=0, description='Validation :8', max=37), HTML(value='')))"
      ]
     },
     "metadata": {},
     "output_type": "display_data"
    },
    {
     "name": "stderr",
     "output_type": "stream",
     "text": [
      "10/26/2019 15:36:46 - INFO - __main__ -   Loss     : 83.37795935671878\n",
      "10/26/2019 15:36:46 - INFO - __main__ -   Bias Loss: 84.22646805092141\n",
      "10/26/2019 15:36:46 - INFO - __main__ -   Accuracy : 0.9985175772977551\n",
      "10/26/2019 15:36:46 - INFO - __main__ -   AUC      : 0.9999766576649047\n"
     ]
    },
    {
     "data": {
      "application/vnd.jupyter.widget-view+json": {
       "model_id": "21de52f204554ec182a37002eed281f8",
       "version_major": 2,
       "version_minor": 0
      },
      "text/plain": [
       "HBox(children=(IntProgress(value=0, description='Test 1 :8', max=41), HTML(value='')))"
      ]
     },
     "metadata": {},
     "output_type": "display_data"
    },
    {
     "name": "stderr",
     "output_type": "stream",
     "text": [
      "10/26/2019 15:36:47 - INFO - __main__ -   Loss     : 202.78901905584627\n",
      "10/26/2019 15:36:47 - INFO - __main__ -   Bias Loss: 84.29369799296062\n",
      "10/26/2019 15:36:47 - INFO - __main__ -   Accuracy : 0.9975228658536586\n",
      "10/26/2019 15:36:47 - INFO - __main__ -   AUC      : 0.9998599931216537\n"
     ]
    },
    {
     "data": {
      "application/vnd.jupyter.widget-view+json": {
       "model_id": "b873dceddee948d198ba3460c816a4ea",
       "version_major": 2,
       "version_minor": 0
      },
      "text/plain": [
       "HBox(children=(IntProgress(value=0, description='Test 2 :8', max=13575), HTML(value='')))"
      ]
     },
     "metadata": {},
     "output_type": "display_data"
    },
    {
     "name": "stderr",
     "output_type": "stream",
     "text": [
      "10/26/2019 15:40:48 - INFO - __main__ -   Loss     : 72947.25213992943\n",
      "10/26/2019 15:40:48 - INFO - __main__ -   Bias Loss: 84.45269471627695\n",
      "10/26/2019 15:40:48 - INFO - __main__ -   Accuracy : 0.09261772312749698\n",
      "10/26/2019 15:40:48 - INFO - __main__ -   AUC      : 0.8439705224283337\n"
     ]
    },
    {
     "data": {
      "application/vnd.jupyter.widget-view+json": {
       "model_id": "b4980603e0764b8b8549ae77bc0f627c",
       "version_major": 2,
       "version_minor": 0
      },
      "text/plain": [
       "HBox(children=(IntProgress(value=0, description='Training :9', max=333), HTML(value='')))"
      ]
     },
     "metadata": {},
     "output_type": "display_data"
    },
    {
     "name": "stderr",
     "output_type": "stream",
     "text": [
      "10/26/2019 15:41:02 - INFO - __main__ -   Loss     : 92.85446478891419\n",
      "10/26/2019 15:41:02 - INFO - __main__ -   Bias Loss: 84.13091850280762\n",
      "10/26/2019 15:41:02 - INFO - __main__ -   Accuracy : 0.9983766233766234\n",
      "10/26/2019 15:41:02 - INFO - __main__ -   AUC      : 0.9999636460223627\n"
     ]
    },
    {
     "data": {
      "application/vnd.jupyter.widget-view+json": {
       "model_id": "dac8f14d1f7f40e899646a2c0e601037",
       "version_major": 2,
       "version_minor": 0
      },
      "text/plain": [
       "HBox(children=(IntProgress(value=0, description='Validation :9', max=37), HTML(value='')))"
      ]
     },
     "metadata": {},
     "output_type": "display_data"
    },
    {
     "name": "stderr",
     "output_type": "stream",
     "text": [
      "10/26/2019 15:41:03 - INFO - __main__ -   Loss     : 122.07870981016674\n",
      "10/26/2019 15:41:03 - INFO - __main__ -   Bias Loss: 83.99728308783637\n",
      "10/26/2019 15:41:03 - INFO - __main__ -   Accuracy : 0.9978822532825075\n",
      "10/26/2019 15:41:03 - INFO - __main__ -   AUC      : 0.9999721687543094\n"
     ]
    },
    {
     "data": {
      "application/vnd.jupyter.widget-view+json": {
       "model_id": "d5b5d4a4744c4998a950f80478b9fa14",
       "version_major": 2,
       "version_minor": 0
      },
      "text/plain": [
       "HBox(children=(IntProgress(value=0, description='Test 1 :9', max=41), HTML(value='')))"
      ]
     },
     "metadata": {},
     "output_type": "display_data"
    },
    {
     "name": "stderr",
     "output_type": "stream",
     "text": [
      "10/26/2019 15:41:04 - INFO - __main__ -   Loss     : 279.50283885765367\n",
      "10/26/2019 15:41:04 - INFO - __main__ -   Bias Loss: 84.05830030088072\n",
      "10/26/2019 15:41:04 - INFO - __main__ -   Accuracy : 0.9942835365853658\n",
      "10/26/2019 15:41:04 - INFO - __main__ -   AUC      : 0.9999300691785025\n"
     ]
    },
    {
     "data": {
      "application/vnd.jupyter.widget-view+json": {
       "model_id": "5178f63d75194f64a03b185ae271b18e",
       "version_major": 2,
       "version_minor": 0
      },
      "text/plain": [
       "HBox(children=(IntProgress(value=0, description='Test 2 :9', max=13575), HTML(value='')))"
      ]
     },
     "metadata": {},
     "output_type": "display_data"
    },
    {
     "name": "stderr",
     "output_type": "stream",
     "text": [
      "10/26/2019 15:45:06 - INFO - __main__ -   Loss     : 51766.930535693056\n",
      "10/26/2019 15:45:06 - INFO - __main__ -   Bias Loss: 84.11661084493001\n",
      "10/26/2019 15:45:06 - INFO - __main__ -   Accuracy : 0.18311987725556142\n",
      "10/26/2019 15:45:06 - INFO - __main__ -   AUC      : 0.8140271113904956\n"
     ]
    }
   ],
   "source": [
    "# start straining\n",
    "\n",
    "history = {'train':[], 'valid':[], 'test1':[], 'test2':[]}\n",
    "for e in tqdm(range(10), desc=\"Epoch\"):\n",
    "    train_result = adv_step(adv_model, adv_optimizer, train_loader, train=True, message=\"Training :{}\".format(e))\n",
    "    valid_result = adv_step(adv_model, adv_optimizer, val_loader, train=False, message=\"Validation :{}\".format(e))\n",
    "    test_result1 = adv_step(adv_model, adv_optimizer, test_loader1, train=False, message=\"Test 1 :{}\".format(e))\n",
    "    test_result2 = adv_step(adv_model, adv_optimizer, test_loader2, train=False, message=\"Test 2 :{}\".format(e))\n",
    "    \n",
    "    history['train'].append(train_result)\n",
    "    history['valid'].append(valid_result)\n",
    "    history['test1'].append(test_result1)\n",
    "    history['test2'].append(test_result2)"
   ]
  },
  {
   "cell_type": "code",
   "execution_count": 59,
   "metadata": {},
   "outputs": [
    {
     "data": {
      "image/png": "[encoded data removed]",
      "text/plain": [
       "<Figure size 504x360 with 1 Axes>"
      ]
     },
     "metadata": {
      "needs_background": "light"
     },
     "output_type": "display_data"
    },
    {
     "data": {
      "image/png": "[encoded data removed]",
      "text/plain": [
       "<Figure size 504x360 with 1 Axes>"
      ]
     },
     "metadata": {
      "needs_background": "light"
     },
     "output_type": "display_data"
    },
    {
     "data": {
      "image/png": "[encoded data removed]",
      "text/plain": [
       "<Figure size 504x360 with 1 Axes>"
      ]
     },
     "metadata": {
      "needs_background": "light"
     },
     "output_type": "display_data"
    }
   ],
   "source": [
    "save = \"adv\"\n",
    "\n",
    "train_loss = [l['loss'] for l in history['train']]\n",
    "valid_loss = [l['loss'] for l in history['valid']]\n",
    "test1_loss = [l['loss'] for l in history['test1']]\n",
    "test2_loss = [l['loss'] for l in history['test2']]\n",
    "\n",
    "train_bloss = [l['bias'] for l in history['train']]\n",
    "valid_bloss = [l['bias'] for l in history['valid']]\n",
    "test1_bloss = [l['bias'] for l in history['test1']]\n",
    "test2_bloss = [l['bias'] for l in history['test2']]\n",
    "\n",
    "train_auc = [l['auc'] for l in history['train']]\n",
    "valid_auc = [l['auc'] for l in history['valid']]\n",
    "test1_auc = [l['auc'] for l in history['test1']]\n",
    "test2_auc = [l['auc'] for l in history['test2']]\n",
    "\n",
    "plt.figure(figsize=(7,5))\n",
    "plt.title('Loss')\n",
    "plt.plot(train_loss, label='train')\n",
    "plt.plot(valid_loss, label='valid')\n",
    "plt.plot(test1_loss, label='test1')\n",
    "plt.plot(test2_loss, label='test2')\n",
    "plt.legend()\n",
    "if save:\n",
    "    path = os.path.join(\"output\", save+'_loss.png')\n",
    "    plt.savefig(path)\n",
    "plt.show()\n",
    "\n",
    "\n",
    "plt.figure(figsize=(7,5))\n",
    "plt.title('Bias Loss')\n",
    "plt.plot(train_bloss, label='train')\n",
    "plt.plot(valid_bloss, label='valid')\n",
    "plt.plot(test1_bloss, label='test1')\n",
    "plt.plot(test2_bloss, label='test2')\n",
    "plt.legend()\n",
    "if save:\n",
    "    path = os.path.join(\"output\", save+'_bias_loss.png')\n",
    "    plt.savefig(path)\n",
    "plt.show()\n",
    "\n",
    "\n",
    "plt.figure(figsize=(7,5))\n",
    "plt.title('AUC Score')\n",
    "plt.plot(train_auc, label='train')\n",
    "plt.plot(valid_auc, label='valid')\n",
    "plt.plot(test1_auc, label='test1')\n",
    "plt.plot(test2_auc, label='test2')\n",
    "plt.legend()\n",
    "if save:\n",
    "    path = os.path.join(\"output\", save+'_auc.png')\n",
    "    plt.savefig(path)\n",
    "plt.show()"
   ]
  },
  {
   "cell_type": "raw",
   "metadata": {},
   "source": [
    "for i in tqdm(range(1), desc=\"Epoch\"):\n",
    "    train_loss = 0\n",
    "    val_loss = 0\n",
    "    train_acc = 0\n",
    "    val_acc = 0\n",
    "    train_auc = 0\n",
    "    val_auc = 0\n",
    "    all_logits = []\n",
    "    all_labels = []\n",
    "    \n",
    "    model.train()\n",
    "    for (data, label) in tqdm(train_loader, desc=\"Iteration\"):\n",
    "        data, label = data.long().cuda(), label.float().cuda()\n",
    "        logits = model(data).squeeze()\n",
    "        loss = F.binary_cross_entropy_with_logits(logits, label)\n",
    "        loss.backward()\n",
    "        optimizer.step()\n",
    "        optimizer.zero_grad()\n",
    "        train_loss += loss.item()\n",
    "        all_labels.append(label.detach().cpu().numpy())\n",
    "        all_logits.append(F.sigmoid(logits).detach().cpu().numpy())\n",
    "    \n",
    "    all_labels = np.hstack(all_labels)\n",
    "    all_logits = np.hstack(all_logits)\n",
    "    train_auc = roc_auc_score(all_labels, all_logits)\n",
    "    train_acc = accuracy_thresh_score(logits, label)\n",
    "\n",
    "    \n",
    "    all_logits = []\n",
    "    all_labels = []\n",
    "    model.eval()\n",
    "    for (data, label) in tqdm(test_loader, desc=\"Evaluation\"):\n",
    "        data, label = data.long().cuda(), label.float().cuda()\n",
    "        with torch.no_grad():\n",
    "            logits = model(data).squeeze()\n",
    "        loss = F.binary_cross_entropy_with_logits(logits, label)\n",
    "        val_loss += loss.item()\n",
    "        all_labels.append(label.detach().cpu().numpy())\n",
    "        all_logits.append(F.sigmoid(logits).detach().cpu().numpy())\n",
    "        \n",
    "    all_labels = np.hstack(all_labels)\n",
    "    all_logits = np.hstack(all_logits)\n",
    "    val_auc = roc_auc_score(all_labels, all_logits)\n",
    "    val_acc = accuracy_thresh_score(logits, label)\n",
    "\n",
    "    \n",
    "    \n",
    "    logger.info('Training   Loss     : {}'.format(train_loss/(len(train_loader)/batch_size)))\n",
    "    logger.info('Training   Accuracy : {}'.format(train_acc/len(train_loader)))\n",
    "    logger.info('Training   AUC      : {}'.format(train_auc))\n",
    "    \n",
    "    logger.info('Validation Loss     : {}'.format(val_loss/(len(test_loader)/batch_size)))\n",
    "    logger.info('Validation Accuracy : {}'.format(val_acc/len(test_loader)))\n",
    "    logger.info('Validation AUC      : {}'.format(val_auc))\n"
   ]
  },
  {
   "cell_type": "raw",
   "metadata": {},
   "source": [
    "class DADATrainer(object):\n",
    "    def __init__(self, option):\n",
    "        self.option = option\n",
    "\n",
    "        self._build_model()\n",
    "        self._set_optimizer()\n",
    "        self.logger = logger_setting(option.exp_name, option.save_dir, option.debug)\n",
    "\n",
    "    def _build_model(self):\n",
    "        self.n_color_cls = 8\n",
    "\n",
    "        self.net = models.WordCNN(vocab_size, word_seq_len, emb_size, l2_reg_lambda)\n",
    "        self.pred_net = models.BiasPredictor(num_filters_total)\n",
    "\n",
    "\n",
    "        self.loss = nn.CrossEntropyLoss(ignore_index=255)\n",
    "        self.bias_loss = nn.CrossEntropyLoss(ignore_index=255)\n",
    "\n",
    "\n",
    "        if self.option.cuda:\n",
    "            self.net.cuda()\n",
    "            self.pred_net.cuda()\n",
    "            self.loss.cuda()\n",
    "            self.bias_loss.cuda()\n",
    "\n",
    "    def _set_optimizer(self):\n",
    "        self.optim = optim.SGD(filter(lambda p: p.requires_grad, self.net.parameters()), lr=self.option.lr, momentum=self.option.momentum, weight_decay=self.option.weight_decay)\n",
    "        self.optim_bias = optim.SGD(self.pred_net.parameters(), lr=self.option.lr, momentum=self.option.momentum, weight_decay=self.option.weight_decay)\n",
    "\n",
    "\n",
    "        #TODO: last_epoch should be the last step of loaded model\n",
    "        lr_lambda = lambda step: self.option.lr_decay_rate ** (step // self.option.lr_decay_period)\n",
    "        self.scheduler = optim.lr_scheduler.LambdaLR(self.optim, lr_lambda=lr_lambda, last_epoch=-1)\n",
    "        self.scheduler_bias = optim.lr_scheduler.LambdaLR(self.optim_r, lr_lambda=lr_lambda, last_epoch=-1)\n",
    "        \n",
    "\n",
    "    @staticmethod\n",
    "    def _weights_init(m):\n",
    "        classname = m.__class__.__name__\n",
    "        if classname.find('Conv') != -1:\n",
    "            n = m.kernel_size[0] * m.kernel_size[1] * m.out_channels\n",
    "            m.weight.data.normal_(0, math.sqrt(2. / n))\n",
    "        elif classname.find('BatchNorm') != -1:\n",
    "            m.weight.data.fill_(1.0)\n",
    "            m.bias.data.zero_()\n",
    "\n",
    "    def _initialization(self):\n",
    "        self.net.apply(self._weights_init)\n",
    "\n",
    "\n",
    "        if self.option.is_train and self.option.use_pretrain:\n",
    "            if self.option.checkpoint is not None:\n",
    "                self._load_model()\n",
    "            else:\n",
    "                print(\"Pre-trained model not provided\")\n",
    "\n",
    "\n",
    "\n",
    "    def _mode_setting(self, is_train=True):\n",
    "        if is_train:\n",
    "            self.net.train()\n",
    "            self.pred_net_bias.train()\n",
    "        else:\n",
    "            self.net.eval()\n",
    "            self.pred_net_bias.eval()\n",
    "\n",
    "\n",
    "\n",
    "    def _train_step(self, data_loader, step):\n",
    "        _lambda = 0.01\n",
    "\n",
    "        for i, (images,color_labels,labels) in enumerate(data_loader):\n",
    "            # data\n",
    "            images = self._get_variable(images)\n",
    "            color_labels = self._get_variable(color_labels)\n",
    "            labels = self._get_variable(labels)\n",
    "\n",
    "            # predict labels\n",
    "            self.optim.zero_grad()\n",
    "            self.optim_bias.zero_grad()\n",
    "\n",
    "            feat_label, pred_label = self.net(images)\n",
    "            # predict colors from feat_label. Their prediction should be uniform.\n",
    "            _,pseudo_pred_bias = self.pred_net_bias(feat_label)\n",
    "\n",
    "            # loss for self.net\n",
    "            loss_pred = self.loss(pred_label, torch.squeeze(labels))\n",
    "            loss_pseudo_pred_bias = torch.mean(torch.sum(pseudo_pred_bias*torch.log(pseudo_pred_bias),1))\n",
    "            loss = loss_pred + loss_pseudo_pred_bias*_lambda\n",
    "            loss.backward()\n",
    "            self.optim.step()\n",
    "\n",
    "\n",
    "\n",
    "\n",
    "            # predict bias\n",
    "            self.optim.zero_grad()\n",
    "            self.optim_bias.zero_grad()\n",
    "\n",
    "            feat_label, pred_label = self.net(images)\n",
    "            feat_color = grad_reverse(feat_label)\n",
    "            pred_bias,_ = self.pred_net_bias(feat_color)\n",
    "\n",
    "\n",
    "            # loss for rgb predictors\n",
    "            loss_pred_bias = self.color_loss(pred_bias, color_labels)\n",
    "            loss_pred_bias.backward()\n",
    "            self.optim.step()\n",
    "            self.optim_bias.step()\n",
    "\n",
    "\n",
    "            if i % self.option.log_step == 0:\n",
    "                msg = \"[TRAIN] cls loss : %.6f, rgb : %.6f, MI : %.6f  (epoch %d.%02d)\" \\\n",
    "                       % (loss_pred, loss_pred_bias/3., loss_pseudo_pred_bias, step, int(100*i/data_loader.__len__()))\n",
    "                self.logger.info(msg)\n",
    "\n",
    "\n",
    "    def _train_step_baseline(self, data_loader, step):\n",
    "        for i, (images,color_labels,labels) in enumerate(data_loader):\n",
    "            \n",
    "            images = self._get_variable(images)\n",
    "            labels = self._get_variable(labels)\n",
    "\n",
    "            self.optim.zero_grad()\n",
    "            feat_label, pred_label = self.net(images)\n",
    "\n",
    "            # loss for self.net\n",
    "            loss_pred = self.loss(pred_label, torch.squeeze(labels))\n",
    "            loss_pred.backward()\n",
    "            self.optim.step()\n",
    "\n",
    "            # TODO: print elapsed time for iteration\n",
    "            if i % self.option.log_step == 0:\n",
    "                msg = \"[TRAIN] cls loss : %.6f (epoch %d.%02d)\" \\\n",
    "                       % (loss_pred,step,int(100*i/data_loader.__len__()))\n",
    "                self.logger.info(msg)\n",
    "\n",
    "\n",
    "\n",
    "\n",
    "    def _validate(self, data_loader):\n",
    "        self._mode_setting(is_train=False)\n",
    "        self._initialization()\n",
    "        if self.option.checkpoint is not None:\n",
    "            self._load_model()\n",
    "        else:\n",
    "            print(\"No trained model for evaluation provided\")\n",
    "            import sys\n",
    "            sys.exit()\n",
    "\n",
    "        num_test = 10000\n",
    "\n",
    "        total_num_correct = 0.\n",
    "        total_num_test = 0.\n",
    "        total_loss = 0.\n",
    "        for i, (images,color_labels,labels) in enumerate(data_loader):\n",
    "            \n",
    "            start_time = time.time()\n",
    "            images = self._get_variable(images)\n",
    "            color_labels = self._get_variable(color_labels)\n",
    "            labels = self._get_variable(labels)\n",
    "\n",
    "            self.optim.zero_grad()\n",
    "            _, pred_label = self.net(images)\n",
    "\n",
    "\n",
    "            loss = self.loss(pred_label, torch.squeeze(labels))\n",
    "            \n",
    "            batch_size = images.shape[0]\n",
    "            total_num_correct += self._num_correct(pred_label,labels,topk=1).item()\n",
    "            total_loss += loss.item()*batch_size\n",
    "            total_num_test += batch_size\n",
    "               \n",
    "        avg_loss = total_loss/total_num_test\n",
    "        avg_acc = total_num_correct/total_num_test\n",
    "        msg = \"EVALUATION LOSS  %.4f, ACCURACY : %.4f (%d/%d)\" % \\\n",
    "                        (avg_loss,avg_acc,int(total_num_correct),total_num_test)\n",
    "        self.logger.info(msg)\n",
    "\n",
    "\n",
    "\n",
    "    def _num_correct(self,outputs,labels,topk=1):\n",
    "        _, preds = outputs.topk(k=topk, dim=1)\n",
    "        preds = preds.t()\n",
    "        correct = preds.eq(labels.view(1, -1).expand_as(preds))\n",
    "        correct = correct.view(-1).sum()\n",
    "        return correct\n",
    "        \n",
    "\n",
    "\n",
    "    def _accuracy(self, outputs, labels):\n",
    "        batch_size = labels.size(0)\n",
    "        _, preds = outputs.topk(k=1, dim=1)\n",
    "        preds = preds.t()\n",
    "        correct = preds.eq(labels.view(1, -1).expand_as(preds))\n",
    "        correct = correct.view(-1).float().sum(0, keepdim=True)\n",
    "        accuracy = correct.mul_(100.0 / batch_size)\n",
    "        return accuracy\n",
    "\n",
    "    def _save_model(self, step):\n",
    "        torch.save({\n",
    "            'step': step,\n",
    "            'optim_state_dict': self.optim.state_dict(),\n",
    "            'net_state_dict': self.net.state_dict()\n",
    "        }, os.path.join(self.option.save_dir,self.option.exp_name, 'checkpoint_step_%04d.pth' % step))\n",
    "        print('checkpoint saved. step : %d'%step)\n",
    "\n",
    "    def _load_model(self):\n",
    "        ckpt = torch.load(self.option.checkpoint)\n",
    "        self.net.load_state_dict(ckpt['net_state_dict'])\n",
    "        self.optim.load_state_dict(ckpt['optim_state_dict'])\n",
    "\n",
    "    def train(self, train_loader, val_loader=None):\n",
    "        self._initialization()\n",
    "        if self.option.checkpoint is not None:\n",
    "            self._load_model()\n",
    "\n",
    "        self._mode_setting(is_train=True)\n",
    "        timer = Timer(self.logger, self.option.max_step)\n",
    "        start_epoch = 0\n",
    "        for step in range(start_epoch, self.option.max_step):\n",
    "            if self.option.train_baseline:\n",
    "                self._train_step_baseline(train_loader, step)\n",
    "            else:\n",
    "                self._train_step(train_loader,step)\n",
    "            self.scheduler.step()\n",
    "            self.scheduler_bias.step()\n",
    "\n",
    "\n",
    "            if step == 1 or step % self.option.save_step == 0 or step == (self.option.max_step-1):\n",
    "                if val_loader is not None:\n",
    "                    self._validate(step, val_loader)\n",
    "                self._save_model(step)\n",
    "\n",
    "\n",
    "    def _get_variable(self, inputs):\n",
    "        if self.option.cuda:\n",
    "            return Variable(inputs.cuda())\n",
    "        return Variable(inputs)"
   ]
  },
  {
   "cell_type": "code",
   "execution_count": null,
   "metadata": {},
   "outputs": [],
   "source": []
  }
 ],
 "metadata": {
  "kernelspec": {
   "display_name": "Python 3",
   "language": "python",
   "name": "python3"
  },
  "language_info": {
   "codemirror_mode": {
    "name": "ipython",
    "version": 3
   },
   "file_extension": ".py",
   "mimetype": "text/x-python",
   "name": "python",
   "nbconvert_exporter": "python",
   "pygments_lexer": "ipython3",
   "version": "3.5.2"
  }
 },
 "nbformat": 4,
 "nbformat_minor": 4
}
