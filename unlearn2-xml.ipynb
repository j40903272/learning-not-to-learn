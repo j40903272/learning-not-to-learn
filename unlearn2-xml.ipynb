{
 "cells": [
  {
   "cell_type": "raw",
   "metadata": {},
   "source": [
    "%load_ext autoreload\n",
    "%autoreload 2"
   ]
  },
  {
   "cell_type": "code",
   "execution_count": 1,
   "metadata": {},
   "outputs": [],
   "source": [
    "import os\n",
    "import time\n",
    "import random\n",
    "import pickle\n",
    "import numpy as np\n",
    "import pandas as pd\n",
    "from tqdm import tqdm_notebook as tqdm\n",
    "from sklearn.metrics import f1_score, accuracy_score, roc_auc_score, balanced_accuracy_score, confusion_matrix\n",
    "from sklearn.utils import resample\n",
    "from sklearn.model_selection import train_test_split\n",
    "\n",
    "import matplotlib.pyplot as plt\n",
    "%matplotlib inline\n",
    "\n",
    "st = time.time()"
   ]
  },
  {
   "cell_type": "code",
   "execution_count": 2,
   "metadata": {},
   "outputs": [],
   "source": [
    "import torch\n",
    "import torch.nn as nn\n",
    "from torch import Tensor\n",
    "import torch.nn.functional as F\n",
    "from torch.backends import cudnn\n",
    "cudnn.deterministic = True\n",
    "cudnn.benchmark = False\n",
    "device = torch.device('cuda') if torch.cuda.is_available() else roech.device('cpu')"
   ]
  },
  {
   "cell_type": "code",
   "execution_count": 3,
   "metadata": {},
   "outputs": [],
   "source": [
    "from option import get_option, parser\n",
    "from trainer import Trainer\n",
    "from utils import save_option\n",
    "import data_loader\n",
    "import models"
   ]
  },
  {
   "cell_type": "code",
   "execution_count": 4,
   "metadata": {},
   "outputs": [],
   "source": [
    "import logging\n",
    "logging.basicConfig(format='%(asctime)s - %(levelname)s - %(name)s -   %(message)s',\n",
    "                    datefmt='%m/%d/%Y %H:%M:%S',\n",
    "                    level=logging.INFO)\n",
    "#logging.getLogger().setLevel(logging.INFO)\n",
    "logger = logging.getLogger(__name__)\n",
    "\n",
    "import warnings\n",
    "warnings.filterwarnings(\"ignore\")\n",
    "with warnings.catch_warnings():\n",
    "    warnings.filterwarnings(\"ignore\",category=DeprecationWarning)"
   ]
  },
  {
   "cell_type": "code",
   "execution_count": 5,
   "metadata": {},
   "outputs": [],
   "source": [
    "def set_seed(seed=87):\n",
    "    random.seed(seed)\n",
    "    np.random.seed(seed)\n",
    "    torch.manual_seed(seed)\n",
    "    torch.cuda.manual_seed_all(seed)\n",
    "set_seed(87)"
   ]
  },
  {
   "cell_type": "code",
   "execution_count": 6,
   "metadata": {},
   "outputs": [],
   "source": [
    "from urlnet_utils import *"
   ]
  },
  {
   "cell_type": "code",
   "execution_count": 7,
   "metadata": {},
   "outputs": [],
   "source": [
    "min_word_freq = 30\n",
    "max_len_words = 200\n",
    "max_len_chars = 200\n",
    "max_len_subwords = 20\n",
    "delimit_mode = 1\n",
    "dev_pct = 0.9"
   ]
  },
  {
   "cell_type": "code",
   "execution_count": 8,
   "metadata": {},
   "outputs": [
    {
     "name": "stderr",
     "output_type": "stream",
     "text": [
      "11/12/2019 16:53:57 - WARNING - tensorflow -   From /host/Proxy/learning-not-to-learn/urlnet_utils.py:113: VocabularyProcessor.__init__ (from tensorflow.contrib.learn.python.learn.preprocessing.text) is deprecated and will be removed in a future version.\n",
      "Instructions for updating:\n",
      "Please use tensorflow/transform or tf.data.\n",
      "11/12/2019 16:53:57 - WARNING - tensorflow -   From /usr/local/lib/python3.5/dist-packages/tensorflow/contrib/learn/python/learn/preprocessing/text.py:154: CategoricalVocabulary.__init__ (from tensorflow.contrib.learn.python.learn.preprocessing.categorical_vocabulary) is deprecated and will be removed in a future version.\n",
      "Instructions for updating:\n",
      "Please use tensorflow/transform or tf.data.\n",
      "11/12/2019 16:53:57 - WARNING - tensorflow -   From /usr/local/lib/python3.5/dist-packages/tensorflow/contrib/learn/python/learn/preprocessing/text.py:170: tokenizer (from tensorflow.contrib.learn.python.learn.preprocessing.text) is deprecated and will be removed in a future version.\n",
      "Instructions for updating:\n",
      "Please use tensorflow/transform or tf.data.\n"
     ]
    },
    {
     "name": "stdout",
     "output_type": "stream",
     "text": [
      "Finished build vocabulary and mapping to x in 2.7808797359466553\n",
      "Size of word vocabulary: 1247\n",
      "Number of words with freq >=30: 1247\n",
      "Finished build vocabulary and mapping to x in 2.624621629714966\n",
      "Size of word vocabulary: 63443\n",
      "Processing #url 0\n",
      "Size of ngram vocabulary: 131\n",
      "Size of word vocabulary: 1310\n",
      "Index of <UNKNOWN> word: 4\n",
      "Overall Mal/Ben rate: 23613/23613\n",
      "(4723, 200) (42503, 200)\n"
     ]
    }
   ],
   "source": [
    "urls, labels = read_data(\"../URLNet/train_10000.txt\")\n",
    "\n",
    "high_freq_words = None\n",
    "if min_word_freq > 0:\n",
    "    x1, word_reverse_dict = get_word_vocab(urls, max_len_words, min_word_freq) \n",
    "    high_freq_words = sorted(list(word_reverse_dict.values()))\n",
    "    print(\"Number of words with freq >={}: {}\".format(min_word_freq, len(high_freq_words)))\n",
    "\n",
    "x, word_reverse_dict = get_word_vocab(urls, max_len_words)\n",
    "word_x = get_words(x, word_reverse_dict, delimit_mode, urls)\n",
    "ngramed_id_x, ngrams_dict, worded_id_x, words_dict = ngram_id_x(word_x, max_len_subwords, high_freq_words)\n",
    "reverse_dict = {words_dict[i]:i for i in words_dict}\n",
    "#chars_dict = ngrams_dict\n",
    "#chared_id_x = char_id_x(urls, chars_dict, max_len_chars)\n",
    "print(\"Overall Mal/Ben rate: {}/{}\".format(np.sum(labels==1), np.sum(labels==0)))\n",
    "\n",
    "########  shuffle & split  ######\n",
    "\n",
    "shuffle_idx = np.random.permutation(np.arange(len(labels)))\n",
    "train, test = prep_train_test(len(labels), dev_pct)\n",
    "#y_train, y_test = to_categorical(labels[train], nb_classes=2), to_categorical(labels[test], nb_classes=2)\n",
    "y_train, y_val = labels[train], labels[test]\n",
    "\n",
    "#x_train_char = ngramed_id_x[train]\n",
    "#x_val_char = ngramed_id_x[test]\n",
    "x_train_word = pad_seq_in_word(worded_id_x[train], max_len_words)\n",
    "x_val_word = pad_seq_in_word(worded_id_x[test], max_len_words)\n",
    "#x_train_char_seq = pad_seq_in_word(chared_id_x[train], max_len_chars)\n",
    "#x_val_char_seq = pad_seq_in_word(chared_id_x[test], max_len_chars)\n",
    "print(x_train_word.shape, x_val_word.shape)\n",
    "#print(x_train_char_seq.shape, x_val_char_seq.shape)"
   ]
  },
  {
   "cell_type": "code",
   "execution_count": 9,
   "metadata": {},
   "outputs": [],
   "source": [
    "with open(\"word_mal_ratio.pkl\", \"rb\") as f:\n",
    "    word_mal_ratio = pickle.load(f)"
   ]
  },
  {
   "cell_type": "code",
   "execution_count": 10,
   "metadata": {},
   "outputs": [
    {
     "data": {
      "text/plain": [
       "<matplotlib.axes._subplots.AxesSubplot at 0x7fc859bb1898>"
      ]
     },
     "execution_count": 10,
     "metadata": {},
     "output_type": "execute_result"
    },
    {
     "data": {
      "image/png": "[encoded data removed]",
      "text/plain": [
       "<Figure size 432x288 with 1 Axes>"
      ]
     },
     "metadata": {
      "needs_background": "light"
     },
     "output_type": "display_data"
    }
   ],
   "source": [
    "# from pandarallel import pandarallel\n",
    "# pandarallel.initialize(nb_workers=1)\n",
    "\n",
    "def build_word_ratio():\n",
    "    df_tmp = pd.DataFrame({'token':word_x, \"label\":labels})\n",
    "    word_mal_ratio = dict()\n",
    "\n",
    "    for word in tqdm(words_dict):\n",
    "        df_tmp['exist'] = df_tmp['token'].map(lambda x:word in x)\n",
    "        cnt = len(df_tmp.query('exist == True & label == 0'))\n",
    "        word_mal_ratio[word] = cnt / df_tmp.exist.sum()\n",
    "    return word_mal_ratio\n",
    "\n",
    "if not os.path.isfile(\"word_mal_ratio2.pkl\"):\n",
    "    word_mal_ratio = build_word_ratio()\n",
    "    with open(\"word_mal_ratio2.pkl\", \"wb\") as f:\n",
    "        pickle.dump(word_mal_ratio, f)\n",
    "else:\n",
    "    with open(\"word_mal_ratio2.pkl\", \"rb\") as f:\n",
    "        word_mal_ratio = pickle.load(f)\n",
    "    if len(word_mal_ratio) < len(words_dict):\n",
    "        word_mal_ratio = build_word_ratio()\n",
    "\n",
    "\n",
    "tmp = [word_mal_ratio[i] for i in word_mal_ratio]\n",
    "tmp = pd.DataFrame({'word_mal_ratio':tmp, 'word':[i for i in word_mal_ratio]})\n",
    "tmp.plot(kind='hist')"
   ]
  },
  {
   "cell_type": "code",
   "execution_count": 11,
   "metadata": {},
   "outputs": [],
   "source": [
    "tmp1 = words_dict\n",
    "tmp2 = ngrams_dict"
   ]
  },
  {
   "cell_type": "code",
   "execution_count": 12,
   "metadata": {},
   "outputs": [
    {
     "name": "stdout",
     "output_type": "stream",
     "text": [
      "Finished build vocabulary and mapping to x in 0.2681293487548828\n",
      "Size of word vocabulary: 10884\n",
      "Index of <UNKNOWN> word: 4\n",
      "Processing url #0\n",
      "Number of testing urls: 5248\n",
      "(5248, 200)\n"
     ]
    }
   ],
   "source": [
    "urls, labels = read_data(\"../URLNet/val_10000.txt\")\n",
    "x, word_reverse_dict = get_word_vocab(urls, max_len_words) \n",
    "word_x = get_words(x, word_reverse_dict, delimit_mode, urls) \n",
    "ngramed_id_x, worded_id_x = ngram_id_x_from_dict(word_x, max_len_subwords, ngrams_dict, words_dict) \n",
    "#chared_id_x = char_id_x(urls, chars_dict, max_len_chars)\n",
    "print(\"Number of testing urls: {}\".format(len(labels)))\n",
    "\n",
    "y_test = labels\n",
    "#x_test_char = ngramed_id_x\n",
    "x_test_word = pad_seq_in_word(worded_id_x, max_len_words)\n",
    "#x_test_char_seq = pad_seq_in_word(chared_id_x, max_len_chars)\n",
    "print(x_test_word.shape)\n",
    "#print(x_test_char_seq.shape, x_test_char_seq.shape)"
   ]
  },
  {
   "cell_type": "code",
   "execution_count": 13,
   "metadata": {},
   "outputs": [],
   "source": [
    "assert tmp1 == words_dict\n",
    "assert tmp2 == ngrams_dict"
   ]
  },
  {
   "cell_type": "code",
   "execution_count": 14,
   "metadata": {},
   "outputs": [
    {
     "name": "stdout",
     "output_type": "stream",
     "text": [
      "balance 132894 132894\n",
      "Finished build vocabulary and mapping to x in 7.0866639614105225\n",
      "Size of word vocabulary: 186707\n",
      "Index of <UNKNOWN> word: 4\n",
      "Processing url #0\n",
      "Processing url #100000\n",
      "Number of testing urls: 132894\n",
      "(132894, 200)\n"
     ]
    }
   ],
   "source": [
    "urls, labels = read_data(\"../taipei/out.csv\")#\"../URLNet/test_10000.txt\"\n",
    "### balance ###\n",
    "n_subsample = min((labels==1).sum(), (labels==0).sum())\n",
    "murl = urls[labels==0]\n",
    "burl = urls[labels==1]\n",
    "np.random.shuffle(murl)\n",
    "np.random.shuffle(burl)\n",
    "urls = np.concatenate([murl[:n_subsample], burl[:n_subsample]])\n",
    "labels = np.array([0]*n_subsample+[1]*n_subsample)\n",
    "print(\"balance\", len(urls), len(labels))\n",
    "###\n",
    "x, word_reverse_dict = get_word_vocab(urls, max_len_words) \n",
    "word_x = get_words(x, word_reverse_dict, delimit_mode, urls) \n",
    "ngramed_id_x, worded_id_x = ngram_id_x_from_dict(word_x, max_len_subwords, ngrams_dict, words_dict)\n",
    "#chared_id_x = char_id_x(urls, chars_dict, max_len_chars)\n",
    "print(\"Number of testing urls: {}\".format(len(labels)))\n",
    "\n",
    "y_test2 = labels\n",
    "#x_test_char2 = ngramed_id_x\n",
    "x_test_word2 = pad_seq_in_word(worded_id_x, max_len_words)\n",
    "#x_test_char_seq2 = pad_seq_in_word(chared_id_x, max_len_chars)\n",
    "print(x_test_word2.shape)\n",
    "#print(x_test_char_seq2.shape, x_test_char_seq2.shape)"
   ]
  },
  {
   "cell_type": "code",
   "execution_count": 15,
   "metadata": {},
   "outputs": [],
   "source": [
    "assert tmp1 == words_dict\n",
    "assert tmp2 == ngrams_dict"
   ]
  },
  {
   "cell_type": "raw",
   "metadata": {},
   "source": [
    "# np.save(\"x_test_word2.npy\", x_test_word2, allow_pickle=True)\n",
    "# np.save(\"y_test2.npy\", y_test2, allow_pickle=True)\n",
    "\n",
    "x_test_word2 = np.load(\"x_test_word2.npy\", allow_pickle=True)\n",
    "y_test2 = np.load(\"y_test2.npy\", allow_pickle=True)"
   ]
  },
  {
   "cell_type": "code",
   "execution_count": 16,
   "metadata": {},
   "outputs": [],
   "source": [
    "emb_dim = 32\n",
    "l2_reg_lambda = 0.0\n",
    "emb_mode = 2\n",
    "filter_size = [3,4,5,6]\n",
    "batch_size = 128\n",
    "epochs = 5\n",
    "lr = 1e-3"
   ]
  },
  {
   "cell_type": "code",
   "execution_count": 17,
   "metadata": {},
   "outputs": [],
   "source": [
    "from torch.utils.data import Dataset, DataLoader\n",
    "class mydata(Dataset):\n",
    "    def __init__(self, X, Y):\n",
    "        self.X = X\n",
    "        self.Y = Y\n",
    "    def __len__(self):\n",
    "        return len(self.X)\n",
    "    def __getitem__(self, index):\n",
    "        return self.X[index], self.Y[index]\n",
    "\n",
    "idx = np.random.permutation(len(x_test_word2))[:30000]\n",
    "train_dataset = mydata(x_train_word, y_train)\n",
    "val_dataset = mydata(x_val_word, y_val)\n",
    "test_dataset1 = mydata(x_test_word, y_test)\n",
    "test_dataset2 = mydata(x_test_word2[idx], y_test2[idx])\n",
    "\n",
    "train_loader = DataLoader(train_dataset, batch_size=batch_size, shuffle=False)\n",
    "val_loader = DataLoader(val_dataset, batch_size=batch_size, shuffle=False)\n",
    "test_loader1 = DataLoader(test_dataset1, batch_size=batch_size, shuffle=False)\n",
    "test_loader2 = DataLoader(test_dataset2, batch_size=batch_size, shuffle=False)"
   ]
  },
  {
   "cell_type": "code",
   "execution_count": 18,
   "metadata": {},
   "outputs": [],
   "source": [
    "def accuracy_thresh_sum(y_pred:Tensor, y_true:Tensor, thresh:float=0.5, sigmoid:bool=True):\n",
    "    y_pred = F.sigmoid(y_pred)\n",
    "    return ((y_pred>thresh)==y_true.byte()).float().sum().item()\n",
    "\n",
    "def accuracy_thresh_score(y_true, y_pred, thresh:float=0.5):\n",
    "    return ((y_pred>0.5).astype(int) == y_true).mean()"
   ]
  },
  {
   "cell_type": "raw",
   "metadata": {},
   "source": [
    "model = models.WordCNN(\n",
    "            word_ngram_vocab_size = len(words_dict)+1,\n",
    "            emb_size=emb_dim,\n",
    "            word_seq_len=max_len_words,\n",
    "            l2_reg_lambda=l2_reg_lambda,\n",
    "            kernel_sizes=filter_size).cuda()\n",
    "\n",
    "print('paramters count', sum(p.numel() for p in model.parameters()))\n",
    "optimizer = torch.optim.Adam(model.parameters(), lr=1e-3, weight_decay=0.1)"
   ]
  },
  {
   "cell_type": "code",
   "execution_count": 19,
   "metadata": {},
   "outputs": [],
   "source": [
    "def step(model, optimizer, loader, train=True, message=\"\"):\n",
    "    loss_total = 0\n",
    "    all_logits = []\n",
    "    all_labels = []\n",
    "    \n",
    "    model.train() if train else model.eval()\n",
    "    mode = torch.enable_grad if train else torch.no_grad\n",
    "    \n",
    "    with mode():\n",
    "        for (data, label) in tqdm(loader, desc=message):\n",
    "            data, label = data.long().cuda(), label.long().cuda() # bce:float ce:long\n",
    "            logits = model(data).squeeze()\n",
    "            #loss = F.binary_cross_entropy_with_logits(logits, label, reduction=\"sum\")\n",
    "            loss = F.cross_entropy(F.softmax(logits, dim=1), label, reduction=\"sum\")\n",
    "            \n",
    "            if train:\n",
    "                loss.backward()\n",
    "                optimizer.step()\n",
    "                optimizer.zero_grad()\n",
    "            loss_total += loss.item()\n",
    "            all_labels.append(label.detach().cpu().numpy())\n",
    "            #F.sigmoid(logits).detach().cpu().numpy()\n",
    "            tmp = F.softmax(logits, dim=1).detach().cpu().numpy()[:, 1]\n",
    "            all_logits.append(tmp)\n",
    "            \n",
    "            \n",
    "    loss_total /= len(loader)\n",
    "    all_labels = np.hstack(all_labels)\n",
    "    all_logits = np.hstack(all_logits)\n",
    "    auc = roc_auc_score(1-all_labels, 1-all_logits) if len(np.unique(all_labels)) > 1 else 0\n",
    "    acc = accuracy_thresh_score(all_labels, all_logits)\n",
    "    bacc = balanced_accuracy_score(all_labels, (all_logits>0.5).astype(int))\n",
    "    (tn, fp, fn, tp) = confusion_matrix(all_labels, (all_logits>0.5).astype(int)).ravel()\n",
    "    \n",
    "    #logger.info(message)\n",
    "#     logger.info('Loss      : {}'.format(loss_total))\n",
    "#     logger.info('Accuracy  : {}'.format(acc))\n",
    "#     logger.info('balanceAcc: {}'.format(bacc))\n",
    "#     logger.info('AUC       : {}'.format(auc))\n",
    "#     logger.info('confusion : {}'.format((tn, fp, fn, tp)))\n",
    "    \n",
    "    \n",
    "    return {'loss':loss_total, 'acc':acc, 'auc':auc}"
   ]
  },
  {
   "cell_type": "code",
   "execution_count": 20,
   "metadata": {},
   "outputs": [],
   "source": [
    "# start straining\n",
    "def train(history, epochs):\n",
    "    for e in tqdm(range(epochs), desc=\"Epoch\"):\n",
    "        train_result =  step(model, optimizer, train_loader, train=True, message=\"Training :{}\".format(e))\n",
    "        valid_result = step(model, optimizer, val_loader, train=False, message=\"Validation :{}\".format(e))\n",
    "        test_result1 = step(model, optimizer, test_loader1, train=False, message=\"Test 1 :{}\".format(e))\n",
    "        test_result2 = step(model, optimizer, test_loader2, train=False, message=\"Test 2 :{}\".format(e))\n",
    "\n",
    "        history['train'].append(train_result)\n",
    "        history['valid'].append(valid_result)\n",
    "        history['test1'].append(test_result1)\n",
    "        history['test2'].append(test_result2)\n",
    "    return history\n",
    "    \n",
    "# history = {'train':[], 'valid':[], 'test1':[], 'test2':[]}\n",
    "# history = train(history)"
   ]
  },
  {
   "cell_type": "code",
   "execution_count": 21,
   "metadata": {},
   "outputs": [
    {
     "name": "stdout",
     "output_type": "stream",
     "text": [
      "paramters count 879714\n"
     ]
    },
    {
     "data": {
      "application/vnd.jupyter.widget-view+json": {
       "model_id": "ba61b347a5f84769be59962eb9869f12",
       "version_major": 2,
       "version_minor": 0
      },
      "text/plain": [
       "HBox(children=(IntProgress(value=0, description='Epoch', max=30, style=ProgressStyle(description_width='initia…"
      ]
     },
     "metadata": {},
     "output_type": "display_data"
    },
    {
     "data": {
      "application/vnd.jupyter.widget-view+json": {
       "model_id": "a4e31e2c09c247d7ab0844797bfe1371",
       "version_major": 2,
       "version_minor": 0
      },
      "text/plain": [
       "HBox(children=(IntProgress(value=0, description='Training :0', max=37, style=ProgressStyle(description_width='…"
      ]
     },
     "metadata": {},
     "output_type": "display_data"
    },
    {
     "name": "stdout",
     "output_type": "stream",
     "text": [
      "\n"
     ]
    },
    {
     "data": {
      "application/vnd.jupyter.widget-view+json": {
       "model_id": "8c0387cbd49d40b0aaf61312f3d5629e",
       "version_major": 2,
       "version_minor": 0
      },
      "text/plain": [
       "HBox(children=(IntProgress(value=0, description='Validation :0', max=333, style=ProgressStyle(description_widt…"
      ]
     },
     "metadata": {},
     "output_type": "display_data"
    },
    {
     "name": "stdout",
     "output_type": "stream",
     "text": [
      "\n"
     ]
    },
    {
     "data": {
      "application/vnd.jupyter.widget-view+json": {
       "model_id": "1b021a138c564c8097d5af8c5784e89b",
       "version_major": 2,
       "version_minor": 0
      },
      "text/plain": [
       "HBox(children=(IntProgress(value=0, description='Test 1 :0', max=41, style=ProgressStyle(description_width='in…"
      ]
     },
     "metadata": {},
     "output_type": "display_data"
    },
    {
     "name": "stdout",
     "output_type": "stream",
     "text": [
      "\n"
     ]
    },
    {
     "data": {
      "application/vnd.jupyter.widget-view+json": {
       "model_id": "37b18e91422d44e3afc3775820b6fbed",
       "version_major": 2,
       "version_minor": 0
      },
      "text/plain": [
       "HBox(children=(IntProgress(value=0, description='Test 2 :0', max=235, style=ProgressStyle(description_width='i…"
      ]
     },
     "metadata": {},
     "output_type": "display_data"
    },
    {
     "name": "stdout",
     "output_type": "stream",
     "text": [
      "\n"
     ]
    },
    {
     "data": {
      "application/vnd.jupyter.widget-view+json": {
       "model_id": "5cda4ae5aaf24a8c8205604d69a0c92a",
       "version_major": 2,
       "version_minor": 0
      },
      "text/plain": [
       "HBox(children=(IntProgress(value=0, description='Training :1', max=37, style=ProgressStyle(description_width='…"
      ]
     },
     "metadata": {},
     "output_type": "display_data"
    },
    {
     "name": "stdout",
     "output_type": "stream",
     "text": [
      "\n"
     ]
    },
    {
     "data": {
      "application/vnd.jupyter.widget-view+json": {
       "model_id": "2849b25dea6447a8a31c7a0b69dbd366",
       "version_major": 2,
       "version_minor": 0
      },
      "text/plain": [
       "HBox(children=(IntProgress(value=0, description='Validation :1', max=333, style=ProgressStyle(description_widt…"
      ]
     },
     "metadata": {},
     "output_type": "display_data"
    },
    {
     "name": "stdout",
     "output_type": "stream",
     "text": [
      "\n"
     ]
    },
    {
     "data": {
      "application/vnd.jupyter.widget-view+json": {
       "model_id": "5d63cfcd9ba045c6a7210c7e9ba84474",
       "version_major": 2,
       "version_minor": 0
      },
      "text/plain": [
       "HBox(children=(IntProgress(value=0, description='Test 1 :1', max=41, style=ProgressStyle(description_width='in…"
      ]
     },
     "metadata": {},
     "output_type": "display_data"
    },
    {
     "name": "stdout",
     "output_type": "stream",
     "text": [
      "\n"
     ]
    },
    {
     "data": {
      "application/vnd.jupyter.widget-view+json": {
       "model_id": "8d375507c9ff4ac795e9c4856af1e492",
       "version_major": 2,
       "version_minor": 0
      },
      "text/plain": [
       "HBox(children=(IntProgress(value=0, description='Test 2 :1', max=235, style=ProgressStyle(description_width='i…"
      ]
     },
     "metadata": {},
     "output_type": "display_data"
    },
    {
     "name": "stdout",
     "output_type": "stream",
     "text": [
      "\n"
     ]
    },
    {
     "data": {
      "application/vnd.jupyter.widget-view+json": {
       "model_id": "619ea957f42047be8b434c12948d2d8f",
       "version_major": 2,
       "version_minor": 0
      },
      "text/plain": [
       "HBox(children=(IntProgress(value=0, description='Training :2', max=37, style=ProgressStyle(description_width='…"
      ]
     },
     "metadata": {},
     "output_type": "display_data"
    },
    {
     "name": "stdout",
     "output_type": "stream",
     "text": [
      "\n"
     ]
    },
    {
     "data": {
      "application/vnd.jupyter.widget-view+json": {
       "model_id": "2c8eea781fc34860b71723276e7c1809",
       "version_major": 2,
       "version_minor": 0
      },
      "text/plain": [
       "HBox(children=(IntProgress(value=0, description='Validation :2', max=333, style=ProgressStyle(description_widt…"
      ]
     },
     "metadata": {},
     "output_type": "display_data"
    },
    {
     "name": "stdout",
     "output_type": "stream",
     "text": [
      "\n"
     ]
    },
    {
     "data": {
      "application/vnd.jupyter.widget-view+json": {
       "model_id": "02c59f707b624087a0349fb1b236ff13",
       "version_major": 2,
       "version_minor": 0
      },
      "text/plain": [
       "HBox(children=(IntProgress(value=0, description='Test 1 :2', max=41, style=ProgressStyle(description_width='in…"
      ]
     },
     "metadata": {},
     "output_type": "display_data"
    },
    {
     "name": "stdout",
     "output_type": "stream",
     "text": [
      "\n"
     ]
    },
    {
     "data": {
      "application/vnd.jupyter.widget-view+json": {
       "model_id": "afa02f690bdc4bc6a5e069a990e067b7",
       "version_major": 2,
       "version_minor": 0
      },
      "text/plain": [
       "HBox(children=(IntProgress(value=0, description='Test 2 :2', max=235, style=ProgressStyle(description_width='i…"
      ]
     },
     "metadata": {},
     "output_type": "display_data"
    },
    {
     "name": "stdout",
     "output_type": "stream",
     "text": [
      "\n"
     ]
    },
    {
     "data": {
      "application/vnd.jupyter.widget-view+json": {
       "model_id": "8eb032c0e2614794a8d23e0740d7a435",
       "version_major": 2,
       "version_minor": 0
      },
      "text/plain": [
       "HBox(children=(IntProgress(value=0, description='Training :3', max=37, style=ProgressStyle(description_width='…"
      ]
     },
     "metadata": {},
     "output_type": "display_data"
    },
    {
     "name": "stdout",
     "output_type": "stream",
     "text": [
      "\n"
     ]
    },
    {
     "data": {
      "application/vnd.jupyter.widget-view+json": {
       "model_id": "5b1d27dba34840eeb1f49d53a05fc0d4",
       "version_major": 2,
       "version_minor": 0
      },
      "text/plain": [
       "HBox(children=(IntProgress(value=0, description='Validation :3', max=333, style=ProgressStyle(description_widt…"
      ]
     },
     "metadata": {},
     "output_type": "display_data"
    },
    {
     "name": "stdout",
     "output_type": "stream",
     "text": [
      "\n"
     ]
    },
    {
     "data": {
      "application/vnd.jupyter.widget-view+json": {
       "model_id": "aec5c4de212b49cfb022678e558e5cb1",
       "version_major": 2,
       "version_minor": 0
      },
      "text/plain": [
       "HBox(children=(IntProgress(value=0, description='Test 1 :3', max=41, style=ProgressStyle(description_width='in…"
      ]
     },
     "metadata": {},
     "output_type": "display_data"
    },
    {
     "name": "stdout",
     "output_type": "stream",
     "text": [
      "\n"
     ]
    },
    {
     "data": {
      "application/vnd.jupyter.widget-view+json": {
       "model_id": "2b0571b4d02a450f8a7eeaa120d332c1",
       "version_major": 2,
       "version_minor": 0
      },
      "text/plain": [
       "HBox(children=(IntProgress(value=0, description='Test 2 :3', max=235, style=ProgressStyle(description_width='i…"
      ]
     },
     "metadata": {},
     "output_type": "display_data"
    },
    {
     "name": "stdout",
     "output_type": "stream",
     "text": [
      "\n"
     ]
    },
    {
     "data": {
      "application/vnd.jupyter.widget-view+json": {
       "model_id": "be1d64aaa7d84d2ea8e27d805483ece1",
       "version_major": 2,
       "version_minor": 0
      },
      "text/plain": [
       "HBox(children=(IntProgress(value=0, description='Training :4', max=37, style=ProgressStyle(description_width='…"
      ]
     },
     "metadata": {},
     "output_type": "display_data"
    },
    {
     "name": "stdout",
     "output_type": "stream",
     "text": [
      "\n"
     ]
    },
    {
     "data": {
      "application/vnd.jupyter.widget-view+json": {
       "model_id": "3e83e248653c4857872ae52da08f9691",
       "version_major": 2,
       "version_minor": 0
      },
      "text/plain": [
       "HBox(children=(IntProgress(value=0, description='Validation :4', max=333, style=ProgressStyle(description_widt…"
      ]
     },
     "metadata": {},
     "output_type": "display_data"
    },
    {
     "name": "stdout",
     "output_type": "stream",
     "text": [
      "\n"
     ]
    },
    {
     "data": {
      "application/vnd.jupyter.widget-view+json": {
       "model_id": "97533c1cff96471db3cff067dfe6cd93",
       "version_major": 2,
       "version_minor": 0
      },
      "text/plain": [
       "HBox(children=(IntProgress(value=0, description='Test 1 :4', max=41, style=ProgressStyle(description_width='in…"
      ]
     },
     "metadata": {},
     "output_type": "display_data"
    },
    {
     "name": "stdout",
     "output_type": "stream",
     "text": [
      "\n"
     ]
    },
    {
     "data": {
      "application/vnd.jupyter.widget-view+json": {
       "model_id": "f50066c30a82457298e7874a7e4bbb71",
       "version_major": 2,
       "version_minor": 0
      },
      "text/plain": [
       "HBox(children=(IntProgress(value=0, description='Test 2 :4', max=235, style=ProgressStyle(description_width='i…"
      ]
     },
     "metadata": {},
     "output_type": "display_data"
    },
    {
     "name": "stdout",
     "output_type": "stream",
     "text": [
      "\n"
     ]
    },
    {
     "data": {
      "application/vnd.jupyter.widget-view+json": {
       "model_id": "5de718c6a09d47f98cbd6ed5dcc84fba",
       "version_major": 2,
       "version_minor": 0
      },
      "text/plain": [
       "HBox(children=(IntProgress(value=0, description='Training :5', max=37, style=ProgressStyle(description_width='…"
      ]
     },
     "metadata": {},
     "output_type": "display_data"
    },
    {
     "name": "stdout",
     "output_type": "stream",
     "text": [
      "\n"
     ]
    },
    {
     "data": {
      "application/vnd.jupyter.widget-view+json": {
       "model_id": "c92f19c275c648ce8f5de4a45fcba53d",
       "version_major": 2,
       "version_minor": 0
      },
      "text/plain": [
       "HBox(children=(IntProgress(value=0, description='Validation :5', max=333, style=ProgressStyle(description_widt…"
      ]
     },
     "metadata": {},
     "output_type": "display_data"
    },
    {
     "name": "stdout",
     "output_type": "stream",
     "text": [
      "\n"
     ]
    },
    {
     "data": {
      "application/vnd.jupyter.widget-view+json": {
       "model_id": "e6e8b6d8e0d54c45a866c42a848ebcf3",
       "version_major": 2,
       "version_minor": 0
      },
      "text/plain": [
       "HBox(children=(IntProgress(value=0, description='Test 1 :5', max=41, style=ProgressStyle(description_width='in…"
      ]
     },
     "metadata": {},
     "output_type": "display_data"
    },
    {
     "name": "stdout",
     "output_type": "stream",
     "text": [
      "\n"
     ]
    },
    {
     "data": {
      "application/vnd.jupyter.widget-view+json": {
       "model_id": "57e995efd66b4ef6ad93c12d394148e9",
       "version_major": 2,
       "version_minor": 0
      },
      "text/plain": [
       "HBox(children=(IntProgress(value=0, description='Test 2 :5', max=235, style=ProgressStyle(description_width='i…"
      ]
     },
     "metadata": {},
     "output_type": "display_data"
    },
    {
     "name": "stdout",
     "output_type": "stream",
     "text": [
      "\n"
     ]
    },
    {
     "data": {
      "application/vnd.jupyter.widget-view+json": {
       "model_id": "1c6d5f753f124b39ac76cbb574a8fa0a",
       "version_major": 2,
       "version_minor": 0
      },
      "text/plain": [
       "HBox(children=(IntProgress(value=0, description='Training :6', max=37, style=ProgressStyle(description_width='…"
      ]
     },
     "metadata": {},
     "output_type": "display_data"
    },
    {
     "name": "stdout",
     "output_type": "stream",
     "text": [
      "\n"
     ]
    },
    {
     "data": {
      "application/vnd.jupyter.widget-view+json": {
       "model_id": "0c780e74fc0642d9ab9e31a07e43e860",
       "version_major": 2,
       "version_minor": 0
      },
      "text/plain": [
       "HBox(children=(IntProgress(value=0, description='Validation :6', max=333, style=ProgressStyle(description_widt…"
      ]
     },
     "metadata": {},
     "output_type": "display_data"
    },
    {
     "name": "stdout",
     "output_type": "stream",
     "text": [
      "\n"
     ]
    },
    {
     "data": {
      "application/vnd.jupyter.widget-view+json": {
       "model_id": "223fbe204ab5423c9db85ef1ea5804e5",
       "version_major": 2,
       "version_minor": 0
      },
      "text/plain": [
       "HBox(children=(IntProgress(value=0, description='Test 1 :6', max=41, style=ProgressStyle(description_width='in…"
      ]
     },
     "metadata": {},
     "output_type": "display_data"
    },
    {
     "name": "stdout",
     "output_type": "stream",
     "text": [
      "\n"
     ]
    },
    {
     "data": {
      "application/vnd.jupyter.widget-view+json": {
       "model_id": "dd66ac944fa74fae8e784efd7fb7a632",
       "version_major": 2,
       "version_minor": 0
      },
      "text/plain": [
       "HBox(children=(IntProgress(value=0, description='Test 2 :6', max=235, style=ProgressStyle(description_width='i…"
      ]
     },
     "metadata": {},
     "output_type": "display_data"
    },
    {
     "name": "stdout",
     "output_type": "stream",
     "text": [
      "\n"
     ]
    },
    {
     "data": {
      "application/vnd.jupyter.widget-view+json": {
       "model_id": "098c63ef12894be0b96c03465821493b",
       "version_major": 2,
       "version_minor": 0
      },
      "text/plain": [
       "HBox(children=(IntProgress(value=0, description='Training :7', max=37, style=ProgressStyle(description_width='…"
      ]
     },
     "metadata": {},
     "output_type": "display_data"
    },
    {
     "name": "stdout",
     "output_type": "stream",
     "text": [
      "\n"
     ]
    },
    {
     "data": {
      "application/vnd.jupyter.widget-view+json": {
       "model_id": "ae2dafe93ce94e7f9e547db1b49ac1f4",
       "version_major": 2,
       "version_minor": 0
      },
      "text/plain": [
       "HBox(children=(IntProgress(value=0, description='Validation :7', max=333, style=ProgressStyle(description_widt…"
      ]
     },
     "metadata": {},
     "output_type": "display_data"
    },
    {
     "name": "stdout",
     "output_type": "stream",
     "text": [
      "\n"
     ]
    },
    {
     "data": {
      "application/vnd.jupyter.widget-view+json": {
       "model_id": "27b4188b53f042df98b246bb3f06819b",
       "version_major": 2,
       "version_minor": 0
      },
      "text/plain": [
       "HBox(children=(IntProgress(value=0, description='Test 1 :7', max=41, style=ProgressStyle(description_width='in…"
      ]
     },
     "metadata": {},
     "output_type": "display_data"
    },
    {
     "name": "stdout",
     "output_type": "stream",
     "text": [
      "\n"
     ]
    },
    {
     "data": {
      "application/vnd.jupyter.widget-view+json": {
       "model_id": "8279d01f9b3e448a9bed8774c3c066b4",
       "version_major": 2,
       "version_minor": 0
      },
      "text/plain": [
       "HBox(children=(IntProgress(value=0, description='Test 2 :7', max=235, style=ProgressStyle(description_width='i…"
      ]
     },
     "metadata": {},
     "output_type": "display_data"
    },
    {
     "name": "stdout",
     "output_type": "stream",
     "text": [
      "\n"
     ]
    },
    {
     "data": {
      "application/vnd.jupyter.widget-view+json": {
       "model_id": "c9921bb6b1ee4bf2a578ffebb4ec619c",
       "version_major": 2,
       "version_minor": 0
      },
      "text/plain": [
       "HBox(children=(IntProgress(value=0, description='Training :8', max=37, style=ProgressStyle(description_width='…"
      ]
     },
     "metadata": {},
     "output_type": "display_data"
    },
    {
     "name": "stdout",
     "output_type": "stream",
     "text": [
      "\n"
     ]
    },
    {
     "data": {
      "application/vnd.jupyter.widget-view+json": {
       "model_id": "6745fc1589f64888a02cc86b56f14eca",
       "version_major": 2,
       "version_minor": 0
      },
      "text/plain": [
       "HBox(children=(IntProgress(value=0, description='Validation :8', max=333, style=ProgressStyle(description_widt…"
      ]
     },
     "metadata": {},
     "output_type": "display_data"
    },
    {
     "name": "stdout",
     "output_type": "stream",
     "text": [
      "\n"
     ]
    },
    {
     "data": {
      "application/vnd.jupyter.widget-view+json": {
       "model_id": "310b120a6743461d94f5d3fc1bb49d8a",
       "version_major": 2,
       "version_minor": 0
      },
      "text/plain": [
       "HBox(children=(IntProgress(value=0, description='Test 1 :8', max=41, style=ProgressStyle(description_width='in…"
      ]
     },
     "metadata": {},
     "output_type": "display_data"
    },
    {
     "name": "stdout",
     "output_type": "stream",
     "text": [
      "\n"
     ]
    },
    {
     "data": {
      "application/vnd.jupyter.widget-view+json": {
       "model_id": "daa0ba9fcf18415ab16a08cc4159c460",
       "version_major": 2,
       "version_minor": 0
      },
      "text/plain": [
       "HBox(children=(IntProgress(value=0, description='Test 2 :8', max=235, style=ProgressStyle(description_width='i…"
      ]
     },
     "metadata": {},
     "output_type": "display_data"
    },
    {
     "name": "stdout",
     "output_type": "stream",
     "text": [
      "\n"
     ]
    },
    {
     "data": {
      "application/vnd.jupyter.widget-view+json": {
       "model_id": "51a18523d15f47c490a2a6edba8ecfe7",
       "version_major": 2,
       "version_minor": 0
      },
      "text/plain": [
       "HBox(children=(IntProgress(value=0, description='Training :9', max=37, style=ProgressStyle(description_width='…"
      ]
     },
     "metadata": {},
     "output_type": "display_data"
    },
    {
     "name": "stdout",
     "output_type": "stream",
     "text": [
      "\n"
     ]
    },
    {
     "data": {
      "application/vnd.jupyter.widget-view+json": {
       "model_id": "2614d57ae9ad4493a82efa9b7bea7a34",
       "version_major": 2,
       "version_minor": 0
      },
      "text/plain": [
       "HBox(children=(IntProgress(value=0, description='Validation :9', max=333, style=ProgressStyle(description_widt…"
      ]
     },
     "metadata": {},
     "output_type": "display_data"
    },
    {
     "name": "stdout",
     "output_type": "stream",
     "text": [
      "\n"
     ]
    },
    {
     "data": {
      "application/vnd.jupyter.widget-view+json": {
       "model_id": "9ff0807af1824bb9b67e15aa890a7199",
       "version_major": 2,
       "version_minor": 0
      },
      "text/plain": [
       "HBox(children=(IntProgress(value=0, description='Test 1 :9', max=41, style=ProgressStyle(description_width='in…"
      ]
     },
     "metadata": {},
     "output_type": "display_data"
    },
    {
     "name": "stdout",
     "output_type": "stream",
     "text": [
      "\n"
     ]
    },
    {
     "data": {
      "application/vnd.jupyter.widget-view+json": {
       "model_id": "46c85118fbb645578505c36a1b406a51",
       "version_major": 2,
       "version_minor": 0
      },
      "text/plain": [
       "HBox(children=(IntProgress(value=0, description='Test 2 :9', max=235, style=ProgressStyle(description_width='i…"
      ]
     },
     "metadata": {},
     "output_type": "display_data"
    },
    {
     "name": "stdout",
     "output_type": "stream",
     "text": [
      "\n"
     ]
    },
    {
     "data": {
      "application/vnd.jupyter.widget-view+json": {
       "model_id": "5ab9c640948b496c8eab85852d21e909",
       "version_major": 2,
       "version_minor": 0
      },
      "text/plain": [
       "HBox(children=(IntProgress(value=0, description='Training :10', max=37, style=ProgressStyle(description_width=…"
      ]
     },
     "metadata": {},
     "output_type": "display_data"
    },
    {
     "name": "stdout",
     "output_type": "stream",
     "text": [
      "\n"
     ]
    },
    {
     "data": {
      "application/vnd.jupyter.widget-view+json": {
       "model_id": "d17e5e165a364cf5a0bbfce4b9cebce6",
       "version_major": 2,
       "version_minor": 0
      },
      "text/plain": [
       "HBox(children=(IntProgress(value=0, description='Validation :10', max=333, style=ProgressStyle(description_wid…"
      ]
     },
     "metadata": {},
     "output_type": "display_data"
    },
    {
     "name": "stdout",
     "output_type": "stream",
     "text": [
      "\n"
     ]
    },
    {
     "data": {
      "application/vnd.jupyter.widget-view+json": {
       "model_id": "063664d4319042ffa46da84e095114ce",
       "version_major": 2,
       "version_minor": 0
      },
      "text/plain": [
       "HBox(children=(IntProgress(value=0, description='Test 1 :10', max=41, style=ProgressStyle(description_width='i…"
      ]
     },
     "metadata": {},
     "output_type": "display_data"
    },
    {
     "name": "stdout",
     "output_type": "stream",
     "text": [
      "\n"
     ]
    },
    {
     "data": {
      "application/vnd.jupyter.widget-view+json": {
       "model_id": "68da6cf83da940b1b1aae682100036a5",
       "version_major": 2,
       "version_minor": 0
      },
      "text/plain": [
       "HBox(children=(IntProgress(value=0, description='Test 2 :10', max=235, style=ProgressStyle(description_width='…"
      ]
     },
     "metadata": {},
     "output_type": "display_data"
    },
    {
     "name": "stdout",
     "output_type": "stream",
     "text": [
      "\n"
     ]
    },
    {
     "data": {
      "application/vnd.jupyter.widget-view+json": {
       "model_id": "35ee640756e741a6b39ed7121f60ebf3",
       "version_major": 2,
       "version_minor": 0
      },
      "text/plain": [
       "HBox(children=(IntProgress(value=0, description='Training :11', max=37, style=ProgressStyle(description_width=…"
      ]
     },
     "metadata": {},
     "output_type": "display_data"
    },
    {
     "name": "stdout",
     "output_type": "stream",
     "text": [
      "\n"
     ]
    },
    {
     "data": {
      "application/vnd.jupyter.widget-view+json": {
       "model_id": "9c791bc3f69c420dba03375927d74221",
       "version_major": 2,
       "version_minor": 0
      },
      "text/plain": [
       "HBox(children=(IntProgress(value=0, description='Validation :11', max=333, style=ProgressStyle(description_wid…"
      ]
     },
     "metadata": {},
     "output_type": "display_data"
    },
    {
     "name": "stdout",
     "output_type": "stream",
     "text": [
      "\n"
     ]
    },
    {
     "data": {
      "application/vnd.jupyter.widget-view+json": {
       "model_id": "03cbadf96aa14344aedc835f70e48265",
       "version_major": 2,
       "version_minor": 0
      },
      "text/plain": [
       "HBox(children=(IntProgress(value=0, description='Test 1 :11', max=41, style=ProgressStyle(description_width='i…"
      ]
     },
     "metadata": {},
     "output_type": "display_data"
    },
    {
     "name": "stdout",
     "output_type": "stream",
     "text": [
      "\n"
     ]
    },
    {
     "data": {
      "application/vnd.jupyter.widget-view+json": {
       "model_id": "05e33df596aa433ea10824c98dc0bd88",
       "version_major": 2,
       "version_minor": 0
      },
      "text/plain": [
       "HBox(children=(IntProgress(value=0, description='Test 2 :11', max=235, style=ProgressStyle(description_width='…"
      ]
     },
     "metadata": {},
     "output_type": "display_data"
    },
    {
     "name": "stdout",
     "output_type": "stream",
     "text": [
      "\n"
     ]
    },
    {
     "data": {
      "application/vnd.jupyter.widget-view+json": {
       "model_id": "aeb61b96fef14bc691bfdc305dc76b23",
       "version_major": 2,
       "version_minor": 0
      },
      "text/plain": [
       "HBox(children=(IntProgress(value=0, description='Training :12', max=37, style=ProgressStyle(description_width=…"
      ]
     },
     "metadata": {},
     "output_type": "display_data"
    },
    {
     "name": "stdout",
     "output_type": "stream",
     "text": [
      "\n"
     ]
    },
    {
     "data": {
      "application/vnd.jupyter.widget-view+json": {
       "model_id": "ef3538243cd1405c9c978a6869db939d",
       "version_major": 2,
       "version_minor": 0
      },
      "text/plain": [
       "HBox(children=(IntProgress(value=0, description='Validation :12', max=333, style=ProgressStyle(description_wid…"
      ]
     },
     "metadata": {},
     "output_type": "display_data"
    },
    {
     "name": "stdout",
     "output_type": "stream",
     "text": [
      "\n"
     ]
    },
    {
     "data": {
      "application/vnd.jupyter.widget-view+json": {
       "model_id": "5e20a74bce8e4146bd80d9fa503caabf",
       "version_major": 2,
       "version_minor": 0
      },
      "text/plain": [
       "HBox(children=(IntProgress(value=0, description='Test 1 :12', max=41, style=ProgressStyle(description_width='i…"
      ]
     },
     "metadata": {},
     "output_type": "display_data"
    },
    {
     "name": "stdout",
     "output_type": "stream",
     "text": [
      "\n"
     ]
    },
    {
     "data": {
      "application/vnd.jupyter.widget-view+json": {
       "model_id": "cb10177719e74215a37cfe4c2058b9ef",
       "version_major": 2,
       "version_minor": 0
      },
      "text/plain": [
       "HBox(children=(IntProgress(value=0, description='Test 2 :12', max=235, style=ProgressStyle(description_width='…"
      ]
     },
     "metadata": {},
     "output_type": "display_data"
    },
    {
     "name": "stdout",
     "output_type": "stream",
     "text": [
      "\n"
     ]
    },
    {
     "data": {
      "application/vnd.jupyter.widget-view+json": {
       "model_id": "b7008f4f72164bf3b3f66cbd69e0e470",
       "version_major": 2,
       "version_minor": 0
      },
      "text/plain": [
       "HBox(children=(IntProgress(value=0, description='Training :13', max=37, style=ProgressStyle(description_width=…"
      ]
     },
     "metadata": {},
     "output_type": "display_data"
    },
    {
     "name": "stdout",
     "output_type": "stream",
     "text": [
      "\n"
     ]
    },
    {
     "data": {
      "application/vnd.jupyter.widget-view+json": {
       "model_id": "496be53db1234fc9bf1d7e2340deec3e",
       "version_major": 2,
       "version_minor": 0
      },
      "text/plain": [
       "HBox(children=(IntProgress(value=0, description='Validation :13', max=333, style=ProgressStyle(description_wid…"
      ]
     },
     "metadata": {},
     "output_type": "display_data"
    },
    {
     "name": "stdout",
     "output_type": "stream",
     "text": [
      "\n"
     ]
    },
    {
     "data": {
      "application/vnd.jupyter.widget-view+json": {
       "model_id": "3bfb9143b08b4442ac1fab637ad94e2d",
       "version_major": 2,
       "version_minor": 0
      },
      "text/plain": [
       "HBox(children=(IntProgress(value=0, description='Test 1 :13', max=41, style=ProgressStyle(description_width='i…"
      ]
     },
     "metadata": {},
     "output_type": "display_data"
    },
    {
     "name": "stdout",
     "output_type": "stream",
     "text": [
      "\n"
     ]
    },
    {
     "data": {
      "application/vnd.jupyter.widget-view+json": {
       "model_id": "dc0f5049c0f54e13b91ab72b843f2e01",
       "version_major": 2,
       "version_minor": 0
      },
      "text/plain": [
       "HBox(children=(IntProgress(value=0, description='Test 2 :13', max=235, style=ProgressStyle(description_width='…"
      ]
     },
     "metadata": {},
     "output_type": "display_data"
    },
    {
     "name": "stdout",
     "output_type": "stream",
     "text": [
      "\n"
     ]
    },
    {
     "data": {
      "application/vnd.jupyter.widget-view+json": {
       "model_id": "fe5c8f07715f4f42943ec5122d49b17a",
       "version_major": 2,
       "version_minor": 0
      },
      "text/plain": [
       "HBox(children=(IntProgress(value=0, description='Training :14', max=37, style=ProgressStyle(description_width=…"
      ]
     },
     "metadata": {},
     "output_type": "display_data"
    },
    {
     "name": "stdout",
     "output_type": "stream",
     "text": [
      "\n"
     ]
    },
    {
     "data": {
      "application/vnd.jupyter.widget-view+json": {
       "model_id": "5f042425bdca4d8b85f87146c4a77730",
       "version_major": 2,
       "version_minor": 0
      },
      "text/plain": [
       "HBox(children=(IntProgress(value=0, description='Validation :14', max=333, style=ProgressStyle(description_wid…"
      ]
     },
     "metadata": {},
     "output_type": "display_data"
    },
    {
     "name": "stdout",
     "output_type": "stream",
     "text": [
      "\n"
     ]
    },
    {
     "data": {
      "application/vnd.jupyter.widget-view+json": {
       "model_id": "a5694349a8cb4f49af05871844a63328",
       "version_major": 2,
       "version_minor": 0
      },
      "text/plain": [
       "HBox(children=(IntProgress(value=0, description='Test 1 :14', max=41, style=ProgressStyle(description_width='i…"
      ]
     },
     "metadata": {},
     "output_type": "display_data"
    },
    {
     "name": "stdout",
     "output_type": "stream",
     "text": [
      "\n"
     ]
    },
    {
     "data": {
      "application/vnd.jupyter.widget-view+json": {
       "model_id": "f46aacd8915842f58adfae7876b58808",
       "version_major": 2,
       "version_minor": 0
      },
      "text/plain": [
       "HBox(children=(IntProgress(value=0, description='Test 2 :14', max=235, style=ProgressStyle(description_width='…"
      ]
     },
     "metadata": {},
     "output_type": "display_data"
    },
    {
     "name": "stdout",
     "output_type": "stream",
     "text": [
      "\n"
     ]
    },
    {
     "data": {
      "application/vnd.jupyter.widget-view+json": {
       "model_id": "e1fb560c4fb54ce6a9d81487361bc9f1",
       "version_major": 2,
       "version_minor": 0
      },
      "text/plain": [
       "HBox(children=(IntProgress(value=0, description='Training :15', max=37, style=ProgressStyle(description_width=…"
      ]
     },
     "metadata": {},
     "output_type": "display_data"
    },
    {
     "name": "stdout",
     "output_type": "stream",
     "text": [
      "\n"
     ]
    },
    {
     "data": {
      "application/vnd.jupyter.widget-view+json": {
       "model_id": "b6cbc129d0f446468806080a4d98fe06",
       "version_major": 2,
       "version_minor": 0
      },
      "text/plain": [
       "HBox(children=(IntProgress(value=0, description='Validation :15', max=333, style=ProgressStyle(description_wid…"
      ]
     },
     "metadata": {},
     "output_type": "display_data"
    },
    {
     "name": "stdout",
     "output_type": "stream",
     "text": [
      "\n"
     ]
    },
    {
     "data": {
      "application/vnd.jupyter.widget-view+json": {
       "model_id": "c22675e8a3ae4ec48c6a3b7391c5bf4d",
       "version_major": 2,
       "version_minor": 0
      },
      "text/plain": [
       "HBox(children=(IntProgress(value=0, description='Test 1 :15', max=41, style=ProgressStyle(description_width='i…"
      ]
     },
     "metadata": {},
     "output_type": "display_data"
    },
    {
     "name": "stdout",
     "output_type": "stream",
     "text": [
      "\n"
     ]
    },
    {
     "data": {
      "application/vnd.jupyter.widget-view+json": {
       "model_id": "9e2be87043b546c9803fcc1949f7a640",
       "version_major": 2,
       "version_minor": 0
      },
      "text/plain": [
       "HBox(children=(IntProgress(value=0, description='Test 2 :15', max=235, style=ProgressStyle(description_width='…"
      ]
     },
     "metadata": {},
     "output_type": "display_data"
    },
    {
     "name": "stdout",
     "output_type": "stream",
     "text": [
      "\n"
     ]
    },
    {
     "data": {
      "application/vnd.jupyter.widget-view+json": {
       "model_id": "fb6d9277b6594bc588f32155c89f950f",
       "version_major": 2,
       "version_minor": 0
      },
      "text/plain": [
       "HBox(children=(IntProgress(value=0, description='Training :16', max=37, style=ProgressStyle(description_width=…"
      ]
     },
     "metadata": {},
     "output_type": "display_data"
    },
    {
     "name": "stdout",
     "output_type": "stream",
     "text": [
      "\n"
     ]
    },
    {
     "data": {
      "application/vnd.jupyter.widget-view+json": {
       "model_id": "bbaf5665406e4b649aa4c440e60f500f",
       "version_major": 2,
       "version_minor": 0
      },
      "text/plain": [
       "HBox(children=(IntProgress(value=0, description='Validation :16', max=333, style=ProgressStyle(description_wid…"
      ]
     },
     "metadata": {},
     "output_type": "display_data"
    },
    {
     "name": "stdout",
     "output_type": "stream",
     "text": [
      "\n"
     ]
    },
    {
     "data": {
      "application/vnd.jupyter.widget-view+json": {
       "model_id": "bee1c6da336a4b25898a630f58e50465",
       "version_major": 2,
       "version_minor": 0
      },
      "text/plain": [
       "HBox(children=(IntProgress(value=0, description='Test 1 :16', max=41, style=ProgressStyle(description_width='i…"
      ]
     },
     "metadata": {},
     "output_type": "display_data"
    },
    {
     "name": "stdout",
     "output_type": "stream",
     "text": [
      "\n"
     ]
    },
    {
     "data": {
      "application/vnd.jupyter.widget-view+json": {
       "model_id": "e2b88844aead425cafdd833a0173ccd1",
       "version_major": 2,
       "version_minor": 0
      },
      "text/plain": [
       "HBox(children=(IntProgress(value=0, description='Test 2 :16', max=235, style=ProgressStyle(description_width='…"
      ]
     },
     "metadata": {},
     "output_type": "display_data"
    },
    {
     "name": "stdout",
     "output_type": "stream",
     "text": [
      "\n"
     ]
    },
    {
     "data": {
      "application/vnd.jupyter.widget-view+json": {
       "model_id": "8e57e01573eb4af780c0ae6599c9509a",
       "version_major": 2,
       "version_minor": 0
      },
      "text/plain": [
       "HBox(children=(IntProgress(value=0, description='Training :17', max=37, style=ProgressStyle(description_width=…"
      ]
     },
     "metadata": {},
     "output_type": "display_data"
    },
    {
     "name": "stdout",
     "output_type": "stream",
     "text": [
      "\n"
     ]
    },
    {
     "data": {
      "application/vnd.jupyter.widget-view+json": {
       "model_id": "efcd0e2c439b49508f2c714cc69fbea9",
       "version_major": 2,
       "version_minor": 0
      },
      "text/plain": [
       "HBox(children=(IntProgress(value=0, description='Validation :17', max=333, style=ProgressStyle(description_wid…"
      ]
     },
     "metadata": {},
     "output_type": "display_data"
    },
    {
     "name": "stdout",
     "output_type": "stream",
     "text": [
      "\n"
     ]
    },
    {
     "data": {
      "application/vnd.jupyter.widget-view+json": {
       "model_id": "3a1c243b5d4e410d986c6f25327acb8b",
       "version_major": 2,
       "version_minor": 0
      },
      "text/plain": [
       "HBox(children=(IntProgress(value=0, description='Test 1 :17', max=41, style=ProgressStyle(description_width='i…"
      ]
     },
     "metadata": {},
     "output_type": "display_data"
    },
    {
     "name": "stdout",
     "output_type": "stream",
     "text": [
      "\n"
     ]
    },
    {
     "data": {
      "application/vnd.jupyter.widget-view+json": {
       "model_id": "b48cc87dad9d4969b58513ad3781389e",
       "version_major": 2,
       "version_minor": 0
      },
      "text/plain": [
       "HBox(children=(IntProgress(value=0, description='Test 2 :17', max=235, style=ProgressStyle(description_width='…"
      ]
     },
     "metadata": {},
     "output_type": "display_data"
    },
    {
     "name": "stdout",
     "output_type": "stream",
     "text": [
      "\n"
     ]
    },
    {
     "data": {
      "application/vnd.jupyter.widget-view+json": {
       "model_id": "a7f126f90e6f4cb3a86e6001162b98d8",
       "version_major": 2,
       "version_minor": 0
      },
      "text/plain": [
       "HBox(children=(IntProgress(value=0, description='Training :18', max=37, style=ProgressStyle(description_width=…"
      ]
     },
     "metadata": {},
     "output_type": "display_data"
    },
    {
     "name": "stdout",
     "output_type": "stream",
     "text": [
      "\n"
     ]
    },
    {
     "data": {
      "application/vnd.jupyter.widget-view+json": {
       "model_id": "84d03a98748145b6bbbdf14e0b4feabe",
       "version_major": 2,
       "version_minor": 0
      },
      "text/plain": [
       "HBox(children=(IntProgress(value=0, description='Validation :18', max=333, style=ProgressStyle(description_wid…"
      ]
     },
     "metadata": {},
     "output_type": "display_data"
    },
    {
     "name": "stdout",
     "output_type": "stream",
     "text": [
      "\n"
     ]
    },
    {
     "data": {
      "application/vnd.jupyter.widget-view+json": {
       "model_id": "91cb5a662b164727977c0df1d458a9bb",
       "version_major": 2,
       "version_minor": 0
      },
      "text/plain": [
       "HBox(children=(IntProgress(value=0, description='Test 1 :18', max=41, style=ProgressStyle(description_width='i…"
      ]
     },
     "metadata": {},
     "output_type": "display_data"
    },
    {
     "name": "stdout",
     "output_type": "stream",
     "text": [
      "\n"
     ]
    },
    {
     "data": {
      "application/vnd.jupyter.widget-view+json": {
       "model_id": "28c7b20a4be94700b7aa01540bfec36e",
       "version_major": 2,
       "version_minor": 0
      },
      "text/plain": [
       "HBox(children=(IntProgress(value=0, description='Test 2 :18', max=235, style=ProgressStyle(description_width='…"
      ]
     },
     "metadata": {},
     "output_type": "display_data"
    },
    {
     "name": "stdout",
     "output_type": "stream",
     "text": [
      "\n"
     ]
    },
    {
     "data": {
      "application/vnd.jupyter.widget-view+json": {
       "model_id": "f6a208e04e8d4c46b09cce13c7091d2d",
       "version_major": 2,
       "version_minor": 0
      },
      "text/plain": [
       "HBox(children=(IntProgress(value=0, description='Training :19', max=37, style=ProgressStyle(description_width=…"
      ]
     },
     "metadata": {},
     "output_type": "display_data"
    },
    {
     "name": "stdout",
     "output_type": "stream",
     "text": [
      "\n"
     ]
    },
    {
     "data": {
      "application/vnd.jupyter.widget-view+json": {
       "model_id": "a1d67e647614483f84e826e172b06fc4",
       "version_major": 2,
       "version_minor": 0
      },
      "text/plain": [
       "HBox(children=(IntProgress(value=0, description='Validation :19', max=333, style=ProgressStyle(description_wid…"
      ]
     },
     "metadata": {},
     "output_type": "display_data"
    },
    {
     "name": "stdout",
     "output_type": "stream",
     "text": [
      "\n"
     ]
    },
    {
     "data": {
      "application/vnd.jupyter.widget-view+json": {
       "model_id": "8f59f3af6984479b81d9d0bb00273ec4",
       "version_major": 2,
       "version_minor": 0
      },
      "text/plain": [
       "HBox(children=(IntProgress(value=0, description='Test 1 :19', max=41, style=ProgressStyle(description_width='i…"
      ]
     },
     "metadata": {},
     "output_type": "display_data"
    },
    {
     "name": "stdout",
     "output_type": "stream",
     "text": [
      "\n"
     ]
    },
    {
     "data": {
      "application/vnd.jupyter.widget-view+json": {
       "model_id": "b75b197313e74480861d584646b5117f",
       "version_major": 2,
       "version_minor": 0
      },
      "text/plain": [
       "HBox(children=(IntProgress(value=0, description='Test 2 :19', max=235, style=ProgressStyle(description_width='…"
      ]
     },
     "metadata": {},
     "output_type": "display_data"
    },
    {
     "name": "stdout",
     "output_type": "stream",
     "text": [
      "\n"
     ]
    },
    {
     "data": {
      "application/vnd.jupyter.widget-view+json": {
       "model_id": "4caa7e56146e42738895197c2133ca7d",
       "version_major": 2,
       "version_minor": 0
      },
      "text/plain": [
       "HBox(children=(IntProgress(value=0, description='Training :20', max=37, style=ProgressStyle(description_width=…"
      ]
     },
     "metadata": {},
     "output_type": "display_data"
    },
    {
     "name": "stdout",
     "output_type": "stream",
     "text": [
      "\n"
     ]
    },
    {
     "data": {
      "application/vnd.jupyter.widget-view+json": {
       "model_id": "1b42a50b5abc4abd96ce3e1614b65095",
       "version_major": 2,
       "version_minor": 0
      },
      "text/plain": [
       "HBox(children=(IntProgress(value=0, description='Validation :20', max=333, style=ProgressStyle(description_wid…"
      ]
     },
     "metadata": {},
     "output_type": "display_data"
    },
    {
     "name": "stdout",
     "output_type": "stream",
     "text": [
      "\n"
     ]
    },
    {
     "data": {
      "application/vnd.jupyter.widget-view+json": {
       "model_id": "c6374b66f36c4ef0b0519336f7567b03",
       "version_major": 2,
       "version_minor": 0
      },
      "text/plain": [
       "HBox(children=(IntProgress(value=0, description='Test 1 :20', max=41, style=ProgressStyle(description_width='i…"
      ]
     },
     "metadata": {},
     "output_type": "display_data"
    },
    {
     "name": "stdout",
     "output_type": "stream",
     "text": [
      "\n"
     ]
    },
    {
     "data": {
      "application/vnd.jupyter.widget-view+json": {
       "model_id": "331d7ced4a654e77b0560d892a016012",
       "version_major": 2,
       "version_minor": 0
      },
      "text/plain": [
       "HBox(children=(IntProgress(value=0, description='Test 2 :20', max=235, style=ProgressStyle(description_width='…"
      ]
     },
     "metadata": {},
     "output_type": "display_data"
    },
    {
     "name": "stdout",
     "output_type": "stream",
     "text": [
      "\n"
     ]
    },
    {
     "data": {
      "application/vnd.jupyter.widget-view+json": {
       "model_id": "714532e54c514fb58b8059ba37540c7c",
       "version_major": 2,
       "version_minor": 0
      },
      "text/plain": [
       "HBox(children=(IntProgress(value=0, description='Training :21', max=37, style=ProgressStyle(description_width=…"
      ]
     },
     "metadata": {},
     "output_type": "display_data"
    },
    {
     "name": "stdout",
     "output_type": "stream",
     "text": [
      "\n"
     ]
    },
    {
     "data": {
      "application/vnd.jupyter.widget-view+json": {
       "model_id": "70e0ad04f9e243b4933a9db387af9c36",
       "version_major": 2,
       "version_minor": 0
      },
      "text/plain": [
       "HBox(children=(IntProgress(value=0, description='Validation :21', max=333, style=ProgressStyle(description_wid…"
      ]
     },
     "metadata": {},
     "output_type": "display_data"
    },
    {
     "name": "stdout",
     "output_type": "stream",
     "text": [
      "\n"
     ]
    },
    {
     "data": {
      "application/vnd.jupyter.widget-view+json": {
       "model_id": "929fe6a376f948c8a9c4108f8a85f99c",
       "version_major": 2,
       "version_minor": 0
      },
      "text/plain": [
       "HBox(children=(IntProgress(value=0, description='Test 1 :21', max=41, style=ProgressStyle(description_width='i…"
      ]
     },
     "metadata": {},
     "output_type": "display_data"
    },
    {
     "name": "stdout",
     "output_type": "stream",
     "text": [
      "\n"
     ]
    },
    {
     "data": {
      "application/vnd.jupyter.widget-view+json": {
       "model_id": "e64db45abb39428e9a079f73537e3b6e",
       "version_major": 2,
       "version_minor": 0
      },
      "text/plain": [
       "HBox(children=(IntProgress(value=0, description='Test 2 :21', max=235, style=ProgressStyle(description_width='…"
      ]
     },
     "metadata": {},
     "output_type": "display_data"
    },
    {
     "name": "stdout",
     "output_type": "stream",
     "text": [
      "\n"
     ]
    },
    {
     "data": {
      "application/vnd.jupyter.widget-view+json": {
       "model_id": "d92fbc48ce9848419bf2b61837de2fdb",
       "version_major": 2,
       "version_minor": 0
      },
      "text/plain": [
       "HBox(children=(IntProgress(value=0, description='Training :22', max=37, style=ProgressStyle(description_width=…"
      ]
     },
     "metadata": {},
     "output_type": "display_data"
    },
    {
     "name": "stdout",
     "output_type": "stream",
     "text": [
      "\n"
     ]
    },
    {
     "data": {
      "application/vnd.jupyter.widget-view+json": {
       "model_id": "cc3d3c56296543e2b2a6b793476caa00",
       "version_major": 2,
       "version_minor": 0
      },
      "text/plain": [
       "HBox(children=(IntProgress(value=0, description='Validation :22', max=333, style=ProgressStyle(description_wid…"
      ]
     },
     "metadata": {},
     "output_type": "display_data"
    },
    {
     "name": "stdout",
     "output_type": "stream",
     "text": [
      "\n"
     ]
    },
    {
     "data": {
      "application/vnd.jupyter.widget-view+json": {
       "model_id": "09b966216ba943399080745fec7b8ed4",
       "version_major": 2,
       "version_minor": 0
      },
      "text/plain": [
       "HBox(children=(IntProgress(value=0, description='Test 1 :22', max=41, style=ProgressStyle(description_width='i…"
      ]
     },
     "metadata": {},
     "output_type": "display_data"
    },
    {
     "name": "stdout",
     "output_type": "stream",
     "text": [
      "\n"
     ]
    },
    {
     "data": {
      "application/vnd.jupyter.widget-view+json": {
       "model_id": "8770a644b1ae48818c2ffa13d193209b",
       "version_major": 2,
       "version_minor": 0
      },
      "text/plain": [
       "HBox(children=(IntProgress(value=0, description='Test 2 :22', max=235, style=ProgressStyle(description_width='…"
      ]
     },
     "metadata": {},
     "output_type": "display_data"
    },
    {
     "name": "stdout",
     "output_type": "stream",
     "text": [
      "\n"
     ]
    },
    {
     "data": {
      "application/vnd.jupyter.widget-view+json": {
       "model_id": "2edc5e085aeb4c7c867b39d5b5202b5d",
       "version_major": 2,
       "version_minor": 0
      },
      "text/plain": [
       "HBox(children=(IntProgress(value=0, description='Training :23', max=37, style=ProgressStyle(description_width=…"
      ]
     },
     "metadata": {},
     "output_type": "display_data"
    },
    {
     "name": "stdout",
     "output_type": "stream",
     "text": [
      "\n"
     ]
    },
    {
     "data": {
      "application/vnd.jupyter.widget-view+json": {
       "model_id": "017b8a1d43654186a059585538e01ba5",
       "version_major": 2,
       "version_minor": 0
      },
      "text/plain": [
       "HBox(children=(IntProgress(value=0, description='Validation :23', max=333, style=ProgressStyle(description_wid…"
      ]
     },
     "metadata": {},
     "output_type": "display_data"
    },
    {
     "name": "stdout",
     "output_type": "stream",
     "text": [
      "\n"
     ]
    },
    {
     "data": {
      "application/vnd.jupyter.widget-view+json": {
       "model_id": "16ad01ecb1184eb5b10d8ffbf422b24b",
       "version_major": 2,
       "version_minor": 0
      },
      "text/plain": [
       "HBox(children=(IntProgress(value=0, description='Test 1 :23', max=41, style=ProgressStyle(description_width='i…"
      ]
     },
     "metadata": {},
     "output_type": "display_data"
    },
    {
     "name": "stdout",
     "output_type": "stream",
     "text": [
      "\n"
     ]
    },
    {
     "data": {
      "application/vnd.jupyter.widget-view+json": {
       "model_id": "30aae2a4c6974e2da299b3e2475559f6",
       "version_major": 2,
       "version_minor": 0
      },
      "text/plain": [
       "HBox(children=(IntProgress(value=0, description='Test 2 :23', max=235, style=ProgressStyle(description_width='…"
      ]
     },
     "metadata": {},
     "output_type": "display_data"
    },
    {
     "name": "stdout",
     "output_type": "stream",
     "text": [
      "\n"
     ]
    },
    {
     "data": {
      "application/vnd.jupyter.widget-view+json": {
       "model_id": "ab65d4e09ef640d3b2a43c3deb29930c",
       "version_major": 2,
       "version_minor": 0
      },
      "text/plain": [
       "HBox(children=(IntProgress(value=0, description='Training :24', max=37, style=ProgressStyle(description_width=…"
      ]
     },
     "metadata": {},
     "output_type": "display_data"
    },
    {
     "name": "stdout",
     "output_type": "stream",
     "text": [
      "\n"
     ]
    },
    {
     "data": {
      "application/vnd.jupyter.widget-view+json": {
       "model_id": "9ea18fd5d8e44b72800fa3432588ca24",
       "version_major": 2,
       "version_minor": 0
      },
      "text/plain": [
       "HBox(children=(IntProgress(value=0, description='Validation :24', max=333, style=ProgressStyle(description_wid…"
      ]
     },
     "metadata": {},
     "output_type": "display_data"
    },
    {
     "name": "stdout",
     "output_type": "stream",
     "text": [
      "\n"
     ]
    },
    {
     "data": {
      "application/vnd.jupyter.widget-view+json": {
       "model_id": "c87f947b4de34ee7bbfe1514c41eec9f",
       "version_major": 2,
       "version_minor": 0
      },
      "text/plain": [
       "HBox(children=(IntProgress(value=0, description='Test 1 :24', max=41, style=ProgressStyle(description_width='i…"
      ]
     },
     "metadata": {},
     "output_type": "display_data"
    },
    {
     "name": "stdout",
     "output_type": "stream",
     "text": [
      "\n"
     ]
    },
    {
     "data": {
      "application/vnd.jupyter.widget-view+json": {
       "model_id": "0262e0e3e9364b39920e6e522c509e0d",
       "version_major": 2,
       "version_minor": 0
      },
      "text/plain": [
       "HBox(children=(IntProgress(value=0, description='Test 2 :24', max=235, style=ProgressStyle(description_width='…"
      ]
     },
     "metadata": {},
     "output_type": "display_data"
    },
    {
     "name": "stdout",
     "output_type": "stream",
     "text": [
      "\n"
     ]
    },
    {
     "data": {
      "application/vnd.jupyter.widget-view+json": {
       "model_id": "3aa2a94bf61f4edb8ef10fde0ac0a146",
       "version_major": 2,
       "version_minor": 0
      },
      "text/plain": [
       "HBox(children=(IntProgress(value=0, description='Training :25', max=37, style=ProgressStyle(description_width=…"
      ]
     },
     "metadata": {},
     "output_type": "display_data"
    },
    {
     "name": "stdout",
     "output_type": "stream",
     "text": [
      "\n"
     ]
    },
    {
     "data": {
      "application/vnd.jupyter.widget-view+json": {
       "model_id": "028b44b2fb8a40cd9539a6bc5cad85d4",
       "version_major": 2,
       "version_minor": 0
      },
      "text/plain": [
       "HBox(children=(IntProgress(value=0, description='Validation :25', max=333, style=ProgressStyle(description_wid…"
      ]
     },
     "metadata": {},
     "output_type": "display_data"
    },
    {
     "name": "stdout",
     "output_type": "stream",
     "text": [
      "\n"
     ]
    },
    {
     "data": {
      "application/vnd.jupyter.widget-view+json": {
       "model_id": "7882db18d50b4b14b069515e0b3935e0",
       "version_major": 2,
       "version_minor": 0
      },
      "text/plain": [
       "HBox(children=(IntProgress(value=0, description='Test 1 :25', max=41, style=ProgressStyle(description_width='i…"
      ]
     },
     "metadata": {},
     "output_type": "display_data"
    },
    {
     "name": "stdout",
     "output_type": "stream",
     "text": [
      "\n"
     ]
    },
    {
     "data": {
      "application/vnd.jupyter.widget-view+json": {
       "model_id": "2ab5196ee10243fe94672ff272c447d0",
       "version_major": 2,
       "version_minor": 0
      },
      "text/plain": [
       "HBox(children=(IntProgress(value=0, description='Test 2 :25', max=235, style=ProgressStyle(description_width='…"
      ]
     },
     "metadata": {},
     "output_type": "display_data"
    },
    {
     "name": "stdout",
     "output_type": "stream",
     "text": [
      "\n"
     ]
    },
    {
     "data": {
      "application/vnd.jupyter.widget-view+json": {
       "model_id": "6e401ce8770f4607b8cd09911c38374a",
       "version_major": 2,
       "version_minor": 0
      },
      "text/plain": [
       "HBox(children=(IntProgress(value=0, description='Training :26', max=37, style=ProgressStyle(description_width=…"
      ]
     },
     "metadata": {},
     "output_type": "display_data"
    },
    {
     "name": "stdout",
     "output_type": "stream",
     "text": [
      "\n"
     ]
    },
    {
     "data": {
      "application/vnd.jupyter.widget-view+json": {
       "model_id": "604c42d8ff0a44c599d17eb2c5a19726",
       "version_major": 2,
       "version_minor": 0
      },
      "text/plain": [
       "HBox(children=(IntProgress(value=0, description='Validation :26', max=333, style=ProgressStyle(description_wid…"
      ]
     },
     "metadata": {},
     "output_type": "display_data"
    },
    {
     "name": "stdout",
     "output_type": "stream",
     "text": [
      "\n"
     ]
    },
    {
     "data": {
      "application/vnd.jupyter.widget-view+json": {
       "model_id": "fcfd914449e448dd885d98ee8d3d4962",
       "version_major": 2,
       "version_minor": 0
      },
      "text/plain": [
       "HBox(children=(IntProgress(value=0, description='Test 1 :26', max=41, style=ProgressStyle(description_width='i…"
      ]
     },
     "metadata": {},
     "output_type": "display_data"
    },
    {
     "name": "stdout",
     "output_type": "stream",
     "text": [
      "\n"
     ]
    },
    {
     "data": {
      "application/vnd.jupyter.widget-view+json": {
       "model_id": "be4b5db598384f688cd6ad1a1a37e709",
       "version_major": 2,
       "version_minor": 0
      },
      "text/plain": [
       "HBox(children=(IntProgress(value=0, description='Test 2 :26', max=235, style=ProgressStyle(description_width='…"
      ]
     },
     "metadata": {},
     "output_type": "display_data"
    },
    {
     "name": "stdout",
     "output_type": "stream",
     "text": [
      "\n"
     ]
    },
    {
     "data": {
      "application/vnd.jupyter.widget-view+json": {
       "model_id": "6f3c0fb0e710456bb1724d1dabcf4212",
       "version_major": 2,
       "version_minor": 0
      },
      "text/plain": [
       "HBox(children=(IntProgress(value=0, description='Training :27', max=37, style=ProgressStyle(description_width=…"
      ]
     },
     "metadata": {},
     "output_type": "display_data"
    },
    {
     "name": "stdout",
     "output_type": "stream",
     "text": [
      "\n"
     ]
    },
    {
     "data": {
      "application/vnd.jupyter.widget-view+json": {
       "model_id": "6fe07f2524a34cb28550627c18fdd728",
       "version_major": 2,
       "version_minor": 0
      },
      "text/plain": [
       "HBox(children=(IntProgress(value=0, description='Validation :27', max=333, style=ProgressStyle(description_wid…"
      ]
     },
     "metadata": {},
     "output_type": "display_data"
    },
    {
     "name": "stdout",
     "output_type": "stream",
     "text": [
      "\n"
     ]
    },
    {
     "data": {
      "application/vnd.jupyter.widget-view+json": {
       "model_id": "fcf09eb8dea54690b90767b99d938c7f",
       "version_major": 2,
       "version_minor": 0
      },
      "text/plain": [
       "HBox(children=(IntProgress(value=0, description='Test 1 :27', max=41, style=ProgressStyle(description_width='i…"
      ]
     },
     "metadata": {},
     "output_type": "display_data"
    },
    {
     "name": "stdout",
     "output_type": "stream",
     "text": [
      "\n"
     ]
    },
    {
     "data": {
      "application/vnd.jupyter.widget-view+json": {
       "model_id": "3b188018e3094a19aeec95d36972fd77",
       "version_major": 2,
       "version_minor": 0
      },
      "text/plain": [
       "HBox(children=(IntProgress(value=0, description='Test 2 :27', max=235, style=ProgressStyle(description_width='…"
      ]
     },
     "metadata": {},
     "output_type": "display_data"
    },
    {
     "name": "stdout",
     "output_type": "stream",
     "text": [
      "\n"
     ]
    },
    {
     "data": {
      "application/vnd.jupyter.widget-view+json": {
       "model_id": "f931f1f6de50430487d9f9660b24dfa5",
       "version_major": 2,
       "version_minor": 0
      },
      "text/plain": [
       "HBox(children=(IntProgress(value=0, description='Training :28', max=37, style=ProgressStyle(description_width=…"
      ]
     },
     "metadata": {},
     "output_type": "display_data"
    },
    {
     "name": "stdout",
     "output_type": "stream",
     "text": [
      "\n"
     ]
    },
    {
     "data": {
      "application/vnd.jupyter.widget-view+json": {
       "model_id": "1180e11c6ec3464aa8f6a64ee9c64df8",
       "version_major": 2,
       "version_minor": 0
      },
      "text/plain": [
       "HBox(children=(IntProgress(value=0, description='Validation :28', max=333, style=ProgressStyle(description_wid…"
      ]
     },
     "metadata": {},
     "output_type": "display_data"
    },
    {
     "name": "stdout",
     "output_type": "stream",
     "text": [
      "\n"
     ]
    },
    {
     "data": {
      "application/vnd.jupyter.widget-view+json": {
       "model_id": "afbf9923652141c09aae573a2d44e4c8",
       "version_major": 2,
       "version_minor": 0
      },
      "text/plain": [
       "HBox(children=(IntProgress(value=0, description='Test 1 :28', max=41, style=ProgressStyle(description_width='i…"
      ]
     },
     "metadata": {},
     "output_type": "display_data"
    },
    {
     "name": "stdout",
     "output_type": "stream",
     "text": [
      "\n"
     ]
    },
    {
     "data": {
      "application/vnd.jupyter.widget-view+json": {
       "model_id": "d74ad9f18b1a47f786f4646ff1ad04cd",
       "version_major": 2,
       "version_minor": 0
      },
      "text/plain": [
       "HBox(children=(IntProgress(value=0, description='Test 2 :28', max=235, style=ProgressStyle(description_width='…"
      ]
     },
     "metadata": {},
     "output_type": "display_data"
    },
    {
     "name": "stdout",
     "output_type": "stream",
     "text": [
      "\n"
     ]
    },
    {
     "data": {
      "application/vnd.jupyter.widget-view+json": {
       "model_id": "b25925850a564c799c1547ba1fa7f7ae",
       "version_major": 2,
       "version_minor": 0
      },
      "text/plain": [
       "HBox(children=(IntProgress(value=0, description='Training :29', max=37, style=ProgressStyle(description_width=…"
      ]
     },
     "metadata": {},
     "output_type": "display_data"
    },
    {
     "name": "stdout",
     "output_type": "stream",
     "text": [
      "\n"
     ]
    },
    {
     "data": {
      "application/vnd.jupyter.widget-view+json": {
       "model_id": "078fc04f9e144d9280391887c2da3b2f",
       "version_major": 2,
       "version_minor": 0
      },
      "text/plain": [
       "HBox(children=(IntProgress(value=0, description='Validation :29', max=333, style=ProgressStyle(description_wid…"
      ]
     },
     "metadata": {},
     "output_type": "display_data"
    },
    {
     "name": "stdout",
     "output_type": "stream",
     "text": [
      "\n"
     ]
    },
    {
     "data": {
      "application/vnd.jupyter.widget-view+json": {
       "model_id": "ef52d88dcc3b4195bd0907a15f185557",
       "version_major": 2,
       "version_minor": 0
      },
      "text/plain": [
       "HBox(children=(IntProgress(value=0, description='Test 1 :29', max=41, style=ProgressStyle(description_width='i…"
      ]
     },
     "metadata": {},
     "output_type": "display_data"
    },
    {
     "name": "stdout",
     "output_type": "stream",
     "text": [
      "\n"
     ]
    },
    {
     "data": {
      "application/vnd.jupyter.widget-view+json": {
       "model_id": "42344051a6f44e399f44abc79c3ce5e9",
       "version_major": 2,
       "version_minor": 0
      },
      "text/plain": [
       "HBox(children=(IntProgress(value=0, description='Test 2 :29', max=235, style=ProgressStyle(description_width='…"
      ]
     },
     "metadata": {},
     "output_type": "display_data"
    },
    {
     "name": "stdout",
     "output_type": "stream",
     "text": [
      "\n",
      "\n",
      "[0.6919877024955315]\n",
      "0.6919877024955315\n"
     ]
    }
   ],
   "source": [
    "best = []\n",
    "for i in range(1):\n",
    "    set_seed(87+i)\n",
    "    model = models.WordCNN(\n",
    "            word_ngram_vocab_size = len(words_dict)+1,\n",
    "            emb_size=emb_dim,\n",
    "            word_seq_len=max_len_words,\n",
    "            l2_reg_lambda=l2_reg_lambda,\n",
    "            filter_size=256,\n",
    "            dropout=0.2,\n",
    "            kernel_sizes=filter_size).cuda()\n",
    "    print('paramters count', sum(p.numel() for p in model.parameters()))\n",
    "    optimizer = torch.optim.Adam(model.parameters(), lr=1e-3, weight_decay=1)\n",
    "    \n",
    "    history = {'train':[], 'valid':[], 'test1':[], 'test2':[]}\n",
    "    history = train(history, 30)\n",
    "    best.append(max([i['auc'] for i in history['test2']]))\n",
    "    \n",
    "print(best)\n",
    "print(np.mean(best))\n",
    "best1 = np.mean(best)"
   ]
  },
  {
   "cell_type": "code",
   "execution_count": 22,
   "metadata": {},
   "outputs": [
    {
     "data": {
      "image/png": "[encoded data removed]",
      "text/plain": [
       "<Figure size 576x576 with 2 Axes>"
      ]
     },
     "metadata": {
      "needs_background": "light"
     },
     "output_type": "display_data"
    }
   ],
   "source": [
    "save = \"baseline_0.67\"\n",
    "\n",
    "train_loss = [l['loss'] for l in history['train']]\n",
    "valid_loss = [l['loss'] for l in history['valid']]\n",
    "test1_loss = [l['loss'] for l in history['test1']]\n",
    "test2_loss = [l['loss'] for l in history['test2']]\n",
    "\n",
    "train_auc = [l['auc'] for l in history['train']]\n",
    "valid_auc = [l['auc'] for l in history['valid']]\n",
    "test1_auc = [l['auc'] for l in history['test1']]\n",
    "test2_auc = [l['auc'] for l in history['test2']]\n",
    "\n",
    "plt.figure(figsize=(8,8))\n",
    "\n",
    "plt.subplot(211)\n",
    "plt.title('Loss')\n",
    "plt.plot(train_loss, label='train')\n",
    "plt.plot(valid_loss, label='valid')\n",
    "plt.plot(test1_loss, label='test1')\n",
    "plt.plot(test2_loss, label='test2')\n",
    "plt.legend()\n",
    "\n",
    "\n",
    "plt.subplot(212)\n",
    "plt.title('AUC Score')\n",
    "plt.plot(train_auc, label='train')\n",
    "plt.plot(valid_auc, label='valid')\n",
    "plt.plot(test1_auc, label='test1')\n",
    "plt.plot(test2_auc, label='test2')\n",
    "plt.legend()\n",
    "plt.tight_layout()\n",
    "\n",
    "# if save:\n",
    "#     path = os.path.join(\"output\", save+'.png')\n",
    "#     plt.savefig(path)\n",
    "plt.show()"
   ]
  },
  {
   "cell_type": "markdown",
   "metadata": {},
   "source": [
    "# Adversarial training"
   ]
  },
  {
   "cell_type": "code",
   "execution_count": 21,
   "metadata": {},
   "outputs": [],
   "source": [
    "UNKId = words_dict['<UNKNOWN>']\n",
    "word_mal_ratio['<UNKNOWN>'] = 0.5\n",
    "# data = list(map(lambda x:words_dict.get(x, UNKId), word_mal_ratio.keys()))\n",
    "# label = list(map(lambda x:np.array([x, 1-x]), word_mal_ratio.values()))\n",
    "data = list(words_dict.values())\n",
    "label = list(map(lambda x:np.array([word_mal_ratio[x], 1-word_mal_ratio[x]]), words_dict.keys()))\n",
    "\n",
    "emb_ratio_dataset = mydata(data, label)\n",
    "emb_ratio_loader = DataLoader(emb_ratio_dataset, batch_size=batch_size, shuffle=True)"
   ]
  },
  {
   "cell_type": "code",
   "execution_count": 22,
   "metadata": {},
   "outputs": [],
   "source": [
    "weight = np.zeros((len(words_dict)+1, 2))\n",
    "for i in words_dict:\n",
    "    word = i\n",
    "    idx = words_dict[i]\n",
    "    ratio = word_mal_ratio[i]\n",
    "    if np.isnan(ratio):\n",
    "        ratio = 0.5\n",
    "    weight[idx] = [ratio, 1-ratio]"
   ]
  },
  {
   "cell_type": "code",
   "execution_count": 23,
   "metadata": {
    "scrolled": true
   },
   "outputs": [
    {
     "data": {
      "text/plain": [
       "torch.Size([128, 1])"
      ]
     },
     "execution_count": 23,
     "metadata": {},
     "output_type": "execute_result"
    }
   ],
   "source": [
    "d, l = next(iter(emb_ratio_loader))\n",
    "d.unsqueeze(1).shape"
   ]
  },
  {
   "cell_type": "code",
   "execution_count": 24,
   "metadata": {},
   "outputs": [],
   "source": [
    "def soft_cross_entropy(inp, target, size_average=True):\n",
    "    if size_average:\n",
    "        return torch.mean(torch.sum(-target * F.log_softmax(inp), dim=1))\n",
    "    else:\n",
    "        return torch.sum(torch.sum(-target * F.log_softmax(inp), dim=1))\n",
    "\n",
    "def NegativeEntropyLoss(x):\n",
    "    b = F.softmax(x, dim=1) * F.log_softmax(x, dim=1)\n",
    "    b = b.mean()\n",
    "    return b\n",
    "\n",
    "def special_loss(target):\n",
    "    target = F.softmax(target, dim=1)\n",
    "    return torch.mean(torch.sum(target*torch.log(target), 1))\n",
    "\n",
    "\n",
    "def correlation_loss(target, label):\n",
    "    vx = target - torch.mean(target)\n",
    "    vy = label - torch.mean(label)\n",
    "    corr = torch.sum(vx * vy) / (torch.sqrt(torch.sum(vx ** 2)) * torch.sqrt(torch.sum(vy ** 2)))\n",
    "    corr = torch.clamp(corr, min=-1.0, max=1.0)\n",
    "    return corr**2"
   ]
  },
  {
   "cell_type": "code",
   "execution_count": 25,
   "metadata": {},
   "outputs": [],
   "source": [
    "def adv_step(model, optimizer, loader, train=True, message=\"\"):\n",
    "    loss_total = 0\n",
    "    bias_loss_total = 0\n",
    "    all_logits = []\n",
    "    all_labels = []\n",
    "    \n",
    "    model.train() if train else model.eval()\n",
    "    bias_model.train if train else bias_model.eval()\n",
    "    mode = torch.enable_grad if train else torch.no_grad\n",
    "    \n",
    "    with mode():\n",
    "        for (data, label) in loader:\n",
    "        #for (data, label) in tqdm(loader, desc=message):\n",
    "            data, label = data.long().to(device), label.long().to(device) # bce:float ce:long\n",
    "            logits = model(data).squeeze()\n",
    "            #loss = F.binary_cross_entropy_with_logits(logits, label, reduction=\"sum\")\n",
    "            loss = F.cross_entropy(F.softmax(logits, dim=1), label, reduction=\"sum\")\n",
    "            \n",
    "            ##### uniform\n",
    "#             _lambda = 0.01\n",
    "#             out = bias_model(data)\n",
    "#             loss_bias = NegativeEntropyLoss(out)\n",
    "#             loss += loss_bias*_lambda\n",
    "            \n",
    "            if train:\n",
    "                loss.backward()\n",
    "                optimizer.step()\n",
    "                optimizer.zero_grad()\n",
    "            \n",
    "            loss_total += loss.item()\n",
    "            all_labels.append(label.detach().cpu().numpy())\n",
    "            tmp = F.softmax(logits, dim=1).detach().cpu().numpy()[:, 1]\n",
    "            all_logits.append(tmp)\n",
    "            \n",
    "            \n",
    "            \n",
    "            \n",
    "#             bias_loss_total += emb_step(bias_model, bias_optimizer, train, 1)\n",
    "            x = bias_model.data2label(data)\n",
    "            bias_labels = x.flatten(0, 1)\n",
    "            bias_logits = bias_model(data)\n",
    "            bias_loss = correlation_loss(bias_logits, bias_labels)\n",
    "            if train:\n",
    "                bias_loss.backward()\n",
    "                #torch.nn.utils.clip_grad_norm_(model.parameters(), 1.0)\n",
    "                bias_optimizer.step()\n",
    "                bias_optimizer.zero_grad()\n",
    "            bias_loss_total += bias_loss.item()\n",
    "            \n",
    "                \n",
    "            \n",
    "\n",
    "    \n",
    "    loss_total /= len(loader)\n",
    "    all_labels = np.hstack(all_labels)\n",
    "    all_logits = np.hstack(all_logits)\n",
    "    auc = roc_auc_score(all_labels, all_logits) if len(np.unique(all_labels)) > 1 else 0\n",
    "    acc = accuracy_thresh_score(all_labels, all_logits)\n",
    "    bacc = balanced_accuracy_score(all_labels, (all_logits>0.5).astype(int))\n",
    "    (tn, fp, fn, tp) = confusion_matrix(all_labels, (all_logits>0.5).astype(int)).ravel()\n",
    "\n",
    "\n",
    "    bias_loss_total = bias_loss_total/len(loader)\n",
    "\n",
    "#     logger.info('Loss       : {}'.format(loss_total))\n",
    "#     logger.info('Bias Loss  : {}'.format(bias_loss_total))\n",
    "#     logger.info('Accuracy   : {}'.format(acc))\n",
    "#     logger.info('balance Acc: {}'.format(bacc))\n",
    "#     logger.info('AUC        : {}'.format(auc))\n",
    "#     logger.info('confusion  : {}'.format((tn, fp, fn, tp)))\n",
    "    \n",
    "    return {'loss':loss_total, 'acc':acc, 'auc':auc, \"bias\":bias_loss_total}"
   ]
  },
  {
   "cell_type": "code",
   "execution_count": 26,
   "metadata": {},
   "outputs": [],
   "source": [
    "def emb_step(model, optimizer, train=False, iters=1):\n",
    "    loader = emb_ratio_loader\n",
    "    loss_total = 0\n",
    "    entropy_loss = 0\n",
    "    \n",
    "    model.train() if train else model.eval()\n",
    "    mode = torch.enable_grad if train else torch.no_grad\n",
    "    with mode():\n",
    "        for _ in range(iters):\n",
    "            for (data, label) in loader:\n",
    "                data, label = data.long().unsqueeze(1).to(device), label.float().to(device)\n",
    "                logits = model(data)\n",
    "                #loss = F.mse_loss(logits, label, reduction=\"sum\") * 0.1\n",
    "                #loss = soft_cross_entropy(logits, label, size_average=False)\n",
    "                loss = correlation_loss(logits, label)\n",
    "                #loss = F.kl_div(logits, label, reduction='sum')\n",
    "                #loss = NegativeEntropyLoss(logits)\n",
    "                \n",
    "                if train:\n",
    "                    loss.backward()\n",
    "                    #torch.nn.utils.clip_grad_norm_(model.parameters(), 1.0)\n",
    "                    optimizer.step()\n",
    "                    optimizer.zero_grad()\n",
    "                loss_total += loss.item()\n",
    "\n",
    "    loss_total /= (len(loader)*iters)\n",
    "    return loss_total#, entropy_loss"
   ]
  },
  {
   "cell_type": "code",
   "execution_count": 32,
   "metadata": {},
   "outputs": [],
   "source": [
    "# test loss function\n",
    "\n",
    "class BiasPredictor(nn.Module):\n",
    "    def __init__(self, emb, emb_size, word_mal_ratio, hidden_size=32, num_classes=2):\n",
    "        super(BiasPredictor, self).__init__()\n",
    "        self.emb = emb\n",
    "        self.fc1 = nn.Linear(emb_size, num_classes)\n",
    "        self.data2label = nn.Embedding(len(words_dict)+1, 2)\n",
    "        \n",
    "        weight = np.zeros((len(words_dict)+1, 2))\n",
    "        for i in words_dict:\n",
    "            word = i\n",
    "            idx = words_dict[i]\n",
    "            ratio = word_mal_ratio[i]\n",
    "            if np.isnan(ratio):\n",
    "                ratio = 0.5\n",
    "            weight[idx] = [0.5, 0.5] #[ratio, 1-ratio]\n",
    "        self.data2label.weight.data.copy_(torch.from_numpy(weight))\n",
    "        self.data2label.weight.requires_grad = False\n",
    "        \n",
    "\n",
    "    def forward(self, x):\n",
    "        x = self.emb(x)\n",
    "        #x = models.grad_reverse(x)\n",
    "        x = x.flatten(0, 1)\n",
    "        logits = self.fc1(x)\n",
    "        return logits\n",
    "\n",
    "# adv_model = models.WordCNN(\n",
    "#             word_ngram_vocab_size = len(words_dict)+1,\n",
    "#             emb_size=emb_dim,\n",
    "#             word_seq_len=max_len_words,\n",
    "#             l2_reg_lambda=l2_reg_lambda,\n",
    "#             kernel_sizes=filter_size).cuda()\n",
    "# adv_optimizer = torch.optim.Adam(adv_model.parameters(), lr=1e-3)\n",
    "\n",
    "# bias_model = BiasPredictor(adv_model.word_emb, emb_dim).cuda()\n",
    "# bias_optimizer = torch.optim.Adam(bias_model.parameters(), lr=1e-3)\n",
    "\n",
    "# for i in range(10):\n",
    "#     bias_loss = emb_step(bias_model, bias_optimizer, True, 10)\n",
    "#     print(bias_loss)\n",
    "#     print(F.softmax(bias_model(d.long().unsqueeze(1).cuda()), dim=1)[:8])\n",
    "    \n",
    "# #print(F.softmax(bias_model(d.long().unsqueeze(1).cuda()), dim=1)[:8])\n",
    "# print(l[:8])"
   ]
  },
  {
   "cell_type": "raw",
   "metadata": {},
   "source": [
    "print(F.softmax(bias_model(d.long().unsqueeze(1).cuda()), dim=1)[:8])\n",
    "print(l[:8])"
   ]
  },
  {
   "cell_type": "code",
   "execution_count": 34,
   "metadata": {},
   "outputs": [
    {
     "data": {
      "application/vnd.jupyter.widget-view+json": {
       "model_id": "5a42aad088de48bf9994edd06cd0c205",
       "version_major": 2,
       "version_minor": 0
      },
      "text/plain": [
       "HBox(children=(IntProgress(value=0, description='Epoch', max=30, style=ProgressStyle(description_width='initia…"
      ]
     },
     "metadata": {},
     "output_type": "display_data"
    },
    {
     "name": "stdout",
     "output_type": "stream",
     "text": [
      "\n",
      "[0.6934275369918537]\n",
      "0.6934275369918537\n"
     ]
    }
   ],
   "source": [
    "best = []\n",
    "def adv_train(history, epochs):\n",
    "    for e in tqdm(range(epochs), desc=\"Epoch\"):\n",
    "        train_result = adv_step(adv_model, adv_optimizer, train_loader, train=True, message=\"Training :{}\".format(e))\n",
    "        valid_result = adv_step(adv_model, adv_optimizer, val_loader, train=False, message=\"Validation :{}\".format(e))\n",
    "        test_result1 = adv_step(adv_model, adv_optimizer, test_loader1, train=False, message=\"Test 1 :{}\".format(e))\n",
    "        test_result2 = adv_step(adv_model, adv_optimizer, test_loader2, train=False, message=\"Test 2 :{}\".format(e))\n",
    "\n",
    "        history['train'].append(train_result)\n",
    "        history['valid'].append(valid_result)\n",
    "        history['test1'].append(test_result1)\n",
    "        history['test2'].append(test_result2)\n",
    "    return history\n",
    "\n",
    "for i in range(1):\n",
    "    set_seed(87+i)\n",
    "    adv_model = models.WordCNN(\n",
    "            word_ngram_vocab_size = len(words_dict)+1,\n",
    "            emb_size=emb_dim,\n",
    "            word_seq_len=max_len_words,\n",
    "            l2_reg_lambda=l2_reg_lambda,\n",
    "            kernel_sizes=filter_size).to(device)\n",
    "    adv_optimizer = torch.optim.Adam(adv_model.parameters(), lr=1e-3, weight_decay=1)\n",
    "\n",
    "    bias_model = BiasPredictor(adv_model.word_emb, emb_dim, word_mal_ratio).to(device)\n",
    "    #bias_optimizer = torch.optim.Adam(filter(lambda p: p.requires_grad, bias_model.parameters()), lr=0.1)\n",
    "    bias_optimizer = torch.optim.Adam(bias_model.parameters(), lr=0.1)\n",
    "    \n",
    "    history = {'train':[], 'valid':[], 'test1':[], 'test2':[]}\n",
    "    history = adv_train(history, 30)\n",
    "    best.append(max([i['auc'] for i in history['test2']]))\n",
    "\n",
    "print(best)\n",
    "print(np.mean(best))\n",
    "best2 = np.mean(best)"
   ]
  },
  {
   "cell_type": "code",
   "execution_count": 36,
   "metadata": {},
   "outputs": [
    {
     "data": {
      "application/vnd.jupyter.widget-view+json": {
       "model_id": "965cac9ab721427bb70a8f8406cbea3a",
       "version_major": 2,
       "version_minor": 0
      },
      "text/plain": [
       "HBox(children=(IntProgress(value=0, description='Epoch', style=ProgressStyle(description_width='initial')), HT…"
      ]
     },
     "metadata": {},
     "output_type": "display_data"
    },
    {
     "name": "stdout",
     "output_type": "stream",
     "text": [
      "\n"
     ]
    },
    {
     "data": {
      "text/plain": [
       "0.702989430584039"
      ]
     },
     "execution_count": 36,
     "metadata": {},
     "output_type": "execute_result"
    }
   ],
   "source": [
    "history = adv_train(history, 100)\n",
    "max([i['auc'] for i in history['test2']])"
   ]
  },
  {
   "cell_type": "markdown",
   "metadata": {},
   "source": [
    "### no reverse grad + loss = -1.0 * corr"
   ]
  },
  {
   "cell_type": "markdown",
   "metadata": {},
   "source": [
    "* dev 0.9 min 0\n",
    "    * 0.730, 0.901\n",
    "* dev 0.9 min 10\n",
    "    * 0.726, 0.870\n",
    "* dev 0.9 min 20\n",
    "    * 0.679, 0.862\n",
    "* dev 0.9 min 30\n",
    "    * 0.695, 0.865\n",
    "\n",
    "\n",
    "* dev 0.5, min 1\n",
    "    * 0.714, 0.731\n",
    "* dev 0.5, min 0\n",
    "    * 0.728, 0.843\n",
    "* dev 0.5, min 10\n",
    "    * 0.699, 0.878\n",
    "* dev 0.5, min 20\n",
    "    * 0.671, 0.845\n",
    "* dev 0.5, min 30\n",
    "    * 0.702, 0.867\n",
    "\n",
    "\n",
    "* dev 0.01, min 0\n",
    "    * 0.723, 0.844\n",
    "* dev 0.01, min 5\n",
    "    * 0.702, 0.779\n",
    "* dev 0.01, min 20\n",
    "    * 0.673, 0.906\n",
    "* dev 0.01, min 30\n",
    "    * 0.700, 0.867\n",
    "* dev 0.01, min 10\n",
    "    * 0.706, 0.890"
   ]
  },
  {
   "cell_type": "raw",
   "metadata": {},
   "source": [
    "# start straining\n",
    "\n",
    "history = {'train':[], 'valid':[], 'test1':[], 'test2':[]}\n",
    "for e in tqdm(range(10), desc=\"Epoch\"):\n",
    "    train_result = adv_step(adv_model, adv_optimizer, train_loader, train=True, message=\"Training :{}\".format(e))\n",
    "    valid_result = adv_step(adv_model, adv_optimizer, val_loader, train=False, message=\"Validation :{}\".format(e))\n",
    "    test_result1 = adv_step(adv_model, adv_optimizer, test_loader1, train=False, message=\"Test 1 :{}\".format(e))\n",
    "    test_result2 = adv_step(adv_model, adv_optimizer, test_loader2, train=False, message=\"Test 2 :{}\".format(e))\n",
    "    \n",
    "    history['train'].append(train_result)\n",
    "    history['valid'].append(valid_result)\n",
    "    history['test1'].append(test_result1)\n",
    "    history['test2'].append(test_result2)"
   ]
  },
  {
   "cell_type": "code",
   "execution_count": 37,
   "metadata": {},
   "outputs": [
    {
     "data": {
      "image/png": "[encoded data removed]",
      "text/plain": [
       "<Figure size 576x864 with 3 Axes>"
      ]
     },
     "metadata": {
      "needs_background": "light"
     },
     "output_type": "display_data"
    }
   ],
   "source": [
    "save = \"adv_max_corr\"\n",
    "\n",
    "train_loss = [l['loss'] for l in history['train']]\n",
    "valid_loss = [l['loss'] for l in history['valid']]\n",
    "test1_loss = [l['loss'] for l in history['test1']]\n",
    "test2_loss = [l['loss'] for l in history['test2']]\n",
    "\n",
    "train_bloss = [l['bias'] for l in history['train']]\n",
    "valid_bloss = [l['bias'] for l in history['valid']]\n",
    "test1_bloss = [l['bias'] for l in history['test1']]\n",
    "test2_bloss = [l['bias'] for l in history['test2']]\n",
    "\n",
    "train_auc = [l['auc'] for l in history['train']]\n",
    "valid_auc = [l['auc'] for l in history['valid']]\n",
    "test1_auc = [l['auc'] for l in history['test1']]\n",
    "test2_auc = [l['auc'] for l in history['test2']]\n",
    "\n",
    "plt.figure(figsize=(8,12))\n",
    "\n",
    "plt.subplot(311)\n",
    "plt.title('Loss')\n",
    "plt.plot(train_loss, label='train')\n",
    "plt.plot(valid_loss, label='valid')\n",
    "plt.plot(test1_loss, label='test1')\n",
    "plt.plot(test2_loss, label='test2')\n",
    "plt.legend()\n",
    "\n",
    "\n",
    "plt.subplot(312)\n",
    "plt.title('Bias Loss')\n",
    "plt.plot(train_bloss, label='train')\n",
    "plt.plot(valid_bloss, label='valid')\n",
    "plt.plot(test1_bloss, label='test1')\n",
    "plt.plot(test2_bloss, label='test2')\n",
    "plt.legend()\n",
    "\n",
    "\n",
    "plt.subplot(313)\n",
    "plt.title('AUC Score')\n",
    "plt.plot(train_auc, label='train')\n",
    "plt.plot(valid_auc, label='valid')\n",
    "plt.plot(test1_auc, label='test1')\n",
    "plt.plot(test2_auc, label='test2')\n",
    "plt.legend()\n",
    "# if save:\n",
    "#     path = os.path.join(\"output\", save+'.png')\n",
    "#     plt.savefig(path)\n",
    "plt.show()"
   ]
  },
  {
   "cell_type": "code",
   "execution_count": 31,
   "metadata": {},
   "outputs": [
    {
     "name": "stdout",
     "output_type": "stream",
     "text": [
      "2188.590837240219\n"
     ]
    }
   ],
   "source": [
    "print(time.time()-st)"
   ]
  }
 ],
 "metadata": {
  "kernelspec": {
   "display_name": "Python 3",
   "language": "python",
   "name": "python3"
  },
  "language_info": {
   "codemirror_mode": {
    "name": "ipython",
    "version": 3
   },
   "file_extension": ".py",
   "mimetype": "text/x-python",
   "name": "python",
   "nbconvert_exporter": "python",
   "pygments_lexer": "ipython3",
   "version": "3.5.2"
  }
 },
 "nbformat": 4,
 "nbformat_minor": 4
}
